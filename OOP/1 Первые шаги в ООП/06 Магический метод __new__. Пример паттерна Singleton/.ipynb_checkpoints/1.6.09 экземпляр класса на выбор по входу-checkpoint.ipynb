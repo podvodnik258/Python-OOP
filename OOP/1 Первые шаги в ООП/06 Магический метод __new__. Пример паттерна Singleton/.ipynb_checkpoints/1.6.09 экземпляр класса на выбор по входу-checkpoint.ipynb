{
 "cells": [
  {
   "cell_type": "markdown",
   "id": "ca621173-38b2-4fd5-8ce8-794adafc6695",
   "metadata": {},
   "source": [
    "### Магический метод `__new__`\n",
    "\n",
    "#### Класс Dialog должен создавать объекты класса DialogWindows, если переменная TYPE_OS = 1 и объекты класса DialogLinux, если переменная TYPE_OS не равна 1"
   ]
  },
  {
   "cell_type": "code",
   "execution_count": null,
   "id": "d83093f3-3435-41b2-afe4-b0e7905c7ea5",
   "metadata": {},
   "outputs": [],
   "source": [
    "TYPE_OS = 1 # 1 - Windows; 2 - Linux\n",
    "\n",
    "class DialogWindows:\n",
    "    name_class = \"DialogWindows\"\n",
    "\n",
    "\n",
    "class DialogLinux:\n",
    "    name_class = \"DialogLinux\"\n",
    "\n",
    "class Dialog:\n",
    "    def __new__(cls, *args, **kwargs):\n",
    "        obj = DialogWindows() if TYPE_OS == 1 else DialogLinux()\n",
    "        setattr(obj, 'name', args[0])\n",
    "        return obj\n",
    "        \n",
    "dlg = Dialog('название')    \n",
    "\n",
    "#print(dlg.name)\n",
    "#print(type(dlg))\n",
    "#print(dlg.name_class)\n",
    "#print(dlg.__dict__)"
   ]
  }
 ],
 "metadata": {
  "kernelspec": {
   "display_name": "Python 3 (ipykernel)",
   "language": "python",
   "name": "python3"
  },
  "language_info": {
   "codemirror_mode": {
    "name": "ipython",
    "version": 3
   },
   "file_extension": ".py",
   "mimetype": "text/x-python",
   "name": "python",
   "nbconvert_exporter": "python",
   "pygments_lexer": "ipython3",
   "version": "3.9.5"
  }
 },
 "nbformat": 4,
 "nbformat_minor": 5
}
