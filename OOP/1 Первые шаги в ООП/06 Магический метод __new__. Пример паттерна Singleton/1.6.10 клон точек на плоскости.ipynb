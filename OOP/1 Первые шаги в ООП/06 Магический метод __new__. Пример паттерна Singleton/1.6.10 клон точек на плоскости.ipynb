{
 "cells": [
  {
   "cell_type": "code",
   "execution_count": null,
   "id": "07911323-8621-4308-8c19-6460c78b7afe",
   "metadata": {},
   "outputs": [],
   "source": [
    "class Point:\n",
    "    def __init__(self, x, y):\n",
    "        self.x = x\n",
    "        self.y = y\n",
    "    \n",
    "    def clone(self):\n",
    "        obj = super().__new__(Point)\n",
    "        obj.__dict__ = self.__dict__.copy()\n",
    "        return obj\n",
    "\n",
    "\n",
    "\n",
    "pt = Point(2, 3)\n",
    "pt_clone = pt.clone()"
   ]
  }
 ],
 "metadata": {
  "kernelspec": {
   "display_name": "Python 3 (ipykernel)",
   "language": "python",
   "name": "python3"
  },
  "language_info": {
   "codemirror_mode": {
    "name": "ipython",
    "version": 3
   },
   "file_extension": ".py",
   "mimetype": "text/x-python",
   "name": "python",
   "nbconvert_exporter": "python",
   "pygments_lexer": "ipython3",
   "version": "3.9.5"
  }
 },
 "nbformat": 4,
 "nbformat_minor": 5
}
