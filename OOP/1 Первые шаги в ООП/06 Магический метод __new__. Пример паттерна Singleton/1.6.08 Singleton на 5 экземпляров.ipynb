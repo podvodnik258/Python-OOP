{
 "cells": [
  {
   "cell_type": "code",
   "execution_count": null,
   "id": "9c94cea5-218c-467c-b14b-57c3ca84db68",
   "metadata": {},
   "outputs": [],
   "source": [
    "class SingletonFive:\n",
    "    __instance = None\n",
    "    count = 0\n",
    "    def __new__(cls, *args, **kwargs):\n",
    "        cls.count += 1\n",
    "        if cls.count < 5:\n",
    "            return super().__new__(cls)\n",
    "        else:\n",
    "            if cls.__instance is None:\n",
    "                cls.__instance = super().__new__(cls)\n",
    "            return cls.__instance\n",
    "        \n",
    "    def __init__(self, name):\n",
    "        self.name = name\n",
    "        \n",
    "\n",
    "objs = [SingletonFive(str(n)) for n in range(10)] # эту строчку не менять"
   ]
  }
 ],
 "metadata": {
  "kernelspec": {
   "display_name": "Python 3 (ipykernel)",
   "language": "python",
   "name": "python3"
  },
  "language_info": {
   "codemirror_mode": {
    "name": "ipython",
    "version": 3
   },
   "file_extension": ".py",
   "mimetype": "text/x-python",
   "name": "python",
   "nbconvert_exporter": "python",
   "pygments_lexer": "ipython3",
   "version": "3.9.5"
  }
 },
 "nbformat": 4,
 "nbformat_minor": 5
}
