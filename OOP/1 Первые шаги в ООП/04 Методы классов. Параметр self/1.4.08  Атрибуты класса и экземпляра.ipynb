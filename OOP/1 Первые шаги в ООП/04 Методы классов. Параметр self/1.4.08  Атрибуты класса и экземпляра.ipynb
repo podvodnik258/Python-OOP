{
 "cells": [
  {
   "cell_type": "code",
   "execution_count": null,
   "id": "5ef0aa0d-5f4d-4210-9294-722da6c86d83",
   "metadata": {},
   "outputs": [],
   "source": [
    "import sys\n",
    "\n",
    "class StreamData:\n",
    "    \n",
    "    def create(self, FIELDS, lst_values):\n",
    "        if len(FIELDS) != len(lst_values):\n",
    "            return False\n",
    "        else:\n",
    "            self.__dict__ = dict(zip(FIELDS, lst_values))\n",
    "            #print(self.__dict__)\n",
    "            return True\n",
    "\n",
    "class StreamReader:\n",
    "    FIELDS = ('id', 'title', 'pages')\n",
    "\n",
    "    def readlines(self):\n",
    "        lst_in = # list(map(str.strip, sys.stdin.readlines()))  # считывание списка строк из входного потока\n",
    "        sd = StreamData()\n",
    "        res = sd.create(self.FIELDS, lst_in)\n",
    "        return sd, res\n",
    "\n",
    "\n",
    "sr = StreamReader()\n",
    "data, result = sr.readlines()"
   ]
  },
  {
   "cell_type": "code",
   "execution_count": null,
   "id": "1f934468-74b1-419c-bbb5-b0fffeeeb451",
   "metadata": {},
   "outputs": [],
   "source": [
    "10\n",
    "Питон - основы мастерства\n",
    "512"
   ]
  }
 ],
 "metadata": {
  "kernelspec": {
   "display_name": "Python 3 (ipykernel)",
   "language": "python",
   "name": "python3"
  },
  "language_info": {
   "codemirror_mode": {
    "name": "ipython",
    "version": 3
   },
   "file_extension": ".py",
   "mimetype": "text/x-python",
   "name": "python",
   "nbconvert_exporter": "python",
   "pygments_lexer": "ipython3",
   "version": "3.9.5"
  }
 },
 "nbformat": 4,
 "nbformat_minor": 5
}
