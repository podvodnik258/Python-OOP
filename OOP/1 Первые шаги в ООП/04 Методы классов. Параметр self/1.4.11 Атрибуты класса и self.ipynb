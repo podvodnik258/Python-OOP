{
 "cells": [
  {
   "cell_type": "code",
   "execution_count": 1,
   "id": "f255e099-7571-4076-a973-140d82723c2f",
   "metadata": {},
   "outputs": [
    {
     "name": "stdout",
     "output_type": "stream",
     "text": [
      "идти ехать ходить\n"
     ]
    }
   ],
   "source": [
    "class Translator:\n",
    "    data = dict()\n",
    "    \n",
    "    def add(self, eng, rus):\n",
    "        if eng not in self.data.keys():\n",
    "            self.data[eng] = []\n",
    "        if rus not in self.data[eng]:\n",
    "            self.data[eng].append(rus)\n",
    "\n",
    "    def remove(self, eng):\n",
    "        if eng in self.data.keys():\n",
    "            del self.data[eng]\n",
    "\n",
    "    def translate(self, eng):\n",
    "        return self.data[eng]\n",
    "        \n",
    "tr = Translator()\n",
    "\n",
    "tr.add(\"tree\", \"дерево\")\n",
    "tr.add(\"car\", \"машина\")\n",
    "tr.add(\"car\", \"автомобиль\")\n",
    "tr.add(\"leaf\", \"лист\")\n",
    "tr.add(\"river\", \"река\")\n",
    "tr.add(\"go\", \"идти\")\n",
    "tr.add(\"go\", \"ехать\")\n",
    "tr.add(\"go\", \"ходить\")\n",
    "tr.add(\"milk\", \"молоко\")\n",
    "tr.remove(\"car\")\n",
    "\n",
    "print(*tr.translate(\"go\"))"
   ]
  },
  {
   "cell_type": "code",
   "execution_count": null,
   "id": "8d5daba8-202b-440a-a5ab-7c5d4728dc91",
   "metadata": {},
   "outputs": [],
   "source": []
  }
 ],
 "metadata": {
  "kernelspec": {
   "display_name": "Python 3 (ipykernel)",
   "language": "python",
   "name": "python3"
  },
  "language_info": {
   "codemirror_mode": {
    "name": "ipython",
    "version": 3
   },
   "file_extension": ".py",
   "mimetype": "text/x-python",
   "name": "python",
   "nbconvert_exporter": "python",
   "pygments_lexer": "ipython3",
   "version": "3.9.5"
  }
 },
 "nbformat": 4,
 "nbformat_minor": 5
}
