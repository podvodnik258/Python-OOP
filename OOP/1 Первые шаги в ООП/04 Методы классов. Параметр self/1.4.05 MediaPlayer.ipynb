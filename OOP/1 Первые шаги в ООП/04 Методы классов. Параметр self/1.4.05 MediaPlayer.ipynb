{
 "cells": [
  {
   "cell_type": "code",
   "execution_count": null,
   "id": "7ee0cf69-2d85-48cf-9be6-221d9d4dd019",
   "metadata": {},
   "outputs": [],
   "source": [
    "class MediaPlayer:\n",
    "    \n",
    "    def open(self, file):\n",
    "        self.filename = file\n",
    "    \n",
    "    \n",
    "    def play(self):\n",
    "        print(f\"Воспроизведение {self.filename}\")\n",
    "\n",
    "media1 = MediaPlayer()\n",
    "media2 = MediaPlayer()\n",
    "media1.open(\"filemedia1\")\n",
    "media2.open(\"filemedia2\")\n",
    "media1.play()\n",
    "media2.play()"
   ]
  }
 ],
 "metadata": {
  "kernelspec": {
   "display_name": "Python 3 (ipykernel)",
   "language": "python",
   "name": "python3"
  },
  "language_info": {
   "codemirror_mode": {
    "name": "ipython",
    "version": 3
   },
   "file_extension": ".py",
   "mimetype": "text/x-python",
   "name": "python",
   "nbconvert_exporter": "python",
   "pygments_lexer": "ipython3",
   "version": "3.9.5"
  }
 },
 "nbformat": 4,
 "nbformat_minor": 5
}
