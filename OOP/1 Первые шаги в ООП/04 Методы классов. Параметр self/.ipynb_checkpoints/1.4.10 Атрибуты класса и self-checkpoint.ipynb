{
 "cells": [
  {
   "cell_type": "code",
   "execution_count": null,
   "id": "bba31c74-b9a8-4374-9f45-254e479bc135",
   "metadata": {},
   "outputs": [],
   "source": [
    "import sys\n",
    "\n",
    "# программу не менять, только добавить два метода\n",
    "lst_in = # list(map(str.strip, sys.stdin.readlines()))  # считывание списка строк из входного потока\n",
    "\n",
    "\n",
    "class DataBase:\n",
    "    lst_data = []\n",
    "    FIELDS = ('id', 'name', 'old', 'salary')\n",
    "\n",
    "    def insert(self, data):\n",
    "        for row in data:\n",
    "            self.lst_data.append(dict(zip(self.FIELDS, row.split())))\n",
    "        \n",
    "    def select(self, a, b):\n",
    "        return self.lst_data[a:b+1]\n",
    "\n",
    "\n",
    "db = DataBase()\n",
    "db.insert(lst_in)"
   ]
  },
  {
   "cell_type": "code",
   "execution_count": null,
   "id": "37bb18e3-82b4-489d-a56a-81b145b3bb46",
   "metadata": {},
   "outputs": [],
   "source": [
    "Sample Input:\n",
    "\n",
    "1 Сергей 35 120000\n",
    "2 Федор 23 12000\n",
    "3 Иван 13 1200"
   ]
  }
 ],
 "metadata": {
  "kernelspec": {
   "display_name": "Python 3 (ipykernel)",
   "language": "python",
   "name": "python3"
  },
  "language_info": {
   "codemirror_mode": {
    "name": "ipython",
    "version": 3
   },
   "file_extension": ".py",
   "mimetype": "text/x-python",
   "name": "python",
   "nbconvert_exporter": "python",
   "pygments_lexer": "ipython3",
   "version": "3.9.5"
  }
 },
 "nbformat": 4,
 "nbformat_minor": 5
}
