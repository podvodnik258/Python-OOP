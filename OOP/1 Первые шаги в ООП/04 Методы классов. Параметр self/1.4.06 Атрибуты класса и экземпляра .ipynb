{
 "cells": [
  {
   "cell_type": "code",
   "execution_count": null,
   "id": "2d56f5f8-abc0-46de-99ad-a13e43d08286",
   "metadata": {},
   "outputs": [],
   "source": [
    "class Graph:\n",
    "    \n",
    "    LIMIT_Y = [0, 10]\n",
    "        \n",
    "    def set_data(self, data):\n",
    "        self.data = data\n",
    "\n",
    "    \n",
    "    def draw(self):\n",
    "        print(*filter(lambda x: x >= self.LIMIT_Y[0] and x <= self.LIMIT_Y[1], self.data) )\n",
    "\n",
    "        \n",
    "graph_1 = Graph()\n",
    "graph_1.set_data([10, -5, 100, 20, 0, 80, 45, 2, 5, 7])\n",
    "graph_1.draw()"
   ]
  }
 ],
 "metadata": {
  "kernelspec": {
   "display_name": "Python 3 (ipykernel)",
   "language": "python",
   "name": "python3"
  },
  "language_info": {
   "codemirror_mode": {
    "name": "ipython",
    "version": 3
   },
   "file_extension": ".py",
   "mimetype": "text/x-python",
   "name": "python",
   "nbconvert_exporter": "python",
   "pygments_lexer": "ipython3",
   "version": "3.9.5"
  }
 },
 "nbformat": 4,
 "nbformat_minor": 5
}
