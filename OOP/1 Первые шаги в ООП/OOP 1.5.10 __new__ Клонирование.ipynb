{
 "cells": [
  {
   "cell_type": "markdown",
   "id": "7dc92bbf-5355-4bbe-8c9b-becaee4e8a06",
   "metadata": {},
   "source": [
    "### Магический метод `__new__`.\n",
    "## Клонирование объекта"
   ]
  },
  {
   "cell_type": "code",
   "execution_count": 2,
   "id": "dd80c2e4-1db0-4665-ad4c-e59e3e75676f",
   "metadata": {},
   "outputs": [],
   "source": [
    "class Point:\n",
    "    def __init__(self, x, y):\n",
    "        self.x = x\n",
    "        self.y = y\n",
    "    \n",
    "    def clone(self):\n",
    "        obj = super().__new__(Point)\n",
    "        obj.__dict__ = self.__dict__.copy()\n",
    "        return obj\n",
    "\n",
    "\n",
    "\n",
    "pt = Point(2, 3)\n",
    "pt_clone = pt.clone()"
   ]
  },
  {
   "cell_type": "code",
   "execution_count": 3,
   "id": "7018a116-d7fb-4d43-b0f3-022a49f75311",
   "metadata": {},
   "outputs": [
    {
     "name": "stdout",
     "output_type": "stream",
     "text": [
      "2468020216832\n",
      "2468020059456\n",
      "2468020852144\n",
      "2468020852288\n"
     ]
    }
   ],
   "source": [
    "print(id(pt.__dict__))\n",
    "\n",
    "print(id(pt_clone.__dict__))\n",
    "print(id(pt))\n",
    "\n",
    "print(id(pt_clone))"
   ]
  },
  {
   "cell_type": "code",
   "execution_count": null,
   "id": "c23d60b5-aa1a-4113-877c-098a9ec77789",
   "metadata": {},
   "outputs": [],
   "source": []
  },
  {
   "cell_type": "code",
   "execution_count": null,
   "id": "e13d0fd0-62bb-43a0-82a7-9e4b6435de00",
   "metadata": {},
   "outputs": [],
   "source": []
  },
  {
   "cell_type": "code",
   "execution_count": null,
   "id": "50bb84dc-16c0-4a50-a011-2525fdbc65b3",
   "metadata": {},
   "outputs": [],
   "source": []
  },
  {
   "cell_type": "code",
   "execution_count": null,
   "id": "d71b8e4f-fb72-424f-88f4-9779b9417d25",
   "metadata": {},
   "outputs": [],
   "source": []
  }
 ],
 "metadata": {
  "kernelspec": {
   "display_name": "Python 3 (ipykernel)",
   "language": "python",
   "name": "python3"
  },
  "language_info": {
   "codemirror_mode": {
    "name": "ipython",
    "version": 3
   },
   "file_extension": ".py",
   "mimetype": "text/x-python",
   "name": "python",
   "nbconvert_exporter": "python",
   "pygments_lexer": "ipython3",
   "version": "3.9.5"
  }
 },
 "nbformat": 4,
 "nbformat_minor": 5
}
