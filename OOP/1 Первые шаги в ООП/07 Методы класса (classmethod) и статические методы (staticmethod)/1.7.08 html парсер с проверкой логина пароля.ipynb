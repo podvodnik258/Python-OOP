{
 "cells": [
  {
   "cell_type": "code",
   "execution_count": 46,
   "id": "1d7573b2-ade3-4ac0-82f0-cf3d5098c617",
   "metadata": {},
   "outputs": [],
   "source": [
    "from string import ascii_lowercase, digits\n",
    "\n",
    "# здесь объявляйте классы TextInput и PasswordInput\n",
    "CHARS = \"абвгдеёжзийклмнопрстуфхцчшщьыъэюя \" + ascii_lowercase\n",
    "\n",
    "\n",
    "class FormLogin:\n",
    "    def __init__(self, lgn, psw):\n",
    "        self.login = lgn\n",
    "        self.password = psw\n",
    "\n",
    "    def render_template(self):\n",
    "        return \"\\n\".join(['<form action=\"#\">', self.login.get_html(), self.password.get_html(), '</form>'])\n",
    "\n",
    "    \n",
    "class TextInput :\n",
    "    CHARS_CORRECT = CHARS + CHARS.upper() + digits\n",
    "    \n",
    "    def __init__(self, name, size = 10):\n",
    "        self.size = size\n",
    "        if self.check_name(name):\n",
    "            self.name = name            \n",
    "        else:\n",
    "            raise ValueError('некорректное имя поля')\n",
    "            \n",
    "            \n",
    "    def get_html(self):\n",
    "        return f\"<p class='login'>{self.name}: <input type='text' size={self.size} />\"\n",
    "        \n",
    "    \n",
    "    @classmethod\n",
    "    def check_name(cls, name):\n",
    "        return  (3 < len(name) < 50 and \n",
    "                 all(char in cls.CHARS_CORRECT for char in name))\n",
    "        \n",
    "\n",
    "class PasswordInput:\n",
    "    CHARS_CORRECT = CHARS + CHARS.upper() + digits\n",
    "    \n",
    "    def __init__(self, name, size = 10):\n",
    "        self.size = size\n",
    "        if self.check_name(name):\n",
    "            self.name = name            \n",
    "        else:\n",
    "            raise ValueError('некорректное имя поля')\n",
    "        \n",
    "    def get_html(self):\n",
    "        return f\"<p class='password'>{self.name}: <input type='text' size={self.size} />\"\n",
    "\n",
    "            \n",
    "    @classmethod\n",
    "    def check_name(cls, name):\n",
    "        return  (3 <= len(name) < 50 and \n",
    "                 all(char in cls.CHARS_CORRECT for char in name))\n",
    "\n",
    "# эти строчки не менять\n",
    "login = FormLogin(TextInput(\"Логин\"), PasswordInput(\"Пароль\"))\n",
    "html = login.render_template()"
   ]
  },
  {
   "cell_type": "code",
   "execution_count": 31,
   "id": "429d5b46-359b-495b-8488-916177f89740",
   "metadata": {},
   "outputs": [],
   "source": [
    "p = PasswordInput('pass')"
   ]
  },
  {
   "cell_type": "code",
   "execution_count": 32,
   "id": "e60bd4d0-2b2b-4e58-8571-198d72e957e7",
   "metadata": {},
   "outputs": [
    {
     "data": {
      "text/plain": [
       "True"
      ]
     },
     "execution_count": 39,
     "metadata": {},
     "output_type": "execute_result"
    }
   ],
   "source": [
    "all(char in p.CHARS_CORRECT for char in 'pas1sword')"
   ]
  },
  {
   "cell_type": "code",
   "execution_count": 29,
   "id": "1a1b5418-f4c7-4f53-ae63-d1925a8e8a1c",
   "metadata": {},
   "outputs": [
    {
     "data": {
      "text/plain": [
       "\"<p class='password'>pass: <input type='text' size=10 />\""
      ]
     },
     "execution_count": 40,
     "metadata": {},
     "output_type": "execute_result"
    }
   ],
   "source": [
    "p.get_html()"
   ]
  },
  {
   "cell_type": "code",
   "execution_count": 33,
   "id": "3ee6fa1e-7469-402f-a2f8-afd362114748",
   "metadata": {},
   "outputs": [
    {
     "data": {
      "text/plain": [
       "'<form action=\"#\">\\n<p class=\\'login\\'>Логин: <input type=\\'text\\' size=10 />\\n<p class=\\'password\\'>Пароль: <input type=\\'text\\' size=10 />\\n</form>'"
      ]
     },
     "execution_count": 41,
     "metadata": {},
     "output_type": "execute_result"
    }
   ],
   "source": [
    "html"
   ]
  },
  {
   "cell_type": "code",
   "execution_count": null,
   "id": "68f32b8c-5fce-49a1-82be-d4b6780d2b31",
   "metadata": {},
   "outputs": [],
   "source": []
  }
 ],
 "metadata": {
  "kernelspec": {
   "display_name": "Python 3 (ipykernel)",
   "language": "python",
   "name": "python3"
  },
  "language_info": {
   "codemirror_mode": {
    "name": "ipython",
    "version": 3
   },
   "file_extension": ".py",
   "mimetype": "text/x-python",
   "name": "python",
   "nbconvert_exporter": "python",
   "pygments_lexer": "ipython3",
   "version": "3.9.5"
  }
 },
 "nbformat": 4,
 "nbformat_minor": 5
}
