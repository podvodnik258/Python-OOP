{
 "cells": [
  {
   "cell_type": "code",
   "execution_count": null,
   "id": "5db68882-4b56-49ef-a0d2-db60f7393de9",
   "metadata": {},
   "outputs": [],
   "source": [
    "class Loader:\n",
    "    @staticmethod\n",
    "    def parse_format(string, factory):\n",
    "        seq = factory.build_sequence()\n",
    "        for sub in string.split(\",\"):\n",
    "            item = factory.build_number(sub)\n",
    "            seq.append(item)\n",
    "\n",
    "        return seq\n",
    "    \n",
    "class Factory:\n",
    "    \n",
    "    def build_sequence():\n",
    "        return []\n",
    "    \n",
    "    def build_number(string):\n",
    "        return float(string)\n",
    "        \n",
    "# эти строчки не менять!\n",
    "res = Loader.parse_format(\"4, 5, -6\", Factory) # [4, 5, -6]"
   ]
  }
 ],
 "metadata": {
  "kernelspec": {
   "display_name": "Python 3 (ipykernel)",
   "language": "python",
   "name": "python3"
  },
  "language_info": {
   "codemirror_mode": {
    "name": "ipython",
    "version": 3
   },
   "file_extension": ".py",
   "mimetype": "text/x-python",
   "name": "python",
   "nbconvert_exporter": "python",
   "pygments_lexer": "ipython3",
   "version": "3.9.5"
  }
 },
 "nbformat": 4,
 "nbformat_minor": 5
}
