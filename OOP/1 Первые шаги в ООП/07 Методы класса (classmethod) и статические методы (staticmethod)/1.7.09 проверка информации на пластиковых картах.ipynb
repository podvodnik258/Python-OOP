{
 "cells": [
  {
   "cell_type": "markdown",
   "id": "5e481cb4-d6a8-467c-b62d-540cbc41e0ea",
   "metadata": {},
   "source": [
    "## Регулярные выражения"
   ]
  },
  {
   "cell_type": "code",
   "execution_count": 10,
   "id": "94737d83-55eb-4e35-adb0-d41bdf72fc5e",
   "metadata": {},
   "outputs": [
    {
     "name": "stdout",
     "output_type": "stream",
     "text": [
      "False\n",
      "True\n"
     ]
    }
   ],
   "source": [
    "import re\n",
    "\n",
    "class CardCheck:\n",
    "    @staticmethod\n",
    "    def check_card_number(number):\n",
    "        return bool(re.fullmatch(r\"\\d{4}(?:-\\d{4}){3}\", number))\n",
    "    \n",
    "    @staticmethod\n",
    "    def check_name(name):\n",
    "        return bool(re.fullmatch(r\"[A-Z\\d]+ [A-Z\\d]+\", name))\n",
    "    \n",
    "    \n",
    "    \n",
    "is_number = CardCheck.check_card_number(\"1237-5678-9612-9000\")\n",
    "is_name = CardCheck.check_name(\"SERGEI BALAKIREV\")\n",
    "\n",
    "print(is_number)\n",
    "print(is_name)"
   ]
  },
  {
   "cell_type": "markdown",
   "id": "160f8295-7391-401c-9302-312f8597d345",
   "metadata": {},
   "source": [
    "Объявите класс CardCheck для проверки корректности информации на пластиковых картах. Этот класс должен иметь следующие методы:\n",
    "\n",
    "check_card_number(number) - проверяет строку с номером карты и возвращает булево значение True, если номер в верном формате и False - в противном случае. Формат номера, следующий: XXXX-XXXX-XXXX-XXXX, где X - любая цифра (от 0 до 9).\n",
    "check_name(name) - проверяет строку name с именем пользователя карты. Возвращает булево значение True, если имя записано верно и False - в противном случае.\n",
    "\n",
    "Формат имени: два слова (имя и фамилия) через пробел, записанные заглавными латинскими символами и цифрами. Например, SERGEI BALAKIREV.\n",
    "\n",
    "Предполагается использовать класс CardCheck, следующим образом (эти строчки в программе не писать):\n",
    "\n",
    "is_number = CardCheck.check_card_number(\"1234-5678-9012-0000\")\n",
    "is_name = CardCheck.check_name(\"SERGEI BALAKIREV\")\n",
    "Для проверки допустимых символов в классе должен быть прописан атрибут:\n",
    "\n",
    "CHARS_FOR_NAME = ascii_lowercase.upper() + digits\n",
    "Подумайте, как правильнее объявить методы check_card_number и check_name (декораторами @classmethod и @staticmethod)."
   ]
  },
  {
   "cell_type": "code",
   "execution_count": 2,
   "id": "4910fb1b-afbe-4b12-b79a-8ea12effaa0d",
   "metadata": {},
   "outputs": [
    {
     "name": "stdout",
     "output_type": "stream",
     "text": [
      "True\n",
      "True\n"
     ]
    }
   ],
   "source": [
    "from string import ascii_uppercase, digits\n",
    "\n",
    "class CardCheck:\n",
    "    CHARS_FOR_NAME = ascii_uppercase + digits\n",
    "\n",
    "    @staticmethod\n",
    "    def check_card_number(number):\n",
    "        mask = 'XXXX-XXXX-XXXX-XXXX'\n",
    "        for i in range(len(number)):\n",
    "            if i not in (4, 9, 14) and number[i].isdigit():\n",
    "                mask = mask.replace('X', number[i], 1) \n",
    "\n",
    "        return mask == number\n",
    "        \n",
    "    \n",
    "    @classmethod\n",
    "    def check_name(cls, name):\n",
    "        #return all((char in CHARS_FOR_NAME) for char in fn for fn in name.split())\n",
    "        return all((char in cls.CHARS_FOR_NAME) for char in name.replace(\" \", \"\", 1))\n",
    "    \n",
    "    \n",
    "    \n",
    "is_number = CardCheck.check_card_number(\"1234-5678-9012-9000\")\n",
    "is_name = CardCheck.check_name(\"SERGEI BALAKIREV\")\n",
    "\n",
    "print(is_number)\n",
    "print(is_name)"
   ]
  },
  {
   "cell_type": "code",
   "execution_count": null,
   "id": "4687defd-aca1-4f8a-bb0a-2f118dc9656d",
   "metadata": {},
   "outputs": [],
   "source": [
    "mask = 'XXXX-XXXX-XXXX-XXXX'\n",
    "mask[4]"
   ]
  }
 ],
 "metadata": {
  "kernelspec": {
   "display_name": "Python 3 (ipykernel)",
   "language": "python",
   "name": "python3"
  },
  "language_info": {
   "codemirror_mode": {
    "name": "ipython",
    "version": 3
   },
   "file_extension": ".py",
   "mimetype": "text/x-python",
   "name": "python",
   "nbconvert_exporter": "python",
   "pygments_lexer": "ipython3",
   "version": "3.9.5"
  }
 },
 "nbformat": 4,
 "nbformat_minor": 5
}
