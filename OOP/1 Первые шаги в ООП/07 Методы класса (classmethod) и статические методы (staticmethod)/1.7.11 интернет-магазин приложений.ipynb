{
 "cells": [
  {
   "cell_type": "code",
   "execution_count": 26,
   "id": "f5b27293-6021-41b1-99bb-7d8d0fe95291",
   "metadata": {},
   "outputs": [],
   "source": [
    "class AppStore:\n",
    "    def __init__(self):\n",
    "        self.apps = []\n",
    "    \n",
    "    def add_application(self, app):\n",
    "        self.apps.append(app)\n",
    "        \n",
    "    def remove_application(self, app):\n",
    "        self.apps.remove(app)\n",
    "        \n",
    "    @staticmethod\n",
    "    def block_application(app):\n",
    "        app.blocked = True\n",
    "            \n",
    "    def total_apps(self):\n",
    "        return len(self.apps)\n",
    "        \n",
    "class Application:\n",
    "    def __init__(self, name):\n",
    "        self.name = name\n",
    "        self.blocked = False\n",
    "\n",
    "    \n",
    "store = AppStore()\n",
    "app_youtube = Application(\"Youtube\")\n",
    "store.add_application(app_youtube)\n",
    "#store.remove_application(app_youtube)"
   ]
  },
  {
   "cell_type": "code",
   "execution_count": 29,
   "id": "ee224ccd-7bb8-4eb5-963b-60a7c9b79b2d",
   "metadata": {},
   "outputs": [
    {
     "data": {
      "text/plain": [
       "{'name': 'Youtube', 'blocked': True}"
      ]
     },
     "execution_count": 29,
     "metadata": {},
     "output_type": "execute_result"
    }
   ],
   "source": [
    "store.apps[0].__dict__"
   ]
  },
  {
   "cell_type": "code",
   "execution_count": 28,
   "id": "9a65a4e1-3ed8-4e14-886c-bb62a679b08b",
   "metadata": {},
   "outputs": [],
   "source": [
    "store.block_application(app_youtube)"
   ]
  },
  {
   "cell_type": "code",
   "execution_count": null,
   "id": "1629a2ab-b85f-406d-8621-cc4fdee4b434",
   "metadata": {},
   "outputs": [],
   "source": []
  }
 ],
 "metadata": {
  "kernelspec": {
   "display_name": "Python 3 (ipykernel)",
   "language": "python",
   "name": "python3"
  },
  "language_info": {
   "codemirror_mode": {
    "name": "ipython",
    "version": 3
   },
   "file_extension": ".py",
   "mimetype": "text/x-python",
   "name": "python",
   "nbconvert_exporter": "python",
   "pygments_lexer": "ipython3",
   "version": "3.9.5"
  }
 },
 "nbformat": 4,
 "nbformat_minor": 5
}
