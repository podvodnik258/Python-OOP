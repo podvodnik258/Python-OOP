{
 "cells": [
  {
   "cell_type": "code",
   "execution_count": null,
   "id": "8f60d7b3-bebd-403e-b030-51a47f68def8",
   "metadata": {},
   "outputs": [],
   "source": [
    "m = [1, 2, 3, 4, 5, 6]"
   ]
  },
  {
   "cell_type": "code",
   "execution_count": null,
   "id": "ed7d1f36-5f03-406a-b876-d8fb929ac03d",
   "metadata": {},
   "outputs": [],
   "source": [
    "m[::-1]"
   ]
  },
  {
   "cell_type": "code",
   "execution_count": 1,
   "id": "1f01ab8c-c739-445a-95f3-1ca413b059fb",
   "metadata": {},
   "outputs": [],
   "source": [
    "class Viber:\n",
    "    lst = []\n",
    "        \n",
    "    @classmethod\n",
    "    def add_message(cls, msg):\n",
    "        cls.lst.append(msg)\n",
    "    \n",
    "    @classmethod\n",
    "    def remove_message(cls, msg):\n",
    "        cls.lst.remove(msg)\n",
    "    \n",
    "    @staticmethod\n",
    "    def set_like(msg):\n",
    "        msg.fl_like = True\n",
    "    \n",
    "    @classmethod\n",
    "    def show_last_message(cls, last):\n",
    "        for i, msg in enumerate(cls.lst[::-1]):\n",
    "            if i < last:\n",
    "                print(msg.text)\n",
    "\n",
    "    \n",
    "    @classmethod\n",
    "    def total_messages(cls):\n",
    "        return len(cls.lst)\n",
    "\n",
    "    \n",
    "\n",
    "class Message:\n",
    "    def __init__(self, text):\n",
    "        self.text = text\n",
    "        self.fl_like = False\n",
    "\n"
   ]
  },
  {
   "cell_type": "code",
   "execution_count": 2,
   "id": "059f5955-c72d-484d-afd3-180d72e6e6f8",
   "metadata": {},
   "outputs": [],
   "source": [
    "msg = Message(\"Всем привет!\")\n",
    "Viber.add_message(msg)\n",
    "Viber.add_message(Message(\"Это курс по Python ООП.\"))\n",
    "Viber.add_message(Message(\"Что вы о нем думаете?\"))\n",
    "Viber.set_like(msg)\n",
    "#Viber.remove_message(msg)"
   ]
  },
  {
   "cell_type": "code",
   "execution_count": 7,
   "id": "5167440b-7326-40ba-92f0-6b6dab81616a",
   "metadata": {},
   "outputs": [],
   "source": [
    "Viber.show_last_message(0)"
   ]
  },
  {
   "cell_type": "code",
   "execution_count": null,
   "id": "65bce333-0e85-40be-8c0e-8f10779170f6",
   "metadata": {},
   "outputs": [],
   "source": []
  }
 ],
 "metadata": {
  "kernelspec": {
   "display_name": "Python 3 (ipykernel)",
   "language": "python",
   "name": "python3"
  },
  "language_info": {
   "codemirror_mode": {
    "name": "ipython",
    "version": 3
   },
   "file_extension": ".py",
   "mimetype": "text/x-python",
   "name": "python",
   "nbconvert_exporter": "python",
   "pygments_lexer": "ipython3",
   "version": "3.9.5"
  }
 },
 "nbformat": 4,
 "nbformat_minor": 5
}
