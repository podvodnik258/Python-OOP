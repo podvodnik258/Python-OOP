{
 "cells": [
  {
   "cell_type": "code",
   "execution_count": 15,
   "id": "e63818c8-1b76-401e-9bf1-ff9755f6f234",
   "metadata": {},
   "outputs": [
    {
     "name": "stdout",
     "output_type": "stream",
     "text": [
      "воспроизведение видео Python\n",
      "воспроизведение видео Python ООП\n"
     ]
    }
   ],
   "source": [
    "class Video:\n",
    "\n",
    "    def create(self, name):\n",
    "        self.name = name\n",
    "        \n",
    "    def play(self):\n",
    "        return f\"воспроизведение видео {self.name}\"\n",
    "\n",
    "\n",
    "class YouTube:\n",
    "    videos = []\n",
    "    \n",
    "    @classmethod\n",
    "    def add_video(cls, video):\n",
    "        cls.videos.append(video)\n",
    "        \n",
    "    @classmethod\n",
    "    def play(cls, video_indx):\n",
    "        return cls.videos[video_indx].play()\n",
    "\n",
    "    \n",
    "v1, v2 = Video(), Video()\n",
    "v1.create('Python')\n",
    "v2.create('Python ООП')\n",
    "YouTube.add_video(v1)\n",
    "YouTube.add_video(v2)\n",
    "print(YouTube.play(0))\n",
    "print(YouTube.play(1))"
   ]
  },
  {
   "cell_type": "code",
   "execution_count": 10,
   "id": "27e85881-df69-48bd-9bae-4f6fc25a1ae7",
   "metadata": {},
   "outputs": [
    {
     "data": {
      "text/plain": [
       "'воспроизведение видео Python'"
      ]
     },
     "execution_count": 10,
     "metadata": {},
     "output_type": "execute_result"
    }
   ],
   "source": [
    "YouTube.videos[0].play()"
   ]
  },
  {
   "cell_type": "code",
   "execution_count": 13,
   "id": "7142eee0-d459-4693-8825-2b16a6416263",
   "metadata": {},
   "outputs": [],
   "source": [
    "YouTube.play(0)"
   ]
  },
  {
   "cell_type": "code",
   "execution_count": null,
   "id": "4b7030d9-83ed-4ea1-bfdd-d4218ca4e950",
   "metadata": {},
   "outputs": [],
   "source": []
  },
  {
   "cell_type": "code",
   "execution_count": null,
   "id": "3b0f95cc-71fa-4d33-91f0-91d6ef1932c4",
   "metadata": {},
   "outputs": [],
   "source": []
  },
  {
   "cell_type": "code",
   "execution_count": null,
   "id": "cb4c95b8-8e68-461c-ac80-7a6aa4c9e4e5",
   "metadata": {},
   "outputs": [],
   "source": []
  },
  {
   "cell_type": "code",
   "execution_count": null,
   "id": "e2ef787e-d217-4c02-832e-c8668824f899",
   "metadata": {},
   "outputs": [],
   "source": []
  },
  {
   "cell_type": "code",
   "execution_count": null,
   "id": "a646d4cc-866f-414a-80a8-0c716e473513",
   "metadata": {},
   "outputs": [],
   "source": []
  },
  {
   "cell_type": "code",
   "execution_count": null,
   "id": "6aecc59f-0a72-4d57-9832-54c29027de09",
   "metadata": {},
   "outputs": [],
   "source": []
  },
  {
   "cell_type": "code",
   "execution_count": null,
   "id": "1720776f-490b-40b0-92a0-81901096db29",
   "metadata": {},
   "outputs": [],
   "source": []
  }
 ],
 "metadata": {
  "kernelspec": {
   "display_name": "Python 3 (ipykernel)",
   "language": "python",
   "name": "python3"
  },
  "language_info": {
   "codemirror_mode": {
    "name": "ipython",
    "version": 3
   },
   "file_extension": ".py",
   "mimetype": "text/x-python",
   "name": "python",
   "nbconvert_exporter": "python",
   "pygments_lexer": "ipython3",
   "version": "3.9.5"
  }
 },
 "nbformat": 4,
 "nbformat_minor": 5
}
