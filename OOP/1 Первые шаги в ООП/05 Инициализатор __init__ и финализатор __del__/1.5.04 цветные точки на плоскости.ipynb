{
 "cells": [
  {
   "cell_type": "code",
   "execution_count": null,
   "id": "71204da0-8bec-415c-ba94-a59245c16cba",
   "metadata": {},
   "outputs": [],
   "source": [
    "class Point:\n",
    "    def __init__(self, x, y, color = 'black'):\n",
    "        self.x = x\n",
    "        self.y = y\n",
    "        self.color = color\n",
    "\n",
    "\n",
    "points = []\n",
    "for i in range(1, 2001, 2):\n",
    "    if i == 3:\n",
    "        points.append(Point(i, i, 'yellow'))\n",
    "    else:\n",
    "        points.append(Point(i,i))"
   ]
  },
  {
   "cell_type": "code",
   "execution_count": null,
   "id": "e3b4058d-51e2-4dac-a63d-60b95388b367",
   "metadata": {},
   "outputs": [],
   "source": [
    "p1 = Point(10, 20)\n",
    "p2 = Point(12, 5, 'red')"
   ]
  }
 ],
 "metadata": {
  "kernelspec": {
   "display_name": "Python 3 (ipykernel)",
   "language": "python",
   "name": "python3"
  },
  "language_info": {
   "codemirror_mode": {
    "name": "ipython",
    "version": 3
   },
   "file_extension": ".py",
   "mimetype": "text/x-python",
   "name": "python",
   "nbconvert_exporter": "python",
   "pygments_lexer": "ipython3",
   "version": "3.9.5"
  }
 },
 "nbformat": 4,
 "nbformat_minor": 5
}
