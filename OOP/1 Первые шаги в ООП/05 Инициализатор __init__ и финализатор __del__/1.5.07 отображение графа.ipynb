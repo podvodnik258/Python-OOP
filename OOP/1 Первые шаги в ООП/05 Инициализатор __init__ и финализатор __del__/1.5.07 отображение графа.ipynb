{
 "cells": [
  {
   "cell_type": "code",
   "execution_count": 1,
   "id": "9091d72d-30db-40b7-9e35-7a04edc2ac4e",
   "metadata": {},
   "outputs": [
    {
     "name": "stdout",
     "output_type": "stream",
     "text": [
      "Столбчатая диаграмма: 8   1 1   1 0   - 3 2   0   7   1 8\n",
      "Отображение данных закрыто\n"
     ]
    }
   ],
   "source": [
    "# здесь объявляются все необходимые классы\n",
    "class Graph:\n",
    "    def __init__(self, data):\n",
    "        self.data = data\n",
    "        self.is_show = True\n",
    "    \n",
    "    def check_show(func):\n",
    "        def wrapper(self):\n",
    "            if self.is_show == False:\n",
    "                return 'Отображение данных закрыто'\n",
    "            else:\n",
    "                return (func(self))\n",
    "        return wrapper       \n",
    "    \n",
    "    def set_data(self, data):\n",
    "        self.data = data\n",
    "    \n",
    "    @check_show    \n",
    "    def show_table(self):\n",
    "        return ' '.join(map(str, self.data))\n",
    "\n",
    "    @check_show\n",
    "    def show_graph(self):\n",
    "        print( f\"Графическое отображение данных: {self.show_table()}\")\n",
    "\n",
    "    @check_show\n",
    "    def show_bar(self):\n",
    "        print(f'Столбчатая диаграмма: {self.show_table()}')\n",
    "\n",
    "    def set_show(self, fl_show):\n",
    "        self.is_show = fl_show\n",
    "        \n",
    "# считывание списка из входного потока (эту строку не менять)\n",
    "data_graph = '8 11 10 -32 0 7 18' #list(map(int, input().split()))\n",
    "\n",
    "# здесь создаются объекты классов и вызываются нужные методы\n",
    "gr = Graph(data_graph)\n",
    "gr.show_bar()\n",
    "gr.set_show(False)\n",
    "print(gr.show_table())"
   ]
  },
  {
   "cell_type": "code",
   "execution_count": null,
   "id": "0c44c8c0-f19b-48d9-b392-5c937a4c8616",
   "metadata": {},
   "outputs": [],
   "source": []
  }
 ],
 "metadata": {
  "kernelspec": {
   "display_name": "Python 3 (ipykernel)",
   "language": "python",
   "name": "python3"
  },
  "language_info": {
   "codemirror_mode": {
    "name": "ipython",
    "version": 3
   },
   "file_extension": ".py",
   "mimetype": "text/x-python",
   "name": "python",
   "nbconvert_exporter": "python",
   "pygments_lexer": "ipython3",
   "version": "3.9.5"
  }
 },
 "nbformat": 4,
 "nbformat_minor": 5
}
