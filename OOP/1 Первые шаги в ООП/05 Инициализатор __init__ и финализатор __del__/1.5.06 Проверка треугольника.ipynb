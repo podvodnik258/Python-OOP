{
 "cells": [
  {
   "cell_type": "code",
   "execution_count": null,
   "id": "07037065-6b87-4335-9041-dd034f730c0e",
   "metadata": {},
   "outputs": [],
   "source": [
    "class TriangleChecker:\n",
    "    def __init__(self, a, b, c):\n",
    "        self.lenghts = [a, b, c]\n",
    "\n",
    "    \n",
    "    def is_triangle(self):\n",
    "        if self.lenghts[0] > 0 and self.lenghts[1] > 0 and self.lenghts[2] > 0:\n",
    "            if self.lenghts[0] + self.lenghts[1] > self.lenghts[2] and self.lenghts[0] + self.lenghts[2] > self.lenghts[1] and self.lenghts[1] + self.lenghts[2] > self.lenghts[0]:\n",
    "                return 3\n",
    "            else:\n",
    "                return 2\n",
    "        else:\n",
    "            return 1\n",
    "\n",
    "a, b, c = map(int, input().split()) # эту строчку не менять\n",
    "# здесь создайте экземпляр tr класса TriangleChecker и вызовите метод is_triangle() с выводом информации на экран\n",
    "tr = TriangleChecker(a, b, c)\n",
    "print(tr.is_triangle())"
   ]
  },
  {
   "cell_type": "code",
   "execution_count": null,
   "id": "99ae29bd-199a-49a5-9bd2-f81d9943bbd8",
   "metadata": {},
   "outputs": [],
   "source": [
    "class TriangleChecker:\n",
    "    def __init__(self, a: int, b: int, c: int):\n",
    "        self.s = [a, b, c]\n",
    "    \n",
    "    def is_triangle(self) -> (1, 2, 3):\n",
    "        if min(self.s) <= 0:\n",
    "            return 1\n",
    "        if max(self.s) * 2 >= sum(self.s):\n",
    "            return 2\n",
    "        return 3\n",
    "\n",
    "\n",
    "a, b, c = map(int, input().split()) # эту строчку не менять\n",
    "tr = TriangleChecker(a, b, c)\n",
    "print(tr.is_triangle())"
   ]
  },
  {
   "cell_type": "code",
   "execution_count": null,
   "id": "8f4ab0cb-e22e-49c2-823a-d49f98815819",
   "metadata": {},
   "outputs": [],
   "source": [
    "class TriangleChecker:\n",
    "    def __init__(self, a, b, c):\n",
    "        self.lst = [a, b, c]\n",
    "        \n",
    "    def is_triangle(self):\n",
    "        for num in self.lst:\n",
    "            if not isinstance(num, int) or num <= 0:\n",
    "                return 1 \n",
    "        if max(self.lst) >= sum(self.lst) - max(self.lst):\n",
    "            return 2\n",
    "        return 3\n",
    "        \n",
    "\n",
    "a, b, c = map(int, input().split()) \n",
    "tr = TriangleChecker(a, b, c)\n",
    "print(tr.is_triangle())"
   ]
  }
 ],
 "metadata": {
  "kernelspec": {
   "display_name": "Python 3 (ipykernel)",
   "language": "python",
   "name": "python3"
  },
  "language_info": {
   "codemirror_mode": {
    "name": "ipython",
    "version": 3
   },
   "file_extension": ".py",
   "mimetype": "text/x-python",
   "name": "python",
   "nbconvert_exporter": "python",
   "pygments_lexer": "ipython3",
   "version": "3.9.5"
  }
 },
 "nbformat": 4,
 "nbformat_minor": 5
}
