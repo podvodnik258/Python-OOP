{
 "cells": [
  {
   "cell_type": "code",
   "execution_count": 5,
   "id": "cc01ec0c-ee2f-4823-8e13-c425e940d7c6",
   "metadata": {},
   "outputs": [
    {
     "data": {
      "text/plain": [
       "['Материнская плата: name',\n",
       " 'Центральный процессор: cpu1, 4GGz',\n",
       " 'Слотов памяти: 4',\n",
       " 'Память: mem1 - 1000; mem2 - 2000']"
      ]
     },
     "execution_count": 5,
     "metadata": {},
     "output_type": "execute_result"
    }
   ],
   "source": [
    "class CPU:\n",
    "    def __init__(self, name, fr):\n",
    "        self.name = name\n",
    "        self.fr = fr\n",
    "\n",
    "\n",
    "class Memory:\n",
    "    def __init__(self, name, volume):\n",
    "        self.name = name\n",
    "        self.volume = volume\n",
    "\n",
    "\n",
    "class MotherBoard:\n",
    "    total_mem_slots = 4\n",
    "    def __init__(self, name, cpu, *args):\n",
    "        self.name = name\n",
    "        self.cpu = cpu\n",
    "        self.mem_slots = args[:self.total_mem_slots]\n",
    "        \n",
    "    def get_config(self):\n",
    "        return [f'Материнская плата: {self.name}',\n",
    "                f'Центральный процессор: {self.cpu.name}, {self.cpu.fr}',\n",
    "                f'Слотов памяти: {self.total_mem_slots}',\n",
    "                f\"Память: {'; '.join([f'{i.name} - {i.volume}' for i in self.mem_slots])}\"]\n",
    "    \n",
    "cpu1 = CPU('cpu1', '4GGz')\n",
    "mem1 = Memory('mem1', '1000')\n",
    "mem2 = Memory('mem2', '2000')\n",
    "\n",
    "mb = MotherBoard('name', cpu1, mem1, mem2)\n",
    "mb.get_config()"
   ]
  },
  {
   "cell_type": "code",
   "execution_count": null,
   "id": "ae039a02-d25a-4e2e-8168-9ef340dd970e",
   "metadata": {},
   "outputs": [],
   "source": []
  }
 ],
 "metadata": {
  "kernelspec": {
   "display_name": "Python 3 (ipykernel)",
   "language": "python",
   "name": "python3"
  },
  "language_info": {
   "codemirror_mode": {
    "name": "ipython",
    "version": 3
   },
   "file_extension": ".py",
   "mimetype": "text/x-python",
   "name": "python",
   "nbconvert_exporter": "python",
   "pygments_lexer": "ipython3",
   "version": "3.9.5"
  }
 },
 "nbformat": 4,
 "nbformat_minor": 5
}
