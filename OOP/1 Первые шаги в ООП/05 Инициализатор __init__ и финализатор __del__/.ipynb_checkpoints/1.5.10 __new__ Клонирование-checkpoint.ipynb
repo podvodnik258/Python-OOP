{
 "cells": [
  {
   "cell_type": "code",
   "execution_count": 20,
   "id": "dd80c2e4-1db0-4665-ad4c-e59e3e75676f",
   "metadata": {},
   "outputs": [],
   "source": [
    "class Point:\n",
    "    def __init__(self, x, y):\n",
    "        self.x = x\n",
    "        self.y = y\n",
    "    \n",
    "    def clone(self):\n",
    "        obj = super().__new__(Point)\n",
    "        obj.__dict__ = self.__dict__.copy()\n",
    "        return obj\n",
    "\n",
    "\n",
    "\n",
    "pt = Point(2, 3)\n",
    "pt_clone = pt.clone()"
   ]
  },
  {
   "cell_type": "code",
   "execution_count": null,
   "id": "4dc581d9-0a92-40d5-bf4b-3a3d47f03ec1",
   "metadata": {},
   "outputs": [],
   "source": []
  },
  {
   "cell_type": "code",
   "execution_count": 21,
   "id": "7018a116-d7fb-4d43-b0f3-022a49f75311",
   "metadata": {},
   "outputs": [
    {
     "name": "stdout",
     "output_type": "stream",
     "text": [
      "2489514737856\n",
      "2489515865152\n"
     ]
    }
   ],
   "source": [
    "print(id(pt.__dict__))\n",
    "\n",
    "print(id(pt_clone.__dict__))"
   ]
  },
  {
   "cell_type": "code",
   "execution_count": null,
   "id": "c23d60b5-aa1a-4113-877c-098a9ec77789",
   "metadata": {},
   "outputs": [],
   "source": []
  }
 ],
 "metadata": {
  "kernelspec": {
   "display_name": "Python 3 (ipykernel)",
   "language": "python",
   "name": "python3"
  },
  "language_info": {
   "codemirror_mode": {
    "name": "ipython",
    "version": 3
   },
   "file_extension": ".py",
   "mimetype": "text/x-python",
   "name": "python",
   "nbconvert_exporter": "python",
   "pygments_lexer": "ipython3",
   "version": "3.9.5"
  }
 },
 "nbformat": 4,
 "nbformat_minor": 5
}
