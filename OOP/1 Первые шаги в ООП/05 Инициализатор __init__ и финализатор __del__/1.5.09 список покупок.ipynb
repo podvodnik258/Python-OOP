{
 "cells": [
  {
   "cell_type": "code",
   "execution_count": 2,
   "id": "3b930f30-c369-4862-a5f0-adde815ad5d1",
   "metadata": {},
   "outputs": [
    {
     "data": {
      "text/plain": [
       "['tv1: 15632',\n",
       " 'tv2: 15632',\n",
       " 'table: 1203',\n",
       " 'notebook1: 12531',\n",
       " 'notebook2: 16789',\n",
       " 'cup: 132']"
      ]
     },
     "execution_count": 2,
     "metadata": {},
     "output_type": "execute_result"
    }
   ],
   "source": [
    "class Cart:\n",
    "    def __init__(self):\n",
    "        self.goods = []\n",
    "    \n",
    "    def add(self, gd): # добавление товара в корзину, представленного объектом gd;\n",
    "        self.goods.append(gd)\n",
    "        \n",
    "    def remove(self, indx): # удаление товара из корзины по индексу indx;\n",
    "        del self.goods[indx]\n",
    "        \n",
    "    def get_list(self): \n",
    "        return [f'{i.name}: {i.price}' for i in self.goods]\n",
    "        \n",
    "        \n",
    "        \n",
    "\n",
    "class Table: # столы;\n",
    "    def __init__(self, name, price):\n",
    "        self.name = name\n",
    "        self.price = price\n",
    "        \n",
    "class TV: # телевизоры;\n",
    "    def __init__(self, name, price):\n",
    "        self.name = name\n",
    "        self.price = price\n",
    "        \n",
    "class Notebook: # ноутбуки;\n",
    "    def __init__(self, name, price):\n",
    "        self.name = name\n",
    "        self.price = price\n",
    "        \n",
    "class Cup: # кружки.\n",
    "    def __init__(self, name, price):\n",
    "        self.name = name\n",
    "        self.price = price\n",
    "        \n",
    "        \n",
    "table = Table('table', 1203)\n",
    "tv1 = TV('tv1', 15632)\n",
    "tv2 = TV('tv2', 15632)\n",
    "notebook1 = Notebook('notebook1', 12531)\n",
    "notebook2 = Notebook('notebook2', 16789)\n",
    "cup = Cup('cup', 132)\n",
    "\n",
    "cart = Cart()\n",
    "cart.add(tv1)\n",
    "cart.add(tv2)\n",
    "cart.add(table)\n",
    "cart.add(notebook1)\n",
    "cart.add(notebook2)\n",
    "cart.add(cup) \n",
    "\n",
    "cart.get_list()"
   ]
  },
  {
   "cell_type": "code",
   "execution_count": null,
   "id": "e944e35a-4e19-40ec-9042-ba9249017e9b",
   "metadata": {},
   "outputs": [],
   "source": []
  }
 ],
 "metadata": {
  "kernelspec": {
   "display_name": "Python 3 (ipykernel)",
   "language": "python",
   "name": "python3"
  },
  "language_info": {
   "codemirror_mode": {
    "name": "ipython",
    "version": 3
   },
   "file_extension": ".py",
   "mimetype": "text/x-python",
   "name": "python",
   "nbconvert_exporter": "python",
   "pygments_lexer": "ipython3",
   "version": "3.9.5"
  }
 },
 "nbformat": 4,
 "nbformat_minor": 5
}
