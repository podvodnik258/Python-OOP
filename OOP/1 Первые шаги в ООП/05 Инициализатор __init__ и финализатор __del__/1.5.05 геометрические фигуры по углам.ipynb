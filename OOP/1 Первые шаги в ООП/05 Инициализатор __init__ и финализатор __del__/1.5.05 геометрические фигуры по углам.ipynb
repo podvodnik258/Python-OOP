{
 "cells": [
  {
   "cell_type": "code",
   "execution_count": null,
   "id": "ae48a4ac-461a-4f3f-95c3-87e87b4cfa9a",
   "metadata": {},
   "outputs": [],
   "source": [
    "rom random import randint, choice\n",
    "\n",
    "class Line:\n",
    "    def __init__(self, a, b, c, d):\n",
    "        self.sp = (a, b)\n",
    "        self.ep = (c, d)\n",
    "\n",
    "\n",
    "class Rect:\n",
    "    def __init__(self, a, b, c, d):\n",
    "        self.sp = (a, b)\n",
    "        self.ep = (c, d)\n",
    "\n",
    "\n",
    "class Ellipse:\n",
    "    def __init__(self, a, b, c, d):\n",
    "        self.sp = (a, b)\n",
    "        self.ep = (c, d)\n",
    "\n",
    "\n",
    "\n",
    "func = [Line, Rect, Ellipse]\n",
    "\n",
    "elements = [choice(func)(randint(-10, 10),\n",
    "                         randint(-10, 10),\n",
    "                         randint(-10, 10),\n",
    "                         randint(-10, 10)\n",
    "                         ) for _ in range(217)]\n",
    "\n",
    "\n",
    "for el in elements:\n",
    "    if isinstance(el, Line):\n",
    "        el.sp = (0, 0)\n",
    "        el.ep = (0, 0)"
   ]
  },
  {
   "cell_type": "code",
   "execution_count": null,
   "id": "27422879-49be-435c-9dcf-fd058504b827",
   "metadata": {},
   "outputs": [],
   "source": [
    "g1 = Line(a, b, c, d)\n",
    "g2 = Rect(a, b, c, d)\n",
    "g3 = Ellipse(a, b, c, d)"
   ]
  }
 ],
 "metadata": {
  "kernelspec": {
   "display_name": "Python 3 (ipykernel)",
   "language": "python",
   "name": "python3"
  },
  "language_info": {
   "codemirror_mode": {
    "name": "ipython",
    "version": 3
   },
   "file_extension": ".py",
   "mimetype": "text/x-python",
   "name": "python",
   "nbconvert_exporter": "python",
   "pygments_lexer": "ipython3",
   "version": "3.9.5"
  }
 },
 "nbformat": 4,
 "nbformat_minor": 5
}
