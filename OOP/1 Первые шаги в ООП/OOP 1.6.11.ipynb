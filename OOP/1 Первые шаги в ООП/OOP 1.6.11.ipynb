{
 "cells": [
  {
   "cell_type": "markdown",
   "id": "73b92305-1cb0-4121-b8c7-a1faaf7dee20",
   "metadata": {},
   "source": [
    "### В программе предполагается реализовать парсер (обработчик) строки (string) в определенный выходной формат"
   ]
  },
  {
   "cell_type": "code",
   "execution_count": null,
   "id": "a6750d42-54f1-4c4f-9fd7-7ed4a11b9e31",
   "metadata": {},
   "outputs": [],
   "source": []
  },
  {
   "cell_type": "code",
   "execution_count": 4,
   "id": "859edd28-ea14-498f-8b6c-6d116b8263e1",
   "metadata": {},
   "outputs": [],
   "source": [
    "# Здесь объявляется класс Factory\n",
    "\n",
    "class Loader:\n",
    "    def parse_format(self, string, factory):\n",
    "        seq = factory.build_sequence()\n",
    "        for sub in string.split(\",\"):\n",
    "            item = factory.build_number(sub)\n",
    "            seq.append(item)\n",
    "\n",
    "        return seq\n",
    "\n",
    "class Factory:\n",
    "    def build_sequence(self):\n",
    "        return list()\n",
    "        \n",
    "        \n",
    "    def build_number(self, string):\n",
    "        return float(string)\n",
    "        \n",
    "        \n",
    "        \n",
    "        \n",
    "        \n",
    "        \n",
    "        \n",
    "# эти строчки не менять!\n",
    "ld = Loader()\n",
    "s = \"4, 5, -6.5\"\n",
    "res = ld.parse_format(s, Factory())"
   ]
  },
  {
   "cell_type": "code",
   "execution_count": 5,
   "id": "50e470b6-50fe-421b-bff0-9b8465c201de",
   "metadata": {},
   "outputs": [
    {
     "data": {
      "text/plain": [
       "[4.0, 5.0, -6.5]"
      ]
     },
     "execution_count": 5,
     "metadata": {},
     "output_type": "execute_result"
    }
   ],
   "source": [
    "res"
   ]
  },
  {
   "cell_type": "code",
   "execution_count": null,
   "id": "a11b11f8-4b6e-46fd-9f70-5da0a4905092",
   "metadata": {},
   "outputs": [],
   "source": []
  }
 ],
 "metadata": {
  "kernelspec": {
   "display_name": "Python 3 (ipykernel)",
   "language": "python",
   "name": "python3"
  },
  "language_info": {
   "codemirror_mode": {
    "name": "ipython",
    "version": 3
   },
   "file_extension": ".py",
   "mimetype": "text/x-python",
   "name": "python",
   "nbconvert_exporter": "python",
   "pygments_lexer": "ipython3",
   "version": "3.9.5"
  }
 },
 "nbformat": 4,
 "nbformat_minor": 5
}
