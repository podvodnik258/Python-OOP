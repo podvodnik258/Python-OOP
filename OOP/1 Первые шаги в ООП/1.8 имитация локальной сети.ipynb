{
 "cells": [
  {
   "cell_type": "code",
   "execution_count": 1,
   "id": "914c66ae-2826-4423-b2d5-a542edca1971",
   "metadata": {},
   "outputs": [],
   "source": [
    "N = 32\n",
    "\n",
    "class Server:\n",
    "    \"\"\"для описания работы серверов в сети\n",
    "    Соответственно в объектах класса Server должны быть локальные свойства:\n",
    "    buffer - список принятых пакетов (изначально пустой);\n",
    "    ip - IP-адрес текущего сервера. Уникальный IP-адрес каждого сервера \n",
    "    должен формироваться автоматически при создании нового экземпляра класса Server.\n",
    "    \"\"\"\n",
    "    servers = []\n",
    "    \n",
    "    def __new__(cls):\n",
    "        if len(cls.servers) < N: \n",
    "            obj = super().__new__(cls)\n",
    "            cls.servers.append(obj)\n",
    "            setattr(obj, 'ip', len(cls.servers))\n",
    "            return obj\n",
    "        else:\n",
    "            print('Превышено общее число серверов')\n",
    "    \n",
    "    def __init__(self):\n",
    "        self._buffer = []\n",
    "        \n",
    "    def send_data(self, data):\n",
    "        \"\"\"для отправки информационного пакета data (объекта класса Data) \n",
    "        с указанным IP-адресом получателя (пакет отправляется роутеру и \n",
    "        сохраняется в его буфере - локальном свойстве buffer);\n",
    "        \"\"\"\n",
    "      #  print(f'Отправка сообщения {data.data} на сервер {data.ip}')\n",
    "        self.router.buffer.append(data)\n",
    "\n",
    "    def get_data(self):\n",
    "        \"\"\"возвращает список принятых пакетов (если ничего принято не было, \n",
    "        то возвращается пустой список) и очищает входной буфер;\n",
    "        \"\"\"\n",
    "        res = self._buffer.copy()\n",
    "        self._buffer = []\n",
    "        return res\n",
    "\n",
    "    def get_ip(self):\n",
    "        \"\"\"возвращает свой IP-адрес.\n",
    "        \"\"\"\n",
    "        return self.ip\n",
    "\n",
    "\n",
    "class Router:\n",
    "    \"\"\"для описания работы роутеров в сети (в данной задаче полагается один роутер).\n",
    "    И одно обязательное локальное свойство (могут быть и другие свойства):\n",
    "    buffer - список для хранения принятых от серверов пакетов (объектов класса Data).\n",
    "    \"\"\"\n",
    "    _instance = None\n",
    "    \n",
    "    def __new__(cls):\n",
    "        if cls._instance is None:\n",
    "            cls._instance = super().__new__(cls)\n",
    "        return cls._instance\n",
    "        \n",
    "    def __init__(self):\n",
    "        self.links = []\n",
    "        self.buffer = []\n",
    "        \n",
    "    def link(self, server):\n",
    "        \"\"\"для присоединения сервера server (объекта класса Server) к роутеру\n",
    "        \"\"\"\n",
    "       # print(f'привязка сервера {server.ip} к роутеру')\n",
    "        self.links.append(server)\n",
    "        server.router = self\n",
    "       # print(f'всего приязано {len(self.links)}')\n",
    "    \n",
    "    def unlink(self,server):\n",
    "        \"\"\"для отсоединения сервера server (объекта класса Server) от роутера\n",
    "        \"\"\"\n",
    "       # print(f'отвязка сервера {server.ip} от роутера')\n",
    "        self.links.remove(self, server)\n",
    "    \n",
    "    def send_data(self):\n",
    "        \"\"\"для отправки всех пакетов (объектов класса Data) из буфера роутера \n",
    "        соответствующим серверам (после отправки буфер должен очищаться)\n",
    "        \"\"\"\n",
    "        #print(f'сообщений в буфере роутера {len(self.buffer)}')\n",
    "        for msg in self.buffer:\n",
    "            for server in self.links:\n",
    "                if msg.ip == server.get_ip():\n",
    "                    server._buffer.append(msg.clone())\n",
    "                    #print(f'Роутер отправил {msg} на сервер {server.get_ip()}')\n",
    "        self.buffer = []\n",
    "\n",
    "    \n",
    "\n",
    "class Data:\n",
    "    \"\"\"для описания пакета информации\n",
    "    Наконец, объекты класса Data должны содержать, два следующих локальных свойства:\n",
    "    data - передаваемые данные (строка);\n",
    "    ip - IP-адрес назначения.\n",
    "    \"\"\"\n",
    "    def __init__(self, data, ip):\n",
    "        self.data = data\n",
    "        self.ip = ip\n",
    "    \n",
    "    def clone(self):\n",
    "        obj = super().__new__(Data)\n",
    "        obj.__dict__ = self.__dict__.copy()\n",
    "        return obj    "
   ]
  },
  {
   "cell_type": "code",
   "execution_count": 2,
   "id": "f13a209c-5b25-444c-b95d-7df65bc1d040",
   "metadata": {},
   "outputs": [],
   "source": [
    "router = Router()\n",
    "sv_from = Server()\n",
    "router.link(sv_from)\n",
    "router.link(Server())\n",
    "router.link(Server())\n",
    "sv_to = Server()\n",
    "router.link(sv_to)\n",
    "sv_from.send_data(Data(\"Hello\", sv_to.get_ip()))\n",
    "#router.send_data()\n",
    "sv_to.send_data(Data(\"Hi\", sv_from.get_ip()))\n",
    "router.send_data()\n",
    "msg_lst_from = sv_from.get_data()\n",
    "msg_lst_to = sv_to.get_data()"
   ]
  },
  {
   "cell_type": "code",
   "execution_count": 3,
   "id": "9cdcd55c-c525-4993-8ca8-61977dd7345f",
   "metadata": {},
   "outputs": [
    {
     "name": "stdout",
     "output_type": "stream",
     "text": [
      "Hello 1\n",
      "Hi 1\n"
     ]
    }
   ],
   "source": [
    "print(msg_lst_to[0].data, len(msg_lst_to))\n",
    "print(msg_lst_from[0].data, len(msg_lst_from))"
   ]
  },
  {
   "cell_type": "code",
   "execution_count": null,
   "id": "71cff584-94d7-4eba-9ed0-a7dc1508ade9",
   "metadata": {},
   "outputs": [],
   "source": [
    "router.send_data()\n"
   ]
  },
  {
   "cell_type": "code",
   "execution_count": null,
   "id": "e0b6d28d-b45b-4148-a86c-26229107d166",
   "metadata": {},
   "outputs": [],
   "source": [
    "print(router.buffer)\n",
    "print()\n",
    "for ser in Server.servers:\n",
    "    print(ser._buffer)"
   ]
  },
  {
   "cell_type": "code",
   "execution_count": null,
   "id": "17b745c5-ed16-44a5-bd96-a0b7e6b022ae",
   "metadata": {},
   "outputs": [],
   "source": [
    "assert msg_lst_from[0].data == \"Hi\" and msg_lst_to[0].data == \"Hello\", \"данные не прошли по сети, классы не функционируют должным образом\""
   ]
  },
  {
   "cell_type": "code",
   "execution_count": null,
   "id": "9d360376-a33d-4135-86b9-b90837179b6d",
   "metadata": {},
   "outputs": [],
   "source": [
    "router = Router()\n",
    "sv_from = Server()\n",
    "router.link(sv_from)\n",
    "router.link(Server())\n",
    "router.link(Server())\n",
    "sv_to = Server()\n",
    "router.link(sv_to)\n",
    "sv_from.send_data(Data(\"Hello\", sv_to.get_ip()))\n",
    "sv_to.send_data(Data(\"Hi\", sv_from.get_ip()))\n",
    "router.send_data()\n",
    "msg_lst_from = sv_from.get_data()\n",
    "msg_lst_to = sv_to.get_data()\n",
    "\n",
    "assert msg_lst_from[0].data == \"Hi\" and msg_lst_to[0].data == \"Hello\", \"данные не прошли по сети, классы не функционируют должным образом\""
   ]
  },
  {
   "cell_type": "code",
   "execution_count": null,
   "id": "476182b1-2de0-4ac6-b0d0-26338d2b13da",
   "metadata": {},
   "outputs": [],
   "source": []
  }
 ],
 "metadata": {
  "kernelspec": {
   "display_name": "Python 3 (ipykernel)",
   "language": "python",
   "name": "python3"
  },
  "language_info": {
   "codemirror_mode": {
    "name": "ipython",
    "version": 3
   },
   "file_extension": ".py",
   "mimetype": "text/x-python",
   "name": "python",
   "nbconvert_exporter": "python",
   "pygments_lexer": "ipython3",
   "version": "3.9.5"
  }
 },
 "nbformat": 4,
 "nbformat_minor": 5
}
