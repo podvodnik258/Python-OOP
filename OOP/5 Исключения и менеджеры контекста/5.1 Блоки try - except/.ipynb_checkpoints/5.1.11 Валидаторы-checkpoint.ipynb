{
 "cells": [
  {
   "cell_type": "code",
   "execution_count": 33,
   "id": "d94c2aea-4c23-4a2e-b6ab-cc15cff67709",
   "metadata": {},
   "outputs": [
    {
     "data": {
      "text/plain": [
       "[4.5, 0.5, 1, 10]"
      ]
     },
     "execution_count": 33,
     "metadata": {},
     "output_type": "execute_result"
    }
   ],
   "source": [
    "class Validator:\n",
    "    types = None\n",
    "    \n",
    "    def __init__(self, min_value, max_value):\n",
    "        self.min_value = min_value\n",
    "        self.max_value = max_value\n",
    "        \n",
    "    def __call__(self, value):\n",
    "        if not (type(value) == self.types and self.min_value <= value <= self.max_value):\n",
    "            raise ValueError('значение не прошло валидацию')\n",
    "    \n",
    "class FloatValidator(Validator): types = float\n",
    "    \n",
    "class IntegerValidator(Validator): types = int\n",
    "\n",
    "\n",
    "def is_valid(lst, validators):\n",
    "    res = []\n",
    "    for val in lst:\n",
    "        for vld in validators:\n",
    "            try:\n",
    "                vld(val)\n",
    "                res.append(val)\n",
    "                continue\n",
    "            except:\n",
    "                pass\n",
    "    return res\n",
    "\n",
    "fv = FloatValidator(0, 10.5)\n",
    "iv = IntegerValidator(-10, 20)\n",
    "lst_out = is_valid([1, 4.5, -10.5, 100, 10, True, 'abc', (1, 2), 0.5], validators=[fv, iv])   # [1, 4.5]\n",
    "lst_out"
   ]
  },
  {
   "cell_type": "code",
   "execution_count": 34,
   "id": "83edb544-f9cc-494a-b94f-64fb52a096fe",
   "metadata": {},
   "outputs": [
    {
     "data": {
      "text/plain": [
       "[1, 4.5, 10, 0.5]"
      ]
     },
     "execution_count": 34,
     "metadata": {},
     "output_type": "execute_result"
    }
   ],
   "source": [
    "class Validator:\n",
    "    value_types = None\n",
    "\n",
    "    def __init__(self, min_value, max_value):\n",
    "        self.min_value = min_value\n",
    "        self.max_value = max_value\n",
    "\n",
    "    def __call__(self, value):\n",
    "        if self.value_types and \\\n",
    "        (type(value) not in self.value_types or\n",
    "         not self.min_value <= value <= self.max_value):\n",
    "            raise ValueError('значение не прошло валидацию')\n",
    "        return True\n",
    "\n",
    "\n",
    "class FloatValidator(Validator):\n",
    "    value_types = (float, )\n",
    "\n",
    "\n",
    "class IntegerValidator(Validator):\n",
    "    value_types = (int, )\n",
    "\n",
    "\n",
    "def is_valid(lst, validators):\n",
    "    def validate(x):\n",
    "        for val in validators:\n",
    "            try: return val(x)\n",
    "            except ValueError: continue\n",
    "        return False\n",
    "    return [*filter(validate, lst)]\n",
    "\n",
    "fv = FloatValidator(0, 10.5)\n",
    "iv = IntegerValidator(-10, 20)\n",
    "lst_out = is_valid([1, 4.5, -10.5, 100, 10, True, 'abc', (1, 2), 0.5], validators=[fv, iv])   # [1, 4.5]\n",
    "lst_out"
   ]
  },
  {
   "cell_type": "code",
   "execution_count": 28,
   "id": "02197712-cf4a-4f10-ab9e-9b5889a294a4",
   "metadata": {},
   "outputs": [
    {
     "data": {
      "text/plain": [
       "[]"
      ]
     },
     "execution_count": 28,
     "metadata": {},
     "output_type": "execute_result"
    }
   ],
   "source": [
    "def is_valid(lst, validators):\n",
    "    res  = []\n",
    "    for value in lst:\n",
    "        for validator in validators:\n",
    "            try:\n",
    "                validator(value)\n",
    "                res.append(value)\n",
    "                continue\n",
    "            except ValueError:\n",
    "                pass\n",
    "    return res"
   ]
  },
  {
   "cell_type": "code",
   "execution_count": null,
   "id": "222968fc-e88a-402f-b92e-c44cb43d1ba6",
   "metadata": {},
   "outputs": [],
   "source": []
  }
 ],
 "metadata": {
  "kernelspec": {
   "display_name": "Python 3 (ipykernel)",
   "language": "python",
   "name": "python3"
  },
  "language_info": {
   "codemirror_mode": {
    "name": "ipython",
    "version": 3
   },
   "file_extension": ".py",
   "mimetype": "text/x-python",
   "name": "python",
   "nbconvert_exporter": "python",
   "pygments_lexer": "ipython3",
   "version": "3.9.5"
  }
 },
 "nbformat": 4,
 "nbformat_minor": 5
}
