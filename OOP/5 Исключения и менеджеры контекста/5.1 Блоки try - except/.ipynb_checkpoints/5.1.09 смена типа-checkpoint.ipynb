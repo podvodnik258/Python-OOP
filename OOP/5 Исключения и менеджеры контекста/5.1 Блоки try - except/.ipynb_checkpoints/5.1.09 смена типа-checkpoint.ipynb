{
 "cells": [
  {
   "cell_type": "code",
   "execution_count": 4,
   "id": "451d1645-0511-4c16-a512-dd715fd5f6d2",
   "metadata": {},
   "outputs": [],
   "source": [
    "s = \"1 -5.6 True abc 0 23.56 hello\"\n",
    "lst_in = s.split()\n",
    "\n",
    "def f(x):\n",
    "    try:\n",
    "        return int(x)\n",
    "    except:\n",
    "        try:\n",
    "            return float(x)\n",
    "        except:\n",
    "            return x\n",
    "    \n",
    "lst_out = list(map(f, lst_in))"
   ]
  },
  {
   "cell_type": "code",
   "execution_count": 7,
   "id": "54b4badf-393e-4cc1-be57-4901e78404c1",
   "metadata": {},
   "outputs": [
    {
     "data": {
      "text/plain": [
       "[1, -5.6, 'True', 'abc', 0, 23.56, 'hello']"
      ]
     },
     "execution_count": 7,
     "metadata": {},
     "output_type": "execute_result"
    }
   ],
   "source": [
    "lst_out\n",
    "#lst_out = [1, -5.6, 'True', 'abc', 0, 23.56, 'hello']"
   ]
  },
  {
   "cell_type": "code",
   "execution_count": 6,
   "id": "8207adad-0818-4188-afb9-26f9f6b13338",
   "metadata": {},
   "outputs": [],
   "source": [
    "def convert(value):\n",
    "    for T in (int, float, str):\n",
    "        try:\n",
    "            return T(value)\n",
    "        except:\n",
    "            pass\n",
    "    \n",
    "s = \"1 -5.6 True abc 0 23.56 hello\"\n",
    "lst_in = s.split()\n",
    "\n",
    "lst_out = [convert(x) for x in lst_in]"
   ]
  },
  {
   "cell_type": "code",
   "execution_count": null,
   "id": "f1eca4de-16c0-4463-9ca3-ac77f4cb50d0",
   "metadata": {},
   "outputs": [],
   "source": []
  }
 ],
 "metadata": {
  "kernelspec": {
   "display_name": "Python 3 (ipykernel)",
   "language": "python",
   "name": "python3"
  },
  "language_info": {
   "codemirror_mode": {
    "name": "ipython",
    "version": 3
   },
   "file_extension": ".py",
   "mimetype": "text/x-python",
   "name": "python",
   "nbconvert_exporter": "python",
   "pygments_lexer": "ipython3",
   "version": "3.9.5"
  }
 },
 "nbformat": 4,
 "nbformat_minor": 5
}
