{
 "cells": [
  {
   "cell_type": "code",
   "execution_count": 11,
   "id": "4797a3d2-6c9a-4e6f-af6d-6edcc093b716",
   "metadata": {},
   "outputs": [],
   "source": [
    "# здесь объявляйте класс Triangle\n",
    "class Triangle:\n",
    "    def __init__(self, *args):\n",
    "        self._a, self._b, self._c = args\n",
    "        self.is_triangle(*args)\n",
    "    \n",
    "    def __setattr__(self, key, val):\n",
    "        if (type(val) not in (int, float) or val <= 0):\n",
    "            raise TypeError('стороны треугольника должны быть положительными числами')\n",
    "        return super().__setattr__(key, val)\n",
    "\n",
    "    @classmethod\n",
    "    def is_triangle(cls, *args):\n",
    "        if (max(args) * 2 >= sum(args)):\n",
    "            raise ValueError('из указанных длин сторон нельзя составить треугольник')\n",
    "            \n",
    "input_data = [(1.0, 4.54, 3), ('abc', 1, 2, 3), (-3, 3, 5.2), (4.2, 5.7, 8.7), (True, 3, 5), (7, 4, 6)]  \n",
    "# эту строчку не менять (переменную input_data также не менять)\n",
    "\n",
    "# здесь формируйте список lst_tr\n",
    "lst_tr = []\n",
    "for arg in input_data:\n",
    "    try:\n",
    "        lst_tr.append(Triangle(*arg))\n",
    "    except:\n",
    "        continue"
   ]
  },
  {
   "cell_type": "code",
   "execution_count": 12,
   "id": "fa666fb6-403b-4dfc-81e9-f7d67a4f1302",
   "metadata": {},
   "outputs": [
    {
     "data": {
      "text/plain": [
       "[<__main__.Triangle at 0x1ba2d18d130>, <__main__.Triangle at 0x1ba2d18d760>]"
      ]
     },
     "execution_count": 12,
     "metadata": {},
     "output_type": "execute_result"
    }
   ],
   "source": [
    "lst_tr"
   ]
  },
  {
   "cell_type": "code",
   "execution_count": null,
   "id": "f39c6eaf-fb86-4ff6-8368-0c62e1c5c2b3",
   "metadata": {},
   "outputs": [],
   "source": []
  }
 ],
 "metadata": {
  "kernelspec": {
   "display_name": "Python 3 (ipykernel)",
   "language": "python",
   "name": "python3"
  },
  "language_info": {
   "codemirror_mode": {
    "name": "ipython",
    "version": 3
   },
   "file_extension": ".py",
   "mimetype": "text/x-python",
   "name": "python",
   "nbconvert_exporter": "python",
   "pygments_lexer": "ipython3",
   "version": "3.9.5"
  }
 },
 "nbformat": 4,
 "nbformat_minor": 5
}
