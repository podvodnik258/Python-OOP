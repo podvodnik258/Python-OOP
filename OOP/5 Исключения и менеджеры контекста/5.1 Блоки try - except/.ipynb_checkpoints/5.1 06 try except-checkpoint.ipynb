{
 "cells": [
  {
   "cell_type": "code",
   "execution_count": null,
   "id": "ee091beb-f262-4a50-8212-2e4f92d34d6d",
   "metadata": {},
   "outputs": [],
   "source": [
    "class Point:\n",
    "    def __init__(self, x, y):\n",
    "        self._x = x\n",
    "        self._y = y\n",
    "\n",
    "\n",
    "pt = Point(1, 2)\n",
    "try:\n",
    "    print(pt.z)\n",
    "except AttributeError:\n",
    "    print(\"Атрибут с именем z не существует\")"
   ]
  }
 ],
 "metadata": {
  "kernelspec": {
   "display_name": "Python 3 (ipykernel)",
   "language": "python",
   "name": "python3"
  },
  "language_info": {
   "codemirror_mode": {
    "name": "ipython",
    "version": 3
   },
   "file_extension": ".py",
   "mimetype": "text/x-python",
   "name": "python",
   "nbconvert_exporter": "python",
   "pygments_lexer": "ipython3",
   "version": "3.9.5"
  }
 },
 "nbformat": 4,
 "nbformat_minor": 5
}
