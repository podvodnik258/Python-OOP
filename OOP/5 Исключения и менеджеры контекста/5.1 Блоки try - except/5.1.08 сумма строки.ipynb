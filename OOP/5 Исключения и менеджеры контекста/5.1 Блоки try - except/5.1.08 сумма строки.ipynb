{
 "cells": [
  {
   "cell_type": "code",
   "execution_count": 9,
   "id": "8e02f6ac-03c5-47b4-906d-96cf42210602",
   "metadata": {},
   "outputs": [
    {
     "name": "stdout",
     "output_type": "stream",
     "text": [
      "14\n"
     ]
    }
   ],
   "source": [
    "s = \"8 11 abcd -7.5 2.0 -5\"\n",
    "lst_in = s.split()\n",
    "\n",
    "def f(x):\n",
    "    try:\n",
    "        int(x)\n",
    "        return True\n",
    "    except:\n",
    "        return False\n",
    "\n",
    "print(sum(list(map(int, (filter(f, lst_in))))))"
   ]
  },
  {
   "cell_type": "code",
   "execution_count": 8,
   "id": "52c9fb1c-9575-40cf-8e67-f6f15c0bbf44",
   "metadata": {},
   "outputs": [
    {
     "name": "stdout",
     "output_type": "stream",
     "text": [
      "14\n"
     ]
    }
   ],
   "source": [
    "#lst_in = input().split()\n",
    "s = \"8 11 abcd -7.5 2.0 -5\"\n",
    "lst_in = s.split()\n",
    "s = 0\n",
    "for i in lst_in:\n",
    "    try:\n",
    "        s += int(i)\n",
    "    except:\n",
    "        continue\n",
    "print(s)"
   ]
  },
  {
   "cell_type": "code",
   "execution_count": 7,
   "id": "cf6a111d-4406-42c6-aed4-d955221f4514",
   "metadata": {},
   "outputs": [
    {
     "name": "stdout",
     "output_type": "stream",
     "text": [
      "19\n"
     ]
    }
   ],
   "source": [
    "s = \"8 11 abcd -7.5 2.0 -5\"\n",
    "lst_in = s.split()\n",
    "print(sum(map(int, filter(lambda x: x.isdigit(), lst_in))))"
   ]
  },
  {
   "cell_type": "code",
   "execution_count": null,
   "id": "199908bb-ca10-4ffc-ba3a-c4c93dadb05b",
   "metadata": {},
   "outputs": [],
   "source": [
    "s = \"8 11 abcd -7.5 2.0 -5\"\n",
    "print(sum(int(elem) for elem in s.split() if elem.strip(\"-\").isdigit()))"
   ]
  }
 ],
 "metadata": {
  "kernelspec": {
   "display_name": "Python 3 (ipykernel)",
   "language": "python",
   "name": "python3"
  },
  "language_info": {
   "codemirror_mode": {
    "name": "ipython",
    "version": 3
   },
   "file_extension": ".py",
   "mimetype": "text/x-python",
   "name": "python",
   "nbconvert_exporter": "python",
   "pygments_lexer": "ipython3",
   "version": "3.9.5"
  }
 },
 "nbformat": 4,
 "nbformat_minor": 5
}
