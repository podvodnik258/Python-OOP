{
 "cells": [
  {
   "cell_type": "code",
   "execution_count": 2,
   "id": "3529d999-889b-459a-8a8d-74fa5f776314",
   "metadata": {},
   "outputs": [
    {
     "name": "stdin",
     "output_type": "stream",
     "text": [
      " 1 abc 3 5\n",
      " 0 -5 8 11\n"
     ]
    },
    {
     "name": "stdout",
     "output_type": "stream",
     "text": [
      "0 -5 8 11\n"
     ]
    }
   ],
   "source": [
    "def input_int_numbers():\n",
    "    try:\n",
    "        return tuple(map(int, input().split()))\n",
    "    except:\n",
    "        raise TypeError('все числа должны быть целыми')\n",
    "\n",
    "\n",
    "while True:\n",
    "    try:\n",
    "        print(*input_int_numbers())\n",
    "    except:\n",
    "        continue\n",
    "    else:\n",
    "        break\n"
   ]
  },
  {
   "cell_type": "code",
   "execution_count": null,
   "id": "81e25f4e-7de9-4ad0-b403-1cb283eaac9d",
   "metadata": {},
   "outputs": [],
   "source": []
  }
 ],
 "metadata": {
  "kernelspec": {
   "display_name": "Python 3 (ipykernel)",
   "language": "python",
   "name": "python3"
  },
  "language_info": {
   "codemirror_mode": {
    "name": "ipython",
    "version": 3
   },
   "file_extension": ".py",
   "mimetype": "text/x-python",
   "name": "python",
   "nbconvert_exporter": "python",
   "pygments_lexer": "ipython3",
   "version": "3.9.5"
  }
 },
 "nbformat": 4,
 "nbformat_minor": 5
}
