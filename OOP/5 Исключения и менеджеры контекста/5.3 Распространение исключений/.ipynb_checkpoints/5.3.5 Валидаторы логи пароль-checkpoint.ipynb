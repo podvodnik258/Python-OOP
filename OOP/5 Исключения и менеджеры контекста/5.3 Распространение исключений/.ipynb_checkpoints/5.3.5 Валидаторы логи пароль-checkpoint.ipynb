{
 "cells": [
  {
   "cell_type": "code",
   "execution_count": 9,
   "id": "0a100cac-d96a-407e-9d56-285fad197065",
   "metadata": {},
   "outputs": [
    {
     "name": "stdin",
     "output_type": "stream",
     "text": [
      " sergey balakirev!\n"
     ]
    },
    {
     "name": "stdout",
     "output_type": "stream",
     "text": [
      "sergey\n"
     ]
    }
   ],
   "source": [
    "class ValidatorString:\n",
    "    def __init__(self, min_length, max_length, chars):\n",
    "        self.min_length = min_length\n",
    "        self.max_length = max_length\n",
    "        self.chars = chars\n",
    "        \n",
    "        \n",
    "    def is_valid(self, string):\n",
    "        if self.chars:\n",
    "            if not (self.min_length <= len(string) <= self.max_length\n",
    "                   and any(char in self.chars for char in string)): \n",
    "                raise ValueError('недопустимая строка')\n",
    "            \n",
    "            \n",
    "class LoginForm:\n",
    "    def __init__(self, login_validator: ValidatorString, password_validator: ValidatorString):\n",
    "        self.login_validator = login_validator\n",
    "        self.password_validator = password_validator\n",
    "        self._login = None\n",
    "        self._password = None\n",
    "        \n",
    "    def form(self, request):\n",
    "        if not request.get('login') or not request.get('password'):\n",
    "            raise TypeError('в запросе отсутствует логин или пароль')\n",
    "        self.login_validator.is_valid(request.get('login'))\n",
    "        self.password_validator.is_valid(request.get('password'))\n",
    "        self._login = request.get('login')\n",
    "        self._password = request.get('password')\n",
    "        \n",
    "        \n",
    "login_v = ValidatorString(4, 50, \"\")\n",
    "password_v = ValidatorString(10, 50, \"!$#@%&?\")\n",
    "lg = LoginForm(login_v, password_v)\n",
    "login, password = input().split()\n",
    "try:\n",
    "    lg.form({'login': login, 'password': password})\n",
    "except (TypeError, ValueError) as e:\n",
    "    print(e)\n",
    "else:\n",
    "    print(lg._login)"
   ]
  },
  {
   "cell_type": "code",
   "execution_count": null,
   "id": "f8eba967-95fa-4725-93a5-34bf42ec1072",
   "metadata": {},
   "outputs": [],
   "source": [
    "class ValidatorString:\n",
    "    def __init__(self, min_length, max_length, chars):\n",
    "        self.min_length = min_length\n",
    "        self.max_length = max_length\n",
    "        self.chars = chars\n",
    "        \n",
    "    def is_valid(self, string):\n",
    "        if self.min_length <= len(string) <= self.max_length:\n",
    "            if not self.chars or any(c in string for c in self.chars):\n",
    "                return string\n",
    "        raise ValueError('недопустимая строка')\n",
    "        \n",
    "class LoginForm:\n",
    "    def __init__(self, login_validator, password_validator):\n",
    "        self.login_validator = login_validator\n",
    "        self.password_validator = password_validator\n",
    "        \n",
    "    def form(self, request):\n",
    "        try:\n",
    "            self._login = self.login_validator.is_valid(request['login'])\n",
    "            self._password = self.password_validator.is_valid(request['password'])\n",
    "        except KeyError:\n",
    "            raise TypeError('в запросе отсутствует логин или пароль')\n",
    "\n",
    "login_v = ValidatorString(4, 50, \"\")\n",
    "password_v = ValidatorString(10, 50, \"!$#@%&?\")\n",
    "lg = LoginForm(login_v, password_v)\n",
    "login, password = input().split()\n",
    "try:\n",
    "    lg.form({'login': login, 'password': password})\n",
    "except (TypeError, ValueError) as e:\n",
    "    print(e)\n",
    "else:\n",
    "    print(lg._login)"
   ]
  }
 ],
 "metadata": {
  "kernelspec": {
   "display_name": "Python 3 (ipykernel)",
   "language": "python",
   "name": "python3"
  },
  "language_info": {
   "codemirror_mode": {
    "name": "ipython",
    "version": 3
   },
   "file_extension": ".py",
   "mimetype": "text/x-python",
   "name": "python",
   "nbconvert_exporter": "python",
   "pygments_lexer": "ipython3",
   "version": "3.9.5"
  }
 },
 "nbformat": 4,
 "nbformat_minor": 5
}
