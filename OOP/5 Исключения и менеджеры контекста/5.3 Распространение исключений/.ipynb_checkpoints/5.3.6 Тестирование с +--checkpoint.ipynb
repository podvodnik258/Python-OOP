{
 "cells": [
  {
   "cell_type": "code",
   "execution_count": 1,
   "id": "205a01e4-4e3e-4d80-8090-3f4820609f65",
   "metadata": {},
   "outputs": [
    {
     "name": "stdin",
     "output_type": "stream",
     "text": [
      " Какое значение получится при вычислении 2+2? | 4\n",
      " 4\n"
     ]
    },
    {
     "name": "stdout",
     "output_type": "stream",
     "text": [
      "True\n"
     ]
    }
   ],
   "source": [
    "class Test:\n",
    "    def __init__(self, descr):\n",
    "        if not 10 <= len(descr) <= 10_000:\n",
    "            raise ValueError('формулировка теста должна быть от 10 до 10 000 символов')\n",
    "            \n",
    "    def run(self):\n",
    "        raise NotImplementedError\n",
    "        \n",
    "\n",
    "class TestAnsDigit(Test):\n",
    "    def __init__(self, descr, ans_digit, max_error_digit = 0.01):\n",
    "        super().__init__(descr)\n",
    "        self.ans_digit = ans_digit\n",
    "        self.max_error_digit = max_error_digit\n",
    "        \n",
    "    def __setattr__(self, key, value):\n",
    "        if (key in ('ans_digit', 'max_error_digit') and type(value) not in (int, float)):\n",
    "            raise ValueError('недопустимые значения аргументов теста')\n",
    "        if key == 'max_error_digit' and value < 0:\n",
    "            raise ValueError('недопустимые значения аргументов теста')\n",
    "        super().__setattr__(key, value)    \n",
    "        \n",
    "    def run(self):\n",
    "        ans = float(input())\n",
    "        return self.ans_digit - self.max_error_digit <= ans <= self.ans_digit + self.max_error_digit\n",
    "    \n",
    "    \n",
    "descr, ans = map(str.strip, input().split('|'))  # например: Какое значение получится при вычислении 2+2? | 4\n",
    "ans = float(ans) # здесь для простоты полагаем, что ans точно число и ошибок в преобразовании быть не может\n",
    "\n",
    "\n",
    "try:\n",
    "    test_d = TestAnsDigit(descr, ans)\n",
    "    print(test_d.run())\n",
    "except ValueError as e:\n",
    "    print(e)"
   ]
  }
 ],
 "metadata": {
  "kernelspec": {
   "display_name": "Python 3 (ipykernel)",
   "language": "python",
   "name": "python3"
  },
  "language_info": {
   "codemirror_mode": {
    "name": "ipython",
    "version": 3
   },
   "file_extension": ".py",
   "mimetype": "text/x-python",
   "name": "python",
   "nbconvert_exporter": "python",
   "pygments_lexer": "ipython3",
   "version": "3.9.5"
  }
 },
 "nbformat": 4,
 "nbformat_minor": 5
}
