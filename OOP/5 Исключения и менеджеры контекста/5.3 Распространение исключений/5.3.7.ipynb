{
 "cells": [
  {
   "cell_type": "code",
   "execution_count": 52,
   "id": "0c66cf20-975d-4bb6-8bda-2d67a479ef6a",
   "metadata": {},
   "outputs": [
    {
     "name": "stdout",
     "output_type": "stream",
     "text": [
      "1.0 2.0 3.0 4.0 5.0\n"
     ]
    }
   ],
   "source": [
    "s= '1 2 3 4 5'\n",
    "digits = list(map(float, s.split()))\n",
    "#digits = list(map(float, input().split()))\n",
    "\n",
    "class TupleLimit(tuple):\n",
    "    def __new__(cls, *args, **kwargs):\n",
    "        lst, max_length = args\n",
    "        if len(lst) > max_length:\n",
    "            raise ValueError('число элементов коллекции превышает заданный предел')\n",
    "        return super().__new__(cls, lst)\n",
    "    \n",
    "    def __str__(self):\n",
    "        return ' '.join(str(dig) for dig in self)\n",
    "    \n",
    "    def __repr__(self):\n",
    "        return ' '.join(str(dig) for dig in self)\n",
    "    \n",
    "    \n",
    "try: \n",
    "    print(TupleLimit(digits, 5))\n",
    "except ValueError as e:\n",
    "    print(e)"
   ]
  },
  {
   "cell_type": "code",
   "execution_count": null,
   "id": "349b9548-7455-482e-b16e-f37503268667",
   "metadata": {},
   "outputs": [],
   "source": [
    "class TupleLimit(tuple):\n",
    "    def __new__(cls, lst, max_length):\n",
    "        if len(lst) > max_length:\n",
    "            raise ValueError('число элементов коллекции превышает заданный предел')\n",
    "        tupli = super().__new__(cls, lst)\n",
    "        tupli.max_length = max_length\n",
    "        return tupli\n",
    "    \n",
    "    def __str__(self):\n",
    "        return ' '.join(str(x) for x in self)\n",
    "    \n",
    "    __repr__ = __str__\n",
    "    \n",
    "digits = list(map(float, input().split()))  # эту строчку не менять (коллекцию digits также не менять)\n",
    "\n",
    "try:\n",
    "    tupli = TupleLimit(digits, 5)\n",
    "    print(tupli)\n",
    "except Exception as e:\n",
    "    print(e)"
   ]
  },
  {
   "cell_type": "code",
   "execution_count": null,
   "id": "5e47ebe7-03dd-450b-8266-51e5d070dd3e",
   "metadata": {},
   "outputs": [],
   "source": [
    "class TupleLimit(tuple):\n",
    "    def __new__(cls,*args,**kwargs):\n",
    "        return super().__new__(cls)\n",
    "    def __init__(self,lst, max_length):\n",
    "        if len(lst) > max_length:\n",
    "            raise ValueError('число элементов коллекции превышает заданный предел')\n",
    "        self.lst = lst\n",
    "    def __str__(self):\n",
    "        return ' '.join([str(i) for i in self.lst])\n",
    "    def __repr__(self):\n",
    "        return ' '.join([str(i) for i in self.lst])\n",
    "try:\n",
    "    digits = list(map(float, input().split()))\n",
    "    t = TupleLimit(digits,5)\n",
    "except ValueError as e:\n",
    "    print(e)\n",
    "else:\n",
    "    print(t)"
   ]
  }
 ],
 "metadata": {
  "kernelspec": {
   "display_name": "Python 3 (ipykernel)",
   "language": "python",
   "name": "python3"
  },
  "language_info": {
   "codemirror_mode": {
    "name": "ipython",
    "version": 3
   },
   "file_extension": ".py",
   "mimetype": "text/x-python",
   "name": "python",
   "nbconvert_exporter": "python",
   "pygments_lexer": "ipython3",
   "version": "3.9.5"
  }
 },
 "nbformat": 4,
 "nbformat_minor": 5
}
