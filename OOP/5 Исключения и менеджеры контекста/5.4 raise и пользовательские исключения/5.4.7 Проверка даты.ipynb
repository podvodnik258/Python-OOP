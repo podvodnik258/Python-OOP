{
 "cells": [
  {
   "cell_type": "code",
   "execution_count": 79,
   "id": "d7594836-befa-44e1-9efb-76e436d2f36d",
   "metadata": {},
   "outputs": [
    {
     "name": "stdout",
     "output_type": "stream",
     "text": [
      "Неверный формат даты\n"
     ]
    }
   ],
   "source": [
    "class DateError(Exception):\n",
    "    '''Неверный формат даты'''\n",
    "\n",
    "\n",
    "class DateString:\n",
    "    def __init__(self, date_string): # \"DD.MM.YYYY\"\n",
    "        self.date_string = date_string\n",
    "        self.check_date(self.date_string)\n",
    "        \n",
    "    def check_date(self, date_string):\n",
    "        def day_in_month(x):\n",
    "            return 28 + (x + int(x/8)) % 2 + 2 % x + 2 * int(1/x)\n",
    "        try:\n",
    "            self.dd, self.mm, self.yyyy = date_string.split('.')\n",
    "            day, month, year = int(self.dd), int(self.mm), int(self.yyyy)\n",
    "            assert 1 <= year <= 3000\n",
    "            assert 1 <= month <= 12\n",
    "            assert 1 <= day <= day_in_month(month)\n",
    "        except:\n",
    "            raise DateError('Неверный формат даты')\n",
    "        \n",
    "    def __str__(self):\n",
    "        return f'{self.dd.zfill(2)}.{self.mm.zfill(2)}.{self.yyyy.zfill(4)}' \n",
    "\n",
    "\n",
    "try:\n",
    "    date = DateString(\"29.02.1812\")\n",
    "    print(date)\n",
    "except DateError as e:\n",
    "    print(e)"
   ]
  },
  {
   "cell_type": "code",
   "execution_count": 52,
   "id": "e8bbe98f-625b-4995-92e1-fbbb8c090f4b",
   "metadata": {},
   "outputs": [
    {
     "data": {
      "text/plain": [
       "'26.06.2022'"
      ]
     },
     "execution_count": 52,
     "metadata": {},
     "output_type": "execute_result"
    }
   ],
   "source": [
    "date_string = \"26.6.2022\"\n",
    "obj = datetime.datetime.strptime(date_string, '%d.%m.%Y')\n",
    "obj.strftime('%d.%m.%Y')"
   ]
  },
  {
   "cell_type": "code",
   "execution_count": 35,
   "id": "8a403e76-537f-48a6-9ff6-5ce24734d8a1",
   "metadata": {},
   "outputs": [
    {
     "name": "stdout",
     "output_type": "stream",
     "text": [
      "31.07.0001\n"
     ]
    }
   ],
   "source": [
    "import datetime\n",
    "\n",
    "class DateError(Exception):\n",
    "    '''Неверный формат даты'''\n",
    "\n",
    "\n",
    "class DateString:\n",
    "    def __init__(self, date_string): # \"DD.MM.YYYY\"\n",
    "        self.date_obj = self.format_date(date_string)\n",
    "        \n",
    "    def format_date(self, date_string):\n",
    "        try:\n",
    "            return datetime.datetime.strptime(date_string, '%d.%m.%Y')\n",
    "        except:\n",
    "            raise DateError('Неверный формат даты')\n",
    "        \n",
    "    def __str__(self):\n",
    "        return self.date_obj.strftime('%d.%m.%Y') \n",
    "\n",
    "    \n",
    "try:\n",
    "    date = DateString(\"29.02.1812\")\n",
    "    print(date)\n",
    "except DateError as e:\n",
    "    print(e)"
   ]
  },
  {
   "cell_type": "code",
   "execution_count": 69,
   "id": "a368e7ac-1463-4874-b63a-189f35e81203",
   "metadata": {},
   "outputs": [],
   "source": [
    "def f(x):\n",
    "    return 28 + (x + int(x/8)) % 2 + 2 % x + 2 * int(1/x)"
   ]
  },
  {
   "cell_type": "code",
   "execution_count": 72,
   "id": "9478dd75-8ba9-4dc4-baae-2ccf6066e752",
   "metadata": {},
   "outputs": [
    {
     "data": {
      "text/plain": [
       "28"
      ]
     },
     "execution_count": 72,
     "metadata": {},
     "output_type": "execute_result"
    }
   ],
   "source": [
    "f(2)"
   ]
  },
  {
   "cell_type": "code",
   "execution_count": null,
   "id": "652bfcaa-de50-4462-917e-38c44bafbe2b",
   "metadata": {},
   "outputs": [],
   "source": [
    "class DateError(Exception):\n",
    "    \"\"\"Код исключения при валидации даты\"\"\"\n",
    "\n",
    "\n",
    "class DateString:\n",
    "    def __init__(self, data: str):\n",
    "        try:\n",
    "            d, m, y = map(int, data.split(\".\"))\n",
    "            assert 1 <= d <= 31 and 1 <= m <= 12 and 1 <= y <= 3000\n",
    "        except (ValueError, TypeError, AssertionError):\n",
    "            raise DateError(\"Неверный формат даты\")\n",
    "        self.d, self.m, self.y = f\"{d:02}\", f\"{m:02}\", f\"{y:04}\"\n",
    "\n",
    "    def __str__(self):\n",
    "        return \".\".join((self.d, self.m, self.y))\n",
    "\n",
    "\n",
    "date_string = input()\n",
    "try:\n",
    "    print(DateString(date_string))\n",
    "except DateError as error:\n",
    "    print(error)"
   ]
  }
 ],
 "metadata": {
  "kernelspec": {
   "display_name": "Python 3 (ipykernel)",
   "language": "python",
   "name": "python3"
  },
  "language_info": {
   "codemirror_mode": {
    "name": "ipython",
    "version": 3
   },
   "file_extension": ".py",
   "mimetype": "text/x-python",
   "name": "python",
   "nbconvert_exporter": "python",
   "pygments_lexer": "ipython3",
   "version": "3.9.5"
  }
 },
 "nbformat": 4,
 "nbformat_minor": 5
}
