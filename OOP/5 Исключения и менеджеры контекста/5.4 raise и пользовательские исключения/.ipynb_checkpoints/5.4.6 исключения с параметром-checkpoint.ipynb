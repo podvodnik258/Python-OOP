{
 "cells": [
  {
   "cell_type": "code",
   "execution_count": 87,
   "id": "f7473d4b-930f-4187-b8dc-43a8c8011b83",
   "metadata": {},
   "outputs": [],
   "source": [
    "class PrimaryKeyError(Exception):\n",
    "    ''' Первичный ключ должен быть целым неотрицательным числом '''\n",
    "    \n",
    "    def __init__(self, **kwargs):\n",
    "        self.p = kwargs if kwargs else None\n",
    "        \n",
    "    def __str__(self):\n",
    "        if self.p:\n",
    "            res= ''.join(f'{k} = {v}' for k, v in self.p.items())\n",
    "            return f'Значение первичного ключа {res} недопустимо'\n",
    "        return 'Первичный ключ должен быть целым неотрицательным числом'\n",
    "    \n",
    "e1 = PrimaryKeyError()          # Первичный ключ должен быть целым неотрицательным числом\n",
    "e2 = PrimaryKeyError(id='abc')  # Значение первичного ключа id = abc недопустимо\n",
    "e3 = PrimaryKeyError(pk='123')  # Значение первичного ключа pk = 123 недопустимо\n",
    "e4 = PrimaryKeyError(id=-10.5)"
   ]
  },
  {
   "cell_type": "code",
   "execution_count": 89,
   "id": "dfb40b1f-f25f-4ecf-8126-1222c063eb86",
   "metadata": {},
   "outputs": [
    {
     "name": "stdout",
     "output_type": "stream",
     "text": [
      "Значение первичного ключа id = -10.5 недопустимо\n"
     ]
    }
   ],
   "source": [
    "#print(e1)\n",
    "#print(e2)\n",
    "#print(e3)\n",
    "print(e4)"
   ]
  },
  {
   "cell_type": "code",
   "execution_count": null,
   "id": "6a4c2278-72b6-4f48-9dec-31c4e7879f96",
   "metadata": {},
   "outputs": [],
   "source": [
    "class PrimaryKeyError(Exception):\n",
    "    def __init__(self, **kwards):\n",
    "        key, value = tuple(kwards.items())[0] if kwards else (None, None)\n",
    "        super().__init__(\"Первичный ключ должен быть целым неотрицательным числом\" if not key \n",
    "                         else f\"Значение первичного ключа {key} = {value} недопустимо\")\n",
    "\n",
    "\n",
    "try:\n",
    "    raise PrimaryKeyError(id=-10.5)\n",
    "except PrimaryKeyError as error:\n",
    "    print(error)"
   ]
  },
  {
   "cell_type": "code",
   "execution_count": null,
   "id": "ba4a5497-93c6-42e1-9659-b450d37e12ca",
   "metadata": {},
   "outputs": [],
   "source": [
    "class PrimaryKeyError(Exception):\n",
    "    def __init__(self, **kwargs):\n",
    "        if not kwargs:\n",
    "            self.error_message = 'Первичный ключ должен быть целым неотрицательным числом'\n",
    "        else:\n",
    "            k, v = list(kwargs.items())[0]\n",
    "            self.error_message = f\"Значение первичного ключа {k} = {v} недопустимо\"\n",
    "\n",
    "    def __str__(self):\n",
    "        return self.error_message\n",
    "\n",
    "\n",
    "try:\n",
    "    raise PrimaryKeyError(id=-10.5)\n",
    "except PrimaryKeyError as e:\n",
    "    print(e)"
   ]
  },
  {
   "cell_type": "code",
   "execution_count": null,
   "id": "d2516b17-cb12-445e-befa-f68dcf62fc1b",
   "metadata": {},
   "outputs": [],
   "source": []
  }
 ],
 "metadata": {
  "kernelspec": {
   "display_name": "Python 3 (ipykernel)",
   "language": "python",
   "name": "python3"
  },
  "language_info": {
   "codemirror_mode": {
    "name": "ipython",
    "version": 3
   },
   "file_extension": ".py",
   "mimetype": "text/x-python",
   "name": "python",
   "nbconvert_exporter": "python",
   "pygments_lexer": "ipython3",
   "version": "3.9.5"
  }
 },
 "nbformat": 4,
 "nbformat_minor": 5
}
