{
 "cells": [
  {
   "cell_type": "code",
   "execution_count": 2,
   "id": "2e1b051f-e9be-4ac2-ac1e-9600674195f0",
   "metadata": {},
   "outputs": [
    {
     "name": "stdout",
     "output_type": "stream",
     "text": [
      "ExceedLengthString\n"
     ]
    }
   ],
   "source": [
    "# здесь объявляйте классы\n",
    "class StringException(Exception): \n",
    "    pass\n",
    "\n",
    "class NegativeLengthString(StringException):\n",
    "    pass\n",
    "    \n",
    "class ExceedLengthString(StringException): \n",
    "    pass\n",
    "    \n",
    "    \n",
    "try:\n",
    "    raise(ExceedLengthString)\n",
    "except NegativeLengthString:\n",
    "    print(\"NegativeLengthString\")\n",
    "except ExceedLengthString:\n",
    "    print(\"ExceedLengthString\")\n",
    "except StringException:\n",
    "    print(\"StringException\")"
   ]
  },
  {
   "cell_type": "code",
   "execution_count": null,
   "id": "db35cc12-5f11-4111-abe6-2789628b4071",
   "metadata": {},
   "outputs": [],
   "source": []
  }
 ],
 "metadata": {
  "kernelspec": {
   "display_name": "Python 3 (ipykernel)",
   "language": "python",
   "name": "python3"
  },
  "language_info": {
   "codemirror_mode": {
    "name": "ipython",
    "version": 3
   },
   "file_extension": ".py",
   "mimetype": "text/x-python",
   "name": "python",
   "nbconvert_exporter": "python",
   "pygments_lexer": "ipython3",
   "version": "3.9.5"
  }
 },
 "nbformat": 4,
 "nbformat_minor": 5
}
