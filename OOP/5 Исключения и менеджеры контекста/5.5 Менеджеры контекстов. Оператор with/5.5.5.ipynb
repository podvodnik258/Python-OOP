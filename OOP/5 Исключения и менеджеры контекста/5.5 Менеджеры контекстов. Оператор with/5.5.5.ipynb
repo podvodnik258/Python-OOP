{
 "cells": [
  {
   "cell_type": "code",
   "execution_count": 13,
   "id": "f9bcbf71-b154-48ba-994f-41d1cbdd2db9",
   "metadata": {},
   "outputs": [],
   "source": [
    "class ConnectionError(Exception): pass\n",
    "\n",
    "class DatabaseConnection:\n",
    "    def __init__(self):\n",
    "        self._fl_connection_open = False\n",
    "    \n",
    "    def connect(self, login, password):\n",
    "        self._fl_connection_open = True\n",
    "        raise ConnectionError()\n",
    "        \n",
    "    def close(self):\n",
    "        self._fl_connection_open = False\n",
    "    \n",
    "    def __enter__(self):\n",
    "        return self\n",
    "        \n",
    "    def __exit__(self, exc_type, exc_val, exc_tb):\n",
    "        self.close()"
   ]
  },
  {
   "cell_type": "code",
   "execution_count": 14,
   "id": "09459509-dc3a-43b1-b0e9-f65315127afe",
   "metadata": {},
   "outputs": [],
   "source": [
    "c = DatabaseConnection()\n",
    "\n",
    "try:\n",
    "    c.connect('aaa', 'bbb')\n",
    "except ConnectionError:\n",
    "    assert c._fl_connection_open\n",
    "else:\n",
    "    assert False, \"не сгенерировалось исключение ConnectionError\"\n",
    "\n",
    "try:\n",
    "    with DatabaseConnection() as conn:\n",
    "        conn.connect('aaa', 'bbb')\n",
    "except ConnectionError:\n",
    "    assert True\n",
    "else:\n",
    "    assert False, \"не сгенерировалось исключение ConnectionError\"\n",
    "\n",
    "assert conn._fl_connection_open == False, \"атрибут _fl_connection_open принимает значение True, а должно быть False\""
   ]
  },
  {
   "cell_type": "code",
   "execution_count": null,
   "id": "3b3c26f4-2c4b-4a3e-918c-bfb5dd9a7e06",
   "metadata": {},
   "outputs": [],
   "source": []
  }
 ],
 "metadata": {
  "kernelspec": {
   "display_name": "Python 3 (ipykernel)",
   "language": "python",
   "name": "python3"
  },
  "language_info": {
   "codemirror_mode": {
    "name": "ipython",
    "version": 3
   },
   "file_extension": ".py",
   "mimetype": "text/x-python",
   "name": "python",
   "nbconvert_exporter": "python",
   "pygments_lexer": "ipython3",
   "version": "3.9.5"
  }
 },
 "nbformat": 4,
 "nbformat_minor": 5
}
