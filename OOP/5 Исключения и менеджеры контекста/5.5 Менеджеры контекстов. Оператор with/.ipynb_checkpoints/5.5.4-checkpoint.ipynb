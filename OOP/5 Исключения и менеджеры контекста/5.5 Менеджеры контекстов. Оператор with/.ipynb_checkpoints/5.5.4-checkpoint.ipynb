{
 "cells": [
  {
   "cell_type": "code",
   "execution_count": 15,
   "id": "fe6b18f0-6a99-44ff-80db-a16f338f323b",
   "metadata": {},
   "outputs": [
    {
     "name": "stdout",
     "output_type": "stream",
     "text": [
      "вход\n"
     ]
    }
   ],
   "source": [
    "class PrimaryKey:\n",
    "    def __enter__(self):\n",
    "        print(\"вход\")\n",
    "\n",
    "    def __exit__(self, exc_type, exc_val, exc_tb):\n",
    "        if exc_type is not None:\n",
    "            print(exc_type)\n",
    "\n",
    "        return True\n",
    "\n",
    "\n",
    "with PrimaryKey() as pk:\n",
    "    raise ValueError"
   ]
  },
  {
   "cell_type": "code",
   "execution_count": null,
   "id": "fcbdd183-214a-43d3-a668-68b7c2960e60",
   "metadata": {},
   "outputs": [],
   "source": [
    "class PrimaryKey:\n",
    "    def __enter__(self):\n",
    "        print('вход')\n",
    "        \n",
    "    def __exit__(self, e_type, e_obj, trace):\n",
    "        print(e_type)\n",
    "        return True\n",
    "\n",
    "with PrimaryKey() as pk:\n",
    "    raise ValueError"
   ]
  },
  {
   "cell_type": "code",
   "execution_count": null,
   "id": "a7c128b9-3044-44eb-90c1-7d73cd2a8a23",
   "metadata": {},
   "outputs": [],
   "source": []
  }
 ],
 "metadata": {
  "kernelspec": {
   "display_name": "Python 3 (ipykernel)",
   "language": "python",
   "name": "python3"
  },
  "language_info": {
   "codemirror_mode": {
    "name": "ipython",
    "version": 3
   },
   "file_extension": ".py",
   "mimetype": "text/x-python",
   "name": "python",
   "nbconvert_exporter": "python",
   "pygments_lexer": "ipython3",
   "version": "3.9.5"
  }
 },
 "nbformat": 4,
 "nbformat_minor": 5
}
