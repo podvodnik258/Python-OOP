{
 "cells": [
  {
   "cell_type": "code",
   "execution_count": 1,
   "id": "48f25817-6468-4910-a274-bb7ce0fd60f9",
   "metadata": {},
   "outputs": [
    {
     "name": "stdout",
     "output_type": "stream",
     "text": [
      "соединение с принтером отсутствует\n"
     ]
    }
   ],
   "source": [
    "class PrinterError(Exception):\n",
    "    \"\"\"Класс общих ошибок принтера\"\"\"\n",
    "\n",
    "\n",
    "class PrinterConnectionError(PrinterError):\n",
    "    \"\"\"Ошибка соединения с принтером\"\"\"\n",
    "\n",
    "\n",
    "class PrinterPageError(PrinterError):\n",
    "    \"\"\"Ошибка отсутствия бумаги в принтере\"\"\"\n",
    "\n",
    "\n",
    "try:\n",
    "    raise PrinterConnectionError('соединение с принтером отсутствует')\n",
    "except (PrinterConnectionError, PrinterPageError) as e:\n",
    "    print(e)\n",
    "except PrinterError as e:\n",
    "    print(e)"
   ]
  },
  {
   "cell_type": "code",
   "execution_count": null,
   "id": "97b32b3c-f765-4e0c-828a-213f1144fff7",
   "metadata": {},
   "outputs": [],
   "source": []
  }
 ],
 "metadata": {
  "kernelspec": {
   "display_name": "Python 3 (ipykernel)",
   "language": "python",
   "name": "python3"
  },
  "language_info": {
   "codemirror_mode": {
    "name": "ipython",
    "version": 3
   },
   "file_extension": ".py",
   "mimetype": "text/x-python",
   "name": "python",
   "nbconvert_exporter": "python",
   "pygments_lexer": "ipython3",
   "version": "3.9.5"
  }
 },
 "nbformat": 4,
 "nbformat_minor": 5
}
