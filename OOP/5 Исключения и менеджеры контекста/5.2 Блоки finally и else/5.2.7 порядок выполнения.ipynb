{
 "cells": [
  {
   "cell_type": "code",
   "execution_count": 1,
   "id": "17f0a6c7-0d60-4ddf-80c1-4c36a1a2c1d6",
   "metadata": {},
   "outputs": [],
   "source": [
    "def get_div(x, y):\n",
    "    try:\n",
    "        res = x / y\n",
    "        return res\n",
    "    except ZeroDivisionError:\n",
    "        res = 100\n",
    "        return res\n",
    "    finally:\n",
    "        res = -1\n",
    "        print(f\"finally: {res}\")"
   ]
  },
  {
   "cell_type": "code",
   "execution_count": 2,
   "id": "e81c008d-2dc4-4ec2-86ce-2f1a6c4e25e0",
   "metadata": {},
   "outputs": [
    {
     "name": "stdout",
     "output_type": "stream",
     "text": [
      "finally: -1\n"
     ]
    },
    {
     "data": {
      "text/plain": [
       "100"
      ]
     },
     "execution_count": 2,
     "metadata": {},
     "output_type": "execute_result"
    }
   ],
   "source": [
    "get_div(1, 0)"
   ]
  }
 ],
 "metadata": {
  "kernelspec": {
   "display_name": "Python 3 (ipykernel)",
   "language": "python",
   "name": "python3"
  },
  "language_info": {
   "codemirror_mode": {
    "name": "ipython",
    "version": 3
   },
   "file_extension": ".py",
   "mimetype": "text/x-python",
   "name": "python",
   "nbconvert_exporter": "python",
   "pygments_lexer": "ipython3",
   "version": "3.9.5"
  }
 },
 "nbformat": 4,
 "nbformat_minor": 5
}
