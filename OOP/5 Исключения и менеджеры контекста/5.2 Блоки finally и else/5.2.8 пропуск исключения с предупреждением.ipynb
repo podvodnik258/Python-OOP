{
 "cells": [
  {
   "cell_type": "code",
   "execution_count": 2,
   "id": "6e01947b-1ae4-4aee-9468-d0bb37f7683d",
   "metadata": {},
   "outputs": [],
   "source": [
    "def get_loss(w1, w2, w3, w4):\n",
    "    try:\n",
    "        return 10 * w1 // w2 - 5 * w2 * w3 + w4\n",
    "    except ZeroDivisionError:\n",
    "        return \"деление на ноль\"\n",
    "    else:\n",
    "        return 10 * w1 // w2 - 5 * w2 * w3 + w4"
   ]
  },
  {
   "cell_type": "code",
   "execution_count": 4,
   "id": "50eec7e3-9818-48b9-a0b6-15320797bdc7",
   "metadata": {},
   "outputs": [
    {
     "data": {
      "text/plain": [
       "44"
      ]
     },
     "execution_count": 4,
     "metadata": {},
     "output_type": "execute_result"
    }
   ],
   "source": [
    "get_loss(5, 1, 2, 4)"
   ]
  },
  {
   "cell_type": "code",
   "execution_count": null,
   "id": "5637ca23-d2c3-41e8-8df4-94817d23e833",
   "metadata": {},
   "outputs": [],
   "source": []
  }
 ],
 "metadata": {
  "kernelspec": {
   "display_name": "Python 3 (ipykernel)",
   "language": "python",
   "name": "python3"
  },
  "language_info": {
   "codemirror_mode": {
    "name": "ipython",
    "version": 3
   },
   "file_extension": ".py",
   "mimetype": "text/x-python",
   "name": "python",
   "nbconvert_exporter": "python",
   "pygments_lexer": "ipython3",
   "version": "3.9.5"
  }
 },
 "nbformat": 4,
 "nbformat_minor": 5
}
