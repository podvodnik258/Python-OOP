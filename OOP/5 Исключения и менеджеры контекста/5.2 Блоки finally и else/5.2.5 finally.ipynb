{
 "cells": [
  {
   "cell_type": "code",
   "execution_count": 13,
   "id": "c2b65557-6bda-49d7-b3fe-ca560fc16023",
   "metadata": {},
   "outputs": [
    {
     "name": "stdout",
     "output_type": "stream",
     "text": [
      "19\n"
     ]
    }
   ],
   "source": [
    "#a, b = input().split()\n",
    "a, b = '8 11'.split()\n",
    "\n",
    "res = 0\n",
    "try:\n",
    "    res = sum(map(int, (a, b)))\n",
    "except:\n",
    "    try:\n",
    "        res = sum(map(float, (a, b)))\n",
    "    except:\n",
    "        res = a + b\n",
    "finally:\n",
    "    print(res)"
   ]
  },
  {
   "cell_type": "code",
   "execution_count": 5,
   "id": "dabcc70a-781e-4a79-a4b7-b1821393f0ba",
   "metadata": {},
   "outputs": [
    {
     "data": {
      "text/plain": [
       "['8', '11']"
      ]
     },
     "execution_count": 5,
     "metadata": {},
     "output_type": "execute_result"
    }
   ],
   "source": [
    "s\n"
   ]
  },
  {
   "cell_type": "code",
   "execution_count": null,
   "id": "d4995257-3949-4675-bdc6-eeb9cf9bf7d9",
   "metadata": {},
   "outputs": [],
   "source": []
  }
 ],
 "metadata": {
  "kernelspec": {
   "display_name": "Python 3 (ipykernel)",
   "language": "python",
   "name": "python3"
  },
  "language_info": {
   "codemirror_mode": {
    "name": "ipython",
    "version": 3
   },
   "file_extension": ".py",
   "mimetype": "text/x-python",
   "name": "python",
   "nbconvert_exporter": "python",
   "pygments_lexer": "ipython3",
   "version": "3.9.5"
  }
 },
 "nbformat": 4,
 "nbformat_minor": 5
}
