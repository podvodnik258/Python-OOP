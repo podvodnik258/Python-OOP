{
 "cells": [
  {
   "cell_type": "code",
   "execution_count": 3,
   "id": "8e4de6a8-2d65-4067-8b02-9c79b5b5f568",
   "metadata": {},
   "outputs": [
    {
     "name": "stdout",
     "output_type": "stream",
     "text": [
      "Point: x = 2.0, y = 11.0\n"
     ]
    }
   ],
   "source": [
    "class Point:\n",
    "    def __init__(self, x=0, y=0):\n",
    "        self._x = x\n",
    "        self._y = y\n",
    "        \n",
    "    def __str__(self):\n",
    "        return f'Point: x = {self._x}, y = {self._y}'    \n",
    "    \n",
    "#a, b = input().split()\n",
    "a, b = '2 11.'.split()\n",
    "\n",
    "try:\n",
    "    pt = Point(*map(int, (a, b)))\n",
    "except:\n",
    "    try:\n",
    "        pt = Point(*map(float, (a, b)))\n",
    "    except:\n",
    "        pt = Point()\n",
    "finally:\n",
    "    print(pt)"
   ]
  },
  {
   "cell_type": "code",
   "execution_count": 1,
   "id": "1b26d5f1-14b7-4e36-8b8b-73c2a2ea71ca",
   "metadata": {},
   "outputs": [
    {
     "name": "stdout",
     "output_type": "stream",
     "text": [
      "Point: x = 0, y = 0\n"
     ]
    }
   ],
   "source": [
    "class Point:\n",
    "    def __init__(self, x=0, y=0):\n",
    "        self._x = x\n",
    "        self._y = y\n",
    "        \n",
    "#a, b = input().split()\n",
    "a, b = 'a 11.'.split()\n",
    "\n",
    "try:\n",
    "    pt = Point(*map(int, (a, b)))\n",
    "except:\n",
    "    try:\n",
    "        pt = Point(*map(float, (a, b)))\n",
    "    except:\n",
    "        pt = Point()\n",
    "finally:\n",
    "    print(f\"Point: x = {pt._x}, y = {pt._y}\")\n"
   ]
  }
 ],
 "metadata": {
  "kernelspec": {
   "display_name": "Python 3 (ipykernel)",
   "language": "python",
   "name": "python3"
  },
  "language_info": {
   "codemirror_mode": {
    "name": "ipython",
    "version": 3
   },
   "file_extension": ".py",
   "mimetype": "text/x-python",
   "name": "python",
   "nbconvert_exporter": "python",
   "pygments_lexer": "ipython3",
   "version": "3.9.5"
  }
 },
 "nbformat": 4,
 "nbformat_minor": 5
}
