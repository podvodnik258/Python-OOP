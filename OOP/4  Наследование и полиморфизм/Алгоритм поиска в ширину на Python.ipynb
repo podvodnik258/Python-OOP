{
 "cells": [
  {
   "cell_type": "code",
   "execution_count": 1,
   "id": "aef302ca-28b3-400a-83ee-5495fc8a674a",
   "metadata": {},
   "outputs": [
    {
     "name": "stdout",
     "output_type": "stream",
     "text": [
      "B D E "
     ]
    }
   ],
   "source": [
    "#start_v, stop_v\n",
    "graph = {\n",
    "      'A' : ['B','C'],\n",
    "      'B' : ['D', 'E'],\n",
    "      'C' : [],\n",
    "      'D' : [],\n",
    "      'E' : []\n",
    "    }\n",
    "visited = []\n",
    "queue = []\n",
    "\n",
    "def bfs(visited, graph, node): # Поиск в ширину\n",
    "    visited.append(node)\n",
    "    queue.append(node)\n",
    "    \n",
    "    while queue:\n",
    "        s = queue.pop(0) \n",
    "        print (s, end = \" \") \n",
    "\n",
    "        for neighbor in graph[s]:\n",
    "            if neighbor not in visited:\n",
    "                visited.append(neighbor)\n",
    "                queue.append(neighbor)    \n",
    "                \n",
    "bfs(visited, graph, 'B')"
   ]
  },
  {
   "cell_type": "code",
   "execution_count": 2,
   "id": "59f9cfd3-a7e3-4871-abe2-bea288f074ae",
   "metadata": {},
   "outputs": [
    {
     "name": "stdout",
     "output_type": "stream",
     "text": [
      "{2, 3}\n",
      "{1, 2, 3}\n",
      "{1, 2, 3}\n"
     ]
    }
   ],
   "source": [
    "import collections\n",
    "def bfs(graph, root): \n",
    "    visited, queue = set(), collections.deque([root])\n",
    "    visited.add(root)\n",
    "    while queue: \n",
    "        vertex = queue.popleft()\n",
    "        for neighbour in graph[vertex]: \n",
    "            if neighbour not in visited: \n",
    "                visited.add(neighbour) \n",
    "                queue.append(neighbour)\n",
    "        print(visited)            \n",
    "if __name__ == '__main__':\n",
    "    graph = {0: [1, 2], 1: [2], 2: [3], 3: [1,2]} \n",
    "    bfs(graph, 2)"
   ]
  },
  {
   "cell_type": "code",
   "execution_count": null,
   "id": "e7af0389-026a-442c-ae88-7b0e0529c65f",
   "metadata": {},
   "outputs": [],
   "source": []
  }
 ],
 "metadata": {
  "kernelspec": {
   "display_name": "Python 3 (ipykernel)",
   "language": "python",
   "name": "python3"
  },
  "language_info": {
   "codemirror_mode": {
    "name": "ipython",
    "version": 3
   },
   "file_extension": ".py",
   "mimetype": "text/x-python",
   "name": "python",
   "nbconvert_exporter": "python",
   "pygments_lexer": "ipython3",
   "version": "3.9.5"
  }
 },
 "nbformat": 4,
 "nbformat_minor": 5
}
