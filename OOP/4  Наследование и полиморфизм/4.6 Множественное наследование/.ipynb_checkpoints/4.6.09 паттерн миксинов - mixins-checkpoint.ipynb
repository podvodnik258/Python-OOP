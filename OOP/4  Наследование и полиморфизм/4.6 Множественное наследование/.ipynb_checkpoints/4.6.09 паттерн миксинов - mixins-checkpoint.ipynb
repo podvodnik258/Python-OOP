{
 "cells": [
  {
   "cell_type": "code",
   "execution_count": 30,
   "id": "61a5d557-2a0a-4d1a-9e33-fa39594b61c8",
   "metadata": {},
   "outputs": [],
   "source": [
    "class RetriveMixin:\n",
    "    def get(self, request):\n",
    "        return \"GET: \" + request.get('url')\n",
    "\n",
    "\n",
    "class CreateMixin:\n",
    "    def post(self, request):\n",
    "        return \"POST: \" + request.get('url')\n",
    "\n",
    "\n",
    "class UpdateMixin:\n",
    "    def put(self, request):\n",
    "        return \"PUT: \" + request.get('url')\n",
    "\n",
    "\n",
    "# здесь объявляйте класс GeneralView\n",
    "class GeneralView():\n",
    "    allowed_methods = ('GET', 'POST', 'PUT', 'DELETE')\n",
    "    \n",
    "    def render_request(self, request):\n",
    "        if request.get('method') not in self.allowed_methods:\n",
    "            raise TypeError(f\"Метод {request.get('method')} не разрешен.\")\n",
    "        method_request = request.get('method').lower()\n",
    "        return self.__getattribute__(method_request)(request) # return getattr(self, request.get('method').lower())(request)\n",
    "        \n",
    "class DetailView(RetriveMixin, GeneralView):\n",
    "    allowed_methods = ('GET', 'PUT', )"
   ]
  },
  {
   "cell_type": "code",
   "execution_count": 31,
   "id": "282865a1-b3f3-41ac-b3b1-34ef46050607",
   "metadata": {},
   "outputs": [
    {
     "name": "stdout",
     "output_type": "stream",
     "text": [
      "GET: https://stepik.org/course/116336/\n"
     ]
    }
   ],
   "source": [
    "view = DetailView()\n",
    "html = view.render_request({'url': 'https://stepik.org/course/116336/', 'method': 'GET'})\n",
    "print(html)   # GET: https://stepik.org/course/116336/"
   ]
  },
  {
   "cell_type": "code",
   "execution_count": 32,
   "id": "8a02bb16-5210-415d-8ef9-a95d293c78f9",
   "metadata": {},
   "outputs": [
    {
     "name": "stdout",
     "output_type": "stream",
     "text": [
      "PUT: https://stepik.org/course/116336/\n"
     ]
    }
   ],
   "source": [
    "class DetailView(RetriveMixin, UpdateMixin, GeneralView):\n",
    "    allowed_methods = ('GET', 'PUT', )\n",
    "\n",
    "view = DetailView()\n",
    "html = view.render_request({'url': 'https://stepik.org/course/116336/', 'method': 'PUT'})\n",
    "print(html)   # GET: https://stepik.org/course/116336/"
   ]
  },
  {
   "cell_type": "code",
   "execution_count": null,
   "id": "090e08bd-ff06-4fab-9de4-27055142271c",
   "metadata": {},
   "outputs": [],
   "source": []
  }
 ],
 "metadata": {
  "kernelspec": {
   "display_name": "Python 3 (ipykernel)",
   "language": "python",
   "name": "python3"
  },
  "language_info": {
   "codemirror_mode": {
    "name": "ipython",
    "version": 3
   },
   "file_extension": ".py",
   "mimetype": "text/x-python",
   "name": "python",
   "nbconvert_exporter": "python",
   "pygments_lexer": "ipython3",
   "version": "3.9.5"
  }
 },
 "nbformat": 4,
 "nbformat_minor": 5
}
