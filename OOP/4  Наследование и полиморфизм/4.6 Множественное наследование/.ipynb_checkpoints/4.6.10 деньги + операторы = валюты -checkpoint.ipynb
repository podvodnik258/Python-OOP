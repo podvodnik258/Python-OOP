{
 "cells": [
  {
   "cell_type": "code",
   "execution_count": 1,
   "id": "7308c2f8-7aff-49fd-825c-aa378e18923c",
   "metadata": {},
   "outputs": [],
   "source": [
    "class Money:\n",
    "    def __init__(self, value):\n",
    "        self.money = value\n",
    "    \n",
    "    @property\n",
    "    def money(self):\n",
    "        return self._money\n",
    "    \n",
    "    @money.setter\n",
    "    def money(self, value):\n",
    "        if not isinstance(value, (float, int)):\n",
    "            raise TypeError('сумма должна быть числом')\n",
    "        self._money = value\n",
    "        \n",
    "        \n",
    "class MoneyOperators:\n",
    "    def __add__(self, other):\n",
    "        if type(other) in (int, float):\n",
    "            return self.__class__(self.money + other)\n",
    "\n",
    "        if type(self) != type(other):\n",
    "            raise TypeError('Разные типы объектов')\n",
    "\n",
    "        return self.__class__(self.money + other.money)\n",
    "    \n",
    "    def __sub__(self, other):\n",
    "        if type(other) in (int, float):\n",
    "            return self.__class__(self.money - other)\n",
    "\n",
    "        if type(self) != type(other):\n",
    "            raise TypeError('Разные типы объектов')\n",
    "\n",
    "        return self.__class__(self.money - other.money)\n",
    "    \n",
    "    \n",
    "class MoneyR(Money, MoneyOperators):\n",
    "    def __str__(self):\n",
    "        return f\"MoneyR: {self.money}\"\n",
    "\n",
    "\n",
    "class MoneyD(Money, MoneyOperators):\n",
    "    def __str__(self):\n",
    "        return f\"MoneyD: {self.money}\""
   ]
  },
  {
   "cell_type": "code",
   "execution_count": 2,
   "id": "3eb1e25c-ffa4-4aad-b662-25884b3fe605",
   "metadata": {},
   "outputs": [
    {
     "name": "stdout",
     "output_type": "stream",
     "text": [
      "MoneyR: 11\n",
      "MoneyR: -4.4\n"
     ]
    }
   ],
   "source": [
    "m1 = MoneyR(1)\n",
    "m2 = MoneyD(2)\n",
    "m = m1 + 10\n",
    "print(m)  # MoneyR: 11\n",
    "m = m1 - 5.4\n",
    "print(m)\n",
    "#m = m1 + m2  # TypeError"
   ]
  },
  {
   "cell_type": "code",
   "execution_count": null,
   "id": "4e20bbf7-9c10-420f-804f-d81a8801aa54",
   "metadata": {},
   "outputs": [],
   "source": []
  },
  {
   "cell_type": "code",
   "execution_count": null,
   "id": "06689d4c-7922-49e2-a59e-257f18105123",
   "metadata": {},
   "outputs": [],
   "source": []
  }
 ],
 "metadata": {
  "kernelspec": {
   "display_name": "Python 3 (ipykernel)",
   "language": "python",
   "name": "python3"
  },
  "language_info": {
   "codemirror_mode": {
    "name": "ipython",
    "version": 3
   },
   "file_extension": ".py",
   "mimetype": "text/x-python",
   "name": "python",
   "nbconvert_exporter": "python",
   "pygments_lexer": "ipython3",
   "version": "3.9.5"
  }
 },
 "nbformat": 4,
 "nbformat_minor": 5
}
