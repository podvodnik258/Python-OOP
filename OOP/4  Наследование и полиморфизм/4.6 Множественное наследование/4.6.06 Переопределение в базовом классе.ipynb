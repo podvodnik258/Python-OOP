{
 "cells": [
  {
   "cell_type": "code",
   "execution_count": 39,
   "id": "7c594d07-ad24-4c03-8488-05021926c59d",
   "metadata": {},
   "outputs": [],
   "source": [
    "class ShopItem:\n",
    "    ID_SHOP_ITEM = 0\n",
    "\n",
    "    def __init__(self):\n",
    "        super().__init__()\n",
    "        ShopItem.ID_SHOP_ITEM += 1\n",
    "        self._id = ShopItem.ID_SHOP_ITEM\n",
    "\n",
    "    def get_pk(self):\n",
    "        return self._id\n",
    "\n",
    "class ShopGenericView:\n",
    "    def __str__(self):\n",
    "        return '\\n'.join(f'{k}: {v}' for k, v in self.__dict__.items())  \n",
    "    \n",
    "class ShopUserView:\n",
    "    def __str__(self):\n",
    "        return '\\n'.join(f'{k}: {v}' for k, v in self.__dict__.items() if k != '_id')  \n",
    "\n",
    "class Book(ShopItem, ShopUserView):\n",
    "    def __init__(self, title, author, year):\n",
    "        super().__init__()\n",
    "        self._title = title\n",
    "        self._author = author\n",
    "        self._year = year\n"
   ]
  },
  {
   "cell_type": "code",
   "execution_count": 40,
   "id": "3af28d4a-be7f-4f57-9955-13d7b44c786c",
   "metadata": {},
   "outputs": [
    {
     "name": "stdout",
     "output_type": "stream",
     "text": [
      "_title: Python ООП\n",
      "_author: Балакирев\n",
      "_year: 2022\n"
     ]
    }
   ],
   "source": [
    "#class Book(ShopItem, ShopUserView): ...\n",
    "book = Book(\"Python ООП\", \"Балакирев\", 2022)\n",
    "print(book)\n",
    "# на экране увидим строчки:\n",
    "# _title: Python ООП\n",
    "# _author: Балакирев\n",
    "# _year: 2022"
   ]
  },
  {
   "cell_type": "code",
   "execution_count": 24,
   "id": "7ac2663a-c1fb-4e95-abeb-87557991609f",
   "metadata": {},
   "outputs": [
    {
     "name": "stdout",
     "output_type": "stream",
     "text": [
      "(<class '__main__.Book'>, <class '__main__.ShopItem'>, <class '__main__.ShopUserView'>, <class 'object'>)\n",
      " \n"
     ]
    }
   ],
   "source": [
    "#class Book(ShopItem, ShopGenericView): ...\n",
    "book = Book(\"Python ООП\", \"Балакирев\", 2022)\n",
    "print(book)\n",
    "# на экране увидим строчки:\n",
    "# _id: 1\n",
    "# _title: Python ООП\n",
    "# _author: Балакирев\n",
    "# _year: 2022"
   ]
  },
  {
   "cell_type": "code",
   "execution_count": null,
   "id": "5a887f95-2090-452d-9365-2ecd21000043",
   "metadata": {},
   "outputs": [],
   "source": [
    "class ShopGenericView:\n",
    "    exclusion = []\n",
    "    \n",
    "    def __str__(self):\n",
    "        return '\\n'.join(\n",
    "            f'{k}: {v}' \n",
    "            for k, v in self.__dict__.items() \n",
    "            if not callable(v) and k not in self.exclusion\n",
    "        )\n",
    "    \n",
    "    def __repr__(self):\n",
    "        return self.__str__()\n",
    "    \n",
    "class ShopUserView(ShopGenericView):\n",
    "    exclusion = ['_id']\n",
    "            \n",
    "class ShopItem:\n",
    "    ID_SHOP_ITEM = 0\n",
    "\n",
    "    def __init__(self):\n",
    "        super().__init__()\n",
    "        ShopItem.ID_SHOP_ITEM += 1\n",
    "        self._id = ShopItem.ID_SHOP_ITEM\n",
    "\n",
    "    def get_pk(self):\n",
    "        return self._id\n",
    "\n",
    "class Book(ShopItem):\n",
    "    def __init__(self, title, author, year):\n",
    "        super().__init__()\n",
    "        self._title = title\n",
    "        self._author = author\n",
    "        self._year = year"
   ]
  }
 ],
 "metadata": {
  "kernelspec": {
   "display_name": "Python 3 (ipykernel)",
   "language": "python",
   "name": "python3"
  },
  "language_info": {
   "codemirror_mode": {
    "name": "ipython",
    "version": 3
   },
   "file_extension": ".py",
   "mimetype": "text/x-python",
   "name": "python",
   "nbconvert_exporter": "python",
   "pygments_lexer": "ipython3",
   "version": "3.9.5"
  }
 },
 "nbformat": 4,
 "nbformat_minor": 5
}
