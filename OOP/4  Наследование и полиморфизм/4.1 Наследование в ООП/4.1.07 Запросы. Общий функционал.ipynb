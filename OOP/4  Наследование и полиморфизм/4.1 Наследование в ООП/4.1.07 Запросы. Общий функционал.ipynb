{
 "cells": [
  {
   "cell_type": "code",
   "execution_count": 33,
   "id": "51627657-d1b5-4529-983b-73496fff5a44",
   "metadata": {},
   "outputs": [],
   "source": [
    "class GenericView:\n",
    "    def __init__(self, methods=('GET',)):\n",
    "        self.methods = methods\n",
    "\n",
    "    def get(self, request):\n",
    "        return \"\"\n",
    "\n",
    "    def post(self, request):\n",
    "        pass\n",
    "\n",
    "    def put(self, request):\n",
    "        pass\n",
    "\n",
    "    def delete(self, request):\n",
    "        pass\n",
    "    \n",
    "    \n",
    "class DetailView(GenericView):\n",
    "    def __init__(self, methods=('GET',)):\n",
    "        super().__init__(methods)\n",
    "        \n",
    "    def render_request(self, request, method):\n",
    "        if not method.upper() in self.methods:\n",
    "            raise TypeError('данный запрос не может быть выполнен')\n",
    "        \n",
    "        f = getattr(self, method.lower(), False)\n",
    "        if f:\n",
    "            return f(request)\n",
    "    \n",
    "    def get(self, request):\n",
    "        if not isinstance(request, dict):\n",
    "            raise TypeError('request не является словарем')\n",
    "        if not 'url' in request:\n",
    "            raise TypeError('request не содержит обязательного ключа url')\n",
    "            \n",
    "        return f\"url: {request['url']}\"\n"
   ]
  },
  {
   "cell_type": "code",
   "execution_count": 34,
   "id": "21e1e891-f032-4054-a68d-b90a8dbb6f6e",
   "metadata": {},
   "outputs": [
    {
     "data": {
      "text/plain": [
       "'url: https://site.ru/home'"
      ]
     },
     "execution_count": 34,
     "metadata": {},
     "output_type": "execute_result"
    }
   ],
   "source": [
    "dv = DetailView()\n",
    "html = dv.render_request({'url': 'https://site.ru/home'}, 'GET')\n",
    "html"
   ]
  },
  {
   "cell_type": "code",
   "execution_count": null,
   "id": "624a0f1e-9d25-490b-b560-2feaed8f0f43",
   "metadata": {},
   "outputs": [],
   "source": []
  }
 ],
 "metadata": {
  "kernelspec": {
   "display_name": "Python 3 (ipykernel)",
   "language": "python",
   "name": "python3"
  },
  "language_info": {
   "codemirror_mode": {
    "name": "ipython",
    "version": 3
   },
   "file_extension": ".py",
   "mimetype": "text/x-python",
   "name": "python",
   "nbconvert_exporter": "python",
   "pygments_lexer": "ipython3",
   "version": "3.9.5"
  }
 },
 "nbformat": 4,
 "nbformat_minor": 5
}
