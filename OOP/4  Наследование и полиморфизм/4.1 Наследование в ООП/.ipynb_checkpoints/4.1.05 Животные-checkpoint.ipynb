{
 "cells": [
  {
   "cell_type": "code",
   "execution_count": 37,
   "id": "430930ca-14b6-4276-ac25-5af75b777dc5",
   "metadata": {},
   "outputs": [],
   "source": [
    "class Animal:\n",
    "    def __init__(self, name, old):\n",
    "        self.name = name\n",
    "        self.old = old\n",
    "    \n",
    "\n",
    "class Cat(Animal):\n",
    "    def __init__(self, name, old, color, weight):\n",
    "        super().__init__(name, old)\n",
    "        self.color = color\n",
    "        self.weight = weight\n",
    "    \n",
    "    def get_info(self):\n",
    "        return f\"{self.name}: {self.old}, {self.color}, {self.weight}\"\n",
    "\n",
    "\n",
    "class Dog(Animal):\n",
    "    def __init__(self, name, old, breed, size):\n",
    "        super().__init__(name, old)\n",
    "        self.breed = breed\n",
    "        self.size = size\n",
    "        \n",
    "    def get_info(self):\n",
    "        return f\"{self.name}: {self.old}, {self.breed}, {self.size}\""
   ]
  },
  {
   "cell_type": "code",
   "execution_count": 38,
   "id": "b25beb49-04d9-4fde-a8cc-3bb52101be6f",
   "metadata": {},
   "outputs": [
    {
     "name": "stdout",
     "output_type": "stream",
     "text": [
      "собака: 5, такса, (3, 5)\n",
      "кот: 4, black, 2.25\n"
     ]
    }
   ],
   "source": [
    "dog = Dog('собака', 5, 'такса', (3, 5))\n",
    "cat = Cat('кот', 4, 'black', 2.25)\n",
    "print(dog.get_info())\n",
    "print(cat.get_info())"
   ]
  },
  {
   "cell_type": "code",
   "execution_count": null,
   "id": "e3d819d3-e0f4-4081-b173-bca1a8ddc793",
   "metadata": {},
   "outputs": [],
   "source": []
  }
 ],
 "metadata": {
  "kernelspec": {
   "display_name": "Python 3 (ipykernel)",
   "language": "python",
   "name": "python3"
  },
  "language_info": {
   "codemirror_mode": {
    "name": "ipython",
    "version": 3
   },
   "file_extension": ".py",
   "mimetype": "text/x-python",
   "name": "python",
   "nbconvert_exporter": "python",
   "pygments_lexer": "ipython3",
   "version": "3.9.5"
  }
 },
 "nbformat": 4,
 "nbformat_minor": 5
}
