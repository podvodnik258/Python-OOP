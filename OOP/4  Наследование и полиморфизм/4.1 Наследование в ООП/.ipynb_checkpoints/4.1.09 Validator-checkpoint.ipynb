{
 "cells": [
  {
   "cell_type": "code",
   "execution_count": 3,
   "id": "592845fd-eb27-4e6c-8297-bce31f0b8e7c",
   "metadata": {},
   "outputs": [],
   "source": [
    "class Validator:\n",
    "    def _is_valid(self, data):\n",
    "        return True\n",
    "    \n",
    "    def __call__(self, data):\n",
    "        if not self._is_valid(data):\n",
    "            raise ValueError('данные не прошли валидацию')\n",
    "        return True \n",
    "    \n",
    "    \n",
    "class IntegerValidator(Validator):\n",
    "    def __init__(self, min_value, max_value):\n",
    "        self.min_value = min_value\n",
    "        self.max_value = max_value\n",
    "        \n",
    "    def _is_valid(self, data):\n",
    "        return type(data) == int and self.min_value <= data <= self.max_value\n",
    "    \n",
    "    \n",
    "class FloatValidator(Validator):\n",
    "    def __init__(self, min_value, max_value):\n",
    "        self.min_value = min_value\n",
    "        self.max_value = max_value\n",
    "        \n",
    "    def _is_valid(self, data):\n",
    "        return type(data) == float and self.min_value <= data <= self.max_value"
   ]
  },
  {
   "cell_type": "code",
   "execution_count": null,
   "id": "56ad28be-b339-4d7e-aff2-e379544d502a",
   "metadata": {},
   "outputs": [],
   "source": [
    "class Validator:\n",
    "    def _is_valid(self, data):\n",
    "        return True\n",
    "\n",
    "    def __call__(self, data):\n",
    "        if self._is_valid(data):\n",
    "            return True\n",
    "        else:\n",
    "            raise ValueError('данные не прошли валидацию')\n",
    "\n",
    "\n",
    "class ExtValidator(Validator):\n",
    "    data_type = None\n",
    "\n",
    "    def __init__(self, min_value, max_value):\n",
    "        self.min_value = min_value\n",
    "        self.max_value = max_value\n",
    "\n",
    "    def _is_valid(self, data):\n",
    "        return type(data) == self.data_type \\\n",
    "               and self.min_value <= data <= self.max_value\n",
    "\n",
    "\n",
    "class IntegerValidator(ExtValidator):\n",
    "    data_type = int\n",
    "\n",
    "\n",
    "class FloatValidator(ExtValidator):\n",
    "    data_type = float"
   ]
  },
  {
   "cell_type": "code",
   "execution_count": 5,
   "id": "371159fd-b846-4653-8189-7527ced321e5",
   "metadata": {},
   "outputs": [],
   "source": [
    "integer_validator = IntegerValidator(-10, 10)\n",
    "float_validator = FloatValidator(-1, 1)\n",
    "res1 = integer_validator(10)  # True\n",
    "#res2 = float_validator(10)    # исключение ValueError"
   ]
  },
  {
   "cell_type": "code",
   "execution_count": null,
   "id": "dcc93f47-ca00-4874-9ba4-40846c338cfd",
   "metadata": {},
   "outputs": [],
   "source": [
    "class Validator:\n",
    "    def _is_valid(self, data):\n",
    "        return True\n",
    "\n",
    "    def __call__(self, data=\"\"):\n",
    "        if not self._is_valid(data):\n",
    "            raise ValueError('данные не прошли валидацию')\n",
    "        return True\n",
    "\n",
    "\n",
    "def seek_limit(func):\n",
    "    def wrapper(instance, data):\n",
    "        if (isinstance(data, instance.value_type)):\n",
    "            if (instance.min_value <= data <= instance.max_value):\n",
    "                return True\n",
    "        return False\n",
    "    return wrapper\n",
    "\n",
    "\n",
    "class IntegerValidator(Validator):\n",
    "    def __init__(self, min_value=0, max_value=0):\n",
    "        self.min_value = min_value\n",
    "        self.max_value = max_value\n",
    "        self.value_type = int\n",
    "\n",
    "    @seek_limit\n",
    "    def _is_valid(self, data):\n",
    "        pass\n",
    "\n",
    "class FloatValidator(Validator):\n",
    "    def __init__(self, min_value=0.0, max_value=0.0):\n",
    "        self.min_value = min_value\n",
    "        self.max_value = max_value\n",
    "        self.value_type = float\n",
    "\n",
    "    @seek_limit\n",
    "    def _is_valid(self, data):\n",
    "        pass"
   ]
  },
  {
   "cell_type": "code",
   "execution_count": 6,
   "id": "160efeec-d624-45c8-a337-0c24aba757e9",
   "metadata": {},
   "outputs": [
    {
     "data": {
      "text/plain": [
       "True"
      ]
     },
     "execution_count": 6,
     "metadata": {},
     "output_type": "execute_result"
    }
   ],
   "source": [
    "res1"
   ]
  },
  {
   "cell_type": "code",
   "execution_count": null,
   "id": "57f02b0b-1d26-4349-8ee2-e81361e4ae7c",
   "metadata": {},
   "outputs": [],
   "source": []
  }
 ],
 "metadata": {
  "kernelspec": {
   "display_name": "Python 3 (ipykernel)",
   "language": "python",
   "name": "python3"
  },
  "language_info": {
   "codemirror_mode": {
    "name": "ipython",
    "version": 3
   },
   "file_extension": ".py",
   "mimetype": "text/x-python",
   "name": "python",
   "nbconvert_exporter": "python",
   "pygments_lexer": "ipython3",
   "version": "3.9.5"
  }
 },
 "nbformat": 4,
 "nbformat_minor": 5
}
