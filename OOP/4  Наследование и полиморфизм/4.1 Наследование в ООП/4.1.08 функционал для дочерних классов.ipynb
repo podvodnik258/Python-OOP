{
 "cells": [
  {
   "cell_type": "code",
   "execution_count": null,
   "id": "eb340d2c-5300-49bc-9890-fbcc4d70c22c",
   "metadata": {},
   "outputs": [],
   "source": []
  }
 ],
 "metadata": {
  "kernelspec": {
   "display_name": "Python 3 (ipykernel)",
   "language": "python",
   "name": "python3"
  },
  "language_info": {
   "codemirror_mode": {
    "name": "ipython",
    "version": 3
   },
   "file_extension": ".py",
   "mimetype": "text/x-python",
   "name": "python",
   "nbconvert_exporter": "python",
   "pygments_lexer": "ipython3",
   "version": "3.9.5"
  }
 },
 "nbformat": 4,
 "nbformat_minor": 5
}
