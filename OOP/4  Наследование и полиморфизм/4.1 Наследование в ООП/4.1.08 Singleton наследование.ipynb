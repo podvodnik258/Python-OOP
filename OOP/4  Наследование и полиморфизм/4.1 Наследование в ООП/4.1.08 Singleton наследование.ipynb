{
 "cells": [
  {
   "cell_type": "code",
   "execution_count": 15,
   "id": "eb340d2c-5300-49bc-9890-fbcc4d70c22c",
   "metadata": {},
   "outputs": [],
   "source": [
    "class Singleton:\n",
    "    __instance = None\n",
    "    \n",
    "    def __new__(cls, *args, **kwargs):\n",
    "        if Singleton.__instance is None:\n",
    "            Singleton.__instance = super().__new__(cls)\n",
    "        return Singleton.__instance\n",
    "\n",
    "    \n",
    "class Game(Singleton):\n",
    "    def __init__(self, name):\n",
    "        if 'name' not in self.__dict__:\n",
    "            self.name = name"
   ]
  },
  {
   "cell_type": "code",
   "execution_count": null,
   "id": "8e21dba7-5e8e-4123-99ba-c27f617acd08",
   "metadata": {},
   "outputs": [],
   "source": [
    "class Singleton:\n",
    "    __init = 0\n",
    "\n",
    "    def __new__(cls, *args, **kwarg):\n",
    "        if not cls.__init:\n",
    "            cls.__init = super().__new__(cls)\n",
    "            cls.__init.name = args[0]\n",
    "        return cls.__init\n",
    "\n",
    "\n",
    "class Game(Singleton):\n",
    "    pass"
   ]
  },
  {
   "cell_type": "code",
   "execution_count": 16,
   "id": "170cad3f-4fa9-4039-a796-3045ad99a287",
   "metadata": {},
   "outputs": [],
   "source": [
    "game1 = Game('name1')\n",
    "game2 = Game('name2')\n",
    "game3 = Game('name3')"
   ]
  },
  {
   "cell_type": "code",
   "execution_count": 17,
   "id": "aad10879-e236-4644-bfbc-80bf530e12b2",
   "metadata": {},
   "outputs": [
    {
     "name": "stdout",
     "output_type": "stream",
     "text": [
      "{'name': 'name1'}\n",
      "{'name': 'name1'}\n",
      "{'name': 'name1'}\n"
     ]
    }
   ],
   "source": [
    "print(game1.__dict__)\n",
    "print(game2.__dict__)\n",
    "print(game3.__dict__)"
   ]
  },
  {
   "cell_type": "code",
   "execution_count": null,
   "id": "319da2c8-010b-4155-bc90-5ca522c2bcb3",
   "metadata": {},
   "outputs": [],
   "source": []
  }
 ],
 "metadata": {
  "kernelspec": {
   "display_name": "Python 3 (ipykernel)",
   "language": "python",
   "name": "python3"
  },
  "language_info": {
   "codemirror_mode": {
    "name": "ipython",
    "version": 3
   },
   "file_extension": ".py",
   "mimetype": "text/x-python",
   "name": "python",
   "nbconvert_exporter": "python",
   "pygments_lexer": "ipython3",
   "version": "3.9.5"
  }
 },
 "nbformat": 4,
 "nbformat_minor": 5
}
