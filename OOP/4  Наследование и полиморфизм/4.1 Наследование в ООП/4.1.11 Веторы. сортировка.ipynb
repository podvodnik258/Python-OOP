{
 "cells": [
  {
   "cell_type": "code",
   "execution_count": 61,
   "id": "8c556cd1-1bbf-4413-9ab3-01f737ee5586",
   "metadata": {},
   "outputs": [],
   "source": [
    "class Vector:\n",
    "    def __new__(cls, *args, **kwargs):\n",
    "        if all((type(c) == int for c in args)):\n",
    "             return super().__new__(VectorInt)\n",
    "        return super().__new__(cls)\n",
    "        \n",
    "    def __init__(self, *args):\n",
    "        self.args = args\n",
    "        \n",
    "    def check_len(self, other):\n",
    "        if not len(self.args) == len(other.args):\n",
    "            raise TypeError('размерности векторов не совпадают')\n",
    "    \n",
    "    def __add__(self, other):\n",
    "        self.check_len(other)\n",
    "        return Vector(*map(lambda x, y: x + y, self.args, other.args))\n",
    "    \n",
    "    def __sub__(self, other):\n",
    "        self.check_len(other)\n",
    "        return Vector(*map(lambda x, y: x - y, self.args, other.args))\n",
    "    \n",
    "    def get_coords(self):\n",
    "        return self.args\n",
    "    \n",
    "    \n",
    "class VectorInt(Vector):\n",
    "    def __init__(self, *args):\n",
    "        if not all((type(c) == int for c in args)):\n",
    "            raise ValueError('координаты должны быть целыми числами')\n",
    "        super().__init__(*args)\n",
    "        \n",
    "    "
   ]
  },
  {
   "cell_type": "code",
   "execution_count": 69,
   "id": "1e12341c-5552-4bbb-b6a8-90e37dc396d9",
   "metadata": {},
   "outputs": [
    {
     "data": {
      "text/plain": [
       "__main__.VectorInt"
      ]
     },
     "execution_count": 69,
     "metadata": {},
     "output_type": "execute_result"
    }
   ],
   "source": [
    "v1 = Vector(1, 2, 3)\n",
    "v2 = Vector(3, 4, 5)\n",
    "v = v1 + v2\n",
    "v.__dict__\n",
    "vi = VectorInt(1, 2, 3, 4)\n",
    "vi.__dict__\n",
    "#vi2 = VectorInt(1, 0.2, 3, 4)\n",
    "v = v1 + v2\n",
    "v = v1 - v2\n",
    "type(v)"
   ]
  },
  {
   "cell_type": "code",
   "execution_count": 70,
   "id": "aca938a7-7733-45c5-a908-f9114e08611b",
   "metadata": {},
   "outputs": [
    {
     "data": {
      "text/plain": [
       "(__main__.VectorInt, __main__.Vector, object)"
      ]
     },
     "execution_count": 70,
     "metadata": {},
     "output_type": "execute_result"
    }
   ],
   "source": [
    "v.__class__.__mro__"
   ]
  },
  {
   "cell_type": "code",
   "execution_count": null,
   "id": "ff9b5235-493a-42af-a672-b4c82b7fdc1e",
   "metadata": {},
   "outputs": [],
   "source": []
  }
 ],
 "metadata": {
  "kernelspec": {
   "display_name": "Python 3 (ipykernel)",
   "language": "python",
   "name": "python3"
  },
  "language_info": {
   "codemirror_mode": {
    "name": "ipython",
    "version": 3
   },
   "file_extension": ".py",
   "mimetype": "text/x-python",
   "name": "python",
   "nbconvert_exporter": "python",
   "pygments_lexer": "ipython3",
   "version": "3.9.5"
  }
 },
 "nbformat": 4,
 "nbformat_minor": 5
}
