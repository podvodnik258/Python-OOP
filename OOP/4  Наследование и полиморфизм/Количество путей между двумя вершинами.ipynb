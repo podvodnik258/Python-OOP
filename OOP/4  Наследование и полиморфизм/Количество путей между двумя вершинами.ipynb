{
 "cells": [
  {
   "cell_type": "code",
   "execution_count": null,
   "id": "3f6a4fa5-c5ec-4b3b-befb-e6159f45f160",
   "metadata": {},
   "outputs": [],
   "source": [
    "# Найти количество путей между двумя вершинами в некотором графе\n",
    "graph = {'A': ('B', 'C'),\n",
    "         'B': ('A', 'D', 'E'),\n",
    "         'C': ('A', 'F'),\n",
    "         'D': ('B'),\n",
    "         'E': ('B', 'F'),\n",
    "         'F': ('C', 'E')}\n",
    "         \n",
    "def backtrack(g,curr,fin,path):\n",
    "    for v in g[curr]:\n",
    "        if v==fin:\n",
    "            print(path+[fin])\n",
    "        elif not (v in path):\n",
    "            backtrack(g,v,fin,path+[v])\n",
    "\n",
    "backtrack(graph,'A','F',['A'])"
   ]
  }
 ],
 "metadata": {
  "kernelspec": {
   "display_name": "Python 3 (ipykernel)",
   "language": "python",
   "name": "python3"
  },
  "language_info": {
   "codemirror_mode": {
    "name": "ipython",
    "version": 3
   },
   "file_extension": ".py",
   "mimetype": "text/x-python",
   "name": "python",
   "nbconvert_exporter": "python",
   "pygments_lexer": "ipython3",
   "version": "3.9.5"
  }
 },
 "nbformat": 4,
 "nbformat_minor": 5
}
