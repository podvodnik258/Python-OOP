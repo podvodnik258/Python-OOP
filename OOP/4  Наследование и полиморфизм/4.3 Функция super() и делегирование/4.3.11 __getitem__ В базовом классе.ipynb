{
 "cells": [
  {
   "cell_type": "code",
   "execution_count": null,
   "id": "5b676784-72f3-4c98-87b5-e6fd73fe557a",
   "metadata": {},
   "outputs": [],
   "source": [
    "class ItemAttrs:\n",
    "    def __getitem__(self, item):\n",
    "        return self.__dict__[list(self.__dict__)[item]]\n",
    "\n",
    "    def __setitem__(self, key, value):\n",
    "        self.__dict__[list(self.__dict__)[key]] = value\n",
    "\n",
    "\n",
    "class Point(ItemAttrs):\n",
    "    def __init__(self, x, y):\n",
    "        self.x, self.y = x, y"
   ]
  },
  {
   "cell_type": "code",
   "execution_count": null,
   "id": "4344aebf-63f7-40c6-8b01-9b0dd2d754c6",
   "metadata": {},
   "outputs": [],
   "source": [
    "class ItemAttrs:\n",
    "    def __init__(self, x, y):\n",
    "        self.points = [x, y]\n",
    "\n",
    "    def __getitem__(self, item):\n",
    "        return self.points[item]\n",
    "\n",
    "    def __setitem__(self, key, value):\n",
    "        self.points[key] = value\n",
    "\n",
    "class Point(ItemAttrs):\n",
    "    pass"
   ]
  },
  {
   "cell_type": "code",
   "execution_count": null,
   "id": "c7cf5008-c9ed-4c88-a04c-ceb0a79b2e13",
   "metadata": {},
   "outputs": [],
   "source": [
    "class ItemAttrs:\n",
    "    def __init__(self, x, y):\n",
    "        self.x = x\n",
    "        self.y = y\n",
    "\n",
    "    def __getitem__(self, item: int):\n",
    "        return (self.x, self.y)[item]\n",
    "\n",
    "    def __setitem__(self, key: int, value: (int, float)):\n",
    "        self.__dict__[list(self.__dict__)[key]] = value\n",
    "\n",
    "\n",
    "class Point(ItemAttrs):\n",
    "    def __init__(self, x, y):\n",
    "        super().__init__(x, y)"
   ]
  },
  {
   "cell_type": "code",
   "execution_count": 6,
   "id": "c8ce895b-48c8-4d50-bbb1-f4e99559fd78",
   "metadata": {},
   "outputs": [],
   "source": [
    "class ItemAttrs:\n",
    "    def __getitem__(self, key):\n",
    "        return self.__dict__['coords'][key]\n",
    "    \n",
    "    def __setitem__(self, key, value):\n",
    "        self.__dict__['coords'][key] = value\n",
    "    \n",
    "    \n",
    "class Point(ItemAttrs):\n",
    "    def __init__(self, x, y):\n",
    "        self.coords = [x, y]"
   ]
  },
  {
   "cell_type": "code",
   "execution_count": 8,
   "id": "cc56179f-0242-411d-b97b-0ffaae470f29",
   "metadata": {},
   "outputs": [
    {
     "name": "stdout",
     "output_type": "stream",
     "text": [
      "1 2.5\n"
     ]
    }
   ],
   "source": [
    "pt = Point(1, 2.5)\n",
    "x = pt[0]   # 1\n",
    "y = pt[1]   # 2.5\n",
    "pt[0] = 10\n",
    "print(x, y)"
   ]
  },
  {
   "cell_type": "code",
   "execution_count": 3,
   "id": "651a5208-4139-4a15-9256-52fa4cbeba9b",
   "metadata": {},
   "outputs": [],
   "source": [
    "class ItemAttrs(list): pass\n",
    "class Point(ItemAttrs):\n",
    "    def __init__(self, x, y):\n",
    "        super().__init__([x, y])"
   ]
  },
  {
   "cell_type": "code",
   "execution_count": 4,
   "id": "0ca72aef-c517-4d73-9f16-2e0202e86069",
   "metadata": {},
   "outputs": [
    {
     "data": {
      "text/plain": [
       "1"
      ]
     },
     "execution_count": 4,
     "metadata": {},
     "output_type": "execute_result"
    }
   ],
   "source": [
    "class ItemAttrs:\n",
    "    def __getitem__(self, item):\n",
    "        return self.__dict__[item]\n",
    "\n",
    "    def __setitem__(self, key, value):\n",
    "        self.__dict__[key] = value\n",
    "\n",
    "class Point(ItemAttrs):\n",
    "    att_num = 0\n",
    "    def __init__(self, *args, **kwargs):\n",
    "        for i in args:\n",
    "            self.__dict__[self.att_num] = i\n",
    "            self.att_num += 1"
   ]
  },
  {
   "cell_type": "code",
   "execution_count": null,
   "id": "9c024daf-24a1-4cc1-ae8a-75f6135480ee",
   "metadata": {},
   "outputs": [],
   "source": []
  }
 ],
 "metadata": {
  "kernelspec": {
   "display_name": "Python 3 (ipykernel)",
   "language": "python",
   "name": "python3"
  },
  "language_info": {
   "codemirror_mode": {
    "name": "ipython",
    "version": 3
   },
   "file_extension": ".py",
   "mimetype": "text/x-python",
   "name": "python",
   "nbconvert_exporter": "python",
   "pygments_lexer": "ipython3",
   "version": "3.9.5"
  }
 },
 "nbformat": 4,
 "nbformat_minor": 5
}
