{
 "cells": [
  {
   "cell_type": "code",
   "execution_count": 7,
   "id": "52922a1b-655c-4e86-9e27-6834977a48e2",
   "metadata": {},
   "outputs": [],
   "source": [
    "class Thing:\n",
    "    def __init__(self, name, weight):\n",
    "        self.name = name\n",
    "        self.weight = weight\n",
    "        \n",
    "        \n",
    "class ArtObject(Thing):\n",
    "    def __init__(self, name, weight, author, date):\n",
    "        super().__init__(name, weight)\n",
    "        self.author = author\n",
    "        self.date = date\n",
    "\n",
    "        \n",
    "class Computer(Thing):\n",
    "    def __init__(self, name, weight, memory, CPU):\n",
    "        super().__init__(name, weight)\n",
    "        self.memory = memory\n",
    "        self.CPU = CPU\n",
    "        \n",
    "        \n",
    "class Auto(Thing):\n",
    "    def __init__(self, name, weight, dims):\n",
    "        super().__init__(name, weight)\n",
    "        self.dims = dims\n",
    "        \n",
    "        \n",
    "class Mercedes(Auto):\n",
    "    def __init__(self, name, weight, dims, model, old):\n",
    "        super().__init__(name, weight, dims)\n",
    "        self.model = model\n",
    "        self.old = old\n",
    "        \n",
    "        \n",
    "class Toyota(Auto):\n",
    "    def __init__(self, name, weight, dims, model, wheel):\n",
    "        super().__init__(name, weight, dims)\n",
    "        self.model = model\n",
    "        self.wheel = wheel "
   ]
  },
  {
   "cell_type": "code",
   "execution_count": null,
   "id": "f7de9d0c-9e6a-4ba4-9e2a-0c56a820362f",
   "metadata": {},
   "outputs": [],
   "source": [
    "class Thing:\n",
    "    arg = ['name', 'weight']\n",
    "\n",
    "    def __init__(self, *args):\n",
    "        for i in range(len(args)):\n",
    "            setattr(self, self.arg[i], args[i])\n",
    "\n",
    "\n",
    "class ArtObject(Thing):\n",
    "    arg = ['name', 'weight', 'author', 'date']\n",
    "\n",
    "\n",
    "class Computer(Thing):\n",
    "    arg = ['name', 'weight', 'memory', 'CPU']\n",
    "\n",
    "\n",
    "class Auto(Thing):\n",
    "    arg = ['name', 'weight', 'dims']\n",
    "\n",
    "\n",
    "class Mercedes(Auto):\n",
    "    arg = ['name', 'weight', 'dims', 'model', 'old']\n",
    "\n",
    "\n",
    "class Toyota(Auto):\n",
    "    arg = ['name', 'weight', 'dims', 'model', 'wheel']"
   ]
  },
  {
   "cell_type": "code",
   "execution_count": 8,
   "id": "b106aee1-75ed-414f-b6ab-ec0a851993be",
   "metadata": {},
   "outputs": [],
   "source": [
    "auto1 = Mercedes('name', 100004.6, (1.2, 2.3, 3.4), 'model1', 10) "
   ]
  },
  {
   "cell_type": "code",
   "execution_count": null,
   "id": "a1dc7364-7dc0-4841-be41-15b740ddb1d2",
   "metadata": {},
   "outputs": [],
   "source": []
  }
 ],
 "metadata": {
  "kernelspec": {
   "display_name": "Python 3 (ipykernel)",
   "language": "python",
   "name": "python3"
  },
  "language_info": {
   "codemirror_mode": {
    "name": "ipython",
    "version": 3
   },
   "file_extension": ".py",
   "mimetype": "text/x-python",
   "name": "python",
   "nbconvert_exporter": "python",
   "pygments_lexer": "ipython3",
   "version": "3.9.5"
  }
 },
 "nbformat": 4,
 "nbformat_minor": 5
}
