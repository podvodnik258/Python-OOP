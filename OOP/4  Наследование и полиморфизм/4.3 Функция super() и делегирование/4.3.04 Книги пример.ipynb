{
 "cells": [
  {
   "cell_type": "code",
   "execution_count": 1,
   "id": "acf3aa32-07e1-44d3-a2e6-090b1ad30dd8",
   "metadata": {},
   "outputs": [],
   "source": [
    "class Book:\n",
    "    def __init__(self, title, author, pages, year):\n",
    "        self.title, self.author, self.pages, self.year = title, author, pages, year\n",
    "        \n",
    "\n",
    "class DigitBook(Book):\n",
    "    def __init__(self,title, author, pages, year, size, frm):\n",
    "        super().__init__(title, author, pages, year)\n",
    "        self.size, self.frm = size, frm"
   ]
  },
  {
   "cell_type": "code",
   "execution_count": null,
   "id": "9b5973b1-746f-4da8-9b20-467a1cd39d7e",
   "metadata": {},
   "outputs": [],
   "source": []
  }
 ],
 "metadata": {
  "kernelspec": {
   "display_name": "Python 3 (ipykernel)",
   "language": "python",
   "name": "python3"
  },
  "language_info": {
   "codemirror_mode": {
    "name": "ipython",
    "version": 3
   },
   "file_extension": ".py",
   "mimetype": "text/x-python",
   "name": "python",
   "nbconvert_exporter": "python",
   "pygments_lexer": "ipython3",
   "version": "3.9.5"
  }
 },
 "nbformat": 4,
 "nbformat_minor": 5
}
