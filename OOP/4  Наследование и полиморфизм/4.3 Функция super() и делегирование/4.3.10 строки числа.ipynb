{
 "cells": [
  {
   "cell_type": "code",
   "execution_count": 3,
   "id": "dba378bb-3c3d-4a71-a8fe-31d742e2f46d",
   "metadata": {},
   "outputs": [],
   "source": [
    "class StringDigit(str):\n",
    "    def __init__(self, value):\n",
    "        if not all(x.isdigit() for x in self):\n",
    "            raise ValueError(\"в строке должны быть только цифры\")\n",
    "        super().__init__()    \n",
    "    \n",
    "    def __add__(self, other):\n",
    "        return StringDigit(''.join((self, other)))\n",
    "    \n",
    "    def __radd__(self, other):\n",
    "        return StringDigit(''.join((other, self)))"
   ]
  },
  {
   "cell_type": "code",
   "execution_count": 4,
   "id": "b955cf7b-ccd6-4014-885e-08c43f8fa67e",
   "metadata": {},
   "outputs": [
    {
     "name": "stdout",
     "output_type": "stream",
     "text": [
      "0123\n",
      "0123456\n",
      "7890123456\n"
     ]
    }
   ],
   "source": [
    "sd = StringDigit(\"0123\")\n",
    "print(sd) \n",
    "sd = sd + \"456\"\n",
    "print(sd) \n",
    "sd = \"789\" + sd # StringDigit: 789123456\n",
    "print(sd) "
   ]
  },
  {
   "cell_type": "code",
   "execution_count": 16,
   "id": "34020017-a69d-4ae7-8679-a3a1dd4e783f",
   "metadata": {},
   "outputs": [
    {
     "data": {
      "text/plain": [
       "'123456'"
      ]
     },
     "execution_count": 26,
     "metadata": {},
     "output_type": "execute_result"
    }
   ],
   "source": [
    "sd"
   ]
  },
  {
   "cell_type": "code",
   "execution_count": null,
   "id": "3c1edaf3-51bf-4e4c-8155-938ac37f02a4",
   "metadata": {},
   "outputs": [],
   "source": [
    "class StringDigit(str):\n",
    "    def __init__(self, value):\n",
    "        super().__init__(value)    "
   ]
  },
  {
   "cell_type": "code",
   "execution_count": null,
   "id": "91459418-b19c-4cdd-a521-1967dffb70a4",
   "metadata": {},
   "outputs": [],
   "source": [
    "sd = StringDigit(\"123\")"
   ]
  },
  {
   "cell_type": "code",
   "execution_count": null,
   "id": "1b06095f-19e0-426a-a22b-364bdf17c6ff",
   "metadata": {},
   "outputs": [],
   "source": []
  }
 ],
 "metadata": {
  "kernelspec": {
   "display_name": "Python 3 (ipykernel)",
   "language": "python",
   "name": "python3"
  },
  "language_info": {
   "codemirror_mode": {
    "name": "ipython",
    "version": 3
   },
   "file_extension": ".py",
   "mimetype": "text/x-python",
   "name": "python",
   "nbconvert_exporter": "python",
   "pygments_lexer": "ipython3",
   "version": "3.9.5"
  }
 },
 "nbformat": 4,
 "nbformat_minor": 5
}
