{
 "cells": [
  {
   "cell_type": "code",
   "execution_count": 1,
   "id": "a3b4d7b7-74df-41cc-a04d-6bee54a225e0",
   "metadata": {},
   "outputs": [],
   "source": [
    "class Router:\n",
    "    app = {}\n",
    "\n",
    "    @classmethod\n",
    "    def get(cls, path):\n",
    "        return cls.app.get(path)\n",
    "\n",
    "    @classmethod\n",
    "    def add_callback(cls, path, func):\n",
    "        cls.app[path] = func\n",
    "        \n",
    "class Callback:\n",
    "    def __init__(self, path, router_cls):\n",
    "        self.__path = path\n",
    "        self.__router_cls = router_cls\n",
    "        \n",
    "    def __call__(self, func):\n",
    "        self.__router_cls.add_callback(self.__path, func)"
   ]
  },
  {
   "cell_type": "code",
   "execution_count": 2,
   "id": "319d64ba-a69e-409a-b3e5-22893264391d",
   "metadata": {},
   "outputs": [
    {
     "name": "stdout",
     "output_type": "stream",
     "text": [
      "<h1>Главная</h1>\n"
     ]
    }
   ],
   "source": [
    "@Callback('/', Router)\n",
    "def index():\n",
    "    return '<h1>Главная</h1>'\n",
    "\n",
    "\n",
    "route = Router.get('/')\n",
    "if route:\n",
    "    ret = route()\n",
    "    print(ret)"
   ]
  },
  {
   "cell_type": "code",
   "execution_count": null,
   "id": "4950cdc0-b216-48aa-abab-b43190e9dbd1",
   "metadata": {},
   "outputs": [],
   "source": []
  }
 ],
 "metadata": {
  "kernelspec": {
   "display_name": "Python 3 (ipykernel)",
   "language": "python",
   "name": "python3"
  },
  "language_info": {
   "codemirror_mode": {
    "name": "ipython",
    "version": 3
   },
   "file_extension": ".py",
   "mimetype": "text/x-python",
   "name": "python",
   "nbconvert_exporter": "python",
   "pygments_lexer": "ipython3",
   "version": "3.9.5"
  }
 },
 "nbformat": 4,
 "nbformat_minor": 5
}
