{
 "cells": [
  {
   "cell_type": "code",
   "execution_count": 3,
   "id": "a3b4d7b7-74df-41cc-a04d-6bee54a225e0",
   "metadata": {},
   "outputs": [],
   "source": [
    "class SellItem:\n",
    "    def __init__(self, name, price):\n",
    "        self.name = name\n",
    "        self.price = price\n",
    "        \n",
    "class House(SellItem):\n",
    "    def __init__(self, name, price, material, square):\n",
    "        super().__init__(name, price)\n",
    "        self.material = material\n",
    "        self.square = square\n",
    "    \n",
    "class Flat(SellItem):\n",
    "    def __init__(self, name, price, size, rooms):\n",
    "        super().__init__(name, price)\n",
    "        self.size = size\n",
    "        self.rooms = rooms\n",
    "    \n",
    "class Land(SellItem):\n",
    "    def __init__(self, name, price, square):\n",
    "        super().__init__(name, price)\n",
    "        self.square = square\n",
    "\n",
    "class Agency:\n",
    "    def __init__(self, name):\n",
    "        self.name = name\n",
    "        self.objects = []\n",
    "        \n",
    "    def add_object(self, obj):\n",
    "        if isinstance(obj, SellItem):\n",
    "            self.objects.append(obj)\n",
    "    \n",
    "    def remove_object(self, obj):\n",
    "        del self.objects[obj]\n",
    "    \n",
    "    def get_objects(self):\n",
    "        return self.objects"
   ]
  },
  {
   "cell_type": "code",
   "execution_count": 4,
   "id": "cc4b2613-b545-4955-8521-ce3dcb263469",
   "metadata": {},
   "outputs": [
    {
     "name": "stdout",
     "output_type": "stream",
     "text": [
      "квартира, 3к\n",
      "квартира, 2к\n",
      "квартира, 1к\n",
      "дом, крипичный\n",
      "участок под застройку\n"
     ]
    }
   ],
   "source": [
    "ag = Agency(\"Рога и копыта\")\n",
    "ag.add_object(Flat(\"квартира, 3к\", 10000000, 121.5, 3))\n",
    "ag.add_object(Flat(\"квартира, 2к\", 8000000, 74.5, 2))\n",
    "ag.add_object(Flat(\"квартира, 1к\", 4000000, 54, 1))\n",
    "ag.add_object(House(\"дом, крипичный\", price=35000000, material=\"кирпич\", square=186.5))\n",
    "ag.add_object(Land(\"участок под застройку\", 3000000, 6.74))\n",
    "for obj in ag.get_objects():\n",
    "    print(obj.name)\n",
    "\n",
    "lst_houses = list(filter(lambda x: isinstance(x, House), ag.get_objects()))  # выделение списка домов"
   ]
  },
  {
   "cell_type": "code",
   "execution_count": 5,
   "id": "4e5bab73-60dd-4b6a-a4a5-f9cc6a488b01",
   "metadata": {},
   "outputs": [],
   "source": [
    "# class Agency(list)\n",
    "\n",
    "\n",
    "class SellItem:\n",
    "\tdef __init__(self, name, price):\n",
    "\t\tself.name = name\n",
    "\t\tself.price = price\n",
    "\t\t\n",
    "\n",
    "class House(SellItem):\n",
    "\tdef __init__(self, name, price, material, square):\n",
    "\t\tsuper().__init__(name, price)\n",
    "\t\tself.material = material\n",
    "\t\tself.square = square\n",
    "\t\t\n",
    "\t\t\n",
    "class Flat(SellItem):\n",
    "\tdef __init__(self, name, price, size, rooms):\n",
    "\t\tsuper().__init__(name, price)\n",
    "\t\tself.size = size\n",
    "\t\tself.rooms = rooms\n",
    "\t\t\n",
    "\t\t\n",
    "class Land(SellItem):\n",
    "\tdef __init__(self, name, price, square):\n",
    "\t\tsuper().__init__(name, price)\n",
    "\t\tself.square = square\n",
    "\t\t\n",
    "\n",
    "class Agency(list):\n",
    "\tdef __init__(self, name):\n",
    "\t\tself.name = name\t\t\n",
    "\t\t\n",
    "\tdef add_object(self, obj):\n",
    "\t\tif not isinstance(obj, SellItem):\n",
    "\t\t\traise ValueError\n",
    "\t\tself.append(obj)\n",
    "\t\t\n",
    "\tdef get_objects(self):\n",
    "\t\treturn self\n",
    "\t\t\n",
    "\tdef remove_object(self, obj):\n",
    "\t\tself.remove(obj)"
   ]
  },
  {
   "cell_type": "code",
   "execution_count": null,
   "id": "69b7df59-bb2b-4852-b860-cb8daa24bbd6",
   "metadata": {},
   "outputs": [],
   "source": []
  }
 ],
 "metadata": {
  "kernelspec": {
   "display_name": "Python 3 (ipykernel)",
   "language": "python",
   "name": "python3"
  },
  "language_info": {
   "codemirror_mode": {
    "name": "ipython",
    "version": 3
   },
   "file_extension": ".py",
   "mimetype": "text/x-python",
   "name": "python",
   "nbconvert_exporter": "python",
   "pygments_lexer": "ipython3",
   "version": "3.9.5"
  }
 },
 "nbformat": 4,
 "nbformat_minor": 5
}
