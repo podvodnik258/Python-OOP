{
 "cells": [
  {
   "cell_type": "code",
   "execution_count": 36,
   "id": "035cc288-d9d4-46d0-9bf8-8a5a094593b0",
   "metadata": {},
   "outputs": [],
   "source": [
    "class SoftList(list):\n",
    "    def __init__(self, args):\n",
    "        super().__init__(args)\n",
    "    \n",
    "    def __getitem__(self, key):\n",
    "        if not - len(self) <= key < len(self):\n",
    "            return False\n",
    "        return super().__getitem__(key)"
   ]
  },
  {
   "cell_type": "code",
   "execution_count": null,
   "id": "852b9360-3943-4366-86bc-317d609051c1",
   "metadata": {},
   "outputs": [],
   "source": [
    "class SoftList(list):\n",
    "    def __getitem__(self, item):\n",
    "        try:\n",
    "            return super().__getitem__(item)\n",
    "        except IndexError:\n",
    "            return False"
   ]
  },
  {
   "cell_type": "code",
   "execution_count": null,
   "id": "ec6b7a24-21d5-404d-9707-32a410570e76",
   "metadata": {},
   "outputs": [],
   "source": [
    "class SoftList(list):\n",
    "    def __getitem__(self, item):\n",
    "        try: return super().__getitem__(item)\n",
    "        except IndexError: return False"
   ]
  },
  {
   "cell_type": "code",
   "execution_count": null,
   "id": "e2fa3ec0-8dcb-4975-8aca-46c01fe86faa",
   "metadata": {},
   "outputs": [],
   "source": [
    "class SoftList(list):\n",
    "    def __try(func):\n",
    "        def wrapper(*args, **kwargs):\n",
    "            try:\n",
    "                return func(*args, **kwargs)\n",
    "            except IndexError:\n",
    "                return False\n",
    "        return wrapper\n",
    "    \n",
    "    @__try\n",
    "    def __setitem__(self, key, value):\n",
    "        return super().__setitem__(key, value)\n",
    "        \n",
    "    @__try\n",
    "    def __getitem__(self, item):\n",
    "        return super().__getitem__(item)"
   ]
  },
  {
   "cell_type": "code",
   "execution_count": 37,
   "id": "12e6b5ea-31ba-4bb8-b3e7-bf26c1507caa",
   "metadata": {},
   "outputs": [
    {
     "name": "stdout",
     "output_type": "stream",
     "text": [
      "p\n",
      "n\n",
      "False\n",
      "False\n"
     ]
    }
   ],
   "source": [
    "sl = SoftList(\"python\")\n",
    "print(sl[0]) # 'p'\n",
    "print(sl[-1]) # 'n'\n",
    "print(sl[6]) # False\n",
    "print(sl[-7]) # False"
   ]
  },
  {
   "cell_type": "code",
   "execution_count": null,
   "id": "49ae57ac-3c5f-4691-820f-ee497f7c9669",
   "metadata": {},
   "outputs": [],
   "source": []
  }
 ],
 "metadata": {
  "kernelspec": {
   "display_name": "Python 3 (ipykernel)",
   "language": "python",
   "name": "python3"
  },
  "language_info": {
   "codemirror_mode": {
    "name": "ipython",
    "version": 3
   },
   "file_extension": ".py",
   "mimetype": "text/x-python",
   "name": "python",
   "nbconvert_exporter": "python",
   "pygments_lexer": "ipython3",
   "version": "3.9.5"
  }
 },
 "nbformat": 4,
 "nbformat_minor": 5
}
