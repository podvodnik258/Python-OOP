{
 "cells": [
  {
   "cell_type": "code",
   "execution_count": 10,
   "id": "0e5dcf2f-ef43-4686-b92a-bf864c6393fb",
   "metadata": {},
   "outputs": [],
   "source": [
    "class Person:\n",
    "    __slots__ = '_fio', '_old', '_job',\n",
    "    \n",
    "    def __init__(self, fio, old, job):\n",
    "        self._fio, self._old, self._job = fio, old, job\n",
    "        \n",
    "        \n",
    "persons = [Person('Суворов', 52, 'полководец'),\n",
    "           Person('Рахманинов', 50, 'пианист, композитор'),\n",
    "           Person('Балакирев', 34, 'программист и преподаватель'),\n",
    "           Person('Пушкин', 32, 'поэт и писатель')\n",
    "           ]"
   ]
  },
  {
   "cell_type": "code",
   "execution_count": 7,
   "id": "5cfcf99d-3764-45a7-a37b-5dedd290bdde",
   "metadata": {},
   "outputs": [],
   "source": [
    "s = '''Путин, 62, президент РФ\n",
    "Шойгу, 60, министр обороны РФ\n",
    "Балакирев, 34, программист и преподаватель\n",
    "Пушкин, 32, поэт и писатель'''\n",
    "persons = [Person(*i.split(', ')) for i in s.splitlines()]"
   ]
  },
  {
   "cell_type": "code",
   "execution_count": 9,
   "id": "2b23ec9a-6856-464b-ac68-a7e6df3fa041",
   "metadata": {},
   "outputs": [
    {
     "name": "stdout",
     "output_type": "stream",
     "text": [
      "('_plus',)\n",
      "('_fio', '_old', '_job')\n"
     ]
    },
    {
     "data": {
      "text/plain": [
       "[None, None]"
      ]
     },
     "execution_count": 9,
     "metadata": {},
     "output_type": "execute_result"
    }
   ],
   "source": [
    "class Person:\n",
    "    __slots__ = \"_fio\", \"_old\", \"_job\"\n",
    "    \n",
    "class PersonPlus(Person):\n",
    "    __slots__ = \"_plus\",\n",
    "    \n",
    "[print(elem.__slots__) for elem in PersonPlus.mro()[:-1]]"
   ]
  },
  {
   "cell_type": "code",
   "execution_count": null,
   "id": "c866ce55-11bf-4708-b06c-96509a0ca00e",
   "metadata": {},
   "outputs": [],
   "source": []
  }
 ],
 "metadata": {
  "kernelspec": {
   "display_name": "Python 3 (ipykernel)",
   "language": "python",
   "name": "python3"
  },
  "language_info": {
   "codemirror_mode": {
    "name": "ipython",
    "version": 3
   },
   "file_extension": ".py",
   "mimetype": "text/x-python",
   "name": "python",
   "nbconvert_exporter": "python",
   "pygments_lexer": "ipython3",
   "version": "3.9.5"
  }
 },
 "nbformat": 4,
 "nbformat_minor": 5
}
