{
 "cells": [
  {
   "cell_type": "code",
   "execution_count": 32,
   "id": "47172209-ecfe-4160-98d5-d68b75c08f9f",
   "metadata": {},
   "outputs": [],
   "source": [
    "class Note:\n",
    "    __сyrillic_notes = 'до', 'ре', 'ми', 'фа', 'соль', 'ля', 'си'\n",
    "    __tones = -1, 0, 1\n",
    "    \n",
    "    def __init__(self, name, ton):\n",
    "        self._name = name\n",
    "        self._ton = ton\n",
    "    \n",
    "    def __setattr__(self, key, value):\n",
    "        if key == '_name' and value not in self.__сyrillic_notes:\n",
    "            raise ValueError('недопустимое значение аргумента')\n",
    "        if key == '_ton' and value not in self.__tones:\n",
    "            raise ValueError('недопустимое значение аргумента')\n",
    "        super().__setattr__(key, value)\n",
    "        \n",
    "        \n",
    "class Notes:\n",
    "    __slots__ = '_do', '_re', '_mi', '_fa', '_solt', '_la', '_si' \n",
    "    __сyrillic_notes  = 'до', 'ре', 'ми', 'фа', 'соль', 'ля', 'си'\n",
    "    __instance = None\n",
    "    \n",
    "    def __new__(cls, *args, **kwargs):\n",
    "        if cls.__instance is None:\n",
    "            cls.__instance = super().__new__(cls)\n",
    "        return cls.__instance\n",
    "    \n",
    "    def __init__(self):\n",
    "        for k, v in list(zip(self.__slots__, self.__сyrillic_notes)):\n",
    "            setattr(self, k, Note(v, 0)) \n",
    "        \n",
    "    @classmethod\n",
    "    def check_indx(cls, indx):\n",
    "        if type(indx) != int or not 0 <= indx <= 6:\n",
    "            raise IndexError('недопустимый индекс')\n",
    "            \n",
    "    def __getitem__(self, key):\n",
    "        return self.__getattribute__(self.__slots__[key])\n",
    "    \n",
    "    def __setitem__(self, key, value):\n",
    "        self.check_indx(key)\n",
    "        self[key]._ton = value\n",
    "\n",
    "        \n",
    "notes = Notes()"
   ]
  },
  {
   "cell_type": "code",
   "execution_count": 33,
   "id": "68705219-8872-44e6-b1b1-a8c79fd16523",
   "metadata": {},
   "outputs": [],
   "source": [
    "n = Notes()"
   ]
  },
  {
   "cell_type": "code",
   "execution_count": 38,
   "id": "183243dc-eb9b-43dd-8453-0f2d670a2951",
   "metadata": {},
   "outputs": [
    {
     "data": {
      "text/plain": [
       "-1"
      ]
     },
     "execution_count": 38,
     "metadata": {},
     "output_type": "execute_result"
    }
   ],
   "source": [
    "n[3]._ton"
   ]
  },
  {
   "cell_type": "code",
   "execution_count": 36,
   "id": "0955fd36-0490-4238-bd69-5952765d1374",
   "metadata": {},
   "outputs": [],
   "source": [
    "n[3]._ton = -1"
   ]
  },
  {
   "cell_type": "code",
   "execution_count": null,
   "id": "970c8c25-a1e8-4c5d-b3f8-29e231591498",
   "metadata": {},
   "outputs": [],
   "source": []
  }
 ],
 "metadata": {
  "kernelspec": {
   "display_name": "Python 3 (ipykernel)",
   "language": "python",
   "name": "python3"
  },
  "language_info": {
   "codemirror_mode": {
    "name": "ipython",
    "version": 3
   },
   "file_extension": ".py",
   "mimetype": "text/x-python",
   "name": "python",
   "nbconvert_exporter": "python",
   "pygments_lexer": "ipython3",
   "version": "3.9.5"
  }
 },
 "nbformat": 4,
 "nbformat_minor": 5
}
