{
 "cells": [
  {
   "cell_type": "code",
   "execution_count": 2,
   "id": "0e5dcf2f-ef43-4686-b92a-bf864c6393fb",
   "metadata": {},
   "outputs": [],
   "source": [
    "class Planet:\n",
    "    def __init__(self, name, diametr, period_solar, period):\n",
    "        self._name = name\n",
    "        self._diametr = diametr\n",
    "        self._period_solar = period_solar\n",
    "        self._period = period\n",
    "        \n",
    "\n",
    "class SolarSystem:        \n",
    "    __slots__ = ('_mercury', '_venus', '_earth', '_mars', '_jupiter', '_saturn', '_uranus', '_neptune')\n",
    "    __instance = None\n",
    "    \n",
    "    def __new__(cls, *args, **kwargs):\n",
    "        if cls.__instance is None:\n",
    "            cls.__instance = super().__new__(cls)\n",
    "        return cls.__instance\n",
    "        \n",
    "    def __init__(self):\n",
    "        self._mercury = Planet('Меркурий', 4878, 87.97, 1407.5)\n",
    "        self._venus = Planet('Венера', 12104, 224.7, 5832.45)\n",
    "        self._earth = Planet('Земля', 12756, 365.3, 23.93)\n",
    "        self._mars = Planet('Марс', 6794, 687, 24.62)\n",
    "        self._jupiter = Planet('Юпитер', 142800, 4330, 9.9)\n",
    "        self._saturn = Planet('Сатурн', 120660, 10753, 10.63)\n",
    "        self._uranus = Planet('Уран', 51118, 30665, 17.2)\n",
    "        self._neptune = Planet('Нептун', 49528, 60150, 16.1)\n",
    "        \n",
    "        \n",
    "s_system = SolarSystem()"
   ]
  },
  {
   "cell_type": "code",
   "execution_count": null,
   "id": "5115c7a9-ad13-41a4-9d33-13312404f7ab",
   "metadata": {},
   "outputs": [],
   "source": []
  }
 ],
 "metadata": {
  "kernelspec": {
   "display_name": "Python 3 (ipykernel)",
   "language": "python",
   "name": "python3"
  },
  "language_info": {
   "codemirror_mode": {
    "name": "ipython",
    "version": 3
   },
   "file_extension": ".py",
   "mimetype": "text/x-python",
   "name": "python",
   "nbconvert_exporter": "python",
   "pygments_lexer": "ipython3",
   "version": "3.9.5"
  }
 },
 "nbformat": 4,
 "nbformat_minor": 5
}
