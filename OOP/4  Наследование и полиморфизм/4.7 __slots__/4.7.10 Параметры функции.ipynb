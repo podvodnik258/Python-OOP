{
 "cells": [
  {
   "cell_type": "code",
   "execution_count": 101,
   "id": "bcd42f23-fe6d-4e76-a104-6b566c26f9e1",
   "metadata": {},
   "outputs": [],
   "source": [
    "class Function:\n",
    "    def __init__(self):\n",
    "        self._amplitude = 1.0     # амплитуда функции\n",
    "        self._bias = 0.0          # смещение функции по оси Oy\n",
    "\n",
    "    def __call__(self, x, *args, **kwargs):\n",
    "        return self._amplitude * self._get_function(x) + self._bias\n",
    "\n",
    "    def _get_function(self, x):\n",
    "        raise NotImplementedError('метод _get_function должен быть переопределен в дочернем классе')\n",
    "\n",
    "    def __add__(self, other):\n",
    "        if type(other) not in (int, float):\n",
    "            raise TypeError('смещение должно быть числом')\n",
    "\n",
    "        obj = self.__class__(self)\n",
    "        obj._bias = self._bias + other\n",
    "        return obj\n",
    "    \n",
    "    def __mul__(self, other):\n",
    "        if type(other) not in (int, float):\n",
    "            raise TypeError('масштаб должен быть числом')\n",
    "\n",
    "        obj = self.__class__(self)\n",
    "        obj._amplitude = self._amplitude * other\n",
    "        return obj\n",
    "    \n",
    "class Linear(Function):\n",
    "    def __init__(self, *args):\n",
    "        super().__init__()\n",
    "        if all(isinstance(el, (int, float)) for el in args[:2]):\n",
    "            self._k, self._b = args[:2]\n",
    "        if isinstance(args[0], Linear):\n",
    "            obj = args[0]\n",
    "            self._k, self._b = obj._k, obj._b\n",
    "       \n",
    "        \n",
    "    def _get_function(self, x):\n",
    "        return self._k * x + self._b"
   ]
  },
  {
   "cell_type": "code",
   "execution_count": 102,
   "id": "905c3983-32f4-4fdd-99f1-1be11f447838",
   "metadata": {},
   "outputs": [
    {
     "name": "stdout",
     "output_type": "stream",
     "text": [
      "0.5\n",
      "10.5\n",
      "0.5\n",
      "2.5\n"
     ]
    }
   ],
   "source": [
    "f = Linear(1, 0.5)\n",
    "f2 = f + 10   # изменение смещения (атрибут _bias)\n",
    "y1 = f(0)     # 0.5\n",
    "print(y1)\n",
    "y2 = f2(0)    # 10.5\n",
    "print(y2)\n",
    "\n",
    "f = Linear(1, 0.5)\n",
    "f2 = f * 5    # изменение амплитуды (атрибут _amplitude)\n",
    "y1 = f(0)     # 0.5\n",
    "print(y1)\n",
    "y2 = f2(0)    # 2.5\n",
    "print(y2)"
   ]
  },
  {
   "cell_type": "code",
   "execution_count": 103,
   "id": "cc2ae6c6-ee3d-4eca-9afc-bf58066a5f72",
   "metadata": {},
   "outputs": [
    {
     "name": "stdout",
     "output_type": "stream",
     "text": [
      "{'_amplitude': 1.0, '_bias': 0.0, '_k': 1, '_b': 0.5}\n",
      "{'_amplitude': 1.0, '_bias': 0.0, '_k': 1, '_b': 0.5}\n"
     ]
    }
   ],
   "source": [
    "f = Linear(1, 0.5)\n",
    "f3 = Linear(f)\n",
    "print(f.__dict__)\n",
    "print(f3.__dict__)"
   ]
  },
  {
   "cell_type": "code",
   "execution_count": null,
   "id": "eda89eb1-67ac-4e1f-9c0c-7999d4addcc2",
   "metadata": {},
   "outputs": [],
   "source": [
    "class Function:\n",
    "    def __init__(self):\n",
    "        self._amplitude = 1.0     # амплитуда функции\n",
    "        self._bias = 0.0          # смещение функции по оси Oy\n",
    "\n",
    "    def __call__(self, x, *args, **kwargs):\n",
    "        return self._amplitude * self._get_function(x) + self._bias\n",
    "\n",
    "    def _get_function(self, x):\n",
    "        raise NotImplementedError('метод _get_function должен быть переопределен в дочернем классе')\n",
    "\n",
    "    def __add__(self, other):\n",
    "        if type(other) not in (int, float):\n",
    "            raise TypeError('смещение должно быть числом')\n",
    "        obj = __import__('copy').deepcopy(self)\n",
    "        # obj = self.__class__(self)\n",
    "        obj._bias = self._bias + other\n",
    "        return obj\n",
    "\n",
    "    # здесь добавляйте еще один магический метод для умножения\n",
    "    def __mul__(self, other):\n",
    "        if type(other) not in (int, float):\n",
    "            raise TypeError('смещение должно быть числом')\n",
    "        obj = __import__('copy').deepcopy(self)\n",
    "        obj._amplitude = self._amplitude * other\n",
    "        return obj\n",
    "\n",
    "# здесь объявляйте класс Linear\n",
    "class Linear(Function):\n",
    "    def __init__(self, *args):\n",
    "        super().__init__()\n",
    "        try:\n",
    "            self._k = args[0]._k\n",
    "            self._b = args[0]._b\n",
    "        except AttributeError:\n",
    "            self._k, self._b = args\n",
    "\n",
    "    def _get_function(self, x):\n",
    "        return self._k * x + self._b"
   ]
  },
  {
   "cell_type": "code",
   "execution_count": null,
   "id": "13875ca8-0917-4034-80c6-e04a56d4e841",
   "metadata": {},
   "outputs": [],
   "source": []
  }
 ],
 "metadata": {
  "kernelspec": {
   "display_name": "Python 3 (ipykernel)",
   "language": "python",
   "name": "python3"
  },
  "language_info": {
   "codemirror_mode": {
    "name": "ipython",
    "version": 3
   },
   "file_extension": ".py",
   "mimetype": "text/x-python",
   "name": "python",
   "nbconvert_exporter": "python",
   "pygments_lexer": "ipython3",
   "version": "3.9.5"
  }
 },
 "nbformat": 4,
 "nbformat_minor": 5
}
