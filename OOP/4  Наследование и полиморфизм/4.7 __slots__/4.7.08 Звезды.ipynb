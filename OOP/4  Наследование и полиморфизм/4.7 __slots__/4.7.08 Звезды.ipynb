{
 "cells": [
  {
   "cell_type": "code",
   "execution_count": 5,
   "id": "50404672-b16e-4478-80b3-f0195498d65b",
   "metadata": {},
   "outputs": [],
   "source": [
    "class Star:\n",
    "    __slots__ = '_name', '_massa', '_temp',\n",
    "    \n",
    "    def __init__(self, name, massa, temp):\n",
    "        self._name, self._massa, self._temp = name, massa, temp\n",
    "        \n",
    "\n",
    "class WhiteDwarf(Star):\n",
    "    __slots__ = '_type_star', '_radius'\n",
    "    def __init__(self, name, massa, temp, type_star, radius):\n",
    "        super().__init__(name, massa, temp)\n",
    "        self._type_star, self._radius = type_star, radius\n",
    "    \n",
    "class YellowDwarf(Star):\n",
    "    __slots__ = '_type_star', '_radius'\n",
    "    def __init__(self, name, massa, temp, type_star, radius):\n",
    "        super().__init__(name, massa, temp)\n",
    "        self._type_star, self._radius = type_star, radius\n",
    "    \n",
    "class RedGiant(Star):\n",
    "    __slots__ = '_type_star', '_radius'\n",
    "    def __init__(self, name, massa, temp, type_star, radius):\n",
    "        super().__init__(name, massa, temp)\n",
    "        self._type_star, self._radius = type_star, radius\n",
    "    \n",
    "class Pulsar(Star):\n",
    "    __slots__ = '_type_star', '_radius'\n",
    "    def __init__(self, name, massa, temp, type_star, radius):\n",
    "        super().__init__(name, massa, temp)\n",
    "        self._type_star, self._radius = type_star, radius\n",
    "    \n",
    "stars = [RedGiant('Альдебаран', 5, 3600, 'красный гигант', 45),\n",
    "         WhiteDwarf('Сириус А', 2.1, 9250, 'белый карлик', 2),\n",
    "         WhiteDwarf('Сириус B', 1, 8200, 'белый карлик', 0.01),\n",
    "         YellowDwarf('Солнце', 1, 6000, 'желтый карлик', 1)] \n",
    "\n",
    "white_dwarfs = [obj for obj in stars if isinstance(obj, WhiteDwarf)]"
   ]
  },
  {
   "cell_type": "code",
   "execution_count": 6,
   "id": "014c0edc-c531-45c3-8e04-113229c8d755",
   "metadata": {},
   "outputs": [
    {
     "data": {
      "text/plain": [
       "[<__main__.WhiteDwarf at 0x1f6f3500270>,\n",
       " <__main__.WhiteDwarf at 0x1f6f35004a0>]"
      ]
     },
     "execution_count": 6,
     "metadata": {},
     "output_type": "execute_result"
    }
   ],
   "source": [
    "white_dwarfs"
   ]
  },
  {
   "cell_type": "code",
   "execution_count": null,
   "id": "b5a0f6ba-6638-4dfc-967a-413b819d6caf",
   "metadata": {},
   "outputs": [],
   "source": [
    "class Star:\n",
    "    __slots__ = ('_name', '_massa', '_temp')\n",
    "\n",
    "    def __init__(self, name, mass, temp):\n",
    "        self._name = name\n",
    "        self._massa = mass\n",
    "        self._temp = temp\n",
    "\n",
    "class ExtStar(Star):\n",
    "    __slots__ = ('_type_star', '_radius')\n",
    "\n",
    "    def __init__(self, name, mass, temp, type_star, radius):\n",
    "        super().__init__(name, mass, temp)\n",
    "        self._type_star = type_star\n",
    "        self._radius = radius\n",
    "\n",
    "class WhiteDwarf(ExtStar): __slots__ = ()\n",
    "class YellowDwarf(ExtStar): __slots__ = ()\n",
    "class RedGiant(ExtStar): __slots__ = ()\n",
    "class Pulsar(ExtStar): __slots__ = ()\n",
    "\n",
    "\n",
    "s = \"\"\"RedGiant: Альдебаран; 5; 3600; красный гигант; 45\n",
    "WhiteDwarf: Сириус А; 2,1; 9250; белый карлик; 2\n",
    "WhiteDwarf: Сириус B; 1; 8200; белый карлик; 0,01\n",
    "YellowDwarf: Солнце; 1; 6000; желтый карлик; 1\"\"\"\n",
    "\n",
    "def parse(s):\n",
    "    cls, data = s.split(': ')\n",
    "    return eval(f'{cls}(*{data.split(\"; \")})')\n",
    "\n",
    "stars = [*map(parse, s.splitlines())]\n",
    "white_dwarfs = [*filter(lambda x: isinstance(x, WhiteDwarf), stars)]"
   ]
  }
 ],
 "metadata": {
  "kernelspec": {
   "display_name": "Python 3 (ipykernel)",
   "language": "python",
   "name": "python3"
  },
  "language_info": {
   "codemirror_mode": {
    "name": "ipython",
    "version": 3
   },
   "file_extension": ".py",
   "mimetype": "text/x-python",
   "name": "python",
   "nbconvert_exporter": "python",
   "pygments_lexer": "ipython3",
   "version": "3.9.5"
  }
 },
 "nbformat": 4,
 "nbformat_minor": 5
}
