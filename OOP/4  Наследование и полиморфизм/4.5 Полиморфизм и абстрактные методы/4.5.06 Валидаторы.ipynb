{
 "cells": [
  {
   "cell_type": "code",
   "execution_count": 3,
   "id": "f3b24ac9-f04f-49f4-8a4f-b7bb159cba04",
   "metadata": {},
   "outputs": [],
   "source": [
    "class Validator:\n",
    "    def _is_valid(self, data):\n",
    "        raise NotImplementedError('в классе не переопределен метод _is_valid')\n",
    "        \n",
    "\n",
    "class FloatValidator(Validator):\n",
    "    def __init__(self, min_value, max_value):\n",
    "        self.min_value, self.max_value = min_value, max_value\n",
    "    \n",
    "    def _is_valid(self, data):\n",
    "        return type(data) == float and self.min_value <= data <= self.max_value\n",
    "    \n",
    "    def __call__(self, value):\n",
    "        return self._is_valid(value)"
   ]
  },
  {
   "cell_type": "code",
   "execution_count": 4,
   "id": "f38f7143-5922-41ff-bc4e-cca591f12500",
   "metadata": {},
   "outputs": [],
   "source": [
    "float_validator = FloatValidator(0, 10.5)\n",
    "res_1 = float_validator(1)  # False (целое число, а не вещественное)\n",
    "res_2 = float_validator(1.0)  # True\n",
    "res_3 = float_validator(-1.0)  # False (выход за диапазон [0; 10.5])"
   ]
  },
  {
   "cell_type": "code",
   "execution_count": 7,
   "id": "7e2c1c8b-c03a-4666-9431-3aea23f164c8",
   "metadata": {},
   "outputs": [
    {
     "data": {
      "text/plain": [
       "False"
      ]
     },
     "execution_count": 7,
     "metadata": {},
     "output_type": "execute_result"
    }
   ],
   "source": [
    "res_3"
   ]
  },
  {
   "cell_type": "code",
   "execution_count": null,
   "id": "a99aa0ea-3b6f-4cdc-bbfd-091d2f19cb86",
   "metadata": {},
   "outputs": [],
   "source": []
  }
 ],
 "metadata": {
  "kernelspec": {
   "display_name": "Python 3 (ipykernel)",
   "language": "python",
   "name": "python3"
  },
  "language_info": {
   "codemirror_mode": {
    "name": "ipython",
    "version": 3
   },
   "file_extension": ".py",
   "mimetype": "text/x-python",
   "name": "python",
   "nbconvert_exporter": "python",
   "pygments_lexer": "ipython3",
   "version": "3.9.5"
  }
 },
 "nbformat": 4,
 "nbformat_minor": 5
}
