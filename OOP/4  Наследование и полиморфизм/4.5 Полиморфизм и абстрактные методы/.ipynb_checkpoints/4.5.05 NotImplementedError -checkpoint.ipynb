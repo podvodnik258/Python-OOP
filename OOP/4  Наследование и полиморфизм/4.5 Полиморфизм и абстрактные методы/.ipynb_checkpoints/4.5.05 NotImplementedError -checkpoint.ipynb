{
 "cells": [
  {
   "cell_type": "code",
   "execution_count": 3,
   "id": "d45f24f3-8280-4e51-a31b-20ff5200ecc6",
   "metadata": {},
   "outputs": [],
   "source": [
    "class ShopInterface:\n",
    "     def get_id(self):    \n",
    "        raise \n",
    "        .  m                                                                                                                                                        ('в классе не переопределен метод get_id')\n",
    "\n",
    "class ShopItem(ShopInterface):\n",
    "    ID = 0\n",
    "    def __new__(cls, *args, **kwargs):\n",
    "        cls.ID += 1\n",
    "        return super().__new__(cls)\n",
    "    \n",
    "    def __init__(self, name, weight, price):\n",
    "        self._name, self._weight, self._price = name, weight, price\n",
    "        self.__id = self.ID\n",
    "        \n",
    "    def get_id(self):    \n",
    "        return self.__id\n",
    "        "
   ]
  },
  {
   "cell_type": "code",
   "execution_count": 4,
   "id": "0a185105-69aa-404d-8abf-5f0c2ee83c23",
   "metadata": {},
   "outputs": [
    {
     "name": "stdout",
     "output_type": "stream",
     "text": [
      "1\n",
      "2\n"
     ]
    }
   ],
   "source": [
    "item1 = ShopItem(\"имя1\", \"вес1\", \"100\")\n",
    "item2 = ShopItem(\"имя2\", \"вес2\", \"200\")\n",
    "print(item1.get_id())\n",
    "print(item2.get_id())"
   ]
  },
  {
   "cell_type": "code",
   "execution_count": null,
   "id": "9c13eaa8-e028-4eb2-ad76-27a3ebfac35f",
   "metadata": {},
   "outputs": [],
   "source": []
  }
 ],
 "metadata": {
  "kernelspec": {
   "display_name": "Python 3 (ipykernel)",
   "language": "python",
   "name": "python3"
  },
  "language_info": {
   "codemirror_mode": {
    "name": "ipython",
    "version": 3
   },
   "file_extension": ".py",
   "mimetype": "text/x-python",
   "name": "python",
   "nbconvert_exporter": "python",
   "pygments_lexer": "ipython3",
   "version": "3.9.5"
  }
 },
 "nbformat": 4,
 "nbformat_minor": 5
}
