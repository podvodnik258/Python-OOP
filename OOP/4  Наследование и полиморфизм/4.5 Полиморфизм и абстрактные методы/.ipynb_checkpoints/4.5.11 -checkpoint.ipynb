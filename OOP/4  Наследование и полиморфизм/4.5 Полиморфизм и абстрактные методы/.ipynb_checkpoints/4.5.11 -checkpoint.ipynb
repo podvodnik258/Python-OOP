{
 "cells": [
  {
   "cell_type": "code",
   "execution_count": 1,
   "id": "8df93aec-af36-408c-978b-b0dab8007f71",
   "metadata": {},
   "outputs": [],
   "source": [
    "class Food:\n",
    "    def __init__(self, *args):\n",
    "        self._name, self._weight, self._calories = args\n",
    "        \n",
    "        \n",
    "class BreadFood(Food):\n",
    "    def __init__(self, *args):\n",
    "        super().__init__(*args[:3])\n",
    "        self._white = args[-1]\n",
    "    \n",
    "    \n",
    "class SoupFood(Food):\n",
    "    def __init__(self, *args):\n",
    "        super().__init__(*args[:3])\n",
    "        self._dietary = args[-1]\n",
    "    \n",
    "    \n",
    "class FishFood(Food):\n",
    "    def __init__(self, *args):\n",
    "        super().__init__(*args[:3])\n",
    "        self._fish = args[-1]\n"
   ]
  },
  {
   "cell_type": "code",
   "execution_count": 2,
   "id": "0fb0e022-ec0c-43de-8c68-66331f6e5e3e",
   "metadata": {},
   "outputs": [],
   "source": [
    "bf = BreadFood(\"Бородинский хлеб\", 34.5, 512, False)\n",
    "sf = SoupFood(\"Черепаший суп\", 520, 890.5, False)\n",
    "ff = FishFood(\"Консерва рыбная\", 340, 1200, \"семга\")"
   ]
  },
  {
   "cell_type": "code",
   "execution_count": null,
   "id": "a2c96149-ad81-4165-a5bf-3604823c8a50",
   "metadata": {},
   "outputs": [],
   "source": [
    "from typing import Union\n",
    "from dataclasses import dataclass\n",
    "\n",
    "@dataclass\n",
    "class Food:\n",
    "    _name: str\n",
    "    _weight: Union[int, float]\n",
    "    _calories: int\n",
    "\n",
    "@dataclass\n",
    "class BreadFood(Food):\n",
    "    _white: bool\n",
    "\n",
    "@dataclass\n",
    "class SoupFood(Food):\n",
    "    _dietary: bool\n",
    "\n",
    "@dataclass\n",
    "class FishFood(Food):\n",
    "    _fish: str"
   ]
  }
 ],
 "metadata": {
  "kernelspec": {
   "display_name": "Python 3 (ipykernel)",
   "language": "python",
   "name": "python3"
  },
  "language_info": {
   "codemirror_mode": {
    "name": "ipython",
    "version": 3
   },
   "file_extension": ".py",
   "mimetype": "text/x-python",
   "name": "python",
   "nbconvert_exporter": "python",
   "pygments_lexer": "ipython3",
   "version": "3.9.5"
  }
 },
 "nbformat": 4,
 "nbformat_minor": 5
}
