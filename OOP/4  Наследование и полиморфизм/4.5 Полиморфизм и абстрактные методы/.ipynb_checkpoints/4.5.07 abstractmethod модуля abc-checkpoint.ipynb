{
 "cells": [
  {
   "cell_type": "code",
   "execution_count": 1,
   "id": "718b32e3-f5be-4c03-bfd4-5ce41967510e",
   "metadata": {},
   "outputs": [],
   "source": [
    "from abc import ABC, abstractmethod\n",
    "\n",
    "class Model(ABC):\n",
    "    @abstractmethod\n",
    "    def get_pk(self):\n",
    "        \"\"\"должен возвращать значение атрибута _id\"\"\"\n",
    "\n",
    "    def get_info(self):\n",
    "        return \"Базовый класс Model\"\n",
    "        \n",
    "class ModelForm(Model):\n",
    "    ID = 0\n",
    "    def __new__(cls, *args, **kwargs):\n",
    "        cls.ID += 1\n",
    "        return super().__new__(cls)\n",
    "    \n",
    "    def __init__(self, login, password):\n",
    "        self._login, self._password = login, password\n",
    "        self._id = self.ID\n",
    "        \n",
    "    def get_pk(self):\n",
    "        return self._id"
   ]
  },
  {
   "cell_type": "code",
   "execution_count": 2,
   "id": "dfc83ff9-cc4a-4adf-a865-bde589089116",
   "metadata": {},
   "outputs": [
    {
     "name": "stdout",
     "output_type": "stream",
     "text": [
      "1\n"
     ]
    }
   ],
   "source": [
    "form = ModelForm(\"Логин\", \"Пароль\")\n",
    "print(form.get_pk())"
   ]
  },
  {
   "cell_type": "code",
   "execution_count": null,
   "id": "3b147c7b-a0af-41df-8958-53a6503f3811",
   "metadata": {},
   "outputs": [],
   "source": [
    "from itertools import count\n",
    "from abc import ABC, abstractmethod\n",
    "\n",
    "class Model(ABC):\n",
    "    _autoincrement = count()\n",
    "    \n",
    "    @abstractmethod\n",
    "    def get_pk(self):\n",
    "        '''Get primary key'''\n",
    "        \n",
    "    def get_info(self):\n",
    "        return 'Базовый класс Model'\n",
    "    \n",
    "class ModelForm(Model):\n",
    "    def __init__(self, login, password):\n",
    "        self._id = next(self._autoincrement)\n",
    "        self._login = login\n",
    "        self._password = password\n",
    "        \n",
    "    def get_pk(self):\n",
    "        return self._id"
   ]
  }
 ],
 "metadata": {
  "kernelspec": {
   "display_name": "Python 3 (ipykernel)",
   "language": "python",
   "name": "python3"
  },
  "language_info": {
   "codemirror_mode": {
    "name": "ipython",
    "version": 3
   },
   "file_extension": ".py",
   "mimetype": "text/x-python",
   "name": "python",
   "nbconvert_exporter": "python",
   "pygments_lexer": "ipython3",
   "version": "3.9.5"
  }
 },
 "nbformat": 4,
 "nbformat_minor": 5
}
