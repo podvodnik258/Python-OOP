{
 "cells": [
  {
   "cell_type": "code",
   "execution_count": 9,
   "id": "cb1d9869-fdd6-487c-a1db-1574a9228606",
   "metadata": {},
   "outputs": [],
   "source": [
    "class PointTrack:\n",
    "    def __init__(self, x, y):\n",
    "        self.x = x\n",
    "        self.y = y\n",
    "    \n",
    "    def __setattr__(self, key, value):\n",
    "        if not type(value) in (int, float):\n",
    "            raise TypeError('координаты должны быть числами')\n",
    "        super().__setattr__(key, value)\n",
    "    \n",
    "    def __str__(self):\n",
    "        return f\"PointTrack: {self.x}, {self.y}\"\n",
    "    \n",
    "\n",
    "class Track:\n",
    "    def __init__(self, *args):\n",
    "        self.__points = []\n",
    "        if all(isinstance(obj, PointTrack) for obj in args):\n",
    "            self.__points.extend(list(args))\n",
    "        if len(args) == 2 and all(isinstance(obj, (int, float)) for obj in args):\n",
    "            self.__points.append(PointTrack(*args))\n",
    "        \n",
    "    \n",
    "    @property\n",
    "    def points(self):\n",
    "        return tuple(self.__points)\n",
    "        \n",
    "    def add_back(self, pt):\n",
    "        self.__points.append(pt)\n",
    "    \n",
    "    def add_front(self, pt):\n",
    "        self.__points.insert(0, pt)\n",
    "        \n",
    "    def pop_back(self):\n",
    "        self.__points.pop(-1)\n",
    "        \n",
    "    def pop_front(self):\n",
    "        self.__points.pop(0)\n",
    "    \n"
   ]
  },
  {
   "cell_type": "code",
   "execution_count": 10,
   "id": "8514ab1a-9945-40b7-8fad-163bc88f62e7",
   "metadata": {},
   "outputs": [
    {
     "name": "stdout",
     "output_type": "stream",
     "text": [
      "PointTrack: 1.2, -0.5\n",
      "PointTrack: 2.4, -1.5\n",
      "PointTrack: 1.4, 0\n"
     ]
    }
   ],
   "source": [
    "tr = Track(PointTrack(0, 0), PointTrack(1.2, -0.5), PointTrack(2.4, -1.5))\n",
    "tr.add_back(PointTrack(1.4, 0))\n",
    "tr.pop_front()\n",
    "for pt in tr.points:\n",
    "    print(pt)"
   ]
  },
  {
   "cell_type": "code",
   "execution_count": 12,
   "id": "6eca33d3-1a8d-44d1-ba7d-75142d00327a",
   "metadata": {},
   "outputs": [],
   "source": [
    "from collections import deque\n",
    "\n",
    "\n",
    "class PointTrack:\n",
    "    def __init__(self, x, y):\n",
    "        self.x, self.y = x, y\n",
    "\n",
    "    def __setattr__(self, key, value):\n",
    "        if not isinstance(value, (int, float)):\n",
    "            raise TypeError('координаты должны быть числами')\n",
    "        super().__setattr__(key, value)\n",
    "\n",
    "    def __str__(self):\n",
    "        return f\"{self.__class__.__name__}: {self.x}, {self.y}\"\n",
    "\n",
    "\n",
    "class Track:\n",
    "    def __init__(self, *args):\n",
    "        self.__points = deque(args)\n",
    "\n",
    "    @property\n",
    "    def points(self):\n",
    "        return tuple(self.__points)\n",
    "\n",
    "    def add_back(self, pt):\n",
    "        self.__points.append(pt)\n",
    "\n",
    "    def add_front(self, pt):\n",
    "        self.__points.appendleft(pt)\n",
    "\n",
    "    def pop_back(self):\n",
    "        self.__points.pop()\n",
    "\n",
    "    def pop_front(self):\n",
    "        self.__points.popleft()"
   ]
  },
  {
   "cell_type": "code",
   "execution_count": 15,
   "id": "926f1ad1-856c-480a-acb8-e0acb3f2242d",
   "metadata": {},
   "outputs": [
    {
     "name": "stdout",
     "output_type": "stream",
     "text": [
      "(<__main__.PointTrack object at 0x000002677065A0D0>,)\n"
     ]
    }
   ],
   "source": [
    "print(tr.points)"
   ]
  },
  {
   "cell_type": "code",
   "execution_count": null,
   "id": "f62ae3bf-43c2-4e18-a243-f044fada5cea",
   "metadata": {},
   "outputs": [],
   "source": []
  }
 ],
 "metadata": {
  "kernelspec": {
   "display_name": "Python 3 (ipykernel)",
   "language": "python",
   "name": "python3"
  },
  "language_info": {
   "codemirror_mode": {
    "name": "ipython",
    "version": 3
   },
   "file_extension": ".py",
   "mimetype": "text/x-python",
   "name": "python",
   "nbconvert_exporter": "python",
   "pygments_lexer": "ipython3",
   "version": "3.9.5"
  }
 },
 "nbformat": 4,
 "nbformat_minor": 5
}
