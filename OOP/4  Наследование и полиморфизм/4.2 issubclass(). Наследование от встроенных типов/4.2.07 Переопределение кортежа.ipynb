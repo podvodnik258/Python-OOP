{
 "cells": [
  {
   "cell_type": "code",
   "execution_count": 52,
   "id": "bcdd62fc-7d7b-48f0-90df-7e073fcd1b66",
   "metadata": {},
   "outputs": [],
   "source": [
    "class Tuple(tuple):\n",
    "        \n",
    "    def __add__(self, other):\n",
    "        return Tuple(list(self) + list(other))"
   ]
  },
  {
   "cell_type": "code",
   "execution_count": 56,
   "id": "66462fdf-be77-4594-8140-63ec049576b2",
   "metadata": {},
   "outputs": [
    {
     "name": "stdout",
     "output_type": "stream",
     "text": [
      "(1, 2, 3, 'P', 'y', 't', 'h', 'o', 'n')\n",
      "(1, 2, 3, 'P', 'y', 't', 'h', 'o', 'n', 'P', 'y', 't', 'h', 'o', 'n', 'О', 'О', 'П')\n"
     ]
    }
   ],
   "source": [
    "t = Tuple([1, 2, 3])\n",
    "t = t + \"Python\"\n",
    "print(t)   # (1, 2, 3, 'P', 'y', 't', 'h', 'o', 'n')\n",
    "t = (t + \"Python\") + \"ООП\"\n",
    "print(t)"
   ]
  },
  {
   "cell_type": "code",
   "execution_count": null,
   "id": "2875702b-7fbe-433a-8347-024d62aa5e1c",
   "metadata": {},
   "outputs": [],
   "source": []
  }
 ],
 "metadata": {
  "kernelspec": {
   "display_name": "Python 3 (ipykernel)",
   "language": "python",
   "name": "python3"
  },
  "language_info": {
   "codemirror_mode": {
    "name": "ipython",
    "version": 3
   },
   "file_extension": ".py",
   "mimetype": "text/x-python",
   "name": "python",
   "nbconvert_exporter": "python",
   "pygments_lexer": "ipython3",
   "version": "3.9.5"
  }
 },
 "nbformat": 4,
 "nbformat_minor": 5
}
