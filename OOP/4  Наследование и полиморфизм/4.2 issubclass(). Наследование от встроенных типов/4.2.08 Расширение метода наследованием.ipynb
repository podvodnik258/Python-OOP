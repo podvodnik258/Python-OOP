{
 "cells": [
  {
   "cell_type": "code",
   "execution_count": 3,
   "id": "1f5be0e7-418e-4343-bcc8-e9df02a72d7d",
   "metadata": {},
   "outputs": [],
   "source": [
    "class VideoItem:\n",
    "    def __init__(self, title, descr, path):\n",
    "        self.title, self.descr, self.path = title, descr, path\n",
    "        self.rating = VideoRating()\n",
    "\n",
    "class VideoRating:\n",
    "    def __init__(self):\n",
    "        self.rating = 0\n",
    "        \n",
    "    @property\n",
    "    def rating(self):\n",
    "        return self.__rating\n",
    "\n",
    "    @rating.setter\n",
    "    def rating(self, value):\n",
    "        if value not in (0, 1, 2, 3, 4, 5):\n",
    "            raise ValueError('неверное присваиваемое значение')\n",
    "        self.__rating = value\n"
   ]
  },
  {
   "cell_type": "code",
   "execution_count": 14,
   "id": "abbf3cb6-4a6b-4a8f-9107-fe8db9434293",
   "metadata": {},
   "outputs": [],
   "source": [
    "class VideoRating:\n",
    "    __rating = 0\n",
    "\n",
    "    @property\n",
    "    def rating(self):\n",
    "        return self.__rating\n",
    "\n",
    "    @rating.setter\n",
    "    def rating(self, value):\n",
    "        if not isinstance(value, int) or not 0 <= value <= 5:\n",
    "            raise ValueError('неверное присваиваемое значение')\n",
    "        self.__rating = value\n",
    "\n",
    "\n",
    "class VideoItem(VideoRating):\n",
    "    def __init__(self, title, descr, path):\n",
    "        self.title, self.descr, self.path = title, descr, path\n",
    "        self.rating = self.__class__.__base__()\n",
    "\n",
    "    @property\n",
    "    def rating(self):\n",
    "        return self._rating\n",
    "        \n",
    "    @rating.setter\n",
    "    def rating(self, value):\n",
    "        self._rating = value"
   ]
  },
  {
   "cell_type": "code",
   "execution_count": 15,
   "id": "f831358d-2a1f-4edb-b816-3dc5d0a14a40",
   "metadata": {},
   "outputs": [
    {
     "name": "stdout",
     "output_type": "stream",
     "text": [
      "0\n",
      "5\n"
     ]
    }
   ],
   "source": [
    "v = VideoItem('Курс по Python ООП', 'Подробный курс по Python ООР', 'D:/videos/python_oop.mp4')\n",
    "print(v.rating.rating) # 0\n",
    "v.rating.rating = 5\n",
    "print(v.rating.rating) # 5\n",
    "title = v.title\n",
    "descr = v.descr\n",
    "#v.rating.rating = 6  # ValueError"
   ]
  },
  {
   "cell_type": "code",
   "execution_count": 30,
   "id": "6702a53d-f7d0-47eb-a01c-a2f8a2a068bd",
   "metadata": {},
   "outputs": [
    {
     "data": {
      "text/plain": [
       "True"
      ]
     },
     "execution_count": 30,
     "metadata": {},
     "output_type": "execute_result"
    }
   ],
   "source": [
    "class cls0: pass\n",
    "class cls1(cls0): pass\n",
    "class cls2(cls0): pass\n",
    "obj = cls1()\n",
    "issubclass(cls1, cls0)"
   ]
  },
  {
   "cell_type": "code",
   "execution_count": 24,
   "id": "f67d2b2b-811d-42ed-b510-7bea6c91bab8",
   "metadata": {},
   "outputs": [
    {
     "data": {
      "text/plain": [
       "True"
      ]
     },
     "execution_count": 24,
     "metadata": {},
     "output_type": "execute_result"
    }
   ],
   "source": [
    "isinstance(obj, cls0)"
   ]
  },
  {
   "cell_type": "code",
   "execution_count": null,
   "id": "84443d02-7e8e-4fad-83d8-ed0e3ecb8ab4",
   "metadata": {},
   "outputs": [],
   "source": []
  }
 ],
 "metadata": {
  "kernelspec": {
   "display_name": "Python 3 (ipykernel)",
   "language": "python",
   "name": "python3"
  },
  "language_info": {
   "codemirror_mode": {
    "name": "ipython",
    "version": 3
   },
   "file_extension": ".py",
   "mimetype": "text/x-python",
   "name": "python",
   "nbconvert_exporter": "python",
   "pygments_lexer": "ipython3",
   "version": "3.9.5"
  }
 },
 "nbformat": 4,
 "nbformat_minor": 5
}
