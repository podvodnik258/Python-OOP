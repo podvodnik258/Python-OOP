{
 "cells": [
  {
   "cell_type": "code",
   "execution_count": 93,
   "id": "1af4a68f-97dd-4e35-95a3-c27d9efeab31",
   "metadata": {},
   "outputs": [],
   "source": [
    "class ListInteger(list):\n",
    "    def __init__(self, args):\n",
    "        args = tuple(map(self.is_int, args))\n",
    "        super().__init__(args)\n",
    "        \n",
    "    @classmethod\n",
    "    def is_int(cls, value):\n",
    "        if not type(value) == int:\n",
    "            raise TypeError('можно передавать только целочисленные значения')\n",
    "        return value\n",
    "        \n",
    "        \n",
    "    def __setitem__(self, key, value):\n",
    "        super().__setitem__(key, self.is_int(value))\n",
    "    \n",
    "    def append(self, value):\n",
    "        super().append(self.is_int(value))"
   ]
  },
  {
   "cell_type": "code",
   "execution_count": 94,
   "id": "8b12eddd-bdd6-4dec-9a91-08bad916c18c",
   "metadata": {},
   "outputs": [
    {
     "name": "stdout",
     "output_type": "stream",
     "text": [
      "[1, 10, 5, 11]\n"
     ]
    }
   ],
   "source": [
    "s = ListInteger((1,2,5))\n",
    "s[1] = 10\n",
    "s.append(11)\n",
    "print(s)"
   ]
  },
  {
   "cell_type": "code",
   "execution_count": null,
   "id": "dbd55482-bd24-4b9b-83ea-e0868dbbb4ac",
   "metadata": {},
   "outputs": [],
   "source": []
  }
 ],
 "metadata": {
  "kernelspec": {
   "display_name": "Python 3 (ipykernel)",
   "language": "python",
   "name": "python3"
  },
  "language_info": {
   "codemirror_mode": {
    "name": "ipython",
    "version": 3
   },
   "file_extension": ".py",
   "mimetype": "text/x-python",
   "name": "python",
   "nbconvert_exporter": "python",
   "pygments_lexer": "ipython3",
   "version": "3.9.5"
  }
 },
 "nbformat": 4,
 "nbformat_minor": 5
}
