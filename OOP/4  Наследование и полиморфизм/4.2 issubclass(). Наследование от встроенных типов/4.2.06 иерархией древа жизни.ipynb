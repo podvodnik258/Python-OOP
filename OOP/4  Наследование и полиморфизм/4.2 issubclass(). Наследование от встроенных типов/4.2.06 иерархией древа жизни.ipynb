{
 "cells": [
  {
   "cell_type": "code",
   "execution_count": 20,
   "id": "a634a8b5-a3fc-4ba0-82f9-7f08df398fb9",
   "metadata": {},
   "outputs": [],
   "source": [
    "class Protists:\n",
    "    def __init__(self, name, weight, old):\n",
    "        self.name, self.weight, self.old = name, weight, old\n",
    "\n",
    "class Plants(Protists): pass\n",
    "class Animals(Protists): pass\n",
    "class Mosses(Plants): pass\n",
    "class Flowering(Plants): pass\n",
    "class Worms(Animals): pass\n",
    "class Mammals(Animals): pass\n",
    "class Human(Mammals): pass\n",
    "class Monkeys(Mammals): pass\n",
    "class Monkey(Monkeys): pass\n",
    "class Person(Human): pass\n",
    "class Flower(Flowering): pass\n",
    "class Worm(Worms): pass\n",
    "\n",
    "lst_objs = [Monkey(\"мартышка\", 30.4, 7), Monkey(\"шимпанзе\", 24.6, 8),\n",
    "            Person(\"Балакирев\", 88, 34), Person(\"Верховный жрец\", 67.5, 45),\n",
    "            Flower(\"Тюльпан\", 0.2, 1), Flower(\"Роза\", 0.1, 2),\n",
    "            Worm(\"червь\", 0.01, 1), Worm(\"червь 2\", 0.02, 1)]\n",
    "\n",
    "get_list = lambda x: list( filter(lambda item: isinstance(item, x), lst_objs) )\n",
    "\n",
    "lst_animals = get_list(Animals)\n",
    "lst_plants = get_list(Plants)\n",
    "lst_mammals = get_list(Mammals)"
   ]
  },
  {
   "cell_type": "code",
   "execution_count": null,
   "id": "b1eff1aa-3769-4a7b-993d-db1bcfe8f42a",
   "metadata": {},
   "outputs": [],
   "source": [
    "class Protists:\n",
    "    def __init__(self, name, weight, old):\n",
    "        self.name, self.weight, self.old = name, weight, old\n",
    "\n",
    "class Plants(Protists): pass\n",
    "class Animals(Protists): pass\n",
    "class Mosses(Plants): pass\n",
    "class Flowering(Plants): pass\n",
    "class Worms(Animals): pass\n",
    "class Mammals(Animals): pass\n",
    "class Human(Mammals): pass\n",
    "class Monkeys(Mammals): pass\n",
    "class Monkey(Monkeys): pass\n",
    "class Person(Human): pass\n",
    "class Flower(Flowering): pass\n",
    "class Worm(Worms): pass\n",
    "\n",
    "lst_objs = [Monkey(\"мартышка\", 30.4, 7), Monkey(\"шимпанзе\", 24.6, 8),\n",
    "            Person(\"Балакирев\", 88, 34), Person(\"Верховный жрец\", 67.5, 45),\n",
    "            Flower(\"Тюльпан\", 0.2, 1), Flower(\"Роза\", 0.1, 2),\n",
    "            Worm(\"червь\", 0.01, 1), Worm(\"червь 2\", 0.02, 1)]\n",
    "\n",
    "lst_animals = list(obj for obj in lst_objs if isinstance(obj, Animals))\n",
    "lst_plants = list(filter(lambda obj: isinstance(obj, Plants), lst_objs))\n",
    "lst_mammals = list(obj for obj in lst_objs if isinstance(obj, Mammals))"
   ]
  },
  {
   "cell_type": "code",
   "execution_count": 21,
   "id": "70cb276b-fe04-4501-a9cb-a30cda7aa696",
   "metadata": {},
   "outputs": [
    {
     "data": {
      "text/plain": [
       "[<__main__.Flower at 0x1d03f6a8820>, <__main__.Flower at 0x1d03f6a8b50>]"
      ]
     },
     "execution_count": 21,
     "metadata": {},
     "output_type": "execute_result"
    }
   ],
   "source": [
    "lst_plants"
   ]
  },
  {
   "cell_type": "code",
   "execution_count": 5,
   "id": "674b1c9b-3b73-4db8-92f7-28cf6e9d4405",
   "metadata": {},
   "outputs": [
    {
     "data": {
      "text/plain": [
       "{'name': 'мартышка', 'weight': 30.4, 'old': 7}"
      ]
     },
     "execution_count": 5,
     "metadata": {},
     "output_type": "execute_result"
    }
   ],
   "source": [
    "obj.__dict__"
   ]
  },
  {
   "cell_type": "code",
   "execution_count": 6,
   "id": "b9e07b06-7116-499c-bd0d-9d052fe1a61c",
   "metadata": {},
   "outputs": [
    {
     "data": {
      "text/plain": [
       "True"
      ]
     },
     "execution_count": 6,
     "metadata": {},
     "output_type": "execute_result"
    }
   ],
   "source": [
    "isinstance(obj, Animals) "
   ]
  },
  {
   "cell_type": "code",
   "execution_count": null,
   "id": "6793958d-9fd5-45dd-86f2-2066d663163d",
   "metadata": {},
   "outputs": [],
   "source": []
  }
 ],
 "metadata": {
  "kernelspec": {
   "display_name": "Python 3 (ipykernel)",
   "language": "python",
   "name": "python3"
  },
  "language_info": {
   "codemirror_mode": {
    "name": "ipython",
    "version": 3
   },
   "file_extension": ".py",
   "mimetype": "text/x-python",
   "name": "python",
   "nbconvert_exporter": "python",
   "pygments_lexer": "ipython3",
   "version": "3.9.5"
  }
 },
 "nbformat": 4,
 "nbformat_minor": 5
}
