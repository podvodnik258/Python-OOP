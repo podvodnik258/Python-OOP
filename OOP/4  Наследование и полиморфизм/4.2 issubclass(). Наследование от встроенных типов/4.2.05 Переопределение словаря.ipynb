{
 "cells": [
  {
   "cell_type": "code",
   "execution_count": 1,
   "id": "85cae275-0dbe-4b60-89ba-54e1ae7072bc",
   "metadata": {},
   "outputs": [],
   "source": [
    "class Thing:\n",
    "    def __init__(self, name, price, weight):\n",
    "        self.name = name\n",
    "        self.price = price\n",
    "        self.weight = weight\n",
    "        \n",
    "    def __hash__(self):\n",
    "        return hash((self.name, self.price, self.weight))\n",
    "    \n",
    "    def __eq__(self, other):\n",
    "        return hash(self) == hash(other)\n",
    "    \n",
    "class DictShop(dict):\n",
    "    def __init__(self, things=None):\n",
    "        things = {} if things is None else things\n",
    "        if not isinstance(things, dict):\n",
    "            raise TypeError('аргумент должен быть словарем')\n",
    "        if things and not all((isinstance(k, Thing) for k in things)):\n",
    "            raise TypeError('ключами могут быть только объекты класса Thing')\n",
    "        super().__init__(things)\n",
    "    \n",
    "    def __setitem__(self, key, value):\n",
    "        if not isinstance(key, Thing):\n",
    "            raise TypeError('ключами могут быть только объекты класса Thing')\n",
    "        super().__setitem__(key, value)\n",
    "        "
   ]
  },
  {
   "cell_type": "code",
   "execution_count": 2,
   "id": "62269a28-9b63-4518-a691-70c0bdbe7e79",
   "metadata": {},
   "outputs": [
    {
     "name": "stdout",
     "output_type": "stream",
     "text": [
      "Лыжи\n",
      "Книга\n"
     ]
    }
   ],
   "source": [
    "th_1 = Thing('Лыжи', 11000, 1978.55)\n",
    "th_2 = Thing('Книга', 1500, 256)\n",
    "dict_things = DictShop()\n",
    "dict_things[th_1] = th_1\n",
    "dict_things[th_2] = th_2\n",
    "\n",
    "for x in dict_things:\n",
    "    print(x.name)\n",
    "\n",
    "#dict_things[1] = th_1 # исключение TypeError"
   ]
  },
  {
   "cell_type": "code",
   "execution_count": null,
   "id": "712eeb41-7c37-4da3-83c9-4b7284538754",
   "metadata": {},
   "outputs": [],
   "source": [
    "th_1 = Thing('Лыжи', 11000, 1978.55)\n",
    "th_2 = Thing('Книга', 1500, 256)\n",
    "dict_things = DictShop()\n",
    "dict_things = DictShop({th_1: th_1, th_2: th_2})"
   ]
  },
  {
   "cell_type": "code",
   "execution_count": null,
   "id": "e413f4bd-b899-4725-9e11-37b9afcc7ad5",
   "metadata": {},
   "outputs": [],
   "source": []
  },
  {
   "cell_type": "code",
   "execution_count": null,
   "id": "5633628c-8464-45ad-9536-402b48f4aa7c",
   "metadata": {},
   "outputs": [],
   "source": []
  }
 ],
 "metadata": {
  "kernelspec": {
   "display_name": "Python 3 (ipykernel)",
   "language": "python",
   "name": "python3"
  },
  "language_info": {
   "codemirror_mode": {
    "name": "ipython",
    "version": 3
   },
   "file_extension": ".py",
   "mimetype": "text/x-python",
   "name": "python",
   "nbconvert_exporter": "python",
   "pygments_lexer": "ipython3",
   "version": "3.9.5"
  }
 },
 "nbformat": 4,
 "nbformat_minor": 5
}
