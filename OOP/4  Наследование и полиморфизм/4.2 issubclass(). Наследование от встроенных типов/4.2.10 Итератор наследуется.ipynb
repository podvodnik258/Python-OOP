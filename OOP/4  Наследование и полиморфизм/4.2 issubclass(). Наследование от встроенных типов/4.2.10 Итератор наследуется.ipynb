{
 "cells": [
  {
   "cell_type": "code",
   "execution_count": 3,
   "id": "e70167af-6489-4a32-a004-ed41d78534ca",
   "metadata": {},
   "outputs": [
    {
     "name": "stdout",
     "output_type": "stream",
     "text": [
      "model model\n",
      "size (3, 5)\n",
      "memory 8\n"
     ]
    }
   ],
   "source": [
    "class IteratorAttrs:\n",
    "    def __iter__(self):\n",
    "        for x in self.__dict__.items():\n",
    "            yield x\n",
    "    \n",
    "    \n",
    "class SmartPhone(IteratorAttrs):\n",
    "    def __init__(self, model: str, size: tuple, memory: int):\n",
    "        self.model,  self.size,  self.memory = model, size, memory\n",
    "        \n",
    "\n",
    "phone = SmartPhone('model', (3,5), 8) \n",
    "\n",
    "for attr, value in phone:\n",
    "    print(attr, value)"
   ]
  },
  {
   "cell_type": "code",
   "execution_count": null,
   "id": "841c0831-aa2d-42cb-86a7-7e3af584f3e6",
   "metadata": {},
   "outputs": [],
   "source": [
    "class IteratorAttrs:\n",
    "    def __iter__(self):\n",
    "        self.items = list(self.__dict__.items())\n",
    "        return self\n",
    "    \n",
    "    def __next__(self):\n",
    "        if self.items:\n",
    "            return self.items.pop(0)\n",
    "        else:\n",
    "            raise StopIteration\n",
    "            \n",
    "        \n",
    "class SmartPhone(IteratorAttrs):\n",
    "    def __init__(self, model, size, memory):\n",
    "        self.model, self.size, self.memory = model, size, memory"
   ]
  },
  {
   "cell_type": "code",
   "execution_count": 6,
   "id": "35106a67-19c5-4eb7-88b7-fdfee60d3bfe",
   "metadata": {},
   "outputs": [
    {
     "data": {
      "text/plain": [
       "dict_items([('model', 'model'), ('size', (3, 5)), ('memory', 8)])"
      ]
     },
     "execution_count": 6,
     "metadata": {},
     "output_type": "execute_result"
    }
   ],
   "source": [
    "class IteratorAttrs:\n",
    "    def __iter__(self):\n",
    "        self.__it = iter(list(self.__dict__.items()))\n",
    "        return self\n",
    "\n",
    "    def __next__(self):\n",
    "        return next(self.__it)\n",
    "\n",
    "\n",
    "class SmartPhone(IteratorAttrs):\n",
    "    def __init__(self, model, size, memory):\n",
    "        self.model = model\n",
    "        self.size = size\n",
    "        self.memory = memory"
   ]
  },
  {
   "cell_type": "code",
   "execution_count": null,
   "id": "b3fcc6fe-6864-4778-a9d2-a6596cc08687",
   "metadata": {},
   "outputs": [],
   "source": []
  }
 ],
 "metadata": {
  "kernelspec": {
   "display_name": "Python 3 (ipykernel)",
   "language": "python",
   "name": "python3"
  },
  "language_info": {
   "codemirror_mode": {
    "name": "ipython",
    "version": 3
   },
   "file_extension": ".py",
   "mimetype": "text/x-python",
   "name": "python",
   "nbconvert_exporter": "python",
   "pygments_lexer": "ipython3",
   "version": "3.9.5"
  }
 },
 "nbformat": 4,
 "nbformat_minor": 5
}
