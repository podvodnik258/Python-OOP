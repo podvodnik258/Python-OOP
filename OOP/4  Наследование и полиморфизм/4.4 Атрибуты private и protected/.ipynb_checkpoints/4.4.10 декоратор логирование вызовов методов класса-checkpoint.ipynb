{
 "cells": [
  {
   "cell_type": "markdown",
   "id": "79767591-0c31-4679-b692-ec9bef2f943b",
   "metadata": {},
   "source": [
    "декорируют класс Vector и в список vector_log добавляются имена методов, которые были вызваны при использовании этого класса."
   ]
  },
  {
   "cell_type": "code",
   "execution_count": 10,
   "id": "24a7bf6f-25d1-4744-92f8-01b8ea42af8e",
   "metadata": {},
   "outputs": [
    {
     "data": {
      "text/plain": [
       "['__init__', '__setitem__']"
      ]
     },
     "execution_count": 10,
     "metadata": {},
     "output_type": "execute_result"
    }
   ],
   "source": [
    "class class_log:\n",
    "    def __init__(self, log_list):\n",
    "        self.log = log_list\n",
    "\n",
    "    def __call__(self, cls):\n",
    "        for key, value in cls.__dict__.items():\n",
    "            if callable(value):\n",
    "                setattr(cls, key, self.method_decorator(key, value))\n",
    "        return cls\n",
    "\n",
    "    def method_decorator(self, name, method):\n",
    "        def wrapper(*args, **kwargs):\n",
    "            self.log.append(name)\n",
    "            return method(*args, **kwargs)\n",
    "        return wrapper\n",
    "\n",
    "\n",
    "vector_log = []   # наименование (vector_log) в программе не менять!\n",
    "\n",
    "\n",
    "@class_log(vector_log)\n",
    "class Vector:\n",
    "    def __init__(self, *args):\n",
    "        self.__coords = list(args)\n",
    "\n",
    "    def __getitem__(self, item):\n",
    "        return self.__coords[item]\n",
    "\n",
    "    def __setitem__(self, key, value):\n",
    "        self.__coords[key] = value\n",
    "        \n",
    "v = Vector(1, 2, 3)\n",
    "v[0] = 10\n",
    "vector_log"
   ]
  },
  {
   "cell_type": "code",
   "execution_count": null,
   "id": "b09c47a2-12c4-4ac6-b3e9-fec562e80324",
   "metadata": {},
   "outputs": [],
   "source": []
  },
  {
   "cell_type": "code",
   "execution_count": null,
   "id": "101c20ba-ef97-40f8-b2c3-fb93a3f02125",
   "metadata": {},
   "outputs": [
    {
     "data": {
      "text/plain": [
       "['__init__', '__setitem__']"
      ]
     },
     "execution_count": 5,
     "metadata": {},
     "output_type": "execute_result"
    }
   ],
   "source": [
    "vector_log = []\n",
    "\n",
    "\n",
    "\n",
    "def class_log (vector_log):\n",
    "    def log(cls):\n",
    "        methods = {k: v for k, v in cls.__dict__.items() if callable(v)} \n",
    "        for k, v in methods.items():\n",
    "            setattr(cls, k, log_decorated(v))\n",
    "            \n",
    "        return cls \n",
    "    def log_decorated(func):\n",
    "        def wrapper(self, *args, **kwargs):\n",
    "            vector_log.append(func.__name__)\n",
    "            return func(self, *args, **kwargs)\n",
    "        return wrapper\n",
    "\n",
    "    return log \n",
    "\n",
    "@class_log(vector_log)\n",
    "class Vector:\n",
    "    def __init__(self, *args):\n",
    "        self.__coords = list(args)\n",
    "\n",
    "    def __getitem__(self, item):\n",
    "        return self.__coords[item]\n",
    "\n",
    "    def __setitem__(self, key, value):\n",
    "        self.__coords[key] = value\n",
    "        \n",
    "        \n",
    "v = Vector(1, 2, 3)\n",
    "v[0] = 10\n",
    "vector_log"
   ]
  },
  {
   "cell_type": "code",
   "execution_count": null,
   "id": "8d5c950c-5222-4824-9695-e964885053ba",
   "metadata": {},
   "outputs": [],
   "source": [
    "def decorator(cls):\n",
    "    class Wrapper(cls):\n",
    "        def doubler(self, value):\n",
    "            return value * 2\n",
    "    return Wrapper\n",
    "\n",
    "@decorator\n",
    "class MyActualClass:\n",
    "    def __init__(self):\n",
    "        print('in MyActualClass __init__()')\n",
    "    def quad(self, value):\n",
    "        return value * 4\n",
    "\n",
    "obj = MyActualClass()\n",
    "\n",
    "print(obj.quad(4))\n",
    "print(obj.doubler(5))"
   ]
  },
  {
   "cell_type": "code",
   "execution_count": null,
   "id": "ca5a6e9b-1aea-4700-b4da-5129469a6da5",
   "metadata": {},
   "outputs": [],
   "source": [
    "from functools import wraps\n",
    "\n",
    "def dec(msg='default'):\n",
    "    def decorator(klass):\n",
    "        old_foo = klass.foo\n",
    "        @wraps(klass.foo)\n",
    "        def decorated_foo(self, *args ,**kwargs):\n",
    "            print('@decorator pre %s' % msg)\n",
    "            old_foo(self, *args, **kwargs)\n",
    "            print('@decorator post %s' % msg)\n",
    "        klass.foo = decorated_foo\n",
    "        return klass\n",
    "    return decorator\n",
    "\n",
    "@dec('foo decorator')  # You must add parentheses now, even if they're empty\n",
    "class Foo(object):\n",
    "    def foo(self, *args, **kwargs):\n",
    "        print('foo.foo()')\n",
    "\n",
    "@dec('subfoo decorator')\n",
    "class SubFoo(Foo):\n",
    "    def foo(self, *args, **kwargs):\n",
    "        print('subfoo.foo() pre')\n",
    "        super(SubFoo, self).foo(*args, **kwargs)\n",
    "        print('subfoo.foo() post')\n",
    "\n",
    "@dec('subsubfoo decorator')\n",
    "class SubSubFoo(SubFoo):\n",
    "    def foo(self, *args, **kwargs):\n",
    "        print('subsubfoo.foo() pre')\n",
    "        super(SubSubFoo, self).foo(*args, **kwargs)\n",
    "        print('subsubfoo.foo() post')\n",
    "\n",
    "SubSubFoo().foo()"
   ]
  },
  {
   "cell_type": "code",
   "execution_count": null,
   "id": "15b495de-31df-44e3-91dc-7274b5ad3e7e",
   "metadata": {},
   "outputs": [],
   "source": [
    "def dec_strip_defis(chars=\"?!\"):    \n",
    "    def strip_defis(func):\n",
    "        def wrapper(s, *args):\n",
    "            s = func(s, chars)\n",
    "            while '--' in s:\n",
    "                s = '-'.join(s.split('--'))\n",
    "            return s\n",
    "\n",
    "        return wrapper\n",
    "    return strip_defis"
   ]
  }
 ],
 "metadata": {
  "kernelspec": {
   "display_name": "Python 3 (ipykernel)",
   "language": "python",
   "name": "python3"
  },
  "language_info": {
   "codemirror_mode": {
    "name": "ipython",
    "version": 3
   },
   "file_extension": ".py",
   "mimetype": "text/x-python",
   "name": "python",
   "nbconvert_exporter": "python",
   "pygments_lexer": "ipython3",
   "version": "3.9.5"
  }
 },
 "nbformat": 4,
 "nbformat_minor": 5
}
