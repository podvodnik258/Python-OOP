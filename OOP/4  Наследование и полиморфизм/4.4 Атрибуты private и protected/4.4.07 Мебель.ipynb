{
 "cells": [
  {
   "cell_type": "code",
   "execution_count": 12,
   "id": "5eef08d4-1653-4d8a-81d5-ac85f87c0343",
   "metadata": {},
   "outputs": [],
   "source": [
    "class Furniture:\n",
    "    def __init__(self, name, weight):\n",
    "        self.name, self.weight = name, weight\n",
    "        \n",
    "    @staticmethod\n",
    "    def __verify_name(value):\n",
    "        if not type(value) == str:\n",
    "            raise TypeError('название должно быть строкой')\n",
    "    \n",
    "    @staticmethod\n",
    "    def __verify_weight(value):\n",
    "        if value <= 0:\n",
    "            raise TypeError('вес должен быть положительным числом')\n",
    "    \n",
    "    @property\n",
    "    def name(self):\n",
    "        return self._name\n",
    "    \n",
    "    @name.setter\n",
    "    def name(self, value):\n",
    "        self.__verify_name(value)\n",
    "        self._name = value\n",
    "        \n",
    "    @property\n",
    "    def weight(self):\n",
    "        return self._weight\n",
    "    \n",
    "    @weight.setter\n",
    "    def weight(self, value):\n",
    "        self.__verify_weight(value)\n",
    "        self._weight = value\n",
    "        \n",
    "    def get_attrs(self):\n",
    "        return tuple(self.__dict__.values())\n",
    "        \n",
    "\n",
    "class Closet(Furniture):\n",
    "    def __init__(self, name, weight, tp, doors):\n",
    "        super().__init__(name, weight)\n",
    "        self._tp, self._doors = tp, doors\n",
    "    \n",
    "class Chair(Furniture):\n",
    "    def __init__(self, name, weight, height):\n",
    "        super().__init__(name, weight)\n",
    "        self._height = height\n",
    "    \n",
    "class Table(Furniture):\n",
    "    def __init__(self, name, weight, height, square):\n",
    "        super().__init__(name, weight)\n",
    "        self._height, self._square = height, square\n",
    "    \n",
    "        "
   ]
  },
  {
   "cell_type": "code",
   "execution_count": 13,
   "id": "e99fe26a-2f00-430a-9dad-b26f8cb0649b",
   "metadata": {},
   "outputs": [
    {
     "name": "stdout",
     "output_type": "stream",
     "text": [
      "('стол', 34.5, 75, 10)\n"
     ]
    }
   ],
   "source": [
    "cl = Closet('шкаф-купе', 342.56, True, 3)\n",
    "chair = Chair('стул', 14, 55.6)\n",
    "tb = Table('стол', 34.5, 75, 10)\n",
    "print(tb.get_attrs())"
   ]
  },
  {
   "cell_type": "code",
   "execution_count": null,
   "id": "13acdafd-76f1-44e2-9802-75bf9422639b",
   "metadata": {},
   "outputs": [],
   "source": []
  }
 ],
 "metadata": {
  "kernelspec": {
   "display_name": "Python 3 (ipykernel)",
   "language": "python",
   "name": "python3"
  },
  "language_info": {
   "codemirror_mode": {
    "name": "ipython",
    "version": 3
   },
   "file_extension": ".py",
   "mimetype": "text/x-python",
   "name": "python",
   "nbconvert_exporter": "python",
   "pygments_lexer": "ipython3",
   "version": "3.9.5"
  }
 },
 "nbformat": 4,
 "nbformat_minor": 5
}
