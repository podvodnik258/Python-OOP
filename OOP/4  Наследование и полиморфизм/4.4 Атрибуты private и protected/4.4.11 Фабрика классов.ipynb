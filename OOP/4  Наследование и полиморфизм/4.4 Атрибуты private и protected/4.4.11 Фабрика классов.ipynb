{
 "cells": [
  {
   "cell_type": "code",
   "execution_count": 73,
   "id": "be210459-13bc-49f6-a378-f8136655eddd",
   "metadata": {},
   "outputs": [],
   "source": [
    "CURRENT_OS = 'windows'   # 'windows', 'linux'\n",
    "\n",
    "class FileDialogFactory:\n",
    "    def __new__(cls, *args, **kwargs):\n",
    "        if CURRENT_OS == 'windows':\n",
    "            obj = cls.create_windows_filedialog(*args, **kwargs)\n",
    "        if CURRENT_OS == 'linux':\n",
    "            obj = cls.create_linux_filedialog(*args, **kwargs)\n",
    "        return obj\n",
    "    \n",
    "    @staticmethod\n",
    "    def create_windows_filedialog(*args, **kwargs):\n",
    "        return WindowsFileDialog(*args, **kwargs)\n",
    "    \n",
    "    @staticmethod    \n",
    "    def create_linux_filedialog(*args, **kwargs):\n",
    "        return LinuxFileDialog(*args, **kwargs)\n",
    "\n",
    "class WindowsFileDialog:\n",
    "    def __init__(self, title, path, exts):\n",
    "        self.__title = title # заголовок диалогового окна\n",
    "        self.__path = path  # начальный каталог с файлами\n",
    "        self.__exts = exts  # кортеж из отображаемых расширений файлов\n",
    "\n",
    "\n",
    "class LinuxFileDialog:\n",
    "    def __init__(self, title, path, exts):\n",
    "        self.__title = title # заголовок диалогового окна\n",
    "        self.__path = path  # начальный каталог с файлами\n",
    "        self.__exts = exts  # кортеж из отображаемых расширений файлов"
   ]
  },
  {
   "cell_type": "code",
   "execution_count": 76,
   "id": "52d0724c-9dfb-4966-ba5c-989a92d06762",
   "metadata": {},
   "outputs": [
    {
     "name": "stdout",
     "output_type": "stream",
     "text": [
      "<class '__main__.WindowsFileDialog'>\n"
     ]
    },
    {
     "data": {
      "text/plain": [
       "{'_WindowsFileDialog__title': 'Изображения',\n",
       " '_WindowsFileDialog__path': 'd:/images/',\n",
       " '_WindowsFileDialog__exts': ('jpg', 'gif', 'bmp', 'png')}"
      ]
     },
     "execution_count": 76,
     "metadata": {},
     "output_type": "execute_result"
    }
   ],
   "source": [
    "dlg = FileDialogFactory('Изображения', 'd:/images/', ('jpg', 'gif', 'bmp', 'png'))\n",
    "print(type(dlg))\n",
    "dlg.__dict__"
   ]
  },
  {
   "cell_type": "code",
   "execution_count": null,
   "id": "2a40bbd5-ee24-4cfb-8460-c729113c6d32",
   "metadata": {},
   "outputs": [],
   "source": []
  },
  {
   "cell_type": "code",
   "execution_count": 75,
   "id": "8b94b572-081b-41a6-9c0d-8bd0469af5ad",
   "metadata": {},
   "outputs": [],
   "source": [
    "CURRENT_OS = 'windows'   # 'windows', 'linux'\n",
    "\n",
    "\n",
    "class WindowsFileDialog:\n",
    "    def __init__(self, title, path, exts):\n",
    "        self.__title = title # заголовок диалогового окна\n",
    "        self.__path = path  # начальный каталог с файлами\n",
    "        self.__exts = exts  # кортеж из отображаемых расширений файлов\n",
    "\n",
    "\n",
    "class LinuxFileDialog:\n",
    "    def __init__(self, title, path, exts):\n",
    "        self.__title = title # заголовок диалогового окна\n",
    "        self.__path = path  # начальный каталог с файлами\n",
    "        self.__exts = exts  # кортеж из отображаемых расширений файлов\n",
    "\n",
    "\n",
    "class FileDialogFactory:\n",
    "    def __new__(cls, *args, **kwargs):\n",
    "        if CURRENT_OS == 'windows':\n",
    "            instance =  super().__new__(WindowsFileDialog)\n",
    "            instance.__init__(*args, **kwargs)\n",
    "        else:\n",
    "            instance = super().__new__(LinuxFileDialog)\n",
    "            instance.__init__(*args, **kwargs)\n",
    "        return instance"
   ]
  },
  {
   "cell_type": "code",
   "execution_count": null,
   "id": "b808a70f-302b-4311-a37d-a0fcca454485",
   "metadata": {},
   "outputs": [],
   "source": []
  }
 ],
 "metadata": {
  "kernelspec": {
   "display_name": "Python 3 (ipykernel)",
   "language": "python",
   "name": "python3"
  },
  "language_info": {
   "codemirror_mode": {
    "name": "ipython",
    "version": 3
   },
   "file_extension": ".py",
   "mimetype": "text/x-python",
   "name": "python",
   "nbconvert_exporter": "python",
   "pygments_lexer": "ipython3",
   "version": "3.9.5"
  }
 },
 "nbformat": 4,
 "nbformat_minor": 5
}
