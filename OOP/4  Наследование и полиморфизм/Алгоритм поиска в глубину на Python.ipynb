{
 "cells": [
  {
   "cell_type": "code",
   "execution_count": 1,
   "id": "902fa30e-8694-4c10-97f4-3eacb7beee67",
   "metadata": {},
   "outputs": [
    {
     "name": "stdout",
     "output_type": "stream",
     "text": [
      "0\n",
      "1\n",
      "3\n",
      "4\n",
      "2\n",
      "2\n"
     ]
    },
    {
     "data": {
      "text/plain": [
       "{'0', '1', '2', '3', '4'}"
      ]
     },
     "execution_count": 1,
     "metadata": {},
     "output_type": "execute_result"
    }
   ],
   "source": [
    "# Алгоритм поиска в глубину на Python\n",
    "\n",
    "\n",
    "# Алгоритм\n",
    "def dfs(graph, start, visited=None):\n",
    "    if visited is None:\n",
    "        visited = set()\n",
    "    visited.add(start)\n",
    "\n",
    "    print(start)\n",
    "\n",
    "    for next in graph[start] - visited:\n",
    "        dfs(graph, next, visited)\n",
    "    return visited\n",
    "\n",
    "\n",
    "graph = {'0': set(['1', '2']),\n",
    "         '1': set(['0', '3', '4']),\n",
    "         '2': set(['0']),\n",
    "         '3': set(['1']),\n",
    "         '4': set(['2', '3'])}\n",
    "\n",
    "dfs(graph, '0')"
   ]
  },
  {
   "cell_type": "code",
   "execution_count": 2,
   "id": "f97d4fce-3775-4366-b860-b77d3d92a3e4",
   "metadata": {},
   "outputs": [
    {
     "name": "stdout",
     "output_type": "stream",
     "text": [
      "{1, 2, 3, 4, 5, 6, 7, 8, 9}\n"
     ]
    }
   ],
   "source": [
    "# Смежность вершин\n",
    "inc = {\n",
    "    1: [2, 8],\n",
    "    2: [1, 3, 8],\n",
    "    3: [2, 4, 8],\n",
    "    4: [3, 7, 9],\n",
    "    5: [6, 7],\n",
    "    6: [5],\n",
    "    7: [4, 5, 8],\n",
    "    8: [1, 2, 3, 7],\n",
    "    9: [4],\n",
    "}\n",
    "\n",
    "visited = set()  # Посещена ли вершина?\n",
    "\n",
    "\n",
    "# Поиск в глубину - ПВГ (Depth First Search - DFS)\n",
    "def dfs(v):\n",
    "    if v in visited:  # Если вершина уже посещена, выходим\n",
    "        return\n",
    "    visited.add(v)  # Посетили вершину v\n",
    "    for i in inc[v]:  # Все смежные с v вершины\n",
    "        if not i in visited:\n",
    "            dfs(i)\n",
    "\n",
    "\n",
    "start = 1\n",
    "dfs(start)  # start - начальная вершина обхода\n",
    "print(visited)"
   ]
  },
  {
   "cell_type": "code",
   "execution_count": null,
   "id": "a3abe176-635b-4553-885b-3bab37912777",
   "metadata": {},
   "outputs": [],
   "source": []
  }
 ],
 "metadata": {
  "kernelspec": {
   "display_name": "Python 3 (ipykernel)",
   "language": "python",
   "name": "python3"
  },
  "language_info": {
   "codemirror_mode": {
    "name": "ipython",
    "version": 3
   },
   "file_extension": ".py",
   "mimetype": "text/x-python",
   "name": "python",
   "nbconvert_exporter": "python",
   "pygments_lexer": "ipython3",
   "version": "3.9.5"
  }
 },
 "nbformat": 4,
 "nbformat_minor": 5
}
