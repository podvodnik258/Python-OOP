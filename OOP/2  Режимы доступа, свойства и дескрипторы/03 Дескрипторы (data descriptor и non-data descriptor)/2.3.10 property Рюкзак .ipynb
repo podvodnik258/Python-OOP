{
 "cells": [
  {
   "cell_type": "code",
   "execution_count": 4,
   "id": "7a3c0141-3870-45f4-a641-d61eaa64b2a2",
   "metadata": {},
   "outputs": [],
   "source": [
    "class Bag:\n",
    "    def __init__(self, max_weight):\n",
    "        self.max_weight = max_weight\n",
    "        self.__things = []\n",
    "        \n",
    "    @property\n",
    "    def things(self):\n",
    "        return self.__things\n",
    "    \n",
    "    def add_thing(self, thing):\n",
    "        if (self.get_total_weight() + thing.weight) < self.max_weight: \n",
    "            self.__things.append(thing)\n",
    "        \n",
    "    def remove_thing(self, indx):\n",
    "        del self.__things[indx]\n",
    "        \n",
    "    def get_total_weight(self):\n",
    "        weight = 0\n",
    "        for thing in self.__things:\n",
    "            weight += thing.weight\n",
    "        return weight\n",
    "        \n",
    "        \n",
    "class Thing:\n",
    "    def __init__(self, name, weight):\n",
    "        self.name = name\n",
    "        self.weight = weight"
   ]
  },
  {
   "cell_type": "code",
   "execution_count": 5,
   "id": "ab3add6b-8a7d-4530-8f7a-754eb9360ecc",
   "metadata": {},
   "outputs": [
    {
     "name": "stdout",
     "output_type": "stream",
     "text": [
      "Книга по Python: 100\n",
      "Котелок: 500\n",
      "Спички: 20\n",
      "Бумага: 100\n"
     ]
    }
   ],
   "source": [
    "bag = Bag(1000)\n",
    "bag.add_thing(Thing(\"Книга по Python\", 100))\n",
    "bag.add_thing(Thing(\"Котелок\", 500))\n",
    "bag.add_thing(Thing(\"Спички\", 20))\n",
    "bag.add_thing(Thing(\"Бумага\", 100))\n",
    "w = bag.get_total_weight()\n",
    "for t in bag.things:\n",
    "    print(f\"{t.name}: {t.weight}\")"
   ]
  },
  {
   "cell_type": "code",
   "execution_count": 3,
   "id": "1f90c13a-999a-461d-add5-0bb32215c247",
   "metadata": {},
   "outputs": [
    {
     "data": {
      "text/plain": [
       "[<__main__.Thing at 0x25e0516ef10>,\n",
       " <__main__.Thing at 0x25e0516ebb0>,\n",
       " <__main__.Thing at 0x25e0516ee80>,\n",
       " <__main__.Thing at 0x25e0516e250>]"
      ]
     },
     "execution_count": 3,
     "metadata": {},
     "output_type": "execute_result"
    }
   ],
   "source": [
    "bag.things"
   ]
  },
  {
   "cell_type": "code",
   "execution_count": null,
   "id": "3600fa2c-62e4-4620-909a-27828c0f451c",
   "metadata": {},
   "outputs": [],
   "source": []
  }
 ],
 "metadata": {
  "kernelspec": {
   "display_name": "Python 3 (ipykernel)",
   "language": "python",
   "name": "python3"
  },
  "language_info": {
   "codemirror_mode": {
    "name": "ipython",
    "version": 3
   },
   "file_extension": ".py",
   "mimetype": "text/x-python",
   "name": "python",
   "nbconvert_exporter": "python",
   "pygments_lexer": "ipython3",
   "version": "3.9.5"
  }
 },
 "nbformat": 4,
 "nbformat_minor": 5
}
