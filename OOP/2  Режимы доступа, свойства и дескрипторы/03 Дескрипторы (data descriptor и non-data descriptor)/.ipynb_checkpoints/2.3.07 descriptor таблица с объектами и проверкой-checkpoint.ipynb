{
 "cells": [
  {
   "cell_type": "code",
   "execution_count": 32,
   "id": "ac87510a-9cfa-4cb8-bfd8-5bd327c0208f",
   "metadata": {},
   "outputs": [],
   "source": [
    "N = 5\n",
    "M = 3\n",
    "\n",
    "class FloatValue:\n",
    "    \n",
    "    @classmethod\n",
    "    def verify_float(cls, value):\n",
    "        if type(value) != float:\n",
    "            raise TypeError(\"Присваивать можно только вещественный тип данных.\")\n",
    "        \n",
    "    def __set_name__(self, owner, name):\n",
    "        self.name = \"_\" + name\n",
    "\n",
    "    def __get__(self, instance, owner):\n",
    "        return getattr(instance, self.name)\n",
    "       #return instance.__dict__[self.name]\n",
    "        \n",
    "    \n",
    "    def __set__(self, instance, value):\n",
    "        self.verify_float(value)\n",
    "        setattr(instance, self.name, value)\n",
    "        #instance.__dict__[self.name] = value\n",
    "        \n",
    "class Cell:\n",
    "    value = FloatValue()\n",
    "    \n",
    "    def __init__(self, value):\n",
    "        self.value = value\n",
    "    \n",
    "    \n",
    "class TableSheet:\n",
    "    def __init__(self, N, M):\n",
    "        self.cells = [[Cell(0.) for col in range(M)] for row in range(N)]\n",
    "        \n",
    "        \n",
    "table = TableSheet(N, M)\n",
    "for row in range(N):\n",
    "    for col in range(M):\n",
    "        table.cells[row][col].value = row * M + col + 1.\n",
    "    "
   ]
  },
  {
   "cell_type": "code",
   "execution_count": 34,
   "id": "e79810d0-8d1f-4f4d-a220-dff81a7dc2f5",
   "metadata": {},
   "outputs": [],
   "source": [
    "table = TableSheet(N, M)\n",
    "for row in range(N):\n",
    "    for col in range(M):\n",
    "        table.cells[row][col].value = row * M + col + 1."
   ]
  },
  {
   "cell_type": "code",
   "execution_count": 35,
   "id": "b72b9872-c142-4dde-ad7e-d3e786feae31",
   "metadata": {},
   "outputs": [
    {
     "name": "stdout",
     "output_type": "stream",
     "text": [
      "1.0  2.0  3.0  4.0  5.0  6.0  7.0  8.0  9.0  10.0  11.0  12.0  13.0  14.0  15.0  "
     ]
    }
   ],
   "source": [
    "for row in table.cells:\n",
    "    for cell in row:\n",
    "        print(cell.value, end = '  ')\n",
    "    "
   ]
  },
  {
   "cell_type": "code",
   "execution_count": 24,
   "id": "b2c151ff-8152-4315-a037-b52172005b8d",
   "metadata": {},
   "outputs": [
    {
     "data": {
      "text/plain": [
       "0.0"
      ]
     },
     "execution_count": 24,
     "metadata": {},
     "output_type": "execute_result"
    }
   ],
   "source": [
    "table.cells[0][0].value"
   ]
  },
  {
   "cell_type": "code",
   "execution_count": 36,
   "id": "bd9d86ff-971d-4680-9ad0-dc7c542023a7",
   "metadata": {},
   "outputs": [
    {
     "ename": "SyntaxError",
     "evalue": "invalid syntax (Temp/ipykernel_908/2550368806.py, line 1)",
     "output_type": "error",
     "traceback": [
      "\u001b[1;36m  File \u001b[1;32m\"C:\\Users\\73B5~1\\AppData\\Local\\Temp/ipykernel_908/2550368806.py\"\u001b[1;36m, line \u001b[1;32m1\u001b[0m\n\u001b[1;33m    (table.cells[row][col].value = row * M + col + 1. for col in range(M) for row in range(N))\u001b[0m\n\u001b[1;37m                                 ^\u001b[0m\n\u001b[1;31mSyntaxError\u001b[0m\u001b[1;31m:\u001b[0m invalid syntax\n"
     ]
    }
   ],
   "source": [
    "(table.cells[row][col].value = row * M + col + 1. for col in range(M) for row in range(N))"
   ]
  },
  {
   "cell_type": "code",
   "execution_count": null,
   "id": "9ea40147-4995-49cc-8dcf-33943694777f",
   "metadata": {},
   "outputs": [],
   "source": []
  }
 ],
 "metadata": {
  "kernelspec": {
   "display_name": "Python 3 (ipykernel)",
   "language": "python",
   "name": "python3"
  },
  "language_info": {
   "codemirror_mode": {
    "name": "ipython",
    "version": 3
   },
   "file_extension": ".py",
   "mimetype": "text/x-python",
   "name": "python",
   "nbconvert_exporter": "python",
   "pygments_lexer": "ipython3",
   "version": "3.9.5"
  }
 },
 "nbformat": 4,
 "nbformat_minor": 5
}
