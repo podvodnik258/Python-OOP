{
 "cells": [
  {
   "cell_type": "code",
   "execution_count": 48,
   "id": "d3d2ff56-f4db-4506-a3d1-7292339a5224",
   "metadata": {},
   "outputs": [],
   "source": [
    "class StringValue:\n",
    "    def __init__(self, min_length, max_length):\n",
    "        self.min_length = min_length\n",
    "        self.max_length = max_length\n",
    "        \n",
    "    def verify_length(self, string):\n",
    "        return (isinstance(string, str)\n",
    "                and self.min_length <= len(string) <= self.max_length)\n",
    "        \n",
    "    def __set_name__(self, owner, name):\n",
    "        self.name = \"_\" + name\n",
    "\n",
    "    def __get__(self, instance, owner):\n",
    "        return getattr(instance, self.name)\n",
    "        \n",
    "    def __set__(self, instance, value):\n",
    "        if self.verify_length(value):\n",
    "            setattr(instance, self.name, value)\n",
    "            \n",
    "class PriceValue:\n",
    "    def __init__(self, max_value):\n",
    "        self.max_value = max_value\n",
    "        \n",
    "    def verify_value(self, value):\n",
    "        return (isinstance(value, (int, float))\n",
    "                and 0 <= value <= self.max_value)\n",
    "        \n",
    "    def __set_name__(self, owner, name):\n",
    "        self.name = \"_\" + name\n",
    "\n",
    "    def __get__(self, instance, owner):\n",
    "        return getattr(instance, self.name)\n",
    "        \n",
    "    def __set__(self, instance, value):\n",
    "        if self.verify_value(value):\n",
    "            setattr(instance, self.name, value)\n",
    "            \n",
    "class SuperShop: # myshop = SuperShop(название магазина)\n",
    "    def __init__(self, name):\n",
    "        self.name = name\n",
    "        self.goods = []\n",
    "        \n",
    "    def add_product(self, product):\n",
    "        if hasattr(product, 'price') and hasattr(product, 'name'):\n",
    "            self.goods.append(product)\n",
    "    \n",
    "    def remove_product(self, product):\n",
    "        self.goods.remove(product)\n",
    "        \n",
    "class Product:\n",
    "    name = StringValue(2, 50)\n",
    "    price = PriceValue(10000) \n",
    "    \n",
    "    def __init__(self, name, price):\n",
    "        self.name = name\n",
    "        self.price = price\n",
    "        \n",
    "\n",
    "    "
   ]
  },
  {
   "cell_type": "code",
   "execution_count": 55,
   "id": "83dff3ec-1a8f-4c4d-a463-921ee44aafce",
   "metadata": {},
   "outputs": [
    {
     "name": "stdout",
     "output_type": "stream",
     "text": [
      "Курс по Python: 5\n",
      "Курс по Python ООП: 2000\n"
     ]
    }
   ],
   "source": [
    "shop = SuperShop(\"У Балакирева\")\n",
    "shop.add_product(Product(\"Курс по Python\", 5))\n",
    "shop.add_product(Product(\"Курс по Python ООП\", 2000))\n",
    "for p in shop.goods:\n",
    "    print(f\"{p.name}: {p.price}\")"
   ]
  },
  {
   "cell_type": "code",
   "execution_count": 52,
   "id": "d90804b3-e7f0-43ad-9e29-bb14318268e1",
   "metadata": {},
   "outputs": [
    {
     "data": {
      "text/plain": [
       "{'_name': 'Курс по Python ООП', '_price': 2000}"
      ]
     },
     "execution_count": 52,
     "metadata": {},
     "output_type": "execute_result"
    }
   ],
   "source": [
    "shop.goods[0].__dict__"
   ]
  },
  {
   "cell_type": "code",
   "execution_count": null,
   "id": "c037402a-d170-48eb-8aef-643cce7c538d",
   "metadata": {},
   "outputs": [],
   "source": []
  }
 ],
 "metadata": {
  "kernelspec": {
   "display_name": "Python 3 (ipykernel)",
   "language": "python",
   "name": "python3"
  },
  "language_info": {
   "codemirror_mode": {
    "name": "ipython",
    "version": 3
   },
   "file_extension": ".py",
   "mimetype": "text/x-python",
   "name": "python",
   "nbconvert_exporter": "python",
   "pygments_lexer": "ipython3",
   "version": "3.9.5"
  }
 },
 "nbformat": 4,
 "nbformat_minor": 5
}
