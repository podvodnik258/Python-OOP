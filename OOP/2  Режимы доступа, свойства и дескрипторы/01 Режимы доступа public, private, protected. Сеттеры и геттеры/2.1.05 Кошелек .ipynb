{
 "cells": [
  {
   "cell_type": "code",
   "execution_count": 1,
   "id": "5c18e248-39bb-4f2b-8ea7-15491c55013f",
   "metadata": {},
   "outputs": [],
   "source": [
    "class Money:\n",
    "    def __init__(self, money):\n",
    "        self.__money = 0\n",
    "        if self.__check_money(money):\n",
    "            self.__money = money\n",
    "    \n",
    "    def set_money(self, money):\n",
    "        if self.__check_money(money):\n",
    "            self.__money = money\n",
    "    \n",
    "    def get_money(self):\n",
    "        return self.__money\n",
    "        \n",
    "    def add_money(self, mn):\n",
    "        self.__money += mn.get_money()\n",
    "    \n",
    "    @classmethod\n",
    "    def __check_money(cls, money):\n",
    "        return type(money) in (int,) and 0 <= money"
   ]
  },
  {
   "cell_type": "code",
   "execution_count": 2,
   "id": "b0d21f9e-f841-4cec-8442-8107abee97ef",
   "metadata": {},
   "outputs": [],
   "source": [
    "mn_1 = Money(10)\n",
    "mn_2 = Money(20)\n",
    "mn_1.set_money(100)\n",
    "mn_2.add_money(mn_1)\n",
    "m1 = mn_1.get_money()    # 100\n",
    "m2 = mn_2.get_money()    # 120"
   ]
  },
  {
   "cell_type": "code",
   "execution_count": 3,
   "id": "f1fa60c4-d78b-492e-b8b2-da3f435ac0e5",
   "metadata": {},
   "outputs": [
    {
     "data": {
      "text/plain": [
       "120"
      ]
     },
     "execution_count": 3,
     "metadata": {},
     "output_type": "execute_result"
    }
   ],
   "source": [
    "m2"
   ]
  },
  {
   "cell_type": "code",
   "execution_count": null,
   "id": "d2645207-b432-446b-88b9-03135a7250b0",
   "metadata": {},
   "outputs": [],
   "source": []
  }
 ],
 "metadata": {
  "kernelspec": {
   "display_name": "Python 3 (ipykernel)",
   "language": "python",
   "name": "python3"
  },
  "language_info": {
   "codemirror_mode": {
    "name": "ipython",
    "version": 3
   },
   "file_extension": ".py",
   "mimetype": "text/x-python",
   "name": "python",
   "nbconvert_exporter": "python",
   "pygments_lexer": "ipython3",
   "version": "3.9.5"
  }
 },
 "nbformat": 4,
 "nbformat_minor": 5
}
