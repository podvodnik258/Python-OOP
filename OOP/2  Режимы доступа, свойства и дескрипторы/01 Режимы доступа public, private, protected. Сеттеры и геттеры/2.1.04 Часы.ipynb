{
 "cells": [
  {
   "cell_type": "code",
   "execution_count": 4,
   "id": "e0ced54b-f1fc-4dd7-ae81-eab58aff9f33",
   "metadata": {},
   "outputs": [],
   "source": [
    "class Clock:\n",
    "    def __init__(self, time):\n",
    "        self.__time = time\n",
    "\n",
    "    def set_time(self, tm):\n",
    "        if self.__check_time(tm):\n",
    "            self.__time = tm\n",
    "\n",
    "    def get_time(self):\n",
    "        return self.__time\n",
    "\n",
    "    @staticmethod\n",
    "    def __check_time(tm):\n",
    "        return (isinstance(tm, int) and 0 <= tm < 100000)\n",
    "    \n",
    "    \n",
    "clock = Clock(4530)\n"
   ]
  },
  {
   "cell_type": "code",
   "execution_count": 5,
   "id": "fea2e5eb-954c-448b-a10b-bb294fb24eaa",
   "metadata": {},
   "outputs": [
    {
     "data": {
      "text/plain": [
       "4530"
      ]
     },
     "execution_count": 5,
     "metadata": {},
     "output_type": "execute_result"
    }
   ],
   "source": [
    "clock.get_time()"
   ]
  },
  {
   "cell_type": "code",
   "execution_count": null,
   "id": "40d00356-5502-4f86-8528-b611add3a8b3",
   "metadata": {},
   "outputs": [],
   "source": []
  }
 ],
 "metadata": {
  "kernelspec": {
   "display_name": "Python 3 (ipykernel)",
   "language": "python",
   "name": "python3"
  },
  "language_info": {
   "codemirror_mode": {
    "name": "ipython",
    "version": 3
   },
   "file_extension": ".py",
   "mimetype": "text/x-python",
   "name": "python",
   "nbconvert_exporter": "python",
   "pygments_lexer": "ipython3",
   "version": "3.9.5"
  }
 },
 "nbformat": 4,
 "nbformat_minor": 5
}
