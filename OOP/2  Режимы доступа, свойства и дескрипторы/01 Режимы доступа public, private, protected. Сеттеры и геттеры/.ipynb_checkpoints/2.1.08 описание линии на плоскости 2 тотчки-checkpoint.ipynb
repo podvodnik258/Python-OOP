{
 "cells": [
  {
   "cell_type": "code",
   "execution_count": 1,
   "id": "3a1602ce-0ddc-4882-aa64-1ef985281b51",
   "metadata": {},
   "outputs": [],
   "source": [
    "class Line:\n",
    "    def __init__(self, x1, y1, x2, y2):\n",
    "        self.__x1 = self.__y1 = self.__x2 = self.__y2 = 0\n",
    "        self.set_coords(x1, y1, x2, y2)\n",
    "\n",
    "    def set_coords(self, x1, y1, x2, y2):\n",
    "        self.__x1 = x1\n",
    "        self.__y1 = y1\n",
    "        self.__x2 = x2\n",
    "        self.__y2 = y2            \n",
    "    \n",
    "    def get_coords(self):\n",
    "        return self.__x1, self.__y1, self.__x2, self.__y2\n",
    "\n",
    "    def draw(self):\n",
    "        print(*self.get_coords())"
   ]
  },
  {
   "cell_type": "code",
   "execution_count": 4,
   "id": "c1726d74-492b-4ec8-9837-659d064e52ad",
   "metadata": {},
   "outputs": [
    {
     "name": "stdout",
     "output_type": "stream",
     "text": [
      "0 1 2 3\n"
     ]
    }
   ],
   "source": [
    "line = Line(0, 1, 2, 3)\n",
    "line.draw()"
   ]
  },
  {
   "cell_type": "code",
   "execution_count": 6,
   "id": "74bb4648-3514-4a37-b29b-675307fe44bd",
   "metadata": {},
   "outputs": [
    {
     "data": {
      "text/plain": [
       "(0, 1, 2, 3)"
      ]
     },
     "execution_count": 6,
     "metadata": {},
     "output_type": "execute_result"
    }
   ],
   "source": [
    "line.get_coords()"
   ]
  },
  {
   "cell_type": "code",
   "execution_count": null,
   "id": "b7f440d4-f604-4fd0-8931-6f165911beea",
   "metadata": {},
   "outputs": [],
   "source": []
  }
 ],
 "metadata": {
  "kernelspec": {
   "display_name": "Python 3 (ipykernel)",
   "language": "python",
   "name": "python3"
  },
  "language_info": {
   "codemirror_mode": {
    "name": "ipython",
    "version": 3
   },
   "file_extension": ".py",
   "mimetype": "text/x-python",
   "name": "python",
   "nbconvert_exporter": "python",
   "pygments_lexer": "ipython3",
   "version": "3.9.5"
  }
 },
 "nbformat": 4,
 "nbformat_minor": 5
}
