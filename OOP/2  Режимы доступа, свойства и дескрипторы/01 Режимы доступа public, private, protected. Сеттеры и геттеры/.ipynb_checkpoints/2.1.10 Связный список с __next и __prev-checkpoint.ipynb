{
 "cells": [
  {
   "cell_type": "code",
   "execution_count": 2,
   "id": "4b190f55-95d8-4e81-a9eb-c998027b4718",
   "metadata": {},
   "outputs": [
    {
     "data": {
      "text/plain": [
       "['данные 1', 'данные 2', 'данные 3']"
      ]
     },
     "execution_count": 2,
     "metadata": {},
     "output_type": "execute_result"
    }
   ],
   "source": [
    "class LinkedList:\n",
    "    \n",
    "    def __init__(self):\n",
    "        self.head = None\n",
    "        self.tail = None\n",
    "        \n",
    "        \n",
    "    def add_obj(self, obj):\n",
    "        if self.head is None:\n",
    "            self.head = obj\n",
    "        if self.tail:\n",
    "            obj.set_prev(self.tail)\n",
    "            self.tail.set_next(obj)\n",
    "        self.tail = obj\n",
    "            \n",
    "\n",
    "    def remove_obj(self):\n",
    "        self.tail = self.tail.get_prev()\n",
    "        self.tail.set_next(None)\n",
    "\n",
    "    def get_data(self):\n",
    "        res = []\n",
    "        head = self.head\n",
    "        res.append(head.get_data())\n",
    "        while head.get_next():\n",
    "            head = head.get_next()\n",
    "            res.append(head.get_data())\n",
    "            \n",
    "        return res\n",
    "    \n",
    "    \n",
    "class ObjList:\n",
    "    c = 0\n",
    "    \n",
    "    def __new__(cls, *args, **kwargs):\n",
    "        cls.c += 1  \n",
    "        return super().__new__(cls)\n",
    "    \n",
    "    def __init__(self, data):\n",
    "        self.__data = ''\n",
    "        self.__next = self.__prev = None\n",
    "        self.set_data(data)\n",
    "\n",
    "    \n",
    "    def set_next(self, obj):\n",
    "        self.__next = obj\n",
    "    \n",
    "    def set_prev(self, obj):\n",
    "        self.__prev = obj\n",
    "    \n",
    "    def get_next(self):\n",
    "        return self.__next\n",
    "    \n",
    "    def get_prev(self):\n",
    "        return self.__prev\n",
    "    \n",
    "    def set_data(self, data):\n",
    "        if isinstance(data, str):\n",
    "            self.__data = data\n",
    "    \n",
    "    def get_data(self):\n",
    "        return self.__data\n",
    "    \n",
    "ob = ObjList(\"данные 1\")\n",
    "lst = LinkedList()\n",
    "lst.add_obj(ObjList(\"данные 1\"))\n",
    "lst.add_obj(ObjList(\"данные 2\"))\n",
    "lst.add_obj(ObjList(\"данные 3\"))\n",
    "res = lst.get_data()    # ['данные 1', 'данные 2', 'данные 3']\n",
    "res"
   ]
  },
  {
   "cell_type": "code",
   "execution_count": null,
   "id": "d5ea1691-ba34-4f77-815a-6fdc5a19de87",
   "metadata": {},
   "outputs": [],
   "source": []
  }
 ],
 "metadata": {
  "kernelspec": {
   "display_name": "Python 3 (ipykernel)",
   "language": "python",
   "name": "python3"
  },
  "language_info": {
   "codemirror_mode": {
    "name": "ipython",
    "version": 3
   },
   "file_extension": ".py",
   "mimetype": "text/x-python",
   "name": "python",
   "nbconvert_exporter": "python",
   "pygments_lexer": "ipython3",
   "version": "3.9.5"
  }
 },
 "nbformat": 4,
 "nbformat_minor": 5
}
