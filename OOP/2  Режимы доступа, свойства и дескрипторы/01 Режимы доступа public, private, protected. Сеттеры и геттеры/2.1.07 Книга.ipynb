{
 "cells": [
  {
   "cell_type": "code",
   "execution_count": null,
   "id": "7ce6eab6-72b0-4d19-83a0-abf2019728b6",
   "metadata": {},
   "outputs": [],
   "source": [
    "class Book:\n",
    "    def __init__(self, author, title, price):\n",
    "        self.__author = self.__title = ''\n",
    "        self.__price = 0\n",
    "        self.set_author(author)\n",
    "        self.set_title(title)\n",
    "        self.set_price(price)\n",
    "        \n",
    "    def __check(self, val, string=True):\n",
    "        if string: return isinstance(val, str)\n",
    "        return isinstance(val, int) and val > 0\n",
    "    \n",
    "    def set_title(self, title):\n",
    "        if self.__check(title): self.__title = title\n",
    "\n",
    "    def set_author(self, author):\n",
    "        if self.__check(author): self.__author = author\n",
    "            \n",
    "    def set_price(self, price):\n",
    "        if self.__check(price, False): self.__price = price\n",
    "            \n",
    "    def get_title(self): return self.__title\n",
    "    def get_author(self): return self.__author\n",
    "    def get_price(self): return self.__price\n"
   ]
  },
  {
   "cell_type": "code",
   "execution_count": null,
   "id": "e70e8953-3ace-41b7-97d1-1bfc303f08fa",
   "metadata": {},
   "outputs": [],
   "source": [
    "book = Book(автор, название, цена)"
   ]
  }
 ],
 "metadata": {
  "kernelspec": {
   "display_name": "Python 3 (ipykernel)",
   "language": "python",
   "name": "python3"
  },
  "language_info": {
   "codemirror_mode": {
    "name": "ipython",
    "version": 3
   },
   "file_extension": ".py",
   "mimetype": "text/x-python",
   "name": "python",
   "nbconvert_exporter": "python",
   "pygments_lexer": "ipython3",
   "version": "3.9.5"
  }
 },
 "nbformat": 4,
 "nbformat_minor": 5
}
