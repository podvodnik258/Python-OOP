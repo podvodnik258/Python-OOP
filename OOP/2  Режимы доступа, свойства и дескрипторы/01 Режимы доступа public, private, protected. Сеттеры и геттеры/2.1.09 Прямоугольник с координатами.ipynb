{
 "cells": [
  {
   "cell_type": "code",
   "execution_count": 7,
   "id": "d2aa8163-f0ba-401a-b520-361c7d8782c0",
   "metadata": {},
   "outputs": [],
   "source": [
    "class Point:\n",
    "    @classmethod\n",
    "    def __check_coord(self, coord):\n",
    "        return isinstance(coord, (int, float))\n",
    "    \n",
    "    def __init__(self, x, y):\n",
    "        if self.__check_coord(x) and self.__check_coord(y):\n",
    "            self.__x = x\n",
    "            self.__y = y\n",
    "            \n",
    "    def get_coords(self):\n",
    "        return self.__x, self.__y\n",
    "            \n",
    "class Rectangle:\n",
    "    def __init__(self, *args):\n",
    "        self.__sp = self.__ep = 0\n",
    "        if len(args) == 4:\n",
    "            self.set_coords(Point(*args[:2]), Point(*args[2:]))\n",
    "        else:\n",
    "            self.set_coords(*args)\n",
    "\n",
    "    def set_coords(self, sp, ep):\n",
    "        self.__sp = sp.get_coords()\n",
    "        self.__ep = ep.get_coords()\n",
    "        \n",
    "    def get_coords(self):\n",
    "        return Point(*self.__sp), Point(*self.__ep)\n",
    "    \n",
    "    def draw(self):\n",
    "        return print(f\"Прямоугольник с координатами: {self.__sp.get_coords()} {self.__ep.get_coords()}\")\n",
    "\n",
    "rect = Rectangle(Point(0, 0), Point(20, 34))\n"
   ]
  },
  {
   "cell_type": "code",
   "execution_count": null,
   "id": "c5a2946b-8655-4675-ba1a-f3fc5947c14f",
   "metadata": {},
   "outputs": [],
   "source": []
  }
 ],
 "metadata": {
  "kernelspec": {
   "display_name": "Python 3 (ipykernel)",
   "language": "python",
   "name": "python3"
  },
  "language_info": {
   "codemirror_mode": {
    "name": "ipython",
    "version": 3
   },
   "file_extension": ".py",
   "mimetype": "text/x-python",
   "name": "python",
   "nbconvert_exporter": "python",
   "pygments_lexer": "ipython3",
   "version": "3.9.5"
  }
 },
 "nbformat": 4,
 "nbformat_minor": 5
}
