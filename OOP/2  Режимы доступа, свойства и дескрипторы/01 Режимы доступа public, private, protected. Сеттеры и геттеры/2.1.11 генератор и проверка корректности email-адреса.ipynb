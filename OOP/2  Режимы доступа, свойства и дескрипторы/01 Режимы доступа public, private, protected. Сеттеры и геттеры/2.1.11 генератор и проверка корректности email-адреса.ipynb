{
 "cells": [
  {
   "cell_type": "code",
   "execution_count": 2,
   "id": "46f3e683-557f-4f82-b24b-ee0776621f9c",
   "metadata": {},
   "outputs": [],
   "source": [
    "import string\n",
    "from random import choice, randint\n",
    "\n",
    "letters_and_digits = string.ascii_lowercase + string.digits + \"_.@\"\n",
    "\n",
    "class EmailValidator:\n",
    "    \n",
    "    def __new__(cls, *args, **kwargs):\n",
    "        return None\n",
    "    \n",
    "    @classmethod\n",
    "    def check_email(cls, email) -> bool:\n",
    "        return (cls.__is_email_str(email) \n",
    "                and all(char in letters_and_digits for char in email.lower())\n",
    "                and email.count('@') == 1\n",
    "                and len(email[:email.find(\"@\")]) <= 100\n",
    "                and len(email[email.find(\"@\"):]) < 50\n",
    "                and email[email.find(\"@\"):].count('.') > 0\n",
    "                and '..' not in email\n",
    "               )\n",
    "    \n",
    "    @classmethod\n",
    "    def get_random_email(cls):\n",
    "        s = ''\n",
    "        for _ in range(randint(1, 20)):\n",
    "            s += choice(letters_and_digits[:-1])\n",
    "        return s + '@gmail.com'\n",
    "    \n",
    "    @staticmethod\n",
    "    def __is_email_str(email) -> bool:\n",
    "        return type(email) == str"
   ]
  },
  {
   "cell_type": "code",
   "execution_count": 3,
   "id": "181f8b0b-0d75-48df-af33-19ca39fa2939",
   "metadata": {},
   "outputs": [
    {
     "name": "stdout",
     "output_type": "stream",
     "text": [
      "False\n",
      "False\n",
      "False\n",
      "False\n",
      "True\n"
     ]
    }
   ],
   "source": [
    "print(EmailValidator.check_email(\"юsc_lib@list.ru\")) # False\n",
    "print(EmailValidator.check_email(\"sс_lib@list_@ru\")) # False\n",
    "print(EmailValidator.check_email(\"sс_lib@list_ru\")) # False\n",
    "print(EmailValidator.check_email(\"sscscsccc_lib@list..ru\")) # False\n",
    "print(EmailValidator.check_email(\"slib@list.ru\")) # False"
   ]
  },
  {
   "cell_type": "code",
   "execution_count": 4,
   "id": "11371a0e-93fa-42b6-b6d2-f14e8404732d",
   "metadata": {},
   "outputs": [
    {
     "name": "stdout",
     "output_type": "stream",
     "text": [
      "doua1ay26_zwgcbwgimj@gmail.com\n"
     ]
    }
   ],
   "source": [
    "print(EmailValidator.get_random_email())"
   ]
  },
  {
   "cell_type": "code",
   "execution_count": null,
   "id": "8b9c809c-8366-427d-ac01-a0a09a310530",
   "metadata": {},
   "outputs": [],
   "source": []
  }
 ],
 "metadata": {
  "kernelspec": {
   "display_name": "Python 3 (ipykernel)",
   "language": "python",
   "name": "python3"
  },
  "language_info": {
   "codemirror_mode": {
    "name": "ipython",
    "version": 3
   },
   "file_extension": ".py",
   "mimetype": "text/x-python",
   "name": "python",
   "nbconvert_exporter": "python",
   "pygments_lexer": "ipython3",
   "version": "3.9.5"
  }
 },
 "nbformat": 4,
 "nbformat_minor": 5
}
