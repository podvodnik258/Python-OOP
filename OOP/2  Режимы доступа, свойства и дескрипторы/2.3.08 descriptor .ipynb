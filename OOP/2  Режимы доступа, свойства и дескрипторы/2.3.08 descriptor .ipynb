{
 "cells": [
  {
   "cell_type": "code",
   "execution_count": 5,
   "id": "6f7b3716-7c49-4638-b988-de2a1854bd02",
   "metadata": {},
   "outputs": [],
   "source": []
  },
  {
   "cell_type": "code",
   "execution_count": 43,
   "id": "ad1b4be6-c1c8-4f06-a8fe-b739ea8c3ace",
   "metadata": {},
   "outputs": [],
   "source": [
    "class ValidateString:\n",
    "    def __init__(self, min_length=0, max_length=0):\n",
    "        self.min_length = min_length \n",
    "        self.max_length = max_length\n",
    "        \n",
    "    def validate(self, string):\n",
    "        return (isinstance(string, str)\n",
    "                and self.min_length < len(string) < self.max_length)\n",
    "\n",
    "class StringValue:\n",
    "    def __init__(self, validator):\n",
    "        self.__validator = validator\n",
    "        \n",
    "    def __set_name__(self, owner, name):\n",
    "        self.name = '_'+name\n",
    "\n",
    "    def __get__(self, instance, owner):\n",
    "        return getattr(instance, self.name)\n",
    "        \n",
    "    \n",
    "    def __set__(self, instance, value):\n",
    "        if self.__validator.validate(self.name):\n",
    "            setattr(instance, self.name, value)\n",
    "        \n",
    "class RegisterForm:\n",
    "    login = StringValue(validator=ValidateString(min_length = 3, max_length=50))\n",
    "    password = StringValue(validator=ValidateString(min_length = 8, max_length=16))\n",
    "    email = StringValue(validator=ValidateString(min_length = 5, max_length=50)) \n",
    "\n",
    "    def __init__(self, login, password, email):\n",
    "        self.login = login \n",
    "        self.password = password\n",
    "        self.email = email\n",
    "        \n",
    "    def get_fields(self):\n",
    "        return [self.login, self.password, self.email]\n",
    "    \n",
    "    def show(self):\n",
    "        print('<from>', \n",
    "              f'Логин: {self.login}',\n",
    "              f'Пароль: {self.password}',\n",
    "              f'Email: {self.email}',\n",
    "              '</from>', sep ='\\n')\n",
    "              \n",
    "        "
   ]
  },
  {
   "cell_type": "code",
   "execution_count": 44,
   "id": "64aaf9f7-fbb1-48e0-830a-44b4d784c49b",
   "metadata": {},
   "outputs": [
    {
     "name": "stdout",
     "output_type": "stream",
     "text": [
      "<from>\n",
      "Логин: логин\n",
      "Пароль: пароль\n",
      "Email: email\n",
      "</from>\n"
     ]
    }
   ],
   "source": [
    "form = RegisterForm('логин', 'пароль', 'email')\n",
    "form.get_fields()\n",
    "form.show()"
   ]
  },
  {
   "cell_type": "code",
   "execution_count": null,
   "id": "b5fbdf8a-333e-44d1-a4ab-d2d3b7484c94",
   "metadata": {},
   "outputs": [],
   "source": []
  }
 ],
 "metadata": {
  "kernelspec": {
   "display_name": "Python 3 (ipykernel)",
   "language": "python",
   "name": "python3"
  },
  "language_info": {
   "codemirror_mode": {
    "name": "ipython",
    "version": 3
   },
   "file_extension": ".py",
   "mimetype": "text/x-python",
   "name": "python",
   "nbconvert_exporter": "python",
   "pygments_lexer": "ipython3",
   "version": "3.9.5"
  }
 },
 "nbformat": 4,
 "nbformat_minor": 5
}
