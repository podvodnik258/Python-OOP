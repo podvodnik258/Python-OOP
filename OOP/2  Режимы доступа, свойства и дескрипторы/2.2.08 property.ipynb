{
 "cells": [
  {
   "cell_type": "code",
   "execution_count": 34,
   "id": "5abb1b96-3f76-45d6-a4cd-152190f92942",
   "metadata": {},
   "outputs": [],
   "source": [
    "class RadiusVector2D:\n",
    "    \n",
    "    MIN_COORD = -100 \n",
    "    MAX_COORD = 1024\n",
    "    \n",
    "    def __init__(self, x=0, y=0):\n",
    "        self.__x = self.__y = 0\n",
    "        self.x = x\n",
    "        self.y = y\n",
    "        \n",
    "    @property\n",
    "    def x(self):\n",
    "        return self.__x\n",
    "\n",
    "    @x.setter\n",
    "    def x(self, value):\n",
    "        if self.__chek_value(value):\n",
    "            self.__x = value\n",
    "        \n",
    "    @property\n",
    "    def y(self):\n",
    "        return self.__y\n",
    "\n",
    "    @y.setter\n",
    "    def y(self, value):\n",
    "        if self.__chek_value(value):\n",
    "            self.__y = value\n",
    "        \n",
    "    @classmethod\n",
    "    def __chek_value(cls, value) -> bool:\n",
    "        return all((isinstance(value, (int, float)), \n",
    "                   cls.MIN_COORD <= value <= cls.MAX_COORD,)\n",
    "                  )\n",
    "        \n",
    "    @staticmethod\n",
    "    def norm2(vector):\n",
    "        x, y = vector.x, vector.y\n",
    "        return x * x + y * y\n"
   ]
  },
  {
   "cell_type": "code",
   "execution_count": 35,
   "id": "18879b9a-339f-4622-afb7-059937f2f752",
   "metadata": {},
   "outputs": [],
   "source": [
    "v1 = RadiusVector2D()        # радиус-вектор с координатами (0; 0)\n",
    "v2 = RadiusVector2D(1)       # радиус-вектор с координатами (1; 0)\n",
    "v3 = RadiusVector2D(4, 5)    # радиус-вектор с координатами (1; 2)"
   ]
  },
  {
   "cell_type": "code",
   "execution_count": 36,
   "id": "d3384a8d-21f5-4e45-9e56-301eb4451c0b",
   "metadata": {},
   "outputs": [
    {
     "data": {
      "text/plain": [
       "41"
      ]
     },
     "execution_count": 36,
     "metadata": {},
     "output_type": "execute_result"
    }
   ],
   "source": [
    "v3.norm2(v3)"
   ]
  },
  {
   "cell_type": "code",
   "execution_count": null,
   "id": "46f7a24e-1d5c-4c87-bacc-3a697bb7df7d",
   "metadata": {},
   "outputs": [],
   "source": []
  }
 ],
 "metadata": {
  "kernelspec": {
   "display_name": "Python 3 (ipykernel)",
   "language": "python",
   "name": "python3"
  },
  "language_info": {
   "codemirror_mode": {
    "name": "ipython",
    "version": 3
   },
   "file_extension": ".py",
   "mimetype": "text/x-python",
   "name": "python",
   "nbconvert_exporter": "python",
   "pygments_lexer": "ipython3",
   "version": "3.9.5"
  }
 },
 "nbformat": 4,
 "nbformat_minor": 5
}
