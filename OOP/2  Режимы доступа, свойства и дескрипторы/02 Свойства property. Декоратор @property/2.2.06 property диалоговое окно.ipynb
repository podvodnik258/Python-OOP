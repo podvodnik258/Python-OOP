{
 "cells": [
  {
   "cell_type": "code",
   "execution_count": 11,
   "id": "6cdfe4af-a2ba-41b4-920e-c350afaa613e",
   "metadata": {},
   "outputs": [],
   "source": [
    "A, B = 0, 10000\n",
    "  \n",
    "class WindowDlg:\n",
    "\n",
    "    def __init__(self, title, width, height):\n",
    "        self.__init = False\n",
    "        self.__title = title\n",
    "        self.__width = self.__height = int\n",
    "        self.width = width\n",
    "        self.height = height\n",
    "        self.__init = True\n",
    "        \n",
    "    @staticmethod\n",
    "    def __check_len(lenght):\n",
    "        return (A <= lenght <= B \n",
    "                and isinstance(lenght, int))\n",
    "\n",
    "    @property\n",
    "    def width(self):\n",
    "        return self.__width\n",
    "    \n",
    "    @width.setter\n",
    "    def width(self, width):\n",
    "        if self.__check_len(width):\n",
    "            self.__width = width\n",
    "            self.show()\n",
    "\n",
    "    @property\n",
    "    def height(self):\n",
    "        return self.__height\n",
    "    \n",
    "    @height.setter\n",
    "    def height(self, height):\n",
    "        if self.__check_len(height):  \n",
    "            self.__height = height\n",
    "            self.show()\n",
    "\n",
    "    def show(self):\n",
    "        if self.__init:\n",
    "            print(f'{self.__title}: {self.__width}, {self.__height}')\n",
    "\n",
    "\n",
    "\n",
    "\n"
   ]
  },
  {
   "cell_type": "code",
   "execution_count": 12,
   "id": "732827bd-57f9-499e-9236-9a2cead79150",
   "metadata": {},
   "outputs": [],
   "source": [
    "wnd = WindowDlg('Диалог 1', 100, 50)"
   ]
  },
  {
   "cell_type": "code",
   "execution_count": 13,
   "id": "afee75a7-cb0d-4af7-b76c-946f1788a69e",
   "metadata": {},
   "outputs": [],
   "source": [
    "wnd.width = -2"
   ]
  },
  {
   "cell_type": "code",
   "execution_count": 14,
   "id": "127d8bd0-4363-483c-8c3b-d8a6734b20ef",
   "metadata": {},
   "outputs": [
    {
     "name": "stdout",
     "output_type": "stream",
     "text": [
      "Диалог 1: 100, 10\n"
     ]
    }
   ],
   "source": [
    "wnd.height = 10"
   ]
  },
  {
   "cell_type": "code",
   "execution_count": 15,
   "id": "2ae5f3d1-e185-4f45-90f5-4c7b7f22ef7e",
   "metadata": {},
   "outputs": [
    {
     "ename": "AttributeError",
     "evalue": "'WindowDlg' object has no attribute 'check_len'",
     "output_type": "error",
     "traceback": [
      "\u001b[1;31m---------------------------------------------------------------------------\u001b[0m",
      "\u001b[1;31mAttributeError\u001b[0m                            Traceback (most recent call last)",
      "\u001b[1;32mC:\\Users\\73B5~1\\AppData\\Local\\Temp/ipykernel_2592/3891196946.py\u001b[0m in \u001b[0;36m<module>\u001b[1;34m\u001b[0m\n\u001b[1;32m----> 1\u001b[1;33m \u001b[0mwnd\u001b[0m\u001b[1;33m.\u001b[0m\u001b[0mcheck_len\u001b[0m\u001b[1;33m(\u001b[0m\u001b[1;33m-\u001b[0m\u001b[1;36m1\u001b[0m\u001b[1;33m)\u001b[0m\u001b[1;33m\u001b[0m\u001b[1;33m\u001b[0m\u001b[0m\n\u001b[0m",
      "\u001b[1;31mAttributeError\u001b[0m: 'WindowDlg' object has no attribute 'check_len'"
     ]
    }
   ],
   "source": [
    "wnd.check_len(-1)"
   ]
  },
  {
   "cell_type": "code",
   "execution_count": null,
   "id": "438197de-a8c9-4227-90cb-330262f968f8",
   "metadata": {},
   "outputs": [],
   "source": []
  }
 ],
 "metadata": {
  "kernelspec": {
   "display_name": "Python 3 (ipykernel)",
   "language": "python",
   "name": "python3"
  },
  "language_info": {
   "codemirror_mode": {
    "name": "ipython",
    "version": 3
   },
   "file_extension": ".py",
   "mimetype": "text/x-python",
   "name": "python",
   "nbconvert_exporter": "python",
   "pygments_lexer": "ipython3",
   "version": "3.9.5"
  }
 },
 "nbformat": 4,
 "nbformat_minor": 5
}
