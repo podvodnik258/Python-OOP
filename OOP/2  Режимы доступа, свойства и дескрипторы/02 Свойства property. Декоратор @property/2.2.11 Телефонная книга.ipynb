{
 "cells": [
  {
   "cell_type": "code",
   "execution_count": 6,
   "id": "f9e0e62c-f31f-4190-a12a-f71e6d76c1b5",
   "metadata": {},
   "outputs": [],
   "source": [
    "class PhoneBook:\n",
    "    def __init__(self):\n",
    "        self.dictionary = []\n",
    "    \n",
    "    def add_phone(self, phone): # добавление нового номера телефона (в список);\n",
    "        self.dictionary.append(phone)\n",
    "    \n",
    "    def remove_phone(self, indx): # удаление номера телефона по индексу списка;\n",
    "        del self.dictionary[indx]\n",
    "    \n",
    "    def get_phone_list(self):  # получение списка из объектов всех телефонных номеров\n",
    "        return self.dictionary\n",
    "        \n",
    "\n",
    "        \n",
    "        \n",
    "class PhoneNumber:\n",
    "    \n",
    "    def __init__(self, number, fio):\n",
    "        self.number = number if self.check_number(number) else 99999999999\n",
    "        self.fio = fio\n",
    "        \n",
    "    @staticmethod\n",
    "    def check_number(number):\n",
    "        return (isinstance(number, int) and\n",
    "                len(str(number)) == 11)\n",
    "      "
   ]
  },
  {
   "cell_type": "code",
   "execution_count": 7,
   "id": "8b676da6-1026-4db0-9955-1ac6fcb506c4",
   "metadata": {},
   "outputs": [],
   "source": [
    "p = PhoneBook()\n",
    "p.add_phone(PhoneNumber(12345678901, \"Сергей Балакирев\"))\n",
    "p.add_phone(PhoneNumber(21345678901, \"Панда\"))\n",
    "phones = p.get_phone_list()"
   ]
  },
  {
   "cell_type": "code",
   "execution_count": 8,
   "id": "444dc3a3-664d-4bd7-ac31-f8f56c2e9f70",
   "metadata": {},
   "outputs": [
    {
     "data": {
      "text/plain": [
       "[<__main__.PhoneNumber at 0x1fc69557130>,\n",
       " <__main__.PhoneNumber at 0x1fc695578b0>]"
      ]
     },
     "execution_count": 8,
     "metadata": {},
     "output_type": "execute_result"
    }
   ],
   "source": [
    "phones"
   ]
  },
  {
   "cell_type": "code",
   "execution_count": null,
   "id": "1561fe62-66ac-4417-955a-0d2ea17026d9",
   "metadata": {},
   "outputs": [],
   "source": []
  }
 ],
 "metadata": {
  "kernelspec": {
   "display_name": "Python 3 (ipykernel)",
   "language": "python",
   "name": "python3"
  },
  "language_info": {
   "codemirror_mode": {
    "name": "ipython",
    "version": 3
   },
   "file_extension": ".py",
   "mimetype": "text/x-python",
   "name": "python",
   "nbconvert_exporter": "python",
   "pygments_lexer": "ipython3",
   "version": "3.9.5"
  }
 },
 "nbformat": 4,
 "nbformat_minor": 5
}
