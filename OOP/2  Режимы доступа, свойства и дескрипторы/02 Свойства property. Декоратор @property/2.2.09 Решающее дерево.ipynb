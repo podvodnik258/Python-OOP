{
 "cells": [
  {
   "cell_type": "markdown",
   "id": "054ae55d-1b2f-4e0a-a141-0e197496178a",
   "metadata": {},
   "source": [
    "https://stepik.org/lesson/701984/step/9?unit=702085"
   ]
  },
  {
   "cell_type": "code",
   "execution_count": 23,
   "id": "1a45a8aa-6265-4cdb-b100-b131fc512481",
   "metadata": {},
   "outputs": [],
   "source": [
    "\n",
    "\n",
    "class TreeObj:\n",
    "    def __init__(self, indx, value=None):\n",
    "        self.indx = indx\n",
    "        self.value = value\n",
    "        self.__left = self.__right = None\n",
    "\n",
    "    @property\n",
    "    def left(self):\n",
    "        return self.__left\n",
    "    \n",
    "    @left.setter\n",
    "    def left(self, obj):\n",
    "        self.__left = obj\n",
    "    \n",
    "    @property\n",
    "    def right(self):\n",
    "        return self.__right\n",
    "    \n",
    "    @right.setter\n",
    "    def right(self, obj):\n",
    "        self.__right = obj\n",
    "        \n",
    "        \n",
    "class DecisionTree:\n",
    "        \n",
    "    @classmethod\n",
    "    def add_obj(cls, obj, node=None, left=True):\n",
    "        if node:\n",
    "            if left:\n",
    "                node.left = obj\n",
    "            else:\n",
    "                node.right = obj\n",
    "        return obj\n",
    "    \n",
    "    @classmethod\n",
    "    def predict(cls, root, x):\n",
    "        obj = root\n",
    "        while obj:\n",
    "            obj_next = cls.get_next(obj, x)\n",
    "            if obj_next is None:\n",
    "                break\n",
    "            obj = obj_next\n",
    "            \n",
    "        return obj.value \n",
    "    \n",
    "    @classmethod\n",
    "    def get_next(cls, obj, x):\n",
    "        if x[obj.indx] == 1:\n",
    "            return obj.left\n",
    "        return obj.right"
   ]
  },
  {
   "cell_type": "code",
   "execution_count": 24,
   "id": "a3872c7e-77ca-47c0-858e-c3183a9881f1",
   "metadata": {},
   "outputs": [
    {
     "name": "stdout",
     "output_type": "stream",
     "text": [
      "4\n"
     ]
    }
   ],
   "source": [
    "root = DecisionTree.add_obj(TreeObj(0))\n",
    "v_11 = DecisionTree.add_obj(TreeObj(1), root)\n",
    "v_12 = DecisionTree.add_obj(TreeObj(2), root, False)\n",
    "v_111 = DecisionTree.add_obj(TreeObj(3), v_11)\n",
    "v_112 = DecisionTree.add_obj(TreeObj(4), v_11, False)\n",
    "DecisionTree.add_obj(TreeObj(-1, \"1\"), v_111)\n",
    "DecisionTree.add_obj(TreeObj(-1, \"2\"), v_111, False)\n",
    "DecisionTree.add_obj(TreeObj(-1, \"5\"), v_12)\n",
    "DecisionTree.add_obj(TreeObj(-1, \"6\"), v_12, False)\n",
    "DecisionTree.add_obj(TreeObj(-1, \"3\"), v_112)\n",
    "DecisionTree.add_obj(TreeObj(-1, \"4\"), v_112, False)\n",
    "\n",
    "x = [1,0,1,1,0]\n",
    "res = DecisionTree.predict(root, x)\n",
    "print(res)"
   ]
  },
  {
   "cell_type": "code",
   "execution_count": null,
   "id": "e17a58eb-a90b-4652-83e7-b4dfc53bf22c",
   "metadata": {},
   "outputs": [],
   "source": []
  },
  {
   "cell_type": "code",
   "execution_count": null,
   "id": "a3e173e0-7263-47ab-9ab0-7385e86829fd",
   "metadata": {},
   "outputs": [],
   "source": []
  }
 ],
 "metadata": {
  "kernelspec": {
   "display_name": "Python 3 (ipykernel)",
   "language": "python",
   "name": "python3"
  },
  "language_info": {
   "codemirror_mode": {
    "name": "ipython",
    "version": 3
   },
   "file_extension": ".py",
   "mimetype": "text/x-python",
   "name": "python",
   "nbconvert_exporter": "python",
   "pygments_lexer": "ipython3",
   "version": "3.9.5"
  }
 },
 "nbformat": 4,
 "nbformat_minor": 5
}
