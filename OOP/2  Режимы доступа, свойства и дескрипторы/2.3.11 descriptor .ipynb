{
 "cells": [
  {
   "cell_type": "code",
   "execution_count": 41,
   "id": "119f16a9-1026-4280-9f9a-3ab39d9f4267",
   "metadata": {},
   "outputs": [],
   "source": [
    "class TVProgram:\n",
    "    def __init__(self, name):\n",
    "        self.name = name\n",
    "        self.items = []\n",
    "        \n",
    "    def add_telecast(self, tl):\n",
    "        self.items.append(tl)\n",
    "        \n",
    "    def remove_telecast(self, indx):\n",
    "        for item in self.items:\n",
    "            if item.uid == indx:\n",
    "                self.items.remove(item)\n",
    "        \n",
    "class Telecast:\n",
    "    def __init__(self, uid, name, duration):\n",
    "        self.uid = uid\n",
    "        self.name = name\n",
    "        self.duration = duration\n",
    "    \n",
    "    @property\n",
    "    def uid(self):\n",
    "        return self.__id\n",
    "    \n",
    "    @uid.setter\n",
    "    def uid(self, uid):\n",
    "        self.__id = uid\n",
    "        \n",
    "    @property\n",
    "    def name(self):\n",
    "        return self.__name\n",
    "    \n",
    "    @name.setter\n",
    "    def name(self, name):\n",
    "        self.__name = name\n",
    "        \n",
    "    @property\n",
    "    def duration(self):\n",
    "        return self.__duration\n",
    "    \n",
    "    @duration.setter\n",
    "    def duration(self, duration):\n",
    "        self.__duration = duration"
   ]
  },
  {
   "cell_type": "code",
   "execution_count": 42,
   "id": "28c36dd8-3072-4050-aa11-0e90efaedee1",
   "metadata": {},
   "outputs": [
    {
     "name": "stdout",
     "output_type": "stream",
     "text": [
      "Доброе утро: 10000\n",
      "Новости: 2000\n",
      "Интервью с Балакиревым: 20\n"
     ]
    }
   ],
   "source": [
    "pr = TVProgram(\"Первый канал\")\n",
    "pr.add_telecast(Telecast(1, \"Доброе утро\", 10000))\n",
    "pr.add_telecast(Telecast(2, \"Новости\", 2000))\n",
    "pr.add_telecast(Telecast(3, \"Интервью с Балакиревым\", 20))\n",
    "for t in pr.items:\n",
    "    print(f\"{t.name}: {t.duration}\")"
   ]
  },
  {
   "cell_type": "code",
   "execution_count": 43,
   "id": "baa876fa-6198-40e3-b5f1-f1302b4111b9",
   "metadata": {},
   "outputs": [],
   "source": [
    "pr.remove_telecast(1)"
   ]
  },
  {
   "cell_type": "code",
   "execution_count": 44,
   "id": "448c17a0-a9e2-4ae7-9ae7-7f778bc06c7a",
   "metadata": {},
   "outputs": [
    {
     "name": "stdout",
     "output_type": "stream",
     "text": [
      "Новости: 2000\n",
      "Интервью с Балакиревым: 20\n"
     ]
    }
   ],
   "source": [
    "for t in pr.items:\n",
    "    print(f\"{t.name}: {t.duration}\")"
   ]
  },
  {
   "cell_type": "code",
   "execution_count": null,
   "id": "9be251ac-642d-434b-82d4-05c17cf61342",
   "metadata": {},
   "outputs": [],
   "source": []
  }
 ],
 "metadata": {
  "kernelspec": {
   "display_name": "Python 3 (ipykernel)",
   "language": "python",
   "name": "python3"
  },
  "language_info": {
   "codemirror_mode": {
    "name": "ipython",
    "version": 3
   },
   "file_extension": ".py",
   "mimetype": "text/x-python",
   "name": "python",
   "nbconvert_exporter": "python",
   "pygments_lexer": "ipython3",
   "version": "3.9.5"
  }
 },
 "nbformat": 4,
 "nbformat_minor": 5
}
