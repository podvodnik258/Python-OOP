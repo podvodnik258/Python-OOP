{
 "cells": [
  {
   "cell_type": "code",
   "execution_count": null,
   "id": "1a45a8aa-6265-4cdb-b100-b131fc512481",
   "metadata": {},
   "outputs": [],
   "source": [
    "class TreeObj:\n",
    "    def __init__(self, indx, value=None):\n",
    "    ''' indx - проверяемый в вершине дерева индекс вектора x; \n",
    "        value - значение, хранящееся в вершине (для промежуточных вершин None).\n",
    "    '''\n",
    "    \n",
    "    \n",
    "class DecisionTree:\n",
    "    \n",
    "    \n",
    "    @classmethod\n",
    "    def predict(cls, root, x):\n",
    "        pass\n",
    "    \n",
    "    \n",
    "    @classmethod\n",
    "    def add_obj(cls, obj, node=None, left=True):\n",
    "        ''' obj - ссылка на новый (добавляемый) объект решающего дерева;\n",
    "            node - ссылка на объект дерева, к которому присоединяется вершина obj;\n",
    "            left - флаг, определяющий ветвь дерева (объекта node), \n",
    "            к которой присоединяется объект obj (True - к левой ветви; False - к правой).  \n",
    "        '''\n",
    "        "
   ]
  }
 ],
 "metadata": {
  "kernelspec": {
   "display_name": "Python 3 (ipykernel)",
   "language": "python",
   "name": "python3"
  },
  "language_info": {
   "codemirror_mode": {
    "name": "ipython",
    "version": 3
   },
   "file_extension": ".py",
   "mimetype": "text/x-python",
   "name": "python",
   "nbconvert_exporter": "python",
   "pygments_lexer": "ipython3",
   "version": "3.9.5"
  }
 },
 "nbformat": 4,
 "nbformat_minor": 5
}
