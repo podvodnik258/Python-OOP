{
 "cells": [
  {
   "cell_type": "code",
   "execution_count": 44,
   "id": "c6ae115a-bfca-4ff2-982a-f61f6c030ffb",
   "metadata": {},
   "outputs": [],
   "source": [
    "class PathLines:\n",
    "    StartPath = (0, 0)\n",
    "    \n",
    "    def __init__(self, *args):\n",
    "        self.__lines = []\n",
    "        for line in args:\n",
    "            self.add_line(line)\n",
    "        \n",
    "    @staticmethod\n",
    "    def __check_line(line):\n",
    "        return isinstance(line, LineTo)\n",
    "        \n",
    "    def get_path(self):\n",
    "        return self.__lines\n",
    "        \n",
    "    def get_length(self):\n",
    "        x0, y0 = self.StartPath\n",
    "        res = 0\n",
    "        for line in self.__lines:\n",
    "            x1, y1 = line.x, line.y\n",
    "            res += ((x1-x0)**2 + (y1-y0)**2)**0.5\n",
    "            x0, y0 = x1, y1\n",
    "        return res\n",
    "    \n",
    "    def add_line(self, line):\n",
    "        if self.__check_line:\n",
    "            self.__lines.append(line)\n",
    "        \n",
    "    \n",
    "class LineTo:\n",
    "    def __init__(self, x=0, y=0):\n",
    "        self.x = x\n",
    "        self.y = y"
   ]
  },
  {
   "cell_type": "code",
   "execution_count": 45,
   "id": "007550c7-ae8a-4534-bc47-8399b5aed742",
   "metadata": {},
   "outputs": [
    {
     "data": {
      "text/plain": [
       "10"
      ]
     },
     "execution_count": 45,
     "metadata": {},
     "output_type": "execute_result"
    }
   ],
   "source": [
    "p.get_path()[0].x"
   ]
  },
  {
   "cell_type": "code",
   "execution_count": 46,
   "id": "a47e73e1-7810-4edb-8c5d-78d83193ecf8",
   "metadata": {},
   "outputs": [],
   "source": [
    "p = PathLines(LineTo(10, 20), LineTo(10, 30))\n",
    "p.add_line(LineTo(20, -10))\n",
    "dist = p.get_length()"
   ]
  },
  {
   "cell_type": "code",
   "execution_count": 47,
   "id": "4dbf7ae8-20c4-459a-a343-1d2f6d2242ae",
   "metadata": {},
   "outputs": [
    {
     "data": {
      "text/plain": [
       "73.5917360311745"
      ]
     },
     "execution_count": 47,
     "metadata": {},
     "output_type": "execute_result"
    }
   ],
   "source": [
    "dist"
   ]
  },
  {
   "cell_type": "code",
   "execution_count": null,
   "id": "9ba49b78-1699-4341-92f1-15dbf0808dbc",
   "metadata": {},
   "outputs": [],
   "source": []
  }
 ],
 "metadata": {
  "kernelspec": {
   "display_name": "Python 3 (ipykernel)",
   "language": "python",
   "name": "python3"
  },
  "language_info": {
   "codemirror_mode": {
    "name": "ipython",
    "version": 3
   },
   "file_extension": ".py",
   "mimetype": "text/x-python",
   "name": "python",
   "nbconvert_exporter": "python",
   "pygments_lexer": "ipython3",
   "version": "3.9.5"
  }
 },
 "nbformat": 4,
 "nbformat_minor": 5
}
