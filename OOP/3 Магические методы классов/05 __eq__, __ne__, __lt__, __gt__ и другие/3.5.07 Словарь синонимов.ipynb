{
 "cells": [
  {
   "cell_type": "code",
   "execution_count": 8,
   "id": "2f06e829-02ef-4e88-b8a0-0d2f2f22f1d2",
   "metadata": {},
   "outputs": [
    {
     "name": "stdout",
     "output_type": "stream",
     "text": [
      "2\n"
     ]
    }
   ],
   "source": [
    "s = \"\"\"- связь, связи, связью, связи, связей, связям, связями, связях\n",
    "- формула, формулы, формуле, формулу, формулой, формул, формулам, формулами, формулах\n",
    "- вектор, вектора, вектору, вектором, векторе, векторы, векторов, векторам, векторами, векторах\n",
    "- эффект, эффекта, эффекту, эффектом, эффекте, эффекты, эффектов, эффектам, эффектами, эффектах\n",
    "- день, дня, дню, днем, дне, дни, дням, днями, днях\n",
    "\"\"\"\n",
    "\n",
    "class Morph:\n",
    "    def __init__(self, dict_words):\n",
    "        self.dict_words  = dict_words \n",
    "        \n",
    "    def add_word(self, word):\n",
    "        if self != word:\n",
    "            self.dict_words.append(word)\n",
    "    \n",
    "    def get_words(self):\n",
    "        return tuple(self.dict_words)\n",
    "        \n",
    "    def __eq__(self, other):\n",
    "        return other.lower() in self.dict_words\n",
    "    \n",
    "    def __req__(self, other):\n",
    "        return self == other\n",
    "    \n",
    "dict_words = [Morph(list(line.lstrip('- ').split(', '))) for line in s.splitlines()]\n",
    "#text = input()\n",
    "text = 'Мы будем устанавливать связь завтра днем.'\n",
    "subtract = \"–?!,.;\"\n",
    "text = ''.join(filter(lambda x: x not in subtract, text)).split()\n",
    "count = 0\n",
    "for s in text:\n",
    "    for obj in dict_words:\n",
    "        if obj == s:\n",
    "            count += 1\n",
    "\n",
    "print(count) "
   ]
  },
  {
   "cell_type": "code",
   "execution_count": null,
   "id": "008e196e-6006-4f6e-b837-22ddc93f4b6b",
   "metadata": {},
   "outputs": [],
   "source": [
    "text"
   ]
  },
  {
   "cell_type": "code",
   "execution_count": null,
   "id": "2bb3ff1b-607c-4f7e-9dd5-6d0b6f2be8f7",
   "metadata": {},
   "outputs": [],
   "source": []
  }
 ],
 "metadata": {
  "kernelspec": {
   "display_name": "Python 3 (ipykernel)",
   "language": "python",
   "name": "python3"
  },
  "language_info": {
   "codemirror_mode": {
    "name": "ipython",
    "version": 3
   },
   "file_extension": ".py",
   "mimetype": "text/x-python",
   "name": "python",
   "nbconvert_exporter": "python",
   "pygments_lexer": "ipython3",
   "version": "3.9.5"
  }
 },
 "nbformat": 4,
 "nbformat_minor": 5
}
