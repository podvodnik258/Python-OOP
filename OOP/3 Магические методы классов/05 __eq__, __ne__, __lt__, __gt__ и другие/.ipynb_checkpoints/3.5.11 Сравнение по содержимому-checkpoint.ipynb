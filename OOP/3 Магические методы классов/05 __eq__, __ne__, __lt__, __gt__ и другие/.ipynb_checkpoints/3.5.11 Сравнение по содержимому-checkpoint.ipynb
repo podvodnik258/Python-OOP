{
 "cells": [
  {
   "cell_type": "code",
   "execution_count": 1,
   "id": "efe17b3d-b4a6-4974-94e1-1730dce6e6c9",
   "metadata": {},
   "outputs": [],
   "source": [
    "class Box:\n",
    "    def __init__(self):\n",
    "        self.things = []\n",
    "    \n",
    "    def add_thing(self, obj):\n",
    "        self.things.append(obj)\n",
    "        \n",
    "    def get_things(self):\n",
    "        return sorted(self.things, key = lambda x: x.name)\n",
    "    \n",
    "    def __eq__(self, other):\n",
    "        other = other.get_things()\n",
    "        this = self.get_things()\n",
    "        return all((len(this) == len(other), map(lambda x, y: x == y, this, other)))\n",
    "    \n",
    "class Thing:\n",
    "    def __init__(self, name, mass):\n",
    "        self.name = name\n",
    "        self.mass = mass\n",
    "        \n",
    "    def __eq__(self, other):\n",
    "        return self.name.lower() == other.name.lower() and self.mass == other.mass"
   ]
  },
  {
   "cell_type": "code",
   "execution_count": 2,
   "id": "80ee9802-b618-4f41-bd7f-14a374cfadad",
   "metadata": {},
   "outputs": [],
   "source": [
    "b1 = Box()\n",
    "b2 = Box()\n",
    "\n",
    "b1.add_thing(Thing('мел', 100))\n",
    "b1.add_thing(Thing('тряпка', 200))\n",
    "b1.add_thing(Thing('доска', 2000))\n",
    "\n",
    "b2.add_thing(Thing('тряпка', 200))\n",
    "b2.add_thing(Thing('мел', 100))\n",
    "b2.add_thing(Thing('доска', 2000))\n",
    "\n",
    "res = b1 == b2 # True"
   ]
  },
  {
   "cell_type": "code",
   "execution_count": null,
   "id": "dc0ace6e-aaf7-4bd1-94cf-9e8eda15d865",
   "metadata": {},
   "outputs": [],
   "source": []
  }
 ],
 "metadata": {
  "kernelspec": {
   "display_name": "Python 3 (ipykernel)",
   "language": "python",
   "name": "python3"
  },
  "language_info": {
   "codemirror_mode": {
    "name": "ipython",
    "version": 3
   },
   "file_extension": ".py",
   "mimetype": "text/x-python",
   "name": "python",
   "nbconvert_exporter": "python",
   "pygments_lexer": "ipython3",
   "version": "3.9.5"
  }
 },
 "nbformat": 4,
 "nbformat_minor": 5
}
