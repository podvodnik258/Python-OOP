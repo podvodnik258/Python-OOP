{
 "cells": [
  {
   "cell_type": "code",
   "execution_count": null,
   "id": "2f06e829-02ef-4e88-b8a0-0d2f2f22f1d2",
   "metadata": {},
   "outputs": [],
   "source": [
    "s = \"\"\"- связь, связи, связью, связи, связей, связям, связями, связях\n",
    "- формула, формулы, формуле, формулу, формулой, формул, формулам, формулами, формулах\n",
    "- вектор, вектора, вектору, вектором, векторе, векторы, векторов, векторам, векторами, векторах\n",
    "- эффект, эффекта, эффекту, эффектом, эффекте, эффекты, эффектов, эффектам, эффектами, эффектах\n",
    "- день, дня, дню, днем, дне, дни, дням, днями, днях\n",
    "\"\"\"\n",
    "\n",
    "class Morph:\n",
    "    def __init__(self, dict_words):\n",
    "        self.dict_words  = dict_words \n",
    "        \n",
    "        \n",
    "        \n",
    "        \n",
    "dict_words = [Morph(*line.lstrip('- ').split(', ')) for line in s.splitlines()]"
   ]
  }
 ],
 "metadata": {
  "kernelspec": {
   "display_name": "Python 3 (ipykernel)",
   "language": "python",
   "name": "python3"
  },
  "language_info": {
   "codemirror_mode": {
    "name": "ipython",
    "version": 3
   },
   "file_extension": ".py",
   "mimetype": "text/x-python",
   "name": "python",
   "nbconvert_exporter": "python",
   "pygments_lexer": "ipython3",
   "version": "3.9.5"
  }
 },
 "nbformat": 4,
 "nbformat_minor": 5
}
