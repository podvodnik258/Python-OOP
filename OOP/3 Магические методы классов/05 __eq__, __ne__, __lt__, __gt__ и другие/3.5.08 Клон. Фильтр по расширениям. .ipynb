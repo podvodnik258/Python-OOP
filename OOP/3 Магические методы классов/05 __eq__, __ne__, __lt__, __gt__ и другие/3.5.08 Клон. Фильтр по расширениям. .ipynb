{
 "cells": [
  {
   "cell_type": "code",
   "execution_count": 40,
   "id": "bb85726e-b4b6-407c-ae09-f6551dd1f6a8",
   "metadata": {},
   "outputs": [],
   "source": [
    "class FileAcceptor:\n",
    "    def __init__(self, *args):\n",
    "        self.extensions = args\n",
    "\n",
    "    def __call__(self, filename):\n",
    "        return filename.split('.')[-1] in self.extensions\n",
    "    \n",
    "    def __add__(self, other):\n",
    "        obj = super().__new__(type(self))\n",
    "        obj.__init__(*(set(self.extensions)|set(other.extensions)))\n",
    "        return obj"
   ]
  },
  {
   "cell_type": "code",
   "execution_count": 41,
   "id": "02013cc2-87a0-4b14-bef8-597aac4cbc48",
   "metadata": {},
   "outputs": [
    {
     "data": {
      "text/plain": [
       "['boat.jpg',\n",
       " 'web.png',\n",
       " 'text.txt',\n",
       " 'python.doc',\n",
       " 'ava.jpg',\n",
       " 'forest.jpeg',\n",
       " 'eq_1.png',\n",
       " 'eq_2.xls']"
      ]
     },
     "execution_count": 41,
     "metadata": {},
     "output_type": "execute_result"
    }
   ],
   "source": [
    "filenames = [\"boat.jpg\", \"web.png\", \"text.txt\", \"python.doc\", \"ava.jpg\", \"forest.jpeg\", \"eq_1.png\", \"eq_2.xls\"]\n",
    "acceptor_images = FileAcceptor(\"jpg\", \"jpeg\", \"png\")\n",
    "acceptor_docs = FileAcceptor(\"txt\", \"doc\", \"xls\")\n",
    "filenames = list(filter(acceptor_images + acceptor_docs, filenames))\n",
    "filenames"
   ]
  },
  {
   "cell_type": "code",
   "execution_count": 39,
   "id": "5436b33b-9966-45fd-9f55-2602de9a1e96",
   "metadata": {},
   "outputs": [
    {
     "name": "stdout",
     "output_type": "stream",
     "text": [
      "('bmp', 'jpeg', 'doc')\n"
     ]
    },
    {
     "data": {
      "text/plain": [
       "['python.doc', 'forest.jpeg']"
      ]
     },
     "execution_count": 39,
     "metadata": {},
     "output_type": "execute_result"
    }
   ],
   "source": [
    "filenames = [\"boat.jpg\", \"web.png\", \"text.txt\", \"python.doc\", \"ava.jpg\", \"forest.jpeg\", \"eq_1.png\", \"eq_2.xls\"]\n",
    "acceptor = FileAcceptor('bmp', 'jpeg', \"doc\")\n",
    "print(acceptor.extensions)\n",
    "filenames = list(filter(acceptor, filenames))\n",
    "filenames"
   ]
  },
  {
   "cell_type": "code",
   "execution_count": 34,
   "id": "4740c9d4-a257-4860-8102-b91962d70e8d",
   "metadata": {},
   "outputs": [
    {
     "data": {
      "text/plain": [
       "('doc', 'txt', 'bmp', 'jpeg', 'jpg')"
      ]
     },
     "execution_count": 34,
     "metadata": {},
     "output_type": "execute_result"
    }
   ],
   "source": [
    "acceptor1 = FileAcceptor('bmp', 'jpeg', \"doc\")\n",
    "acceptor2 = FileAcceptor('txt', 'jpeg', \"jpg\")\n",
    "acceptor12 = acceptor1 + acceptor2\n",
    "acceptor12.extensions"
   ]
  },
  {
   "cell_type": "code",
   "execution_count": null,
   "id": "a2ae927f-2d15-439b-8ac6-2330c929e519",
   "metadata": {},
   "outputs": [],
   "source": []
  }
 ],
 "metadata": {
  "kernelspec": {
   "display_name": "Python 3 (ipykernel)",
   "language": "python",
   "name": "python3"
  },
  "language_info": {
   "codemirror_mode": {
    "name": "ipython",
    "version": 3
   },
   "file_extension": ".py",
   "mimetype": "text/x-python",
   "name": "python",
   "nbconvert_exporter": "python",
   "pygments_lexer": "ipython3",
   "version": "3.9.5"
  }
 },
 "nbformat": 4,
 "nbformat_minor": 5
}
