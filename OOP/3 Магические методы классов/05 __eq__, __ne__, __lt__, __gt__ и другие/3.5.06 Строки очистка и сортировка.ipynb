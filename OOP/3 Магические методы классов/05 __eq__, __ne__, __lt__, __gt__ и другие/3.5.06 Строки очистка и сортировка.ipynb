{
 "cells": [
  {
   "cell_type": "code",
   "execution_count": 10,
   "id": "4ffac971-6b0f-4f6a-b776-4cd1b3451c7f",
   "metadata": {},
   "outputs": [],
   "source": [
    "stich = [\"Я к вам пишу – чего же боле?\",\n",
    "        \"Что я могу еще сказать?\",\n",
    "        \"Теперь, я знаю, в вашей воле\",\n",
    "        \"Меня презреньем наказать.\",\n",
    "        \"Но вы, к моей несчастной доле\",\n",
    "        \"Хоть каплю жалости храня,\",\n",
    "        \"Вы не оставите меня.\"]"
   ]
  },
  {
   "cell_type": "code",
   "execution_count": 45,
   "id": "b1a32aac-0726-4202-9a9f-72a50b8cb748",
   "metadata": {},
   "outputs": [],
   "source": [
    "subtract = \"–?!,.;\"\n",
    "\n",
    "class StringText:\n",
    "    def __init__(self, lst_words):\n",
    "        self.lst_words = lst_words\n",
    "        \n",
    "    def __gt__(self, other):\n",
    "        return len(self.lst_words) > len(other.lst_words) \n",
    "    \n",
    "    def __ge__(self, other):\n",
    "        return len(self.lst_words) >= len(other.lst_words)\n",
    "    \n",
    "    \n",
    "stich = list(''.join(filter(lambda x: x not in subtract, s)) for s in stich[:])\n",
    "\n",
    "lst_text = list(StringText(s.split()) for s in stich)\n",
    "lst_text_sorted = sorted(lst_text, key=lambda x: len(x.lst_words), reverse = True)\n",
    "lst_text_sorted = list(' '.join(obj.lst_words) for obj in lst_text_sorted[:])"
   ]
  },
  {
   "cell_type": "code",
   "execution_count": null,
   "id": "61477e3d-7356-48df-9a48-87f5c33972c3",
   "metadata": {},
   "outputs": [],
   "source": [
    "\n"
   ]
  },
  {
   "cell_type": "code",
   "execution_count": 46,
   "id": "86aad7cd-f6a7-4077-8cec-b404640d7970",
   "metadata": {},
   "outputs": [
    {
     "data": {
      "text/plain": [
       "['Я к вам пишу чего же боле',\n",
       " 'Теперь я знаю в вашей воле',\n",
       " 'Но вы к моей несчастной доле',\n",
       " 'Что я могу еще сказать',\n",
       " 'Хоть каплю жалости храня',\n",
       " 'Вы не оставите меня',\n",
       " 'Меня презреньем наказать']"
      ]
     },
     "execution_count": 46,
     "metadata": {},
     "output_type": "execute_result"
    }
   ],
   "source": [
    "lst_text_sorted"
   ]
  },
  {
   "cell_type": "code",
   "execution_count": null,
   "id": "89125ea0-c26b-4d9b-bbd4-329093a93208",
   "metadata": {},
   "outputs": [],
   "source": []
  },
  {
   "cell_type": "code",
   "execution_count": null,
   "id": "05a3221d-c119-4f83-a561-4b08f6c5c0ea",
   "metadata": {},
   "outputs": [],
   "source": []
  }
 ],
 "metadata": {
  "kernelspec": {
   "display_name": "Python 3 (ipykernel)",
   "language": "python",
   "name": "python3"
  },
  "language_info": {
   "codemirror_mode": {
    "name": "ipython",
    "version": 3
   },
   "file_extension": ".py",
   "mimetype": "text/x-python",
   "name": "python",
   "nbconvert_exporter": "python",
   "pygments_lexer": "ipython3",
   "version": "3.9.5"
  }
 },
 "nbformat": 4,
 "nbformat_minor": 5
}
