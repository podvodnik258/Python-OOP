{
 "cells": [
  {
   "cell_type": "code",
   "execution_count": 44,
   "id": "9044521a-fa72-4625-89bf-820bf6cb6a98",
   "metadata": {},
   "outputs": [],
   "source": [
    "class Track:\n",
    "    def __init__(self, start_x=0, start_y=0):\n",
    "        self.start_x = start_x\n",
    "        self.start_y = start_y\n",
    "        self.tracks = []\n",
    "    \n",
    "    def __eq__(self, other):\n",
    "        return self.__len__() == other.__len__()\n",
    "    \n",
    "    def __lt__(self, other):\n",
    "        return self.__len__() < other.__len__()\n",
    "    \n",
    "    def __le__(self, other):\n",
    "        return self.__len__() <= other.__len__()\n",
    "        \n",
    "    @staticmethod\n",
    "    def check_track(tr):\n",
    "        return isinstance(tr, TrackLine)\n",
    "        \n",
    "    def __len__(self):\n",
    "        x0, y0 = self.start_x, self.start_y\n",
    "        res = 0\n",
    "        for track in self.tracks:\n",
    "            x1, y1 = track.to_x, track.to_y\n",
    "            res += ((x1-x0)**2 + (y1-y0)**2)**0.5\n",
    "            x0, y0 = x1, y1\n",
    "        return int(res)\n",
    "    \n",
    "    def add_track(self, tr):\n",
    "        if self.check_track(tr):\n",
    "            self.tracks.append(tr)    \n",
    "    \n",
    "    def get_tracks(self):\n",
    "        return tuple(self.tracks)\n",
    "    \n",
    "    \n",
    "class TrackLine:\n",
    "    def __init__(self, to_x, to_y, max_speed):\n",
    "        self.to_x = to_x\n",
    "        self.to_y = to_y\n",
    "        self.max_speed = max_speed \n",
    "        \n",
    "        \n",
    "track1, track2 = Track(), Track(0, 1)\n",
    "track1.add_track(TrackLine(2, 4, 100))\n",
    "track1.add_track(TrackLine(5, -4, 100))\n",
    "track2.add_track(TrackLine(3, 2, 90))\n",
    "track2.add_track(TrackLine(10, 8, 90))\n",
    "res_eq = track1 == track2"
   ]
  },
  {
   "cell_type": "code",
   "execution_count": 45,
   "id": "01737287-fa4f-4a90-9329-9128ec3a8ed8",
   "metadata": {},
   "outputs": [
    {
     "data": {
      "text/plain": [
       "True"
      ]
     },
     "execution_count": 45,
     "metadata": {},
     "output_type": "execute_result"
    }
   ],
   "source": [
    "track1 > track2"
   ]
  },
  {
   "cell_type": "code",
   "execution_count": 38,
   "id": "5d032e38-a020-4e41-925e-0ba92631275e",
   "metadata": {},
   "outputs": [
    {
     "data": {
      "text/plain": [
       "13"
      ]
     },
     "execution_count": 38,
     "metadata": {},
     "output_type": "execute_result"
    }
   ],
   "source": [
    "len(track1)"
   ]
  },
  {
   "cell_type": "code",
   "execution_count": null,
   "id": "4e974ff0-b316-4c50-8eb2-f8ce40724d24",
   "metadata": {},
   "outputs": [],
   "source": []
  }
 ],
 "metadata": {
  "kernelspec": {
   "display_name": "Python 3 (ipykernel)",
   "language": "python",
   "name": "python3"
  },
  "language_info": {
   "codemirror_mode": {
    "name": "ipython",
    "version": 3
   },
   "file_extension": ".py",
   "mimetype": "text/x-python",
   "name": "python",
   "nbconvert_exporter": "python",
   "pygments_lexer": "ipython3",
   "version": "3.9.5"
  }
 },
 "nbformat": 4,
 "nbformat_minor": 5
}
