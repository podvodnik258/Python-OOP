{
 "cells": [
  {
   "cell_type": "code",
   "execution_count": 45,
   "id": "8c99deb9-775c-4c1e-b636-57911297ddf6",
   "metadata": {},
   "outputs": [],
   "source": [
    "class Dimensions:\n",
    "    MIN_DIMENSION = 10\n",
    "    MAX_DIMENSION = 10000\n",
    "    \n",
    "    def __init__(self, *args):\n",
    "        self.a, self.b, self.c = args\n",
    "    \n",
    "    @property\n",
    "    def volume(self):\n",
    "        return self.a * self.b * self.c\n",
    "    \n",
    "    @classmethod\n",
    "    def validate(cls, value):\n",
    "        return all((type(value) in (int, float),\n",
    "                   cls.MIN_DIMENSION <= value <= cls.MAX_DIMENSION))\n",
    "    \n",
    "    def __setter__(self, key, value):\n",
    "        if validate(value):\n",
    "            super().__setter__(key, value)\n",
    "    \n",
    "    @property\n",
    "    def a(self):\n",
    "        return self.__a\n",
    "    \n",
    "    @a.setter\n",
    "    def a(self, value):\n",
    "        self.__a = value\n",
    "        \n",
    "    @property\n",
    "    def b(self):\n",
    "        return self.__b\n",
    "    \n",
    "    @b.setter\n",
    "    def b(self, value):\n",
    "        self.__b = value\n",
    "        \n",
    "    @property\n",
    "    def c(self):\n",
    "        return self.__c\n",
    "    \n",
    "    @c.setter\n",
    "    def c(self, value):\n",
    "        self.__c = value\n",
    "        \n",
    "    def __gt__(self, other):\n",
    "        return self.volume > other.volume\n",
    "    \n",
    "    def __ge__(self, other):\n",
    "        return self.volume >= other.volume\n",
    "    \n",
    "    \n",
    "class ShopItem:\n",
    "    def __init__(self, *args):\n",
    "        self.name, self.price, self.dim = args\n",
    "        \n",
    "trainers = ShopItem('кеды', 1024, Dimensions(40, 30, 120))\n",
    "umbrella = ShopItem('зонт', 500.24, Dimensions(10, 20, 50))\n",
    "fridge = ShopItem('холодильник', 40000, Dimensions(2000, 600, 500))\n",
    "chair = ShopItem('табуретка', 2000.99, Dimensions(500, 200, 200))\n",
    "lst_shop = (trainers, umbrella, fridge, chair)\n",
    "lst_shop_sorted = sorted(lst_shop, key=lambda x: x.dim.volume) "
   ]
  },
  {
   "cell_type": "code",
   "execution_count": 46,
   "id": "0baaf7d6-2fb3-424e-9976-301502be0812",
   "metadata": {},
   "outputs": [
    {
     "data": {
      "text/plain": [
       "[<__main__.ShopItem at 0x224c70fe6a0>,\n",
       " <__main__.ShopItem at 0x224c70fd970>,\n",
       " <__main__.ShopItem at 0x224c70feca0>,\n",
       " <__main__.ShopItem at 0x224c70fe1f0>]"
      ]
     },
     "execution_count": 46,
     "metadata": {},
     "output_type": "execute_result"
    }
   ],
   "source": [
    "lst_shop_sorted"
   ]
  },
  {
   "cell_type": "code",
   "execution_count": null,
   "id": "253db1e1-c0ec-47f6-9fef-a7ed0517b1dd",
   "metadata": {},
   "outputs": [],
   "source": []
  },
  {
   "cell_type": "code",
   "execution_count": null,
   "id": "3bd0f1af-5cd7-489b-8aa0-369d65274c83",
   "metadata": {},
   "outputs": [],
   "source": []
  },
  {
   "cell_type": "code",
   "execution_count": null,
   "id": "ce49d75d-3198-4291-8079-920e7e2707a0",
   "metadata": {},
   "outputs": [],
   "source": []
  }
 ],
 "metadata": {
  "kernelspec": {
   "display_name": "Python 3 (ipykernel)",
   "language": "python",
   "name": "python3"
  },
  "language_info": {
   "codemirror_mode": {
    "name": "ipython",
    "version": 3
   },
   "file_extension": ".py",
   "mimetype": "text/x-python",
   "name": "python",
   "nbconvert_exporter": "python",
   "pygments_lexer": "ipython3",
   "version": "3.9.5"
  }
 },
 "nbformat": 4,
 "nbformat_minor": 5
}
