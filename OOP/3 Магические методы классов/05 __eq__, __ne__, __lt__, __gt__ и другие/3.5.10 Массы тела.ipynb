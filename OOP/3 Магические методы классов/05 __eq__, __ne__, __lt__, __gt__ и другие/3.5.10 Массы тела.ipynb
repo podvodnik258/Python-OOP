{
 "cells": [
  {
   "cell_type": "code",
   "execution_count": 2,
   "id": "c2e7b016-ee73-4e9e-a405-e0ff9c6e6ed8",
   "metadata": {},
   "outputs": [],
   "source": [
    "class Body:\n",
    "    def __init__(self, name, ro, volume):\n",
    "        self.name = name\n",
    "        self.ro = ro\n",
    "        self.volume = volume\n",
    "        \n",
    "    @property\n",
    "    def m(self): \n",
    "        return self.ro * self.volume\n",
    "    \n",
    "    def __eq__(self, other):\n",
    "        if isinstance(other, Body):\n",
    "            other = other.m\n",
    "        return self.m == other\n",
    "    \n",
    "    def __gt__(self, other):\n",
    "        if isinstance(other, Body):\n",
    "            other = other.m\n",
    "        return self.m > other\n",
    "    \n",
    "    def __lt__(self, other):\n",
    "        if isinstance(other, Body):\n",
    "            other = other.m\n",
    "        return self.m < other\n",
    "    \n",
    "    def __ge__(self, other):\n",
    "        if isinstance(other, Body):\n",
    "            other = other.m\n",
    "        return self.m >= other"
   ]
  },
  {
   "cell_type": "code",
   "execution_count": 3,
   "id": "d6dbec18-b9cb-4959-8e29-cfe56e5157c7",
   "metadata": {},
   "outputs": [
    {
     "ename": "NameError",
     "evalue": "name 'body1' is not defined",
     "output_type": "error",
     "traceback": [
      "\u001b[1;31m---------------------------------------------------------------------------\u001b[0m",
      "\u001b[1;31mNameError\u001b[0m                                 Traceback (most recent call last)",
      "\u001b[1;32mC:\\Users\\73B5~1\\AppData\\Local\\Temp/ipykernel_11632/2205993389.py\u001b[0m in \u001b[0;36m<module>\u001b[1;34m\u001b[0m\n\u001b[1;32m----> 1\u001b[1;33m \u001b[0mbody1\u001b[0m \u001b[1;33m>\u001b[0m \u001b[0mbody2\u001b[0m  \u001b[1;31m# True, если масса тела body1 больше массы тела body2\u001b[0m\u001b[1;33m\u001b[0m\u001b[1;33m\u001b[0m\u001b[0m\n\u001b[0m\u001b[0;32m      2\u001b[0m \u001b[0mbody1\u001b[0m \u001b[1;33m==\u001b[0m \u001b[0mbody2\u001b[0m \u001b[1;31m# True, если масса тела body1 равна массе тела body2\u001b[0m\u001b[1;33m\u001b[0m\u001b[1;33m\u001b[0m\u001b[0m\n\u001b[0;32m      3\u001b[0m \u001b[0mbody1\u001b[0m \u001b[1;33m<\u001b[0m \u001b[1;36m10\u001b[0m     \u001b[1;31m# True, если масса тела body1 меньше 10\u001b[0m\u001b[1;33m\u001b[0m\u001b[1;33m\u001b[0m\u001b[0m\n\u001b[0;32m      4\u001b[0m \u001b[0mbody2\u001b[0m \u001b[1;33m==\u001b[0m \u001b[1;36m5\u001b[0m     \u001b[1;31m# True, если масса тела body2 равна 5\u001b[0m\u001b[1;33m\u001b[0m\u001b[1;33m\u001b[0m\u001b[0m\n",
      "\u001b[1;31mNameError\u001b[0m: name 'body1' is not defined"
     ]
    }
   ],
   "source": [
    "body1 > body2  # True, если масса тела body1 больше массы тела body2\n",
    "body1 == body2 # True, если масса тела body1 равна массе тела body2\n",
    "body1 < 10     # True, если масса тела body1 меньше 10\n",
    "body2 == 5     # True, если масса тела body2 равна 5"
   ]
  },
  {
   "cell_type": "code",
   "execution_count": null,
   "id": "e35355d8-339b-40f7-9d83-5c1af2746acf",
   "metadata": {},
   "outputs": [],
   "source": []
  }
 ],
 "metadata": {
  "kernelspec": {
   "display_name": "Python 3 (ipykernel)",
   "language": "python",
   "name": "python3"
  },
  "language_info": {
   "codemirror_mode": {
    "name": "ipython",
    "version": 3
   },
   "file_extension": ".py",
   "mimetype": "text/x-python",
   "name": "python",
   "nbconvert_exporter": "python",
   "pygments_lexer": "ipython3",
   "version": "3.9.5"
  }
 },
 "nbformat": 4,
 "nbformat_minor": 5
}
