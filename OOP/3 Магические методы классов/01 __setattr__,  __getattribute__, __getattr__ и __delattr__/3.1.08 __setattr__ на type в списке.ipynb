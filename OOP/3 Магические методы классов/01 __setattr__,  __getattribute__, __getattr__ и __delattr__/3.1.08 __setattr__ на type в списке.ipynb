{
 "cells": [
  {
   "cell_type": "code",
   "execution_count": 41,
   "id": "090d0629-4ea3-4c37-9613-80a35d735ea4",
   "metadata": {},
   "outputs": [],
   "source": [
    "class SmartPhone:\n",
    "    def __init__(self, model):\n",
    "        self.model = model\n",
    "        self.apps = []\n",
    "        self.types = []\n",
    "\n",
    "    def add_app(self, app):\n",
    "        if type(app) not in self.types:\n",
    "            self.apps.append(app)\n",
    "            self.types.append(type(app))\n",
    "\n",
    "    def remove_app(self, app):\n",
    "        self.apps.remove(app)\n",
    "        self.types.remove(type(app))\n",
    "\n",
    "\n",
    "class AppVK:\n",
    "    def __init__(self):\n",
    "        self.name = \"Вконтакте\"\n",
    "\n",
    "\n",
    "class AppYouTube:\n",
    "    def __init__(self, memory_max=1024):\n",
    "        self.name = \"YouTube\"\n",
    "        self.memory_max = memory_max\n",
    "\n",
    "\n",
    "class AppPhone:\n",
    "    def __init__(self, dict):\n",
    "        self.name = \"Phone\"\n",
    "        self.phone_list = dict"
   ]
  },
  {
   "cell_type": "code",
   "execution_count": null,
   "id": "a13c7a06-42ff-4142-b4cd-8e5ce3cbcb60",
   "metadata": {},
   "outputs": [],
   "source": []
  },
  {
   "cell_type": "code",
   "execution_count": 42,
   "id": "1cb496c1-d939-4135-93b6-99a671ec9743",
   "metadata": {},
   "outputs": [
    {
     "name": "stdout",
     "output_type": "stream",
     "text": [
      "Вконтакте\n",
      "YouTube\n"
     ]
    }
   ],
   "source": [
    "sm = SmartPhone(\"Honor 1.0\")\n",
    "sm.add_app(AppVK())\n",
    "sm.add_app(AppVK())  # второй раз добавляться не должно\n",
    "sm.add_app(AppYouTube(2048))\n",
    "for a in sm.apps:\n",
    "    print(a.name)"
   ]
  },
  {
   "cell_type": "code",
   "execution_count": null,
   "id": "01a88171-a001-410c-8f4d-cede3ffc7e9e",
   "metadata": {},
   "outputs": [],
   "source": [
    "from typing import List, Dict, TypeVar\n",
    "\n",
    "\n",
    "class AppVK:\n",
    "    def __init__(self) -> None:\n",
    "        self.name: str = \"Вконтакте\"\n",
    "\n",
    "\n",
    "class AppYouTube:\n",
    "    def __init__(self, memory_max: int = 1024) -> None:\n",
    "        self.name: str = \"YouTube\"\n",
    "        self.memory_max = memory_max\n",
    "\n",
    "\n",
    "class AppPhone:\n",
    "    def __init__(self, info: Dict[str, int]) -> None:\n",
    "        self.name: str = \"Phone\"\n",
    "        self.phone_list = info\n",
    "\n",
    "\n",
    "App = TypeVar(\"App\", AppVK, AppYouTube, AppPhone)\n",
    "\n",
    "\n",
    "class SmartPhone:\n",
    "    def __init__(self, model: str) -> None:\n",
    "        self.model = model\n",
    "        self.apps: List[App] = []\n",
    "\n",
    "    def add_app(self, new_app: App) -> None:\n",
    "        if not isinstance(new_app, (AppVK, AppYouTube, AppPhone)):\n",
    "            raise TypeError(\"Неверный тип входного значения\")\n",
    "        for app in self.apps:\n",
    "            if type(app) is type(new_app):\n",
    "                return\n",
    "        self.apps.append(new_app)\n",
    "\n",
    "    def remove_app(self, app: App) -> None:\n",
    "        if not isinstance(app, (AppVK, AppYouTube, AppPhone)):\n",
    "            raise TypeError(\"Неверный тип входного значения\")\n",
    "        if app in self.apps:\n",
    "            self.apps.remove(app)\n",
    "            "
   ]
  }
 ],
 "metadata": {
  "kernelspec": {
   "display_name": "Python 3 (ipykernel)",
   "language": "python",
   "name": "python3"
  },
  "language_info": {
   "codemirror_mode": {
    "name": "ipython",
    "version": 3
   },
   "file_extension": ".py",
   "mimetype": "text/x-python",
   "name": "python",
   "nbconvert_exporter": "python",
   "pygments_lexer": "ipython3",
   "version": "3.9.5"
  }
 },
 "nbformat": 4,
 "nbformat_minor": 5
}
