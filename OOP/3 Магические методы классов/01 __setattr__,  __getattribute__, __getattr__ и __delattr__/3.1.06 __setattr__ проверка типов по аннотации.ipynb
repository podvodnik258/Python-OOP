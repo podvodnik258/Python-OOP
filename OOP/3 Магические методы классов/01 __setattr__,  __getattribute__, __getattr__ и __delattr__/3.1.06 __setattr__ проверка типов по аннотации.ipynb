{
 "cells": [
  {
   "cell_type": "code",
   "execution_count": 22,
   "id": "3d4d60ce-66d6-4f3b-862b-a55e4beb5790",
   "metadata": {},
   "outputs": [],
   "source": [
    "class Course:\n",
    "    '''класс, отвечающий за управление курсом в целом'''\n",
    "    def __init__(self, name):\n",
    "        self.name = name\n",
    "        self.modules = []\n",
    "    \n",
    "    def add_module(self, module):\n",
    "        self.modules.append(module)\n",
    "        \n",
    "    def remove_module(self, indx):\n",
    "        del self.modules[indx]\n",
    "    \n",
    "class Module:\n",
    "    '''класс, описывающий один модуль (раздел) курса'''\n",
    "    def __init__(self, name):\n",
    "        self.name = name\n",
    "        self.lessons = []\n",
    "        \n",
    "    def add_lesson(self, lesson):\n",
    "        self.lessons.append(lesson)\n",
    "    \n",
    "    def remove_lesson(self, indx):\n",
    "        del self.lessons[indx]\n",
    "        \n",
    "        \n",
    "class LessonItem:\n",
    "    '''класс одного занятия (урока)'''\n",
    "    title: str \n",
    "    practices: int\n",
    "    duration: int\n",
    "    \n",
    "    def __init__(self, title, practices, duration):\n",
    "        self.title = title\n",
    "        self.practices = practices\n",
    "        self.duration = duration\n",
    "        \n",
    "    def __getattr__(self, key):\n",
    "        return False\n",
    "    \n",
    "    def __setattr__(self, key, value):\n",
    "        if not isinstance(value, self.__annotations__.get(key)):\n",
    "            raise TypeError(\"Неверный тип присваиваемых данных.\")\n",
    "        super().__setattr__(key, value)\n",
    "        \n",
    "    def __delattr__(self, key):\n",
    "        pass"
   ]
  },
  {
   "cell_type": "code",
   "execution_count": 23,
   "id": "d184e123-bc2a-44f7-92a5-b9606bd722b7",
   "metadata": {},
   "outputs": [],
   "source": [
    "course = Course(\"Python ООП\")\n",
    "module_1 = Module(\"Часть первая\")\n",
    "module_1.add_lesson(LessonItem(\"Урок 1\", 7, 1000))\n",
    "module_1.add_lesson(LessonItem(\"Урок 2\", 10, 1200))\n",
    "module_1.add_lesson(LessonItem(\"Урок 3\", 5, 800))\n",
    "course.add_module(module_1)\n",
    "module_2 = Module(\"Часть вторая\")\n",
    "module_2.add_lesson(LessonItem(\"Урок 1\", 7, 1000))\n",
    "module_2.add_lesson(LessonItem(\"Урок 2\", 10, 1200))\n",
    "course.add_module(module_2)"
   ]
  },
  {
   "cell_type": "code",
   "execution_count": null,
   "id": "c7e96ff5-0501-4d0a-981e-eba4db63e809",
   "metadata": {},
   "outputs": [],
   "source": []
  }
 ],
 "metadata": {
  "kernelspec": {
   "display_name": "Python 3 (ipykernel)",
   "language": "python",
   "name": "python3"
  },
  "language_info": {
   "codemirror_mode": {
    "name": "ipython",
    "version": 3
   },
   "file_extension": ".py",
   "mimetype": "text/x-python",
   "name": "python",
   "nbconvert_exporter": "python",
   "pygments_lexer": "ipython3",
   "version": "3.9.5"
  }
 },
 "nbformat": 4,
 "nbformat_minor": 5
}
