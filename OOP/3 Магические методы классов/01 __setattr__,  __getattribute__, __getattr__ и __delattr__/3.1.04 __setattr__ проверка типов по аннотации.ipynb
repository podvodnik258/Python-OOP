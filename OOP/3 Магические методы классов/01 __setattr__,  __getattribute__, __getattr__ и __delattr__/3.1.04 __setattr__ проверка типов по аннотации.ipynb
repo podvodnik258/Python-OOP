{
 "cells": [
  {
   "cell_type": "code",
   "execution_count": 9,
   "id": "9e79995c-c8c3-4a2b-b980-aaeb9e9cc48f",
   "metadata": {},
   "outputs": [],
   "source": [
    "class Book:\n",
    "    title: str\n",
    "    author: str\n",
    "    pages: int\n",
    "    year: int\n",
    "\n",
    "    def __init__(\n",
    "            self,\n",
    "            title: str = \"\",\n",
    "            author: str = \"\",\n",
    "            pages: int = 0,\n",
    "            year: int = 0,\n",
    "    ) -> None:\n",
    "        self.title = title\n",
    "        self.author = author\n",
    "        self.pages = pages\n",
    "        self.year = year\n",
    "\n",
    "    def __setattr__(self, key, value) -> None:\n",
    "        if not isinstance(value, self.__annotations__.get(key, object)):\n",
    "            raise TypeError(\"Неверный тип присваиваемых данных.\")\n",
    "        super().__setattr__(key, value)\n",
    "\n",
    "    def __repr__(self) -> str:\n",
    "        return f\"{self.title} - {self.author}\"\n",
    "\n",
    "\n",
    "book = Book(title=\"Python ООП\", author=\"Сергей Балакирев\", year=2022, pages=123)"
   ]
  },
  {
   "cell_type": "code",
   "execution_count": 6,
   "id": "42f31ec1-f901-44ee-9d36-c8dd2a71bda0",
   "metadata": {},
   "outputs": [],
   "source": [
    "class Book:\n",
    "    def __init__(self, title='', author='', pages=0, year=0):\n",
    "        self.title = title\n",
    "        self.author = author\n",
    "        self.pages = pages\n",
    "        self.year = year\n",
    "\n",
    "    def __setattr__(self, key, value):\n",
    "        if (key in ('title', 'author') and isinstance(value, str)) or (key in ('pages', 'year') and isinstance(value, int)):\n",
    "            object.__setattr__(self, key, value)\n",
    "        else:\n",
    "            print('raise TypeError(\"Неверный тип присваиваемых данных.\")')\n",
    "\n",
    "book = Book() \n",
    "book = Book('Python ООП', 'Сергей Балакирев', 123 , 2022)"
   ]
  },
  {
   "cell_type": "code",
   "execution_count": 10,
   "id": "a04ab8b5-75e0-4d7a-8155-3e63082c25c3",
   "metadata": {},
   "outputs": [
    {
     "data": {
      "text/plain": [
       "{'title': 'Python ООП',\n",
       " 'author': 'Сергей Балакирев',\n",
       " 'pages': 123,\n",
       " 'year': 2022}"
      ]
     },
     "execution_count": 10,
     "metadata": {},
     "output_type": "execute_result"
    }
   ],
   "source": [
    "book.__dict__"
   ]
  },
  {
   "cell_type": "code",
   "execution_count": null,
   "id": "c03d2d8f-5bee-429a-a7b8-c12a3372c801",
   "metadata": {},
   "outputs": [],
   "source": []
  }
 ],
 "metadata": {
  "kernelspec": {
   "display_name": "Python 3 (ipykernel)",
   "language": "python",
   "name": "python3"
  },
  "language_info": {
   "codemirror_mode": {
    "name": "ipython",
    "version": 3
   },
   "file_extension": ".py",
   "mimetype": "text/x-python",
   "name": "python",
   "nbconvert_exporter": "python",
   "pygments_lexer": "ipython3",
   "version": "3.9.5"
  }
 },
 "nbformat": 4,
 "nbformat_minor": 5
}
