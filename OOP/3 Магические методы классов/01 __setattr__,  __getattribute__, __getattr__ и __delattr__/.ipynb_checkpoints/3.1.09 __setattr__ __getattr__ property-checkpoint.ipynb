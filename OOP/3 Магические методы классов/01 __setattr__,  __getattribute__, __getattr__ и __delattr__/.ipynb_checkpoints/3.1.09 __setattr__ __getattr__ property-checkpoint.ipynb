{
 "cells": [
  {
   "cell_type": "code",
   "execution_count": 105,
   "id": "306ab459-20df-4792-b69e-63f3483763cd",
   "metadata": {},
   "outputs": [],
   "source": [
    "class Circle:\n",
    "    def __init__(self, x, y, radius):\n",
    "        self.x = x\n",
    "        self.y = y\n",
    "        if radius <= 0:\n",
    "            raise TypeError(\"Неверный тип присваиваемых данных.\")\n",
    "        self.radius = radius\n",
    "        \n",
    "    @property\n",
    "    def x(self):\n",
    "        return self.__x\n",
    "    \n",
    "    @x.setter\n",
    "    def x(self,value):\n",
    "        self.__x = value\n",
    "        \n",
    "    @property\n",
    "    def y(self):\n",
    "        return self.__y\n",
    "    \n",
    "    @y.setter\n",
    "    def y(self,value):\n",
    "        self.__y = value\n",
    "        \n",
    "    @property\n",
    "    def radius(self):\n",
    "        return self.__radius\n",
    "    \n",
    "    @radius.setter\n",
    "    def radius(self, value):\n",
    "        if value > 0:\n",
    "            self.__radius = value\n",
    "        \n",
    "    \n",
    "    def __setattr__(self, key, value):\n",
    "        if not type(value) in (int, float):\n",
    "            raise TypeError(\"Неверный тип присваиваемых данных.\")\n",
    "        return super().__setattr__(key, value)\n",
    "    \n",
    "    def __getattr__(self, key):\n",
    "        return False\n",
    "            "
   ]
  },
  {
   "cell_type": "code",
   "execution_count": 106,
   "id": "cbde6dff-33e5-4858-b641-8c28de263f26",
   "metadata": {},
   "outputs": [],
   "source": [
    "circle = Circle(10.5, 7, 22)\n",
    "circle.radius = -10 # прежнее значение не должно меняться, т.к. отрицательный радиус недопустим\n",
    "x, y = circle.x, circle.y\n",
    "res = circle.name # False, т.к. атрибут name не существует"
   ]
  },
  {
   "cell_type": "code",
   "execution_count": 107,
   "id": "5fdd2286-f4a3-4979-a106-76529e81cfe7",
   "metadata": {},
   "outputs": [],
   "source": [
    "circle = Circle(10.5, 7, 4)"
   ]
  },
  {
   "cell_type": "code",
   "execution_count": 108,
   "id": "916f9b13-f0ff-481e-9967-3b096959a481",
   "metadata": {},
   "outputs": [],
   "source": [
    "circle.radius = -10"
   ]
  },
  {
   "cell_type": "code",
   "execution_count": 109,
   "id": "05f3fea4-e7db-43bc-9f69-08a279936d2f",
   "metadata": {},
   "outputs": [
    {
     "data": {
      "text/plain": [
       "{'_Circle__x': 10.5, '_Circle__y': 7, '_Circle__radius': 4}"
      ]
     },
     "execution_count": 109,
     "metadata": {},
     "output_type": "execute_result"
    }
   ],
   "source": [
    "circle.__dict__"
   ]
  },
  {
   "cell_type": "code",
   "execution_count": null,
   "id": "9aff4c88-0ced-473c-8256-f6e1c8e6f2e8",
   "metadata": {},
   "outputs": [],
   "source": []
  }
 ],
 "metadata": {
  "kernelspec": {
   "display_name": "Python 3 (ipykernel)",
   "language": "python",
   "name": "python3"
  },
  "language_info": {
   "codemirror_mode": {
    "name": "ipython",
    "version": 3
   },
   "file_extension": ".py",
   "mimetype": "text/x-python",
   "name": "python",
   "nbconvert_exporter": "python",
   "pygments_lexer": "ipython3",
   "version": "3.9.5"
  }
 },
 "nbformat": 4,
 "nbformat_minor": 5
}
