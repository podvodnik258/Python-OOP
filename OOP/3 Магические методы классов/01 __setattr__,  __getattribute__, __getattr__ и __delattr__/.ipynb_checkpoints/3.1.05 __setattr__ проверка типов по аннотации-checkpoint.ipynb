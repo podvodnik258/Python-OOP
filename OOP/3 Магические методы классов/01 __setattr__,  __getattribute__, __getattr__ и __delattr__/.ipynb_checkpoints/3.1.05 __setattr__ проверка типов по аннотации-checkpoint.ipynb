{
 "cells": [
  {
   "cell_type": "code",
   "execution_count": null,
   "id": "9a2b4d10-a3ee-4ceb-8bff-be89a0e76bab",
   "metadata": {},
   "outputs": [],
   "source": [
    "q = iter(range(100))"
   ]
  },
  {
   "cell_type": "code",
   "execution_count": null,
   "id": "a7a92c36-6e44-4a79-8d6c-fa194afa3df3",
   "metadata": {},
   "outputs": [],
   "source": [
    "next(q)"
   ]
  },
  {
   "cell_type": "code",
   "execution_count": 16,
   "id": "3b795a62-4903-46af-bac0-5d5c57d56af8",
   "metadata": {},
   "outputs": [],
   "source": [
    "class Shop:\n",
    "    def __init__(self, name):\n",
    "        self.name = name\n",
    "        self.goods = []\n",
    "        \n",
    "    def add_product(self, product):\n",
    "        self.goods.append(product)\n",
    "        \n",
    "    def remove_product(self, product):\n",
    "        self.goods.remove(product)\n",
    "        \n",
    "class Product:\n",
    "    count = iter(range(1, 100))\n",
    "    id: int\n",
    "    name: str\n",
    "    weight: (int, float)\n",
    "    price: (int, float) \n",
    "    \n",
    "    def __init__(self, name, weight, price):\n",
    "        self.id = next(self.count)\n",
    "        self.name = name\n",
    "        self.weight = weight\n",
    "        self.price = price\n",
    "        \n",
    "    def __setattr__(self, key, value):\n",
    "        if not isinstance(value, self.__annotations__.get(key)):\n",
    "            raise TypeError(\"Неверный тип присваиваемых данных.\")\n",
    "        super().__setattr__(key, value)  \n",
    "        \n",
    "    def __delattr__(self, key):\n",
    "        if key == 'id':\n",
    "            raise AttributeError(\"Атрибут id удалять запрещено.\")\n",
    "        super().__delattr__(key)    "
   ]
  },
  {
   "cell_type": "code",
   "execution_count": 18,
   "id": "2955f164-72fd-49f6-8b5c-5c9150490345",
   "metadata": {},
   "outputs": [
    {
     "name": "stdout",
     "output_type": "stream",
     "text": [
      "3, Python ООП, 100, 1024\n",
      "4, Python, 150, 512\n"
     ]
    }
   ],
   "source": [
    "shop = Shop(\"Балакирев и К\")\n",
    "book = Product(\"Python ООП\", 100, 1024)\n",
    "shop.add_product(book)\n",
    "shop.add_product(Product(\"Python\", 150, 512))\n",
    "for p in shop.goods:\n",
    "    print(f\"{p.id}, {p.name}, {p.weight}, {p.price}\")"
   ]
  },
  {
   "cell_type": "code",
   "execution_count": 12,
   "id": "e1e7bb9a-4c53-4c98-bf60-ccecbccbdf3e",
   "metadata": {},
   "outputs": [
    {
     "name": "stdout",
     "output_type": "stream",
     "text": [
      "<class 'str'>\n"
     ]
    }
   ],
   "source": [
    "class Test:\n",
    "    name: str\n",
    "    \n",
    "    @classmethod\n",
    "    def print_obj_by_annot(cls, attr):\n",
    "        print(cls.__annotations__.get(attr, object))\n",
    "        #isinstance(value, self.__annotations__.get(name, object))\n",
    "        \n",
    "Test.print_obj_by_annot('name')"
   ]
  },
  {
   "cell_type": "code",
   "execution_count": 15,
   "id": "06184716-f7e4-4af7-8358-f4cd9c853c2e",
   "metadata": {},
   "outputs": [
    {
     "data": {
      "text/plain": [
       "str"
      ]
     },
     "execution_count": 15,
     "metadata": {},
     "output_type": "execute_result"
    }
   ],
   "source": [
    "Test.__annotations__.get('name')"
   ]
  },
  {
   "cell_type": "code",
   "execution_count": null,
   "id": "c40b49cf-5bc8-4761-8315-6ff3684c02c2",
   "metadata": {},
   "outputs": [],
   "source": []
  }
 ],
 "metadata": {
  "kernelspec": {
   "display_name": "Python 3 (ipykernel)",
   "language": "python",
   "name": "python3"
  },
  "language_info": {
   "codemirror_mode": {
    "name": "ipython",
    "version": 3
   },
   "file_extension": ".py",
   "mimetype": "text/x-python",
   "name": "python",
   "nbconvert_exporter": "python",
   "pygments_lexer": "ipython3",
   "version": "3.9.5"
  }
 },
 "nbformat": 4,
 "nbformat_minor": 5
}
