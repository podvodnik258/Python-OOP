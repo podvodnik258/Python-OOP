{
 "cells": [
  {
   "cell_type": "code",
   "execution_count": 15,
   "id": "d1536711-e379-437a-b636-94031ac77407",
   "metadata": {},
   "outputs": [],
   "source": [
    "class HandlerGET:\n",
    "    def __init__(self, func):\n",
    "        self.__func = func\n",
    "        \n",
    "    def get(self, func, request, *args, **kwargs):\n",
    "        res = f'{request[\"method\"]}: {func(request)}'\n",
    "        return res\n",
    "    \n",
    "    def __call__(self, request):\n",
    "        if \"method\" not in request:\n",
    "            request[\"method\"] = \"GET\"\n",
    "        if request[\"method\"] == \"GET\":\n",
    "            return self.get(self.__func, request)"
   ]
  },
  {
   "cell_type": "code",
   "execution_count": 16,
   "id": "0279da47-c1d7-48e0-9f0d-be2e53f43443",
   "metadata": {},
   "outputs": [],
   "source": [
    "@HandlerGET\n",
    "def contact(request):\n",
    "    return \"Сергей Балакирев\"\n",
    "\n"
   ]
  },
  {
   "cell_type": "code",
   "execution_count": 17,
   "id": "0d20b82a-4036-4e4a-9ffe-1ee4c18af8ab",
   "metadata": {},
   "outputs": [
    {
     "name": "stdout",
     "output_type": "stream",
     "text": [
      "GET: Сергей Балакирев\n",
      "None\n",
      "GET: Сергей Балакирев\n"
     ]
    }
   ],
   "source": [
    "res = contact({\"method\": \"GET\", \"url\": \"contact.html\"})\n",
    "print(res)    # GET: Сергей Балакирев\n",
    "res = contact({\"method\": \"POST\", \"url\": \"contact.html\"})\n",
    "print(res)    # None\n",
    "res = contact({\"url\": \"contact.html\"})\n",
    "print(res)    # GET: Сергей Балакирев"
   ]
  },
  {
   "cell_type": "code",
   "execution_count": null,
   "id": "3476f9ca-b364-4048-9cbc-33a61f95788d",
   "metadata": {},
   "outputs": [],
   "source": []
  }
 ],
 "metadata": {
  "kernelspec": {
   "display_name": "Python 3 (ipykernel)",
   "language": "python",
   "name": "python3"
  },
  "language_info": {
   "codemirror_mode": {
    "name": "ipython",
    "version": 3
   },
   "file_extension": ".py",
   "mimetype": "text/x-python",
   "name": "python",
   "nbconvert_exporter": "python",
   "pygments_lexer": "ipython3",
   "version": "3.9.5"
  }
 },
 "nbformat": 4,
 "nbformat_minor": 5
}
