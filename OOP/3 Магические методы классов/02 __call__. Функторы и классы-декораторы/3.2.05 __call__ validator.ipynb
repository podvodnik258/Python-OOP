{
 "cells": [
  {
   "cell_type": "code",
   "execution_count": 2,
   "id": "692e57ba-e079-47a1-a9f1-c205542e9521",
   "metadata": {},
   "outputs": [],
   "source": [
    "class LoginForm:\n",
    "    def __init__(self, name, validators=None):\n",
    "        self.name = name\n",
    "        self.validators = validators\n",
    "        self.login = \"\"\n",
    "        self.password = \"\"\n",
    "        \n",
    "    def post(self, request):\n",
    "        self.login = request.get('login', \"\")\n",
    "        self.password = request.get('password', \"\")\n",
    "        \n",
    "    def is_validate(self):\n",
    "        if not self.validators:\n",
    "            return True\n",
    "        \n",
    "        for v in self.validators:\n",
    "            if not v(self.login) or not v(self.password):\n",
    "                return False\n",
    "            \n",
    "        return True\n",
    "    \n",
    "\n",
    "class LengthValidator:\n",
    "    def __init__(self, min_length, max_length):\n",
    "        self.min_length = min_length\n",
    "        self.max_length = max_length\n",
    "        \n",
    "    def __call__(self, string):\n",
    "        return self.min_length <= len(string) <= self.max_length\n",
    "        \n",
    "class CharsValidator:\n",
    "    def __init__(self, chars):\n",
    "        self.chars = chars\n",
    "        \n",
    "    def __call__(self, string):\n",
    "        return all(char in self.chars for char in string)"
   ]
  },
  {
   "cell_type": "code",
   "execution_count": 3,
   "id": "a9790e68-e872-4391-93be-0e1f08626baf",
   "metadata": {},
   "outputs": [
    {
     "name": "stdout",
     "output_type": "stream",
     "text": [
      "Дальнейшая обработка данных формы\n"
     ]
    }
   ],
   "source": [
    "from string import ascii_lowercase, digits\n",
    "\n",
    "lg = LoginForm(\"Вход на сайт\", validators=[LengthValidator(3, 50), CharsValidator(ascii_lowercase + digits)])\n",
    "lg.post({\"login\": \"root\", \"password\": \"panda\"})\n",
    "if lg.is_validate():\n",
    "    print(\"Дальнейшая обработка данных формы\")"
   ]
  },
  {
   "cell_type": "code",
   "execution_count": 4,
   "id": "0c9edcab-ef4f-4ea5-bdc0-318477966cde",
   "metadata": {},
   "outputs": [],
   "source": [
    "lv = LengthValidator(3, 50)\n",
    "cv = CharsValidator(ascii_lowercase + digits)"
   ]
  },
  {
   "cell_type": "code",
   "execution_count": 6,
   "id": "00ea074f-491d-4bf6-b38d-4c385a0e449e",
   "metadata": {},
   "outputs": [
    {
     "data": {
      "text/plain": [
       "True"
      ]
     },
     "execution_count": 6,
     "metadata": {},
     "output_type": "execute_result"
    }
   ],
   "source": [
    "res = lv(\"root\")\n",
    "res"
   ]
  },
  {
   "cell_type": "code",
   "execution_count": 7,
   "id": "68863b79-308a-415b-be8e-d2cb0237b4f5",
   "metadata": {},
   "outputs": [
    {
     "data": {
      "text/plain": [
       "True"
      ]
     },
     "execution_count": 7,
     "metadata": {},
     "output_type": "execute_result"
    }
   ],
   "source": [
    "res = cv(\"password\")\n",
    "res"
   ]
  },
  {
   "cell_type": "code",
   "execution_count": null,
   "id": "84905886-e71c-4d5b-9c65-67899f3f298f",
   "metadata": {},
   "outputs": [],
   "source": []
  }
 ],
 "metadata": {
  "kernelspec": {
   "display_name": "Python 3 (ipykernel)",
   "language": "python",
   "name": "python3"
  },
  "language_info": {
   "codemirror_mode": {
    "name": "ipython",
    "version": 3
   },
   "file_extension": ".py",
   "mimetype": "text/x-python",
   "name": "python",
   "nbconvert_exporter": "python",
   "pygments_lexer": "ipython3",
   "version": "3.9.5"
  }
 },
 "nbformat": 4,
 "nbformat_minor": 5
}
