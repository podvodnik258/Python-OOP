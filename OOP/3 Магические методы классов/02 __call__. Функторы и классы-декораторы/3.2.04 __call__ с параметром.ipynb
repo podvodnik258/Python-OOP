{
 "cells": [
  {
   "cell_type": "code",
   "execution_count": 16,
   "id": "621b445e-56c7-4cd0-9019-beb5f1543b7d",
   "metadata": {},
   "outputs": [],
   "source": [
    "class ImageFileAcceptor:\n",
    "    def __init__(self, extensions):\n",
    "        self.extensions = extensions \n",
    "\n",
    "    def __call__(self, filename, *args, **kwargs):\n",
    "        return filename.rsplit('.', 1)[-1] in self.extensions"
   ]
  },
  {
   "cell_type": "code",
   "execution_count": 17,
   "id": "bb059968-5dbf-4da2-8b68-2fb5d62e1965",
   "metadata": {},
   "outputs": [
    {
     "name": "stdout",
     "output_type": "stream",
     "text": [
      "['boat.jpg', 'ava.jpg', 'forest.jpeg']\n"
     ]
    }
   ],
   "source": [
    "filenames = [\"boat.jpg\", \"web.png\", \"text.txt\", \"python.doc\", \"ava.jpg\", \"forest.jpeg\", \"eq_1.png\", \"eq_2.png\"]\n",
    "acceptor = ImageFileAcceptor(('jpg', 'bmp', 'jpeg'))\n",
    "image_filenames = filter(acceptor, filenames)\n",
    "print(list(image_filenames))  # [\"boat.jpg\", \"ava.jpg\", \"forest.jpeg\"]"
   ]
  },
  {
   "cell_type": "code",
   "execution_count": null,
   "id": "8b0a4bce-d427-4567-a566-20832308f41f",
   "metadata": {},
   "outputs": [],
   "source": []
  }
 ],
 "metadata": {
  "kernelspec": {
   "display_name": "Python 3 (ipykernel)",
   "language": "python",
   "name": "python3"
  },
  "language_info": {
   "codemirror_mode": {
    "name": "ipython",
    "version": 3
   },
   "file_extension": ".py",
   "mimetype": "text/x-python",
   "name": "python",
   "nbconvert_exporter": "python",
   "pygments_lexer": "ipython3",
   "version": "3.9.5"
  }
 },
 "nbformat": 4,
 "nbformat_minor": 5
}
