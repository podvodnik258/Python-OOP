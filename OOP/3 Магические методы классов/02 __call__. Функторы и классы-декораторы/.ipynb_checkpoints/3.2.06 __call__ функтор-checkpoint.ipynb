{
 "cells": [
  {
   "cell_type": "code",
   "execution_count": 20,
   "id": "2f03be3b-85d5-436b-9fd9-f96a8a8db323",
   "metadata": {},
   "outputs": [],
   "source": [
    "class DigitRetrieve:\n",
    "    \n",
    "    def __call__(self, string):\n",
    "        if string.lstrip('-').isdigit():\n",
    "            return int(string)        "
   ]
  },
  {
   "cell_type": "code",
   "execution_count": 21,
   "id": "32b0f305-4969-443a-8768-05b07dc4a976",
   "metadata": {},
   "outputs": [],
   "source": [
    "dg = DigitRetrieve()"
   ]
  },
  {
   "cell_type": "code",
   "execution_count": 22,
   "id": "a8f2c012-5a05-4744-a9ef-343782be48e8",
   "metadata": {},
   "outputs": [],
   "source": [
    "st = [\"123\", \"abc\", \"-56.4\", \"0\", \"-5\"]\n",
    "digits = list(map(dg, st))  # [123, None, None, 0, -5]"
   ]
  },
  {
   "cell_type": "code",
   "execution_count": 23,
   "id": "7d2f40cf-144f-4483-bb11-c49cafb07ac1",
   "metadata": {},
   "outputs": [
    {
     "data": {
      "text/plain": [
       "[123, None, None, 0, -5]"
      ]
     },
     "execution_count": 23,
     "metadata": {},
     "output_type": "execute_result"
    }
   ],
   "source": [
    "digits"
   ]
  }
 ],
 "metadata": {
  "kernelspec": {
   "display_name": "Python 3 (ipykernel)",
   "language": "python",
   "name": "python3"
  },
  "language_info": {
   "codemirror_mode": {
    "name": "ipython",
    "version": 3
   },
   "file_extension": ".py",
   "mimetype": "text/x-python",
   "name": "python",
   "nbconvert_exporter": "python",
   "pygments_lexer": "ipython3",
   "version": "3.9.5"
  }
 },
 "nbformat": 4,
 "nbformat_minor": 5
}
