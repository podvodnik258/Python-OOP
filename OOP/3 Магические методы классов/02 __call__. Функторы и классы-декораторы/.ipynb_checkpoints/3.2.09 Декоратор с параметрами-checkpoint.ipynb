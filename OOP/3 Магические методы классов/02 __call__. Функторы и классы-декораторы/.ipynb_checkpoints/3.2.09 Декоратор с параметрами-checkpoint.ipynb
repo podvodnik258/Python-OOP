{
 "cells": [
  {
   "cell_type": "code",
   "execution_count": 6,
   "id": "5e3cb211-c537-4286-89ca-f563efe6323e",
   "metadata": {},
   "outputs": [],
   "source": [
    "class Handler:\n",
    "    def __init__(self, methods):\n",
    "        self.method = methods\n",
    "        \n",
    "    def get(self, func, request, *args, **kwargs):\n",
    "        return f'{request[\"method\"]}: {func(request)}'\n",
    "        \n",
    "    def post(self, func, request, *args, **kwargs):\n",
    "        return f'{request[\"method\"]}: {func(request)}'\n",
    "    \n",
    "    def __call__(self, func):\n",
    "        def wrapper(request, *args, **kwargs):\n",
    "            if \"method\" not in request:\n",
    "                request[\"method\"] = \"GET\"\n",
    "            if request[\"method\"] in self.method:\n",
    "                method = request['method'].lower()\n",
    "                return self.__getattribute__(method)(func, request)\n",
    "        return wrapper"
   ]
  },
  {
   "cell_type": "code",
   "execution_count": null,
   "id": "5cb76b6e-e91d-4210-b758-9c84f772b11a",
   "metadata": {},
   "outputs": [],
   "source": [
    "class Handler:\n",
    "    def __init__(self, methods=('GET',)):\n",
    "        self.__methods = methods\n",
    "\n",
    "    def __call__(self, func, *args, **kwargs):\n",
    "        def wrapper(request: dict):\n",
    "            if self.__check_method(request):\n",
    "                method = request['method'].lower()\n",
    "                return self.__getattribute__(method)(func, request)\n",
    "        return wrapper\n",
    "\n",
    "    def __check_method(self, request: dict):\n",
    "        return 'method' in request.keys() and request['method'] in self.__methods\n",
    "\n",
    "    def get(self, func, request):\n",
    "        return f'GET: {func(request)}'\n",
    "\n",
    "    def post(self, func, request):\n",
    "        return f'POST: {func(request)}'"
   ]
  },
  {
   "cell_type": "code",
   "execution_count": 7,
   "id": "a5f64ecb-86de-42e6-ba93-f6facbbb5f22",
   "metadata": {},
   "outputs": [],
   "source": [
    "@Handler(methods=('GET', 'POST')) # по умолчанию methods = ('GET',)\n",
    "def contact(request):\n",
    "    return \"Сергей Балакирев\""
   ]
  },
  {
   "cell_type": "code",
   "execution_count": 8,
   "id": "50f4ecee-0a28-468e-aad1-d4d194116250",
   "metadata": {},
   "outputs": [
    {
     "name": "stdout",
     "output_type": "stream",
     "text": [
      "GET: Сергей Балакирев\n",
      "POST: Сергей Балакирев\n",
      "GET: Сергей Балакирев\n"
     ]
    }
   ],
   "source": [
    "res = contact({\"method\": \"GET\", \"url\": \"contact.html\"})\n",
    "print(res)    # GET: Сергей Балакирев\n",
    "res = contact({\"method\": \"POST\", \"url\": \"contact.html\"})\n",
    "print(res)    # None\n",
    "res = contact({\"url\": \"contact.html\"})\n",
    "print(res)    # GET: Сергей Балакирев"
   ]
  },
  {
   "cell_type": "code",
   "execution_count": null,
   "id": "ee217a71-ec0d-4e69-ab4f-d61b50a4f73f",
   "metadata": {},
   "outputs": [],
   "source": []
  }
 ],
 "metadata": {
  "kernelspec": {
   "display_name": "Python 3 (ipykernel)",
   "language": "python",
   "name": "python3"
  },
  "language_info": {
   "codemirror_mode": {
    "name": "ipython",
    "version": 3
   },
   "file_extension": ".py",
   "mimetype": "text/x-python",
   "name": "python",
   "nbconvert_exporter": "python",
   "pygments_lexer": "ipython3",
   "version": "3.9.5"
  }
 },
 "nbformat": 4,
 "nbformat_minor": 5
}
