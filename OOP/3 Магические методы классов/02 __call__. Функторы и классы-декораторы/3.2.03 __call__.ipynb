{
 "cells": [
  {
   "cell_type": "code",
   "execution_count": 36,
   "id": "ee8cbdad-140b-4d3e-b8af-d806197eec38",
   "metadata": {
    "tags": []
   },
   "outputs": [],
   "source": [
    "from random import randint # функция для генерации целых случайных значений в диапазоне [a; b]\n",
    "\n",
    "class RandomPassword:\n",
    "    def __init__(self, psw_chars, min_length, max_length):\n",
    "        self.__psw_chars = psw_chars\n",
    "        self.min_length = min_length\n",
    "        self.max_length = max_length\n",
    "    \n",
    "    def __call__(self, *args, **kwargs):\n",
    "        return ''.join(self.__psw_chars[randint(0, len(self.__psw_chars)-1)] for _ in range(randint(self.min_length, self.max_length)))\n",
    "\n",
    "rnd = RandomPassword(\"qwertyuiopasdfghjklzxcvbnm0123456789!@#$%&*\", 5, 20)        \n",
    "lst_pass = [rnd() for _ in range(3)]"
   ]
  },
  {
   "cell_type": "code",
   "execution_count": 34,
   "id": "7b2598ea-cdc2-47b5-ab01-9f0a04662407",
   "metadata": {},
   "outputs": [
    {
     "data": {
      "text/plain": [
       "['fqu4%2uw&4sehnnjzr', 'r4ky6', '%z@lzr']"
      ]
     },
     "execution_count": 34,
     "metadata": {},
     "output_type": "execute_result"
    }
   ],
   "source": [
    "rnd = RandomPassword(\"qwertyuiopasdfghjklzxcvbnm0123456789!@#$%&*\", 5, 20)\n",
    "psw = rnd()\n",
    "psw"
   ]
  },
  {
   "cell_type": "code",
   "execution_count": 37,
   "id": "9cb6da32-6414-4d14-b724-d1ed08d67f2b",
   "metadata": {},
   "outputs": [
    {
     "data": {
      "text/plain": [
       "['bgbb8', '&y8mgmx$t#$#myeg1z6', 'cn4g0']"
      ]
     },
     "execution_count": 37,
     "metadata": {},
     "output_type": "execute_result"
    }
   ],
   "source": [
    "lst_pass"
   ]
  },
  {
   "cell_type": "code",
   "execution_count": null,
   "id": "2506a0a2-4517-45fa-a82a-3579b02b1ef7",
   "metadata": {},
   "outputs": [],
   "source": []
  }
 ],
 "metadata": {
  "kernelspec": {
   "display_name": "Python 3 (ipykernel)",
   "language": "python",
   "name": "python3"
  },
  "language_info": {
   "codemirror_mode": {
    "name": "ipython",
    "version": 3
   },
   "file_extension": ".py",
   "mimetype": "text/x-python",
   "name": "python",
   "nbconvert_exporter": "python",
   "pygments_lexer": "ipython3",
   "version": "3.9.5"
  }
 },
 "nbformat": 4,
 "nbformat_minor": 5
}
