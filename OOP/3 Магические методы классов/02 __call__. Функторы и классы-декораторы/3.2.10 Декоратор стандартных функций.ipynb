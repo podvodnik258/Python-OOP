{
 "cells": [
  {
   "cell_type": "code",
   "execution_count": 22,
   "id": "70327f1f-6b7d-401e-8460-1d2a807db8d2",
   "metadata": {},
   "outputs": [],
   "source": [
    "class InputDigits:\n",
    "    def __init__(self, func):\n",
    "        self.__func = func\n",
    "        \n",
    "    def __call__(self):\n",
    "        return list(map(int, self.__func().split()))\n",
    "\n",
    "@InputDigits\n",
    "def input_dg():\n",
    "    return input()\n"
   ]
  },
  {
   "cell_type": "code",
   "execution_count": 25,
   "id": "b52a8bb9-162a-4838-b899-bf7e4cdd641f",
   "metadata": {},
   "outputs": [
    {
     "name": "stdin",
     "output_type": "stream",
     "text": [
      " 1 2 3 4\n"
     ]
    },
    {
     "data": {
      "text/plain": [
       "[1, 2, 3, 4]"
      ]
     },
     "execution_count": 25,
     "metadata": {},
     "output_type": "execute_result"
    }
   ],
   "source": [
    "res = input_dg()\n",
    "res"
   ]
  },
  {
   "cell_type": "code",
   "execution_count": null,
   "id": "573d676d-ba49-4337-a538-7ae4f4228ca0",
   "metadata": {},
   "outputs": [],
   "source": []
  }
 ],
 "metadata": {
  "kernelspec": {
   "display_name": "Python 3 (ipykernel)",
   "language": "python",
   "name": "python3"
  },
  "language_info": {
   "codemirror_mode": {
    "name": "ipython",
    "version": 3
   },
   "file_extension": ".py",
   "mimetype": "text/x-python",
   "name": "python",
   "nbconvert_exporter": "python",
   "pygments_lexer": "ipython3",
   "version": "3.9.5"
  }
 },
 "nbformat": 4,
 "nbformat_minor": 5
}
