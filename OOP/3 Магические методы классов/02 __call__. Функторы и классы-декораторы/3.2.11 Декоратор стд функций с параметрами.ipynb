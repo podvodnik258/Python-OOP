{
 "cells": [
  {
   "cell_type": "code",
   "execution_count": 29,
   "id": "f93263d8-591e-4406-80f4-b3505c9d975e",
   "metadata": {},
   "outputs": [
    {
     "name": "stdin",
     "output_type": "stream",
     "text": [
      " 1 2 3\n"
     ]
    },
    {
     "data": {
      "text/plain": [
       "[1, 2, 3]"
      ]
     },
     "execution_count": 29,
     "metadata": {},
     "output_type": "execute_result"
    }
   ],
   "source": [
    "class InputValues:\n",
    "    def __init__(self, render):     # render = RenderDigit()- ссылка на функцию или объект для преобразования\n",
    "        self.render = render        \n",
    "\n",
    "    def __call__(self, func):       # func = input_dg = input()- ссылка на декорируемую функцию\n",
    "        def wrapper(*args, **kwargs):\n",
    "            return list(map(self.render, func().split()))  # list(map(RenderDigit, input_dg().split())) input() '1 2 3'\n",
    "        return wrapper              #[1, 2, 3]\n",
    "    \n",
    "    \n",
    "class RenderDigit:\n",
    "    def __call__(self, string):\n",
    "        if string.lstrip('-').isdigit():\n",
    "            return int(string)\n",
    "\n",
    "@InputValues(render = RenderDigit())\n",
    "def input_dg():                     # input_dg = input()\n",
    "    return input()\n",
    "\n",
    "res = input_dg()\n",
    "res"
   ]
  },
  {
   "cell_type": "code",
   "execution_count": 28,
   "id": "168e7805-5e91-45dc-af02-689796021b99",
   "metadata": {},
   "outputs": [
    {
     "name": "stdin",
     "output_type": "stream",
     "text": [
      " 1 2 3\n"
     ]
    },
    {
     "name": "stdout",
     "output_type": "stream",
     "text": [
      "[1, 2, 3]\n"
     ]
    }
   ],
   "source": [
    "class InputValues:\n",
    "    def __init__(self, render):     # render - ссылка на функцию или объект для преобразования\n",
    "        self.render = render\n",
    "\n",
    "    def __call__(self, func):     # func - ссылка на декорируемую функцию\n",
    "        def wrapper(*args, **kwargs):\n",
    "            return [*(map(self.render, func().split()))]\n",
    "        return wrapper\n",
    "\n",
    "class RenderDigit:\n",
    "    def __call__(self, string):\n",
    "        try: return int(string)\n",
    "        except: return None\n",
    "\n",
    "input_dg = InputValues(RenderDigit())(input)\n",
    "res = input_dg()\n",
    "print(res)"
   ]
  },
  {
   "cell_type": "code",
   "execution_count": 7,
   "id": "5d10ce61-7da0-4308-ac9f-22a12a6d9918",
   "metadata": {},
   "outputs": [
    {
     "name": "stdout",
     "output_type": "stream",
     "text": [
      "123 None -56 None None\n"
     ]
    }
   ],
   "source": [
    "render = RenderDigit()\n",
    "d1 = render(\"123\")   # 123 (целое число)\n",
    "d2 = render(\"45.54\")   # None (не целое число)\n",
    "d3 = render(\"-56\")   # -56 (целое число)\n",
    "d4 = render(\"12fg\")  # None (не целое число)\n",
    "d5 = render(\"abc\")   # None (не целое число)\n",
    "print(d1, d2, d3, d4, d5)"
   ]
  },
  {
   "cell_type": "code",
   "execution_count": 24,
   "id": "4db25ba6-8c1a-413e-81aa-0ffb2ae16ae2",
   "metadata": {},
   "outputs": [
    {
     "name": "stdin",
     "output_type": "stream",
     "text": [
      "1 2 3 \n"
     ]
    }
   ],
   "source": [
    "a = input()"
   ]
  },
  {
   "cell_type": "code",
   "execution_count": 25,
   "id": "17bf2881-cb44-436e-9466-7976cc423559",
   "metadata": {},
   "outputs": [
    {
     "data": {
      "text/plain": [
       "''"
      ]
     },
     "execution_count": 25,
     "metadata": {},
     "output_type": "execute_result"
    }
   ],
   "source": [
    "a"
   ]
  },
  {
   "cell_type": "code",
   "execution_count": null,
   "id": "b6a6afb8-6e6e-4e8e-ac76-4ab09c7f7559",
   "metadata": {},
   "outputs": [],
   "source": []
  }
 ],
 "metadata": {
  "kernelspec": {
   "display_name": "Python 3 (ipykernel)",
   "language": "python",
   "name": "python3"
  },
  "language_info": {
   "codemirror_mode": {
    "name": "ipython",
    "version": 3
   },
   "file_extension": ".py",
   "mimetype": "text/x-python",
   "name": "python",
   "nbconvert_exporter": "python",
   "pygments_lexer": "ipython3",
   "version": "3.9.5"
  }
 },
 "nbformat": 4,
 "nbformat_minor": 5
}
