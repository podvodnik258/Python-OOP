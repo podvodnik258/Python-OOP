{
 "cells": [
  {
   "cell_type": "code",
   "execution_count": 28,
   "id": "9ca113ae-b1cc-41f1-ad8c-9a941909b6aa",
   "metadata": {},
   "outputs": [],
   "source": [
    "class RenderList:\n",
    "    def __init__(self, type_list):\n",
    "        self.type_list = type_list\n",
    "        \n",
    "    def __setattr__(self, key, value):\n",
    "        if not(value == \"ul\" or value == \"ol\"):\n",
    "            value = \"ul\"\n",
    "        super().__setattr__(key, value)\n",
    "        \n",
    "    def __call__(self, lst):\n",
    "        res = f'<{self.type_list}>\\n'\n",
    "        for row in lst:\n",
    "            res += f'<li>{row}</li>\\n'\n",
    "        res += f'</{self.type_list}>'\n",
    "        return res"
   ]
  },
  {
   "cell_type": "code",
   "execution_count": 33,
   "id": "f514432e-b99f-4329-b83c-607a009679c1",
   "metadata": {},
   "outputs": [],
   "source": [
    "lst = [\"Пункт меню 1\", \"Пункт меню 2\", \"Пункт меню 3\"]\n",
    "render = RenderList(\"ul\")\n",
    "html = render(lst)"
   ]
  },
  {
   "cell_type": "code",
   "execution_count": 34,
   "id": "65520a84-dd3d-46cf-b532-72dee37b2d48",
   "metadata": {},
   "outputs": [
    {
     "name": "stdout",
     "output_type": "stream",
     "text": [
      "<ul>\n",
      "<li>Пункт меню 1</li>\n",
      "<li>Пункт меню 2</li>\n",
      "<li>Пункт меню 3</li>\n",
      "</ul>\n"
     ]
    }
   ],
   "source": [
    "print(html)"
   ]
  }
 ],
 "metadata": {
  "kernelspec": {
   "display_name": "Python 3 (ipykernel)",
   "language": "python",
   "name": "python3"
  },
  "language_info": {
   "codemirror_mode": {
    "name": "ipython",
    "version": 3
   },
   "file_extension": ".py",
   "mimetype": "text/x-python",
   "name": "python",
   "nbconvert_exporter": "python",
   "pygments_lexer": "ipython3",
   "version": "3.9.5"
  }
 },
 "nbformat": 4,
 "nbformat_minor": 5
}
