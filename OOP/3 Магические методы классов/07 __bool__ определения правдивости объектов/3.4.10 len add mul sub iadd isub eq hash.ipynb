{
 "cells": [
  {
   "cell_type": "code",
   "execution_count": 38,
   "id": "8e985666-f62b-4299-bf31-8510855b8559",
   "metadata": {},
   "outputs": [],
   "source": [
    "class Vector:\n",
    "    def __init__(self, *args):\n",
    "        if all((type(coord) in (int, float) for coord in args)):\n",
    "            self.coord = list(args)\n",
    "    \n",
    "    def __len__(self):\n",
    "        return len(self.coord)\n",
    "    \n",
    "    def chek_len(self, other):\n",
    "        if not len(self) == len(other):\n",
    "            raise ArithmeticError('размерности векторов не совпадают')\n",
    "    \n",
    "    def __add__(self, other): \n",
    "        self.chek_len(other)\n",
    "        return Vector(*map(lambda x, y: x + y, self.coord, other.coord))\n",
    "    \n",
    "    def __mul__(self, other): \n",
    "        self.chek_len(other)\n",
    "        return Vector(*map(lambda x, y: x - y, self.coord, other.coord))  \n",
    "    \n",
    "    def __sub__(self, other): \n",
    "        self.chek_len(other)\n",
    "        return Vector(*map(lambda x, y: x - y, self.coord, other.coord))\n",
    "    \n",
    "    def __iadd__(self, other):\n",
    "        self.coord = list(map(lambda x: x + other, self.coord))\n",
    "        return self\n",
    "    \n",
    "    def __isub__(self, other):\n",
    "        self.coord = list(map(lambda x: x - other, self.coord))\n",
    "        return self\n",
    "    \n",
    "    def __eq__(self, other):\n",
    "        return hash(self) == hash(other)\n",
    "    \n",
    "    def __hash__(self):\n",
    "        return hash(tuple(self.coord))"
   ]
  },
  {
   "cell_type": "code",
   "execution_count": 43,
   "id": "e9662802-8f6b-4abe-8c70-e17138742d24",
   "metadata": {},
   "outputs": [],
   "source": [
    "v1 = Vector(1, 2, 3, 4, 5)\n",
    "v2 = Vector(1, 2, 3, 5, 4)"
   ]
  },
  {
   "cell_type": "code",
   "execution_count": 44,
   "id": "d0d6b2b8-dfd1-490a-a2a3-a84b91b5def4",
   "metadata": {},
   "outputs": [
    {
     "data": {
      "text/plain": [
       "False"
      ]
     },
     "execution_count": 44,
     "metadata": {},
     "output_type": "execute_result"
    }
   ],
   "source": [
    "v1 == v2"
   ]
  },
  {
   "cell_type": "code",
   "execution_count": 30,
   "id": "8a2afb47-75d4-4c64-98cb-05c473239649",
   "metadata": {},
   "outputs": [
    {
     "data": {
      "text/plain": [
       "{'coord': [14, 16, 18, 20, 22]}"
      ]
     },
     "execution_count": 30,
     "metadata": {},
     "output_type": "execute_result"
    }
   ],
   "source": [
    "v8.__dict__"
   ]
  },
  {
   "cell_type": "code",
   "execution_count": 28,
   "id": "8f6904f5-9095-4d46-9a81-2797bf82c201",
   "metadata": {},
   "outputs": [],
   "source": [
    "v1 += 10"
   ]
  },
  {
   "cell_type": "code",
   "execution_count": null,
   "id": "fb4c635b-0a90-4d87-bb0b-960b9b75d82f",
   "metadata": {},
   "outputs": [],
   "source": []
  }
 ],
 "metadata": {
  "kernelspec": {
   "display_name": "Python 3 (ipykernel)",
   "language": "python",
   "name": "python3"
  },
  "language_info": {
   "codemirror_mode": {
    "name": "ipython",
    "version": 3
   },
   "file_extension": ".py",
   "mimetype": "text/x-python",
   "name": "python",
   "nbconvert_exporter": "python",
   "pygments_lexer": "ipython3",
   "version": "3.9.5"
  }
 },
 "nbformat": 4,
 "nbformat_minor": 5
}
