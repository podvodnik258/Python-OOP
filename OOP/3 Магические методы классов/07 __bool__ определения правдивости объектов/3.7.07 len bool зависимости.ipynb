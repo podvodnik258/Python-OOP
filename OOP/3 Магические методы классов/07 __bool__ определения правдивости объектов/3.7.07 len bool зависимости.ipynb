{
 "cells": [
  {
   "cell_type": "code",
   "execution_count": 16,
   "id": "5e4742c2-05a7-4a06-aa21-23af5d427742",
   "metadata": {},
   "outputs": [],
   "source": [
    "class Line:\n",
    "    def __init__(self, *args):\n",
    "        self.x1, self.y1, self.x2, self.y2 = args\n",
    "        \n",
    "    def __len__(self):\n",
    "        return int(((self.x2-self.x1)**2 + (self.y2-self.y1)**2)**0.5)\n",
    "        \n",
    "    def __bool__(self):\n",
    "        return len(self) >= 1\n",
    "        "
   ]
  },
  {
   "cell_type": "code",
   "execution_count": 26,
   "id": "0ea2b3da-5d3b-4c6d-9a74-e09f5bb7e979",
   "metadata": {},
   "outputs": [
    {
     "data": {
      "text/plain": [
       "{'x1': 1, 'y1': 4, 'x2': 1, 'y2': 2}"
      ]
     },
     "execution_count": 26,
     "metadata": {},
     "output_type": "execute_result"
    }
   ],
   "source": [
    "line = Line(1, 4, 1, 2)\n",
    "line.__dict__"
   ]
  },
  {
   "cell_type": "code",
   "execution_count": 27,
   "id": "e25502fa-6d0d-4d09-bb51-109a0e510c6b",
   "metadata": {},
   "outputs": [
    {
     "name": "stdout",
     "output_type": "stream",
     "text": [
      "True\n",
      "2\n"
     ]
    }
   ],
   "source": [
    "print(bool(line))\n",
    "print(len(line))"
   ]
  },
  {
   "cell_type": "code",
   "execution_count": null,
   "id": "8d7786e8-99f1-466b-a9c9-75a74df3bef4",
   "metadata": {},
   "outputs": [],
   "source": []
  }
 ],
 "metadata": {
  "kernelspec": {
   "display_name": "Python 3 (ipykernel)",
   "language": "python",
   "name": "python3"
  },
  "language_info": {
   "codemirror_mode": {
    "name": "ipython",
    "version": 3
   },
   "file_extension": ".py",
   "mimetype": "text/x-python",
   "name": "python",
   "nbconvert_exporter": "python",
   "pygments_lexer": "ipython3",
   "version": "3.9.5"
  }
 },
 "nbformat": 4,
 "nbformat_minor": 5
}
