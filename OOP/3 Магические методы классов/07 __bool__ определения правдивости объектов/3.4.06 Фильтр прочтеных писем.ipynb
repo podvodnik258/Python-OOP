{
 "cells": [
  {
   "cell_type": "code",
   "execution_count": 30,
   "id": "b3484589-25ee-4870-875a-b29a03e73a70",
   "metadata": {
    "tags": []
   },
   "outputs": [],
   "source": [
    "lst_in = ['sc_lib@list.ru; От Балакирева; Успехов в IT!',\n",
    "        'mail@list.ru; Выгодное предложение; Вам одобрен кредит.',\n",
    "        'mail123@list.ru; Розыгрыш; Вы выиграли 1 млн. руб. Переведите 30 тыс. руб., чтобы его получить.']\n",
    "\n",
    "\n",
    "class MailBox:\n",
    "    def __init__(self):\n",
    "        self.inbox_list = []\n",
    "        \n",
    "    def receive(self):\n",
    "        for line in lst_in:\n",
    "            obj = MailItem(*line.split('; '))\n",
    "            self.inbox_list.append(obj) \n",
    "        \n",
    "class MailItem:\n",
    "    def __init__(self, *args):\n",
    "        self.mail_from, self.title, self.content = args\n",
    "        self.is_read = False\n",
    "        \n",
    "    def set_read(self, fl_read):\n",
    "        self.is_read = True\n",
    "        \n",
    "    def __bool__(self):\n",
    "        return self.is_read\n",
    "        \n",
    "mail = MailBox()\n",
    "mail.receive()        \n",
    "mail.inbox_list[0].set_read(True)\n",
    "mail.inbox_list[-1].set_read(True) \n",
    "inbox_list_filtered = list(filter(bool, mail.inbox_list))"
   ]
  },
  {
   "cell_type": "code",
   "execution_count": 31,
   "id": "ef5b0d0a-0971-473c-ac43-7f3a301af2e4",
   "metadata": {},
   "outputs": [
    {
     "data": {
      "text/plain": [
       "[<__main__.MailItem at 0x18ce97eb100>, <__main__.MailItem at 0x18ce93ada30>]"
      ]
     },
     "execution_count": 31,
     "metadata": {},
     "output_type": "execute_result"
    }
   ],
   "source": [
    "inbox_list_filtered"
   ]
  },
  {
   "cell_type": "code",
   "execution_count": 32,
   "id": "2a1cf87c-78b4-42cb-9020-0ae5639e1581",
   "metadata": {},
   "outputs": [
    {
     "data": {
      "text/plain": [
       "False"
      ]
     },
     "execution_count": 32,
     "metadata": {},
     "output_type": "execute_result"
    }
   ],
   "source": [
    "bool(mail.inbox_list[1])"
   ]
  },
  {
   "cell_type": "code",
   "execution_count": 33,
   "id": "867a68ed-6a4c-46e5-ae73-ceaf6ea42b79",
   "metadata": {},
   "outputs": [
    {
     "data": {
      "text/plain": [
       "{'mail_from': 'mail@list.ru',\n",
       " 'title': 'Выгодное предложение',\n",
       " 'content': 'Вам одобрен кредит.',\n",
       " 'is_read': False}"
      ]
     },
     "execution_count": 33,
     "metadata": {},
     "output_type": "execute_result"
    }
   ],
   "source": [
    "mail.inbox_list[1].__dict__"
   ]
  },
  {
   "cell_type": "code",
   "execution_count": null,
   "id": "f0ee7e7e-92f6-492b-bbe2-095a8f781fb4",
   "metadata": {},
   "outputs": [],
   "source": []
  }
 ],
 "metadata": {
  "kernelspec": {
   "display_name": "Python 3 (ipykernel)",
   "language": "python",
   "name": "python3"
  },
  "language_info": {
   "codemirror_mode": {
    "name": "ipython",
    "version": 3
   },
   "file_extension": ".py",
   "mimetype": "text/x-python",
   "name": "python",
   "nbconvert_exporter": "python",
   "pygments_lexer": "ipython3",
   "version": "3.9.5"
  }
 },
 "nbformat": 4,
 "nbformat_minor": 5
}
