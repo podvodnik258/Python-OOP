{
 "cells": [
  {
   "cell_type": "code",
   "execution_count": 7,
   "id": "d767c775-1804-4b0b-a011-90b9bed939ff",
   "metadata": {},
   "outputs": [],
   "source": [
    "class Player:\n",
    "    def __init__(self, name, old, score):\n",
    "        self.name = name\n",
    "        self.old = int(old)\n",
    "        self.score = int(score)\n",
    "\n",
    "    def __len__(self):\n",
    "        return self.score\n",
    "        \n",
    "lst_in = [  'Балакирев; 34; 2048',\n",
    "            'Mediel; 27; 0',\n",
    "            'Влад; 18; 9012',\n",
    "            'Nina P; 33; 0']\n",
    "\n",
    "players = [Player(*line.split('; ')) for line in lst_in]\n",
    "players_filtered = list(filter(bool, players))"
   ]
  },
  {
   "cell_type": "code",
   "execution_count": 8,
   "id": "ddd42777-ed3f-453b-8998-b7173c6200b5",
   "metadata": {},
   "outputs": [
    {
     "data": {
      "text/plain": [
       "[<__main__.Player at 0x14dd9c38880>, <__main__.Player at 0x14dd9c38dc0>]"
      ]
     },
     "execution_count": 8,
     "metadata": {},
     "output_type": "execute_result"
    }
   ],
   "source": [
    "players_filtered"
   ]
  },
  {
   "cell_type": "code",
   "execution_count": null,
   "id": "b4a8cb72-c371-4136-a83d-dbb862f27bf3",
   "metadata": {},
   "outputs": [],
   "source": []
  }
 ],
 "metadata": {
  "kernelspec": {
   "display_name": "Python 3 (ipykernel)",
   "language": "python",
   "name": "python3"
  },
  "language_info": {
   "codemirror_mode": {
    "name": "ipython",
    "version": 3
   },
   "file_extension": ".py",
   "mimetype": "text/x-python",
   "name": "python",
   "nbconvert_exporter": "python",
   "pygments_lexer": "ipython3",
   "version": "3.9.5"
  }
 },
 "nbformat": 4,
 "nbformat_minor": 5
}
