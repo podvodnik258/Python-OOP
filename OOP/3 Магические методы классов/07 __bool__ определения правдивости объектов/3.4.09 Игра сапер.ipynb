{
 "cells": [
  {
   "cell_type": "code",
   "execution_count": 30,
   "id": "c7409021-9560-4b58-9527-0e5e89145b46",
   "metadata": {},
   "outputs": [
    {
     "name": "stdout",
     "output_type": "stream",
     "text": [
      "0 0 0 0 1 * 3 * 2 0 \n",
      "0 0 0 0 1 2 4 * 2 0 \n",
      "2 2 1 0 0 1 * 2 1 0 \n",
      "* * 1 0 0 1 1 1 0 0 \n",
      "* 3 1 0 1 1 2 1 1 0 \n",
      "1 1 1 1 2 * 2 * 1 0 \n",
      "0 0 1 * 2 1 2 1 1 0 \n",
      "0 0 1 1 1 0 0 0 0 0 \n"
     ]
    }
   ],
   "source": [
    "from random import shuffle\n",
    "\n",
    "class GamePole:\n",
    "    __instance = None\n",
    "    \n",
    "    def __new__(cls, *args, **kwargs):\n",
    "        if cls.__instance is None:\n",
    "            cls.__instance = super().__new__(cls)\n",
    "        return cls.__instance\n",
    "    \n",
    "    def __init__(self, N, M, total_mines):\n",
    "        self.N = N # строки\n",
    "        self.M = M # столбцы\n",
    "        self.__pole_cells = [[Cell() for _ in range(self.M)] for __ in range(self.N)]\n",
    "        self.total_mines = total_mines\n",
    "\n",
    "    @property\n",
    "    def pole(self): \n",
    "        return self.__pole_cells\n",
    "    \n",
    "    def init_pole(self):\n",
    "        self.paste_mine(self.pole)\n",
    "        self.padding(self.pole)\n",
    "        self.calc_around_mine(self.pole)\n",
    "        self.rollup(self.pole)\n",
    "    \n",
    "    def paste_mine(self, pole):\n",
    "        indx_mines = self.get_mine_places()\n",
    "        k = 0\n",
    "        for row in self.__pole_cells:\n",
    "            for cell in row:\n",
    "                if k in indx_mines:\n",
    "                    cell.is_mine = True\n",
    "                k+=1\n",
    "                \n",
    "    def get_mine_places(self):\n",
    "        indx_mines = list(range(self.M * self.N))\n",
    "        shuffle(indx_mines)\n",
    "        return indx_mines[:self.total_mines]\n",
    "    \n",
    "    @staticmethod\n",
    "    def padding(lst):\n",
    "        lst.append([Cell()] * len(lst[0])) # строку вниз\n",
    "        lst.insert(0, [Cell()] * len(lst[0])) # строку вверх\n",
    "        for i in range(len(lst)):\n",
    "            lst[i].append(Cell() ) # добавка в конец строк\n",
    "            lst[i].insert(0, Cell()) # добавка в начало строк\n",
    "        return lst \n",
    "    \n",
    "    @staticmethod\n",
    "    def rollup(lst):\n",
    "        del lst[0]\n",
    "        del lst[-1]\n",
    "        for i in range(len(lst)):\n",
    "            del lst[i][0]\n",
    "            del lst[i][-1]\n",
    "        return lst\n",
    "    \n",
    "    @staticmethod\n",
    "    def calc_around_mine(lst):\n",
    "        for i in range(1, len(lst)-1):\n",
    "            for j in range(1, len(lst[0])-1):\n",
    "                if not lst[i][j].is_mine:\n",
    "                    lst[i][j].number = \\\n",
    "                        lst[i-1][j-1].is_mine + lst[i-1][j].is_mine + lst[i-1][j+1].is_mine + \\\n",
    "                        lst[i][j-1].is_mine + lst[i][j+1].is_mine + \\\n",
    "                        lst[i+1][j-1].is_mine + lst[i+1][j].is_mine + lst[i+1][j+1].is_mine\n",
    "        \n",
    "        return lst\n",
    "    \n",
    "    def open_cell(self, i, j):\n",
    "        if i > self.N or j > self.M:\n",
    "            raise IndexError('некорректные индексы i, j клетки игрового поля')\n",
    "        self.pole[i][j].is_open = True\n",
    "\n",
    "    def show_pole(self):\n",
    "        for row in self.__pole_cells:\n",
    "            for cell in row:\n",
    "                if cell.is_mine:\n",
    "                    print('*', end=' ')\n",
    "                else:\n",
    "                    print(cell.number, end=' ')\n",
    "            print()\n",
    "            \n",
    "\n",
    "class Cell:\n",
    "    def __init__(self, around_mines = 0, is_mine = False):\n",
    "        self.number = around_mines\n",
    "        self.is_mine = is_mine\n",
    "        self.is_open = False\n",
    "     \n",
    "    @property\n",
    "    def number(self):\n",
    "        return self.__number\n",
    "    \n",
    "    @number.setter\n",
    "    def number(self, value):\n",
    "        if not (type(value) == int and 0 <= value <= 8):\n",
    "            raise ValueError(\"недопустимое значение атрибута\")\n",
    "        self.__number = value\n",
    "        \n",
    "    @property\n",
    "    def is_mine(self):\n",
    "        return self.__is_mine\n",
    "    \n",
    "    @is_mine.setter\n",
    "    def is_mine(self, value):\n",
    "        if not type(value) == bool:\n",
    "            raise ValueError(\"недопустимое значение атрибута\")\n",
    "        self.__is_mine = value\n",
    "        \n",
    "    @property\n",
    "    def is_open(self):\n",
    "        return self.__is_open\n",
    "    \n",
    "    @is_open.setter\n",
    "    def is_open(self, value):\n",
    "        if not type(value) == bool:\n",
    "            raise ValueError(\"недопустимое значение атрибута\")\n",
    "        self.__is_open = value\n",
    "        \n",
    "    def __bool__(self):\n",
    "        return not self.is_open\n",
    "\n",
    "pole = GamePole(8, 10, 10) # N строк, M слолбцов, total_mines\n",
    "pole.init_pole()\n",
    "pole.show_pole()"
   ]
  },
  {
   "cell_type": "code",
   "execution_count": 31,
   "id": "b6b5e1cd-97e8-47e6-9a82-299e76d5f564",
   "metadata": {},
   "outputs": [
    {
     "name": "stdout",
     "output_type": "stream",
     "text": [
      "0 0 0 0 1 * 1 0 0 0 1 * 2 * 1 1 1 1 0 0 \n",
      "0 0 0 0 1 1 1 0 1 1 2 1 2 2 2 2 * 1 0 0 \n",
      "0 0 0 0 0 0 0 0 1 * 1 0 0 1 * 2 1 1 0 0 \n",
      "0 0 0 0 0 0 0 1 2 2 1 0 0 1 1 1 0 0 0 0 \n",
      "0 0 0 0 0 0 0 1 * 1 0 0 0 0 0 0 0 0 0 0 \n",
      "0 0 0 0 0 0 0 1 2 2 2 1 1 0 0 0 0 0 0 0 \n",
      "0 0 0 0 0 0 0 0 1 * 2 * 1 0 0 0 0 0 0 0 \n",
      "0 0 0 0 0 0 0 0 1 1 2 1 1 0 0 0 0 0 0 0 \n",
      "0 0 0 0 0 0 0 0 0 0 0 0 1 1 1 0 0 0 0 0 \n",
      "0 0 0 0 0 0 0 0 0 0 0 0 1 * 1 0 0 0 0 0 \n"
     ]
    }
   ],
   "source": [
    "pole = GamePole(10, 20, 10)  # создается поле размерами 10x20 с общим числом мин 10\n",
    "pole.init_pole()\n",
    "if pole.pole[0][1]:\n",
    "    pole.open_cell(0, 1)\n",
    "if pole.pole[3][5]:\n",
    "    pole.open_cell(3, 5)\n",
    "#pole.open_cell(30, 100)  # генерируется исключение IndexError\n",
    "pole.show_pole()"
   ]
  },
  {
   "cell_type": "code",
   "execution_count": 32,
   "id": "08b4036f-af7e-436c-b8ef-2c57a620d3ec",
   "metadata": {},
   "outputs": [
    {
     "data": {
      "text/plain": [
       "<__main__.Cell at 0x2c190d568b0>"
      ]
     },
     "execution_count": 32,
     "metadata": {},
     "output_type": "execute_result"
    }
   ],
   "source": [
    "pole.pole[1][2]"
   ]
  },
  {
   "cell_type": "code",
   "execution_count": 33,
   "id": "21d2902a-fd46-41f7-96f4-edef9d239cdb",
   "metadata": {},
   "outputs": [],
   "source": [
    "c = Cell()"
   ]
  },
  {
   "cell_type": "code",
   "execution_count": 37,
   "id": "7e3d2375-ccde-4dc8-9a27-aa4153e480f4",
   "metadata": {},
   "outputs": [
    {
     "ename": "ValueError",
     "evalue": "недопустимое значение атрибута",
     "output_type": "error",
     "traceback": [
      "\u001b[1;31m---------------------------------------------------------------------------\u001b[0m",
      "\u001b[1;31mValueError\u001b[0m                                Traceback (most recent call last)",
      "\u001b[1;32mC:\\Users\\73B5~1\\AppData\\Local\\Temp/ipykernel_11656/1179511858.py\u001b[0m in \u001b[0;36m<module>\u001b[1;34m\u001b[0m\n\u001b[0;32m      1\u001b[0m \u001b[0mc\u001b[0m\u001b[1;33m.\u001b[0m\u001b[0mis_open\u001b[0m \u001b[1;33m=\u001b[0m \u001b[1;32mTrue\u001b[0m\u001b[1;33m\u001b[0m\u001b[1;33m\u001b[0m\u001b[0m\n\u001b[0;32m      2\u001b[0m \u001b[0mc\u001b[0m\u001b[1;33m.\u001b[0m\u001b[0mis_mine\u001b[0m \u001b[1;33m=\u001b[0m \u001b[1;32mTrue\u001b[0m\u001b[1;33m\u001b[0m\u001b[1;33m\u001b[0m\u001b[0m\n\u001b[1;32m----> 3\u001b[1;33m \u001b[0mc\u001b[0m\u001b[1;33m.\u001b[0m\u001b[0mnumber\u001b[0m \u001b[1;33m=\u001b[0m \u001b[1;36m9\u001b[0m\u001b[1;33m\u001b[0m\u001b[1;33m\u001b[0m\u001b[0m\n\u001b[0m\u001b[0;32m      4\u001b[0m \u001b[0mc\u001b[0m\u001b[1;33m.\u001b[0m\u001b[0m__dict__\u001b[0m\u001b[1;33m\u001b[0m\u001b[1;33m\u001b[0m\u001b[0m\n",
      "\u001b[1;32mC:\\Users\\73B5~1\\AppData\\Local\\Temp/ipykernel_11656/1265536136.py\u001b[0m in \u001b[0;36mnumber\u001b[1;34m(self, value)\u001b[0m\n\u001b[0;32m     97\u001b[0m     \u001b[1;32mdef\u001b[0m \u001b[0mnumber\u001b[0m\u001b[1;33m(\u001b[0m\u001b[0mself\u001b[0m\u001b[1;33m,\u001b[0m \u001b[0mvalue\u001b[0m\u001b[1;33m)\u001b[0m\u001b[1;33m:\u001b[0m\u001b[1;33m\u001b[0m\u001b[1;33m\u001b[0m\u001b[0m\n\u001b[0;32m     98\u001b[0m         \u001b[1;32mif\u001b[0m \u001b[1;32mnot\u001b[0m \u001b[1;33m(\u001b[0m\u001b[0mtype\u001b[0m\u001b[1;33m(\u001b[0m\u001b[0mvalue\u001b[0m\u001b[1;33m)\u001b[0m \u001b[1;33m==\u001b[0m \u001b[0mint\u001b[0m \u001b[1;32mand\u001b[0m \u001b[1;36m0\u001b[0m \u001b[1;33m<=\u001b[0m \u001b[0mvalue\u001b[0m \u001b[1;33m<=\u001b[0m \u001b[1;36m8\u001b[0m\u001b[1;33m)\u001b[0m\u001b[1;33m:\u001b[0m\u001b[1;33m\u001b[0m\u001b[1;33m\u001b[0m\u001b[0m\n\u001b[1;32m---> 99\u001b[1;33m             \u001b[1;32mraise\u001b[0m \u001b[0mValueError\u001b[0m\u001b[1;33m(\u001b[0m\u001b[1;34m\"недопустимое значение атрибута\"\u001b[0m\u001b[1;33m)\u001b[0m\u001b[1;33m\u001b[0m\u001b[1;33m\u001b[0m\u001b[0m\n\u001b[0m\u001b[0;32m    100\u001b[0m         \u001b[0mself\u001b[0m\u001b[1;33m.\u001b[0m\u001b[0m__number\u001b[0m \u001b[1;33m=\u001b[0m \u001b[0mvalue\u001b[0m\u001b[1;33m\u001b[0m\u001b[1;33m\u001b[0m\u001b[0m\n\u001b[0;32m    101\u001b[0m \u001b[1;33m\u001b[0m\u001b[0m\n",
      "\u001b[1;31mValueError\u001b[0m: недопустимое значение атрибута"
     ]
    }
   ],
   "source": [
    "c.is_open = True\n",
    "c.is_mine = True\n",
    "c.number = 9\n",
    "c.__dict__"
   ]
  },
  {
   "cell_type": "code",
   "execution_count": null,
   "id": "a9e04aae-01f3-4b6f-b62e-e46f73d678a5",
   "metadata": {},
   "outputs": [],
   "source": []
  }
 ],
 "metadata": {
  "kernelspec": {
   "display_name": "Python 3 (ipykernel)",
   "language": "python",
   "name": "python3"
  },
  "language_info": {
   "codemirror_mode": {
    "name": "ipython",
    "version": 3
   },
   "file_extension": ".py",
   "mimetype": "text/x-python",
   "name": "python",
   "nbconvert_exporter": "python",
   "pygments_lexer": "ipython3",
   "version": "3.9.5"
  }
 },
 "nbformat": 4,
 "nbformat_minor": 5
}
