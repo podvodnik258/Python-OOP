{
 "cells": [
  {
   "cell_type": "code",
   "execution_count": 14,
   "id": "0c6ca160-2d49-4dfe-ab15-b87969015b84",
   "metadata": {},
   "outputs": [],
   "source": [
    "class Ellipse:\n",
    "    def __init__(self, *args):\n",
    "        if args:\n",
    "            self.x1, self.y1, self.x2, self.y2 = args\n",
    "            \n",
    "    def __bool__(self):\n",
    "        return all((attr in self.__dict__ for attr in ('x1', 'y1', 'x2', 'y2')))\n",
    "    \n",
    "    def get_coords(self):\n",
    "        if not bool(self):\n",
    "            raise AttributeError('нет координат для извлечения')\n",
    "        return self.x1, self.y1, self.x2, self.y2\n",
    "    \n",
    "\n",
    "lst_geom = []\n",
    "lst_geom.append(Ellipse()) \n",
    "lst_geom.append(Ellipse(1, 2, 3, 4))\n",
    "lst_geom.append(Ellipse()) \n",
    "lst_geom.append(Ellipse(5, 6, 7, 8))\n",
    "\n",
    "for e in lst_geom:\n",
    "    if bool(e):\n",
    "        e.get_coords()\n"
   ]
  },
  {
   "cell_type": "code",
   "execution_count": 3,
   "id": "a12b215d-106a-465a-a93f-7345c377b707",
   "metadata": {},
   "outputs": [],
   "source": [
    "el1 = Ellipse()  # без создания локальных атрибутов x1, y1, x2, y2\n",
    "el2 = Ellipse(1, 2, 3, 4)"
   ]
  },
  {
   "cell_type": "code",
   "execution_count": 5,
   "id": "979639cd-8aaf-4782-a7f6-e2154c391a0a",
   "metadata": {},
   "outputs": [
    {
     "data": {
      "text/plain": [
       "False"
      ]
     },
     "execution_count": 5,
     "metadata": {},
     "output_type": "execute_result"
    }
   ],
   "source": [
    "bool(el1)"
   ]
  },
  {
   "cell_type": "code",
   "execution_count": null,
   "id": "99aa44e6-701a-4a25-9798-13e32d6f1a6f",
   "metadata": {},
   "outputs": [],
   "source": []
  }
 ],
 "metadata": {
  "kernelspec": {
   "display_name": "Python 3 (ipykernel)",
   "language": "python",
   "name": "python3"
  },
  "language_info": {
   "codemirror_mode": {
    "name": "ipython",
    "version": 3
   },
   "file_extension": ".py",
   "mimetype": "text/x-python",
   "name": "python",
   "nbconvert_exporter": "python",
   "pygments_lexer": "ipython3",
   "version": "3.9.5"
  }
 },
 "nbformat": 4,
 "nbformat_minor": 5
}
