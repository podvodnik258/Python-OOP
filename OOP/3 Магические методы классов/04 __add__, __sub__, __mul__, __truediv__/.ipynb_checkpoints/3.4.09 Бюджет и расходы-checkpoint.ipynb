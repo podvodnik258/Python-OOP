{
 "cells": [
  {
   "cell_type": "code",
   "execution_count": 3,
   "id": "77cc7b16-7717-4ce3-aab0-ae502a13b76a",
   "metadata": {},
   "outputs": [],
   "source": [
    "class Budget:\n",
    "    def __init__(self):\n",
    "        self.items = []\n",
    "\n",
    "    def add_item(self, it): # добавление статьи расхода в бюджет (it - объект класса Item);\n",
    "        self.items.append(it)\n",
    "    \n",
    "    def remove_item(self, indx): # удаление статьи расхода из бюджета по его порядковому номеру indx \n",
    "        del self.items[indx]\n",
    "    \n",
    "    def get_items(self): # возвращает список всех статей расходов (список из объектов класса Item).\n",
    "        return self.items\n",
    "        \n",
    "\n",
    "class Item:\n",
    "    def __init__(self, name, money):\n",
    "        self.name = name\n",
    "        self.money = money\n",
    "\n",
    "    def __add__(self, other):\n",
    "        return self.money + other\n",
    "    \n",
    "    def __radd__(self, other):\n",
    "        return self.money + other"
   ]
  },
  {
   "cell_type": "code",
   "execution_count": 4,
   "id": "a7a0537b-28b9-4fee-9285-6a08eb254656",
   "metadata": {},
   "outputs": [],
   "source": [
    "my_budget = Budget()\n",
    "my_budget.add_item(Item(\"Курс по Python ООП\", 2000))\n",
    "my_budget.add_item(Item(\"Курс по Django\", 5000.01))\n",
    "my_budget.add_item(Item(\"Курс по NumPy\", 0))\n",
    "my_budget.add_item(Item(\"Курс по C++\", 1500.10))\n",
    "\n",
    "# вычисление общих расходов\n",
    "s = 0\n",
    "for x in my_budget.get_items():\n",
    "    s = s + x"
   ]
  },
  {
   "cell_type": "code",
   "execution_count": null,
   "id": "4d15a4e9-bb2b-45dc-a43b-ad39b727aa07",
   "metadata": {},
   "outputs": [],
   "source": []
  }
 ],
 "metadata": {
  "kernelspec": {
   "display_name": "Python 3 (ipykernel)",
   "language": "python",
   "name": "python3"
  },
  "language_info": {
   "codemirror_mode": {
    "name": "ipython",
    "version": 3
   },
   "file_extension": ".py",
   "mimetype": "text/x-python",
   "name": "python",
   "nbconvert_exporter": "python",
   "pygments_lexer": "ipython3",
   "version": "3.9.5"
  }
 },
 "nbformat": 4,
 "nbformat_minor": 5
}
