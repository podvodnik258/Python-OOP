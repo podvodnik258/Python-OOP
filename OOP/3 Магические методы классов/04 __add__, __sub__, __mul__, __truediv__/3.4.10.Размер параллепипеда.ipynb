{
 "cells": [
  {
   "cell_type": "code",
   "execution_count": null,
   "id": "bffe228e-7594-4b97-97c7-06dc427d8d4f",
   "metadata": {},
   "outputs": [],
   "source": [
    "class Box3D:\n",
    "    def __init__(self, width, height, depth):\n",
    "        self.width = width\n",
    "        self.height = height\n",
    "        self.depth = depth\n",
    "    \n",
    "    def __add__(self, other):\n",
    "        width, height, depth = (self.width + other.width, self.height + other.height, self.depth + other.depth)\n",
    "        return Box3D(width, height, depth)\n",
    "    \n",
    "    def __mul__(self, other):\n",
    "        width, height, depth = (self.width * other, self.height * other, self.depth * other)\n",
    "        return Box3D(width, height, depth)\n",
    "    \n",
    "    def __rmul__(self, other):\n",
    "        return self * other\n",
    "    \n",
    "    def __sub__(self, other):\n",
    "        width, height, depth = (self.width - other.width, self.height - other.height, self.depth - other.depth)\n",
    "        return Box3D(width, height, depth)\n",
    "    \n",
    "    def __floordiv__(self, other):\n",
    "        width, height, depth = (self.width // other, self.height // other, self.depth // other)\n",
    "        return Box3D(width, height, depth)\n",
    "    \n",
    "    def __mod__(self, other):\n",
    "        width, height, depth = (self.width % other, self.height % other, self.depth % other)\n",
    "        return Box3D(width, height, depth)"
   ]
  }
 ],
 "metadata": {
  "kernelspec": {
   "display_name": "Python 3 (ipykernel)",
   "language": "python",
   "name": "python3"
  },
  "language_info": {
   "codemirror_mode": {
    "name": "ipython",
    "version": 3
   },
   "file_extension": ".py",
   "mimetype": "text/x-python",
   "name": "python",
   "nbconvert_exporter": "python",
   "pygments_lexer": "ipython3",
   "version": "3.9.5"
  }
 },
 "nbformat": 4,
 "nbformat_minor": 5
}
