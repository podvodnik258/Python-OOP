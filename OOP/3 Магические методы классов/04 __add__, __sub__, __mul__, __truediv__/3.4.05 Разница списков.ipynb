{
 "cells": [
  {
   "cell_type": "code",
   "execution_count": 4,
   "id": "410a2840-d22c-4a64-b992-472165755446",
   "metadata": {},
   "outputs": [],
   "source": [
    "class NewList:\n",
    "    def __init__(self, args=list()):\n",
    "        self.nums = args\n",
    "\n",
    "    @staticmethod\n",
    "    def diff(first, second):\n",
    "        first = [(type(x), x) for x in first.nums]\n",
    "        second = [(type(x), x) for x in second.nums]\n",
    "        for x in second:\n",
    "            if x in first:\n",
    "                del first[first.index(x)]\n",
    "        return [x[1] for x in first]\n",
    "\n",
    "    @classmethod\n",
    "    def test(cls, x):\n",
    "        return cls(x) if type(x) == list else x\n",
    "\n",
    "    def __sub__(self, second_list):\n",
    "        return self.__class__(self.diff(self, self.test(second_list)))\n",
    "\n",
    "    def __isub__(self, second_list):\n",
    "        return self.__sub__(second_list)\n",
    "\n",
    "    def __rsub__(self, first_list):\n",
    "        return self.__class__(self.diff(self.test(first_list), self))\n",
    "\n",
    "    def get_list(self):\n",
    "        return self.nums"
   ]
  },
  {
   "cell_type": "code",
   "execution_count": 13,
   "id": "715035d2-58d7-4ee5-b5c8-7762e474f5be",
   "metadata": {},
   "outputs": [],
   "source": [
    "class NewList:\n",
    "    def __init__(self, lst=[]):\n",
    "        self.lst = lst\n",
    "\n",
    "    def get_list(self):\n",
    "        return self.lst\n",
    "\n",
    "    def __prepare(self, other):\n",
    "        return other.get_list() if isinstance(other, NewList) else other\n",
    "\n",
    "    def __isub__(self, other):\n",
    "        lst = self.__prepare(other)\n",
    "        self.lst = self.__get_sub(self.lst, lst)\n",
    "        return self\n",
    "\n",
    "    @classmethod\n",
    "    def __get_sub(cls, lst1, lst2):\n",
    "        lst2 = [(type(x), x) for x in lst2]\n",
    "        return [*filter(lambda x: (type(x), x) not in lst2, lst1)]\n",
    "\n",
    "    def __sub__(self, other):\n",
    "        lst = self.__prepare(other)\n",
    "        res = self.__get_sub(self.lst, lst)\n",
    "        return NewList(res)\n",
    "\n",
    "    def __rsub__(self, other):\n",
    "        lst = self.__prepare(other)\n",
    "        res = self.__get_sub(lst, self.lst)\n",
    "        return NewList(res)"
   ]
  },
  {
   "cell_type": "code",
   "execution_count": 12,
   "id": "c91c2c1e-27b4-4763-9ed3-0d437bace448",
   "metadata": {},
   "outputs": [],
   "source": [
    "class NewList:\n",
    "    def __init__(self, *args):\n",
    "        self.elements = list(*args)\n",
    "\n",
    "    def __sub__(self, other):\n",
    "        other = self.valid_operand(other)\n",
    "        return NewList(self.lists_difference(self.get_list(), other))\n",
    "\n",
    "    def __rsub__(self, other):\n",
    "        other = self.valid_operand(other)\n",
    "        return NewList(self.lists_difference(other, self.get_list()))\n",
    "\n",
    "    def __isub__(self, other):\n",
    "        other = self.valid_operand(other)\n",
    "        self.elements = self.lists_difference(self.get_list(), other)\n",
    "        return self\n",
    "\n",
    "    @staticmethod\n",
    "    def valid_operand(op):\n",
    "        if type(op) not in (list, NewList):\n",
    "            raise AttributeError('Неверный тип операнда')\n",
    "        if type(op) is NewList:\n",
    "            op = op.get_list()\n",
    "        return op\n",
    "\n",
    "    @staticmethod\n",
    "    def lists_difference(list_1, list_2):\n",
    "        for elem_2 in list_2:\n",
    "            for i, elem_1 in enumerate(list_1):\n",
    "                if elem_2 is elem_1:\n",
    "                    del list_1[i]\n",
    "                    break\n",
    "        return list_1\n",
    "\n",
    "\n",
    "    def get_list(self):\n",
    "        return self.elements.copy()"
   ]
  },
  {
   "cell_type": "code",
   "execution_count": 14,
   "id": "fddf768d-0a5b-4750-a7f0-cd9bbcb5b13c",
   "metadata": {},
   "outputs": [
    {
     "name": "stdout",
     "output_type": "stream",
     "text": [
      "-4 6 10 11 15 False\n",
      "[-4, 6, 10, 11, 15, False]\n",
      "[-4, 6, 10, 11, 15, False]\n",
      "1 2 3\n",
      "[1, 2, 3]\n",
      "4.5\n",
      "[4.5]\n"
     ]
    }
   ],
   "source": [
    "lst1 = NewList([1, 2, -4, 6, 10, 11, 15, False, True])\n",
    "lst2 = NewList([0, 1, 2, 3, True])\n",
    "res_1 = lst1 - lst2 # NewList: [-4, 6, 10, 11, 15, False]\n",
    "print(res_1.get_list())\n",
    "#lst1 -= lst2 # NewList: [-4, 6, 10, 11, 15, False]\n",
    "print(res_1.get_list())\n",
    "res_2 = lst2 - [0, True] # NewList: [1, 2, 3]\n",
    "print(res_2.get_list())\n",
    "res_3 = [1, 2, 3, 4.5] - res_2 # NewList: [4.5]\n",
    "print(res_3.get_list())"
   ]
  },
  {
   "cell_type": "code",
   "execution_count": 20,
   "id": "570cfcc2-4faa-46be-9c6a-3861a4dceecd",
   "metadata": {},
   "outputs": [
    {
     "data": {
      "text/plain": [
       "[-4, 6, 10, 11, 15, False, True, True, True]"
      ]
     },
     "execution_count": 20,
     "metadata": {},
     "output_type": "execute_result"
    }
   ],
   "source": [
    "lst1 = [1, 2, -4, 6, 10, 11, 15, False, True, True, True, True, True]\n",
    "lst2 = [0, 1, 2, 3, True, True]\n",
    "\n",
    "for elem_2 in lst2:\n",
    "    for i, elem_1 in enumerate(lst1):\n",
    "        if elem_2 is elem_1:\n",
    "            del lst1[i]\n",
    "            break\n",
    "lst1"
   ]
  },
  {
   "cell_type": "code",
   "execution_count": null,
   "id": "b8be411e-363a-4b60-86f5-c14b7a75d201",
   "metadata": {},
   "outputs": [],
   "source": []
  }
 ],
 "metadata": {
  "kernelspec": {
   "display_name": "Python 3 (ipykernel)",
   "language": "python",
   "name": "python3"
  },
  "language_info": {
   "codemirror_mode": {
    "name": "ipython",
    "version": 3
   },
   "file_extension": ".py",
   "mimetype": "text/x-python",
   "name": "python",
   "nbconvert_exporter": "python",
   "pygments_lexer": "ipython3",
   "version": "3.9.5"
  }
 },
 "nbformat": 4,
 "nbformat_minor": 5
}
