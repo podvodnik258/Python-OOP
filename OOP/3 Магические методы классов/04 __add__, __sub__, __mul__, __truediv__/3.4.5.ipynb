{
 "cells": [
  {
   "cell_type": "code",
   "execution_count": 30,
   "id": "410a2840-d22c-4a64-b992-472165755446",
   "metadata": {},
   "outputs": [],
   "source": [
    "class NewList:\n",
    "    def __init__(self, lst):\n",
    "        self.lst = lst\n",
    "        \n",
    "    def get_list(self):    \n",
    "        return self.lst\n",
    "    \n",
    "    def __sub__(self, other):\n",
    "        if isinstance(other, NewList):\n",
    "            other = other.lst\n",
    "        if isinstance(other, list):  \n",
    "            res = self.lst[:]\n",
    "            for i in other:\n",
    "                if i in res:\n",
    "                    res.remove(i)\n",
    "        return NewList(res)\n",
    "        \n",
    "    \n",
    "    def __isub__(self, other):\n",
    "        pass\n",
    "    \n",
    "    def __rsub__(self, other):\n",
    "        if isinstance(other, NewList):\n",
    "            other = other.lst\n",
    "        if isinstance(other, list):  \n",
    "            res = other[:]\n",
    "            for i in self.lst:\n",
    "                if i in res:\n",
    "                    res.remove(i)\n",
    "        return NewList(res)"
   ]
  },
  {
   "cell_type": "code",
   "execution_count": 31,
   "id": "715035d2-58d7-4ee5-b5c8-7762e474f5be",
   "metadata": {},
   "outputs": [
    {
     "data": {
      "text/plain": [
       "[-4, 6, 10, 11, 15]"
      ]
     },
     "execution_count": 31,
     "metadata": {},
     "output_type": "execute_result"
    }
   ],
   "source": [
    "lst1 = NewList([1, 2, -4, 6, 10, 11, 15, False, True])\n",
    "lst2 = NewList([0, 1, 2, 3, True])\n",
    "res_1 = lst1 - lst2 # NewList: [-4, 6, 10, 11, 15, False]\n",
    "res_1.lst"
   ]
  },
  {
   "cell_type": "code",
   "execution_count": 32,
   "id": "fddf768d-0a5b-4750-a7f0-cd9bbcb5b13c",
   "metadata": {},
   "outputs": [
    {
     "name": "stdout",
     "output_type": "stream",
     "text": [
      "[-4, 6, 10, 11, 15]\n",
      "[-4, 6, 10, 11, 15]\n",
      "[2, 3, True]\n",
      "[4.5]\n"
     ]
    }
   ],
   "source": [
    "lst1 = NewList([1, 2, -4, 6, 10, 11, 15, False, True])\n",
    "lst2 = NewList([0, 1, 2, 3, True])\n",
    "res_1 = lst1 - lst2 # NewList: [-4, 6, 10, 11, 15, False]\n",
    "print(res_1.get_list())\n",
    "#lst1 -= lst2 # NewList: [-4, 6, 10, 11, 15, False]\n",
    "print(res_1.get_list())\n",
    "res_2 = lst2 - [0, True] # NewList: [1, 2, 3]\n",
    "print(res_2.get_list())\n",
    "res_3 = [1, 2, 3, 4.5] - res_2 # NewList: [4.5]\n",
    "print(res_3.get_list())"
   ]
  },
  {
   "cell_type": "code",
   "execution_count": 34,
   "id": "c1ed6e97-9228-4594-be1a-cf2f67ec16ec",
   "metadata": {},
   "outputs": [
    {
     "data": {
      "text/plain": [
       "True"
      ]
     },
     "execution_count": 34,
     "metadata": {},
     "output_type": "execute_result"
    }
   ],
   "source": [
    "1 == True"
   ]
  },
  {
   "cell_type": "code",
   "execution_count": null,
   "id": "d85c87a6-da96-421f-9a55-7988a74e96c0",
   "metadata": {},
   "outputs": [],
   "source": []
  }
 ],
 "metadata": {
  "kernelspec": {
   "display_name": "Python 3 (ipykernel)",
   "language": "python",
   "name": "python3"
  },
  "language_info": {
   "codemirror_mode": {
    "name": "ipython",
    "version": 3
   },
   "file_extension": ".py",
   "mimetype": "text/x-python",
   "name": "python",
   "nbconvert_exporter": "python",
   "pygments_lexer": "ipython3",
   "version": "3.9.5"
  }
 },
 "nbformat": 4,
 "nbformat_minor": 5
}
