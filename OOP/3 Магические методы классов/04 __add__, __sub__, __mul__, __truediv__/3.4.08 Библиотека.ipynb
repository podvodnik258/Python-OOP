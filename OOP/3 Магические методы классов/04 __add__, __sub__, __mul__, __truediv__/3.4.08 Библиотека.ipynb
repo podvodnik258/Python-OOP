{
 "cells": [
  {
   "cell_type": "code",
   "execution_count": null,
   "id": "9aec099f-b03a-4117-b681-534ecaa1d4b3",
   "metadata": {},
   "outputs": [],
   "source": [
    "class Lib:\n",
    "    def __init__(self):\n",
    "        self.book_list = []\n",
    "        \n",
    "    def __add__(self, obj):\n",
    "        self.book_list.append(obj)\n",
    "        return self\n",
    "\n",
    "    def __sub__(self, obj):\n",
    "        if type(obj) is Book:\n",
    "            self.book_list.remove(obj)\n",
    "        if type(obj) == int:\n",
    "            del self.book_list[obj]\n",
    "        return self\n",
    "    \n",
    "    def __len__(self):\n",
    "        return len(self.book_list)\n",
    "    \n",
    "class Book:\n",
    "    def __init__(self, title, author, year):\n",
    "        self.title = title\n",
    "        self.author = author\n",
    "        self.year = year\n",
    "        \n",
    "    def __setattr__(self, key, value):\n",
    "        if (key in ('title', 'author') and type(value) == str\n",
    "           or key in ('year',) and type(value) == int ):\n",
    "            super().__setattr__(key, value)"
   ]
  },
  {
   "cell_type": "code",
   "execution_count": null,
   "id": "713ae82f-3a5b-42ee-a0e2-135bf1e66b21",
   "metadata": {},
   "outputs": [],
   "source": [
    "lib = Lib()\n",
    "lib = lib + book # добавление новой книги в библиотеку\n",
    "lib += book\n",
    "\n",
    "lib = lib - book # удаление книги book из библиотеки (удаление происходит по ранее созданному объекту book класса Book)\n",
    "lib -= book\n",
    "\n",
    "lib = lib - indx # удаление книги по ее порядковому номеру (индексу: отсчет начинается с нуля)\n",
    "lib -= indx"
   ]
  }
 ],
 "metadata": {
  "kernelspec": {
   "display_name": "Python 3 (ipykernel)",
   "language": "python",
   "name": "python3"
  },
  "language_info": {
   "codemirror_mode": {
    "name": "ipython",
    "version": 3
   },
   "file_extension": ".py",
   "mimetype": "text/x-python",
   "name": "python",
   "nbconvert_exporter": "python",
   "pygments_lexer": "ipython3",
   "version": "3.9.5"
  }
 },
 "nbformat": 4,
 "nbformat_minor": 5
}
