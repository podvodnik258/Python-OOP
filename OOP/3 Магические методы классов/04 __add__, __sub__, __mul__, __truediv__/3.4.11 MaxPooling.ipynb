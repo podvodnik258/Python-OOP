{
 "cells": [
  {
   "cell_type": "code",
   "execution_count": 3,
   "id": "e7cd0168-c719-4d63-acdc-cc6ee6c32fa1",
   "metadata": {},
   "outputs": [],
   "source": [
    "class MaxPooling:\n",
    "    def __init__(self, step=(2, 2), size=(2,2)):\n",
    "        self.step = step\n",
    "        self.size = size\n",
    "    \n",
    "    @classmethod\n",
    "    def chek_matrix(cls, matrix):\n",
    "        if not all(all(map(lambda x: type(x) in (int, float), row)) for row in matrix) :\n",
    "            raise ValueError(\"Неверный формат для первого параметра matrix.\")\n",
    "        if not len(matrix) == len(list(filter(lambda x: x == len(matrix[0]), list(len(row) for row in matrix)))):\n",
    "            raise ValueError(\"Неверный формат для первого параметра matrix.\")\n",
    "    \n",
    "    def get_max(self, matrix, *pos):\n",
    "        i, j = pos\n",
    "        return max(max(matrix[row][j:j+self.size[1]]) for row in range(i, i+self.size[0]))\n",
    "        \n",
    "    def __call__(self, matrix):\n",
    "        self.chek_matrix(matrix)\n",
    "        res = []\n",
    "        i = 0\n",
    "        while i + self.size[0] <= len(matrix):\n",
    "            j = 0\n",
    "            res.append([])\n",
    "            while j + self.size[1] <= len(matrix[0]):\n",
    "                res[-1].append(self.get_max(matrix, i, j))\n",
    "                j += self.step[1]\n",
    "            i += self.step[0]   \n",
    "        return res\n",
    "    \n",
    "    \n"
   ]
  },
  {
   "cell_type": "code",
   "execution_count": 4,
   "id": "e5aa2e17-cd2b-4e1c-8210-17f5646a73b1",
   "metadata": {},
   "outputs": [
    {
     "data": {
      "text/plain": [
       "[[9, 8, 9], [9, 8, 9], [9, 8, 8]]"
      ]
     },
     "execution_count": 4,
     "metadata": {},
     "output_type": "execute_result"
    }
   ],
   "source": [
    "mp = MaxPooling(step=(1, 1), size=(3,3))\n",
    "res = mp([[1, 2, 3, 4, 8], [5, 6, 7, 8, 9], [9, 8, 7, 6, 8], [5, 4, 3, 2, 7], [9, 8, 7, 6, 6]])    # [[6, 8], [9, 7]]\n",
    "res"
   ]
  },
  {
   "cell_type": "code",
   "execution_count": null,
   "id": "d9f2f9cf-f04b-45a3-96cd-dd99de18d7e1",
   "metadata": {},
   "outputs": [],
   "source": []
  },
  {
   "cell_type": "code",
   "execution_count": null,
   "id": "aab6c4ec-fdb2-40f8-a426-863602328b8d",
   "metadata": {},
   "outputs": [],
   "source": [
    "    \n",
    "step=(2, 2)\n",
    "size=(2,2)\n",
    "i, j = 1, 0\n",
    "matrix = [[1, 2, 3, 4], [5, 5, 3, 8], [9, 8, 7, 6], [5, 4, 3, 2]]\n",
    "max(max(matrix[row][j:j+size[1]]) for row in range(i, i+size[0]))\n"
   ]
  },
  {
   "cell_type": "code",
   "execution_count": null,
   "id": "a26eb230-378b-4744-af81-2487065eec50",
   "metadata": {},
   "outputs": [],
   "source": [
    "[,]"
   ]
  },
  {
   "cell_type": "code",
   "execution_count": null,
   "id": "a67628d9-8ed9-4e64-8004-20d81cbacd0c",
   "metadata": {},
   "outputs": [],
   "source": []
  }
 ],
 "metadata": {
  "kernelspec": {
   "display_name": "Python 3 (ipykernel)",
   "language": "python",
   "name": "python3"
  },
  "language_info": {
   "codemirror_mode": {
    "name": "ipython",
    "version": 3
   },
   "file_extension": ".py",
   "mimetype": "text/x-python",
   "name": "python",
   "nbconvert_exporter": "python",
   "pygments_lexer": "ipython3",
   "version": "3.9.5"
  }
 },
 "nbformat": 4,
 "nbformat_minor": 5
}
