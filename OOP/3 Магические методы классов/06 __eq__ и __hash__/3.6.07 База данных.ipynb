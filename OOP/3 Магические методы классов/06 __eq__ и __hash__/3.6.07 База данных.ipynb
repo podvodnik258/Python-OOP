{
 "cells": [
  {
   "cell_type": "code",
   "execution_count": 69,
   "id": "7c08e15b-0a78-4d15-a200-346a1fc6d116",
   "metadata": {},
   "outputs": [],
   "source": [
    "class DataBase:\n",
    "    def __init__(self, path):\n",
    "        self.path = path\n",
    "        self.dict_db = {}\n",
    "    \n",
    "    @staticmethod\n",
    "    def get_rec_by_hash(pattern, lst):\n",
    "        res = list(filter(lambda x: hash(x) == hash(pattern), lst))\n",
    "        if res:\n",
    "            pattern = res[0]\n",
    "        return pattern\n",
    "    \n",
    "    def write(self, record):\n",
    "        equal = self.get_rec_by_hash(record, self.dict_db.keys()) # не обязательно. см. ниже\n",
    "        self.dict_db.setdefault(equal, []).append(record)\n",
    "    \n",
    "    def read(self, pk):\n",
    "        for rec in self.dict_db:\n",
    "            res = list(filter(lambda x: abs(x) == pk, self.dict_db[rec]))\n",
    "            if res:\n",
    "                return res[0]\n",
    "         \n",
    "        \n",
    "        \n",
    "class Record:\n",
    "    __count = 0\n",
    "    \n",
    "    def __new__(cls, *args, **kwargs):\n",
    "        cls.__count += 1\n",
    "        return super().__new__(cls)\n",
    "        \n",
    "    def __init__(self, *args):\n",
    "        self.pk = self.__count\n",
    "        self.fio, self.descr, self.old = args\n",
    "    \n",
    "    def __abs__(self):\n",
    "        return self.pk\n",
    "        \n",
    "    def __eq__(self, other):\n",
    "        return hash(self) == hash(other)\n",
    "    \n",
    "    def __hash__(self):\n",
    "        return hash((self.fio, self.old))      \n",
    "        \n",
    "        \n",
    "        "
   ]
  },
  {
   "cell_type": "code",
   "execution_count": 9,
   "id": "25684b0b-2d0c-4e6f-9170-2e5f9f17766c",
   "metadata": {},
   "outputs": [],
   "source": [
    "import sys\n",
    "\n",
    "\n",
    "# здесь объявляйте классы\n",
    "class DataBase:\n",
    "    def __init__(self, path: str):\n",
    "        self.path = path\n",
    "        self.dict_db = {}\n",
    "\n",
    "    def write(self, record):\n",
    "        self.dict_db.setdefault(record, []).append(record)\n",
    "\n",
    "    def read(self, pk):\n",
    "        for j in self.dict_db.values():\n",
    "            for i in j:\n",
    "                if i.pk == pk: return i\n",
    "        return None\n",
    "\n",
    "\n",
    "class Record:\n",
    "    CURR_INDEX = 0\n",
    "\n",
    "    def __init__(self, fio: str, descr: str, old: int):\n",
    "        Record.CURR_INDEX += 1\n",
    "        self.pk = Record.CURR_INDEX\n",
    "        self.fio = fio\n",
    "        self.descr = descr\n",
    "        self.old = int(old)\n",
    "\n",
    "    def __hash__(self):\n",
    "        return hash((self.fio.lower(), self.old))\n",
    "\n",
    "    def __eq__(self, other):\n",
    "        return hash(self) == hash(other)\n",
    "\n",
    "\n",
    "# считывание списка из входного потока\n",
    "lst_in = ['Балакирев С.М.; программист; 33',\n",
    "             'Кузнецов А.В.; разведчик-нелегал; 35',\n",
    "             'Суворов А.В.; полководец; 42',\n",
    "             'Иванов И.И.; фигурант всех подобных списков; 26',\n",
    "             'Балакирев С.М.; преподаватель; 33']\n",
    "\n",
    "\n",
    "#lst_in = list(map(str.strip, s))  # список lst_in не менять!\n",
    "# здесь продолжайте программу (используйте список строк lst_in)\n",
    "db = DataBase('123')\n",
    "\n",
    "for i in lst_in:\n",
    "    fio, descr, age = i.split('; ')\n",
    "    obj = Record(fio, descr, age)\n",
    "    db.write(obj)"
   ]
  },
  {
   "cell_type": "code",
   "execution_count": 5,
   "id": "bc18482c-26ec-4ac2-93aa-9c3a3b7b0a9b",
   "metadata": {},
   "outputs": [],
   "source": [
    "db = DataBase('path')\n",
    "rec1 = Record('Балакирев С.М.',  'программист', 33)\n",
    "rec2 = Record('Кузнецов Н.И.',  'разведчик-нелегал', 35)\n",
    "rec3 = Record('Суворов А.В.',  'полководец', 42)\n",
    "rec4 = Record('Иванов И.И.',  'фигурант всех подобных списков', 26)\n",
    "rec5 = Record('Балакирев С.М.',  'преподаватель', 33)\n",
    "recs = [rec1, rec2, rec3, rec4, rec5]\n",
    "\n",
    "for rec in recs:\n",
    "    db.write(rec)\n",
    "    "
   ]
  },
  {
   "cell_type": "code",
   "execution_count": 6,
   "id": "77793828-d53b-476e-832a-de3b8050e0a0",
   "metadata": {},
   "outputs": [
    {
     "data": {
      "text/plain": [
       "{'path': 'path',\n",
       " 'dict_db': {<__main__.Record at 0x26414c69be0>: [<__main__.Record at 0x26414c69be0>,\n",
       "   <__main__.Record at 0x26414c696d0>],\n",
       "  <__main__.Record at 0x26414c69730>: [<__main__.Record at 0x26414c69730>],\n",
       "  <__main__.Record at 0x26414c69f40>: [<__main__.Record at 0x26414c69f40>],\n",
       "  <__main__.Record at 0x26414c69700>: [<__main__.Record at 0x26414c69700>]}}"
      ]
     },
     "execution_count": 6,
     "metadata": {},
     "output_type": "execute_result"
    }
   ],
   "source": [
    "db.__dict__"
   ]
  },
  {
   "cell_type": "code",
   "execution_count": 7,
   "id": "4007d04b-af06-4e6c-a455-d0bba3b97ab4",
   "metadata": {},
   "outputs": [
    {
     "data": {
      "text/plain": [
       "<__main__.Record at 0x26414c696d0>"
      ]
     },
     "execution_count": 7,
     "metadata": {},
     "output_type": "execute_result"
    }
   ],
   "source": [
    "db.read(5)"
   ]
  },
  {
   "cell_type": "code",
   "execution_count": null,
   "id": "e3e95af5-f375-4766-a6ab-e7c57a2f9a4c",
   "metadata": {},
   "outputs": [],
   "source": []
  }
 ],
 "metadata": {
  "kernelspec": {
   "display_name": "Python 3 (ipykernel)",
   "language": "python",
   "name": "python3"
  },
  "language_info": {
   "codemirror_mode": {
    "name": "ipython",
    "version": 3
   },
   "file_extension": ".py",
   "mimetype": "text/x-python",
   "name": "python",
   "nbconvert_exporter": "python",
   "pygments_lexer": "ipython3",
   "version": "3.9.5"
  }
 },
 "nbformat": 4,
 "nbformat_minor": 5
}
