{
 "cells": [
  {
   "cell_type": "code",
   "execution_count": 3,
   "id": "dd0e0689-cfd8-4446-acd9-0eede9881609",
   "metadata": {},
   "outputs": [],
   "source": [
    "class Rect:\n",
    "    def __init__(self, *args):\n",
    "        self.x, self.y, self.width, self.height = args\n",
    "    \n",
    "    def __setter__(self, key, val):\n",
    "        if type(val) in (int, float):\n",
    "            super().__setter__(key, val)\n",
    "            \n",
    "    def __eq__(self, other): \n",
    "        return self.width == other.width and self.height == other.height\n",
    "    \n",
    "    def __hash__(self):\n",
    "        return hash((self.width, self.height))\n",
    "    "
   ]
  },
  {
   "cell_type": "code",
   "execution_count": 4,
   "id": "2424a523-d3b1-4cfc-90c2-0c67af877adc",
   "metadata": {},
   "outputs": [],
   "source": [
    "r1 = Rect(10, 5, 100, 50)\n",
    "r2 = Rect(-10, 4, 100, 50)\n",
    "\n",
    "h1, h2 = hash(r1), hash(r2)   # h1 == h2"
   ]
  },
  {
   "cell_type": "code",
   "execution_count": 5,
   "id": "680788e9-7965-4fe2-92af-9610e249b972",
   "metadata": {},
   "outputs": [
    {
     "data": {
      "text/plain": [
       "True"
      ]
     },
     "execution_count": 5,
     "metadata": {},
     "output_type": "execute_result"
    }
   ],
   "source": [
    "h1 == h2"
   ]
  },
  {
   "cell_type": "code",
   "execution_count": null,
   "id": "2b9ff22c-bf40-445a-a7e6-b29c333356c9",
   "metadata": {},
   "outputs": [],
   "source": []
  }
 ],
 "metadata": {
  "kernelspec": {
   "display_name": "Python 3 (ipykernel)",
   "language": "python",
   "name": "python3"
  },
  "language_info": {
   "codemirror_mode": {
    "name": "ipython",
    "version": 3
   },
   "file_extension": ".py",
   "mimetype": "text/x-python",
   "name": "python",
   "nbconvert_exporter": "python",
   "pygments_lexer": "ipython3",
   "version": "3.9.5"
  }
 },
 "nbformat": 4,
 "nbformat_minor": 5
}
