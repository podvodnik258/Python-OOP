{
 "cells": [
  {
   "cell_type": "code",
   "execution_count": 70,
   "id": "56327467-7063-426b-abe0-91a841b3762e",
   "metadata": {},
   "outputs": [],
   "source": [
    "class Dimensions:\n",
    "    def __new__(cls, *args, **kwargs):\n",
    "        if not all((map(cls.validate, args))):\n",
    "            raise ValueError(\"габаритные размеры должны быть положительными числами\")\n",
    "        return super().__new__(cls)\n",
    "        \n",
    "    def __init__(self, *args):\n",
    "        self.a, self.b, self.c = args\n",
    "        \n",
    "    @classmethod\n",
    "    def validate(cls, arg):\n",
    "        return type(arg) in (int, float) and arg >= 0\n",
    "    \n",
    "    def __hash__(self):\n",
    "        return hash((self.a, self.b, self.c))"
   ]
  },
  {
   "cell_type": "code",
   "execution_count": 77,
   "id": "cf394df1-3ee5-4f45-8a8a-aaba9c9ffe2e",
   "metadata": {},
   "outputs": [
    {
     "name": "stdout",
     "output_type": "stream",
     "text": [
      "-7913449812699034184\n",
      "-720341356606421504\n",
      "529344067295497451\n",
      "529344067295497451\n"
     ]
    }
   ],
   "source": [
    "inp = '1 2 3; 4 5 6.78; 1 2 3; 0 1 2.5'\n",
    "lst = list(tuple(map(float, l.strip().split())) for l in inp.split(';'))\n",
    "lst_dims = list(Dimensions(*arg) for arg in lst)\n",
    "lst_dims = sorted(lst_dims, key = lambda x: hash(x))\n"
   ]
  },
  {
   "cell_type": "code",
   "execution_count": 72,
   "id": "838ae04e-6e8a-45b2-8187-bf16b5116c37",
   "metadata": {},
   "outputs": [
    {
     "data": {
      "text/plain": [
       "[[1.0, 2.0, 3.0], [4.0, 5.0, 6.78], [1.0, 2.0, 3.0], [0.0, 1.0, 2.5]]"
      ]
     },
     "execution_count": 72,
     "metadata": {},
     "output_type": "execute_result"
    }
   ],
   "source": [
    "list(list(map(float, l.strip().split())) for l in inp.split(';'))"
   ]
  },
  {
   "cell_type": "code",
   "execution_count": 73,
   "id": "18681b3f-42cc-4ef7-a7c8-a6fdf82cfbff",
   "metadata": {},
   "outputs": [],
   "source": [
    "a = [1.0, 2.0, 3.0]\n",
    "b = Dimensions(*a)"
   ]
  },
  {
   "cell_type": "code",
   "execution_count": 74,
   "id": "9a39938a-4459-4f37-98b6-2ce83fea9b3c",
   "metadata": {},
   "outputs": [
    {
     "data": {
      "text/plain": [
       "{'a': 1.0, 'b': 2.0, 'c': 3.0}"
      ]
     },
     "execution_count": 74,
     "metadata": {},
     "output_type": "execute_result"
    }
   ],
   "source": [
    "b.__dict__"
   ]
  },
  {
   "cell_type": "code",
   "execution_count": null,
   "id": "753f4849-67ec-4523-a0a2-a701ceef2a05",
   "metadata": {},
   "outputs": [],
   "source": []
  }
 ],
 "metadata": {
  "kernelspec": {
   "display_name": "Python 3 (ipykernel)",
   "language": "python",
   "name": "python3"
  },
  "language_info": {
   "codemirror_mode": {
    "name": "ipython",
    "version": 3
   },
   "file_extension": ".py",
   "mimetype": "text/x-python",
   "name": "python",
   "nbconvert_exporter": "python",
   "pygments_lexer": "ipython3",
   "version": "3.9.5"
  }
 },
 "nbformat": 4,
 "nbformat_minor": 5
}
