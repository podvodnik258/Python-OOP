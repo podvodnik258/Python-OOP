{
 "cells": [
  {
   "cell_type": "code",
   "execution_count": 31,
   "id": "b58b6ca7-0f41-4a2e-8a05-af1eb5291388",
   "metadata": {},
   "outputs": [
    {
     "data": {
      "text/plain": [
       "2"
      ]
     },
     "execution_count": 31,
     "metadata": {},
     "output_type": "execute_result"
    }
   ],
   "source": [
    "import sys\n",
    "\n",
    "# здесь объявляйте класс\n",
    "class BookStudy:\n",
    "    def __init__(self, name, author, year):\n",
    "        self.name = name\n",
    "        self.author = author\n",
    "        self.year = int(year)\n",
    "\n",
    "    def __hash__(self):\n",
    "        return hash((self.name.lower(), self.author.lower()))\n",
    "\n",
    "# считывание списка из входного потока\n",
    "lst_in = [  'Python; Балакирев С.М.; 2020',\n",
    "            'Python ООП; Балакирев С.М.; 2021',\n",
    "            'Python ООП; Балакирев С.М.; 2022',\n",
    "            'Python; Балакирев С.М.; 2021']\n",
    "\n",
    "# здесь продолжайте программу (используйте список строк lst_in)\n",
    "lst_bs = [BookStudy(*line.split('; ')) for line in lst_in]\n",
    "unique_books = len(set(map(hash, lst_bs)))\n",
    "unique_books"
   ]
  },
  {
   "cell_type": "code",
   "execution_count": 29,
   "id": "784ea3e8-2c57-441d-82e6-f96000923a8a",
   "metadata": {},
   "outputs": [
    {
     "name": "stdout",
     "output_type": "stream",
     "text": [
      "Python Балакирев С.М. 2020\n",
      "Python ООП Балакирев С.М. 2021\n",
      "Python ООП Балакирев С.М. 2022\n",
      "Python Балакирев С.М. 2021\n",
      "[-7321939465856817802, -3444322975185974794, -3444322975185974794, -7321939465856817802]\n"
     ]
    }
   ],
   "source": [
    "class BookStudy:\n",
    "    def __init__(self, name, author, year):\n",
    "        self.name = name\n",
    "        self.author = author \n",
    "        self.year = int(year)\n",
    "        \n",
    "    def __eq__(self, other): # не обязательно\n",
    "        return hash(self) == hash(other)\n",
    "    \n",
    "    def __hash__(self):\n",
    "        return hash((self.name.lower(), self.author.lower())) \n",
    "    \n",
    "# считывание списка из входного потока\n",
    "#lst_in = list(map(str.strip, sys.stdin.readlines()))  # список lst_in не менять!\n",
    "lst_in = [  'Python; Балакирев С.М.; 2020',\n",
    "            'Python ООП; Балакирев С.М.; 2021',\n",
    "            'Python ООП; Балакирев С.М.; 2022',\n",
    "            'Python; Балакирев С.М.; 2021']\n",
    "\n",
    "lst_bs = []\n",
    "\n",
    "for i in lst_in:\n",
    "    lst_bs.append(BookStudy(*i.split(';')))\n",
    "    print(*i.split('; '))\n",
    "\n",
    "print(list(hash(bs) for bs in lst_bs))\n",
    "unique_books = len(set(hash(bs) for bs in lst_bs))  "
   ]
  },
  {
   "cell_type": "code",
   "execution_count": 15,
   "id": "4dd4590b-c375-49dc-92f4-a8c7e7638269",
   "metadata": {},
   "outputs": [],
   "source": [
    "\n",
    "bs1 = BookStudy('Python',  'Балакирев С.М.', 2020)\n",
    "bs2 = BookStudy('Python ООП',  'Балакирев С.М.', 2021)\n",
    "bs3 = BookStudy('Python ООП',  'Балакирев С.М.', 2022)\n",
    "bs4 = BookStudy('Python',  'Балакирев С.М.', 2021)\n",
    "\n",
    "lst_bs = [bs1, bs2, bs3, bs4]\n",
    "\n",
    "unique_books = len(set(hash(bs) for bs in lst_bs))"
   ]
  },
  {
   "cell_type": "code",
   "execution_count": 13,
   "id": "e70ffae7-08a1-47ee-9869-34c4d821994c",
   "metadata": {},
   "outputs": [
    {
     "data": {
      "text/plain": [
       "2"
      ]
     },
     "execution_count": 13,
     "metadata": {},
     "output_type": "execute_result"
    }
   ],
   "source": [
    "unique_books"
   ]
  },
  {
   "cell_type": "code",
   "execution_count": 14,
   "id": "f961a009-27ed-46fd-9e6e-42ce1c203c69",
   "metadata": {},
   "outputs": [
    {
     "data": {
      "text/plain": [
       "{-7931427749790456846, 6637699833248251762}"
      ]
     },
     "execution_count": 14,
     "metadata": {},
     "output_type": "execute_result"
    }
   ],
   "source": [
    "unique"
   ]
  },
  {
   "cell_type": "code",
   "execution_count": null,
   "id": "3044ed18-ebdf-4901-ad50-512a1de174c9",
   "metadata": {},
   "outputs": [],
   "source": []
  }
 ],
 "metadata": {
  "kernelspec": {
   "display_name": "Python 3 (ipykernel)",
   "language": "python",
   "name": "python3"
  },
  "language_info": {
   "codemirror_mode": {
    "name": "ipython",
    "version": 3
   },
   "file_extension": ".py",
   "mimetype": "text/x-python",
   "name": "python",
   "nbconvert_exporter": "python",
   "pygments_lexer": "ipython3",
   "version": "3.9.5"
  }
 },
 "nbformat": 4,
 "nbformat_minor": 5
}
