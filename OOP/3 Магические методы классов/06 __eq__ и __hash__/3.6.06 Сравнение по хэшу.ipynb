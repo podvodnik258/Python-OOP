{
 "cells": [
  {
   "cell_type": "code",
   "execution_count": 70,
   "id": "f61607cd-dd1f-4d14-8e1c-7b6d1e6b774e",
   "metadata": {},
   "outputs": [],
   "source": [
    "lst_in = ['Системный блок: 1500 75890.56',\n",
    "        'Монитор Samsung: 2000 34000',\n",
    "        'Клавиатура: 200.44 545',\n",
    "        'Монитор Samsung: 2000 34000',\n",
    "        'Клавиатура: 200.44 545']\n",
    "lst_in = list([s.split(':')[0]] + (s.split(':')[-1]).split() for s in lst_in[:])"
   ]
  },
  {
   "cell_type": "code",
   "execution_count": 71,
   "id": "cdf34ab4-8ec6-4c0f-b89d-b96e6f1f74e1",
   "metadata": {},
   "outputs": [],
   "source": [
    "class ShopItem:\n",
    "    def __init__(self, name, weight, price):\n",
    "        self.name = name\n",
    "        self.weight = float(weight)\n",
    "        self.price = float(price)\n",
    "        \n",
    "    def __setattr__(self, key, val):\n",
    "        if (key in ('weight', 'price') and type(val) in (int, float)\n",
    "           or key == 'name' and type(val) is str):\n",
    "            super().__setattr__(key, val)\n",
    "            \n",
    "    def __eq__(self, other):\n",
    "        return hash(self) == hash(other)\n",
    "    \n",
    "    def __hash__(self):\n",
    "        return hash((self.name, self.weight, self.price))"
   ]
  },
  {
   "cell_type": "code",
   "execution_count": 72,
   "id": "18aa3b99-8d72-48ef-a374-1bef09562bd1",
   "metadata": {},
   "outputs": [],
   "source": [
    "it1 = ShopItem('Системный блок', '1500', '75890.56')\n",
    "it2 = ShopItem('Монитор Samsung', '2000', '34000')\n",
    "it3 = ShopItem('Клавиатура', '200.44', '545')\n",
    "it4 = ShopItem('Монитор Samsung', '2000', '34000')\n",
    "it5 = ShopItem('Клавиатура', '200.44', '545')"
   ]
  },
  {
   "cell_type": "code",
   "execution_count": 73,
   "id": "9bbb6987-358c-4fbb-b099-9dfc6a9aaa9d",
   "metadata": {},
   "outputs": [
    {
     "data": {
      "text/plain": [
       "True"
      ]
     },
     "execution_count": 73,
     "metadata": {},
     "output_type": "execute_result"
    }
   ],
   "source": [
    "hash(it2) == hash(it4)"
   ]
  },
  {
   "cell_type": "code",
   "execution_count": 74,
   "id": "d1d45271-c465-4b2f-b7a7-0959fc441815",
   "metadata": {},
   "outputs": [
    {
     "name": "stdout",
     "output_type": "stream",
     "text": [
      "-8144638508311448429\n",
      "небыло\n",
      "-8364086516590154416\n",
      "небыло\n",
      "-5656721874306325535\n",
      "небыло\n",
      "-8364086516590154416\n",
      "повтор\n",
      "-5656721874306325535\n",
      "повтор\n"
     ]
    }
   ],
   "source": [
    "\n",
    "shop_items = {}\n",
    "for s in lst_in:\n",
    "    item = ShopItem(*s)\n",
    "    print(hash(item))\n",
    "    if item not in shop_items:\n",
    "        print ('небыло')\n",
    "        shop_items[item] = [item, 1]\n",
    "    else:\n",
    "        print ('повтор')\n",
    "        shop_items[item][1] += 1"
   ]
  },
  {
   "cell_type": "code",
   "execution_count": 75,
   "id": "a6ce78f2-abc4-4502-9842-2e7820189f30",
   "metadata": {},
   "outputs": [
    {
     "data": {
      "text/plain": [
       "[-8364086516590154416, -5656721874306325535]"
      ]
     },
     "execution_count": 75,
     "metadata": {},
     "output_type": "execute_result"
    }
   ],
   "source": [
    "list(hash(v[0]) for k, v in shop_items.items() if v[1] ==2)"
   ]
  },
  {
   "cell_type": "code",
   "execution_count": 69,
   "id": "617d38c2-09cd-4ac3-9325-b612416899df",
   "metadata": {},
   "outputs": [
    {
     "data": {
      "text/plain": [
       "{<__main__.ShopItem at 0x219c2109430>: [<__main__.ShopItem at 0x219c2109430>,\n",
       "  1],\n",
       " <__main__.ShopItem at 0x219c20fb6a0>: [<__main__.ShopItem at 0x219c20fb6a0>,\n",
       "  2],\n",
       " <__main__.ShopItem at 0x219c20fb520>: [<__main__.ShopItem at 0x219c20fb520>,\n",
       "  2]}"
      ]
     },
     "execution_count": 69,
     "metadata": {},
     "output_type": "execute_result"
    }
   ],
   "source": [
    "shop_items"
   ]
  },
  {
   "cell_type": "code",
   "execution_count": null,
   "id": "00053a11-e187-45e8-ba78-024f9baebf3b",
   "metadata": {},
   "outputs": [],
   "source": []
  },
  {
   "cell_type": "code",
   "execution_count": null,
   "id": "73f661c8-6938-4d26-adc4-8c8344415856",
   "metadata": {},
   "outputs": [],
   "source": []
  },
  {
   "cell_type": "code",
   "execution_count": null,
   "id": "ba820058-deb3-46a9-9eb5-d8b257a9e3f8",
   "metadata": {},
   "outputs": [],
   "source": []
  }
 ],
 "metadata": {
  "kernelspec": {
   "display_name": "Python 3 (ipykernel)",
   "language": "python",
   "name": "python3"
  },
  "language_info": {
   "codemirror_mode": {
    "name": "ipython",
    "version": 3
   },
   "file_extension": ".py",
   "mimetype": "text/x-python",
   "name": "python",
   "nbconvert_exporter": "python",
   "pygments_lexer": "ipython3",
   "version": "3.9.5"
  }
 },
 "nbformat": 4,
 "nbformat_minor": 5
}
