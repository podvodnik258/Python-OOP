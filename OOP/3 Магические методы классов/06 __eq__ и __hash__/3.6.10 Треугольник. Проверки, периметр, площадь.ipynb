{
 "cells": [
  {
   "cell_type": "code",
   "execution_count": 92,
   "id": "33d7ce92-bdf2-4a96-ae4f-33611e51b6a2",
   "metadata": {},
   "outputs": [
    {
     "name": "stdout",
     "output_type": "stream",
     "text": [
      "12\n",
      "6.0\n"
     ]
    }
   ],
   "source": [
    "class Triangle:\n",
    "    def __init__(self, *args):\n",
    "        self.a, self.b, self.c = args\n",
    "        self.is_triangle(*args)\n",
    "    \n",
    "    def __setattr__(self, key, val):\n",
    "        if not (type(val) in (int, float) and val > 0):\n",
    "            raise ValueError(\"длины сторон треугольника должны быть положительными числами\")\n",
    "        return super().__setattr__(key, val)\n",
    "\n",
    "    @classmethod\n",
    "    def is_triangle(cls, *args):\n",
    "        if (max(args) * 2 >= sum(args)):\n",
    "            raise ValueError(\"с указанными длинами нельзя образовать треугольник\")\n",
    "    \n",
    "    def __len__(self):\n",
    "        return self.a + self.b + self.c\n",
    "    \n",
    "    def __call__(self):\n",
    "        p = len(self) / 2\n",
    "        return (p * (p - self.a) * (p - self.b) * (p - self.c)) ** 0.5\n",
    "    \n",
    "tr = Triangle(3, 4, 5)  \n",
    "print(len(tr))\n",
    "print(tr())"
   ]
  },
  {
   "cell_type": "code",
   "execution_count": 91,
   "id": "429605eb-cde1-4b56-80ef-1a97cd6b6ed5",
   "metadata": {},
   "outputs": [
    {
     "data": {
      "text/plain": [
       "{'a': 3, 'b': 4, 'c': 5}"
      ]
     },
     "execution_count": 91,
     "metadata": {},
     "output_type": "execute_result"
    }
   ],
   "source": [
    "tr = Triangle(3, 4, 5)\n",
    "tr.__dict__"
   ]
  },
  {
   "cell_type": "code",
   "execution_count": 53,
   "id": "1b5e0275-8ef2-42b2-9616-9614a3a7f689",
   "metadata": {},
   "outputs": [
    {
     "data": {
      "text/plain": [
       "4"
      ]
     },
     "execution_count": 53,
     "metadata": {},
     "output_type": "execute_result"
    }
   ],
   "source": [
    "len(tr)"
   ]
  },
  {
   "cell_type": "code",
   "execution_count": 54,
   "id": "15595a1e-3d30-4ac2-bbcd-ba01586820e4",
   "metadata": {},
   "outputs": [
    {
     "name": "stdout",
     "output_type": "stream",
     "text": [
      "2.0\n"
     ]
    },
    {
     "data": {
      "text/plain": [
       "0.0"
      ]
     },
     "execution_count": 54,
     "metadata": {},
     "output_type": "execute_result"
    }
   ],
   "source": [
    "tr()"
   ]
  },
  {
   "cell_type": "code",
   "execution_count": null,
   "id": "853f2da8-b7d0-4388-bbeb-d420ea76175a",
   "metadata": {},
   "outputs": [],
   "source": []
  },
  {
   "cell_type": "code",
   "execution_count": null,
   "id": "832b027a-d267-4757-bcb9-31ef7f7378be",
   "metadata": {},
   "outputs": [],
   "source": []
  }
 ],
 "metadata": {
  "kernelspec": {
   "display_name": "Python 3 (ipykernel)",
   "language": "python",
   "name": "python3"
  },
  "language_info": {
   "codemirror_mode": {
    "name": "ipython",
    "version": 3
   },
   "file_extension": ".py",
   "mimetype": "text/x-python",
   "name": "python",
   "nbconvert_exporter": "python",
   "pygments_lexer": "ipython3",
   "version": "3.9.5"
  }
 },
 "nbformat": 4,
 "nbformat_minor": 5
}
