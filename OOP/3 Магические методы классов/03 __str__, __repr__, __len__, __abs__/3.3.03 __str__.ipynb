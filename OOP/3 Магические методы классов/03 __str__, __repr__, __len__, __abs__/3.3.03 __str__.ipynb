{
 "cells": [
  {
   "cell_type": "code",
   "execution_count": 12,
   "id": "280a93da-47e4-43d3-8ac8-1a68b4738d40",
   "metadata": {},
   "outputs": [],
   "source": [
    "class Book:\n",
    "    def __init__(self, title: str, author: str, pages: int):\n",
    "        self.title = title\n",
    "        self.author = author\n",
    "        self.pages = pages\n",
    "        \n",
    "    def __str__(self):\n",
    "        return f'Книга: {self.title}; {self.author}; {self.pages}'"
   ]
  },
  {
   "cell_type": "code",
   "execution_count": 13,
   "id": "783a8438-84ec-4dd0-93ac-c8ab8bf18828",
   "metadata": {},
   "outputs": [
    {
     "name": "stdout",
     "output_type": "stream",
     "text": [
      "Книга: Python ООП; Балакирев С.М.; 1024\n"
     ]
    }
   ],
   "source": [
    "book = Book('Python ООП', 'Балакирев С.М.', 1024)\n",
    "print(book)"
   ]
  },
  {
   "cell_type": "code",
   "execution_count": null,
   "id": "4f53515c-3dbe-4a16-8e4d-d6314b991431",
   "metadata": {},
   "outputs": [],
   "source": []
  }
 ],
 "metadata": {
  "kernelspec": {
   "display_name": "Python 3 (ipykernel)",
   "language": "python",
   "name": "python3"
  },
  "language_info": {
   "codemirror_mode": {
    "name": "ipython",
    "version": 3
   },
   "file_extension": ".py",
   "mimetype": "text/x-python",
   "name": "python",
   "nbconvert_exporter": "python",
   "pygments_lexer": "ipython3",
   "version": "3.9.5"
  }
 },
 "nbformat": 4,
 "nbformat_minor": 5
}
