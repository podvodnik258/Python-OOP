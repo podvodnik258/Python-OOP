{
 "cells": [
  {
   "cell_type": "code",
   "execution_count": 24,
   "id": "ce1eb847-844b-40a9-bd23-f92ef80152da",
   "metadata": {},
   "outputs": [],
   "source": [
    "class Model:\n",
    "    def __init__(self):\n",
    "        self.model = {}\n",
    "    \n",
    "    def query(self, **kwargs):\n",
    "        self.model = kwargs\n",
    "    \n",
    "    def __str__(self):\n",
    "        res = 'Model'\n",
    "        if self.model:\n",
    "            res += ': '+', '.join(map(lambda x: f'{x[0]} = {x[1]}', self.model.items()))\n",
    "        return res\n",
    "        "
   ]
  },
  {
   "cell_type": "code",
   "execution_count": null,
   "id": "ebbbfe53-4da5-4fb8-b4a0-7f2b3ed188d1",
   "metadata": {},
   "outputs": [],
   "source": [
    "class Model:\n",
    "    def __init__(self):\n",
    "        self.model = 'Model'\n",
    "        \n",
    "    def query(self, **kwargs):\n",
    "        self.model += ': ' + ', '.join(map(lambda i: f'{i[0]} = {i[1]}', kwargs.items()))\n",
    "        \n",
    "    def __str__(self):\n",
    "        return self.model"
   ]
  },
  {
   "cell_type": "code",
   "execution_count": 26,
   "id": "1d7dfb54-2956-482f-b7ec-73735331ca8e",
   "metadata": {},
   "outputs": [
    {
     "name": "stdout",
     "output_type": "stream",
     "text": [
      "Model: id = 1, fio = Sergey, old = 33\n"
     ]
    }
   ],
   "source": [
    "model = Model()\n",
    "model.query(id=1, fio='Sergey', old=33)\n",
    "print(model) # \"Model: id = 1, fio = Sergey, old = 33\"\n",
    "#Model: id = 1, fio = Sergey, old = 33"
   ]
  },
  {
   "cell_type": "code",
   "execution_count": null,
   "id": "aa60a2c0-4ee3-4780-9abd-1225c62365f7",
   "metadata": {},
   "outputs": [],
   "source": [
    "p = \"Model: \" + \", \".join(map(lambda x: f\"{x[0]} = {x[1]}\", self.model.items()))"
   ]
  },
  {
   "cell_type": "code",
   "execution_count": null,
   "id": "f085ba5b-e0df-400c-a741-3fa07116be53",
   "metadata": {},
   "outputs": [],
   "source": []
  }
 ],
 "metadata": {
  "kernelspec": {
   "display_name": "Python 3 (ipykernel)",
   "language": "python",
   "name": "python3"
  },
  "language_info": {
   "codemirror_mode": {
    "name": "ipython",
    "version": 3
   },
   "file_extension": ".py",
   "mimetype": "text/x-python",
   "name": "python",
   "nbconvert_exporter": "python",
   "pygments_lexer": "ipython3",
   "version": "3.9.5"
  }
 },
 "nbformat": 4,
 "nbformat_minor": 5
}
