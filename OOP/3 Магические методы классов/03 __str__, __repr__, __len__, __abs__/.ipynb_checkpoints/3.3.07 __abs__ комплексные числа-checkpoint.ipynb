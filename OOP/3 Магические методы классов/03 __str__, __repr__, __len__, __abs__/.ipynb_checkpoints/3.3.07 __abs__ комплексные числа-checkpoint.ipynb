{
 "cells": [
  {
   "cell_type": "code",
   "execution_count": 12,
   "id": "93d78be0-fe49-4904-a196-3217ebcc3ca5",
   "metadata": {},
   "outputs": [],
   "source": [
    "class Complex:\n",
    "    real = Property()\n",
    "    img = Property()\n",
    "    \n",
    "    def __init__(self, real, img):\n",
    "        self.real = real\n",
    "        self.img = img\n",
    "        \n",
    "    def __abs__(self):\n",
    "        return (self.real**2 + self.img**2)**0.5\n",
    "    \n",
    "    @property\n",
    "    def real(self):\n",
    "        return self.__real\n",
    "    \n",
    "    @real.setter\n",
    "    def real(self, value):\n",
    "        if not type(value) in (int, float):\n",
    "            raise ValueError(\"Неверный тип данных.\")\n",
    "        self.__real = value\n",
    "        \n",
    "    @property\n",
    "    def img(self):\n",
    "        return self.__img\n",
    "    \n",
    "    @img.setter\n",
    "    def img(self, value):\n",
    "        if not type(value) in (int, float):\n",
    "            raise ValueError(\"Неверный тип данных.\")\n",
    "        self.__img = value\n",
    "    \n",
    "cmp = Complex(7, 8)\n",
    "cmp.real = 3\n",
    "cmp.img = 4\n",
    "c_abs = abs(cmp)"
   ]
  },
  {
   "cell_type": "code",
   "execution_count": 13,
   "id": "aa875d48-a0f8-4743-8902-d8d4dd08e295",
   "metadata": {},
   "outputs": [
    {
     "data": {
      "text/plain": [
       "5.0"
      ]
     },
     "execution_count": 13,
     "metadata": {},
     "output_type": "execute_result"
    }
   ],
   "source": [
    "c_abs"
   ]
  },
  {
   "cell_type": "code",
   "execution_count": 11,
   "id": "80033c77-a050-42e6-b80a-2f0d38fbd0fb",
   "metadata": {},
   "outputs": [
    {
     "data": {
      "text/plain": [
       "{'__real': 3, '__img': 4}"
      ]
     },
     "execution_count": 11,
     "metadata": {},
     "output_type": "execute_result"
    }
   ],
   "source": [
    "cmp.__dict__"
   ]
  },
  {
   "cell_type": "code",
   "execution_count": 6,
   "id": "152794d5-ab75-46f2-a902-f460f78b2994",
   "metadata": {},
   "outputs": [],
   "source": [
    "class Property:\n",
    "    \n",
    "    @classmethod\n",
    "    def verify(cls, value):\n",
    "        if not type(value) in (int, float):\n",
    "            raise ValueError(\"Неверный тип данных.\")\n",
    "        \n",
    "    def __set_name__(self, owner, name):\n",
    "        self.name = '__'+name\n",
    "\n",
    "    def __get__(self, instance, owner):\n",
    "        return getattr(instance, self.name)\n",
    "        \n",
    "    def __set__(self, instance, value):\n",
    "        self.verify(value)\n",
    "        setattr(instance, self.name, value)\n",
    "\n",
    "\n",
    "class Complex:\n",
    "    real = Property()\n",
    "    img = Property()\n",
    "    \n",
    "    def __init__(self, real, img):\n",
    "        self.real = real\n",
    "        self.img = img\n",
    "        \n",
    "    def __abs__(self):\n",
    "        return (self.real**2 + self.img**2)**0.5\n",
    "\n",
    "    \n",
    "cmp = Complex(7, 8)\n",
    "cmp.real = 3\n",
    "cmp.img = 4\n",
    "c_abs = abs(cmp)"
   ]
  }
 ],
 "metadata": {
  "kernelspec": {
   "display_name": "Python 3 (ipykernel)",
   "language": "python",
   "name": "python3"
  },
  "language_info": {
   "codemirror_mode": {
    "name": "ipython",
    "version": 3
   },
   "file_extension": ".py",
   "mimetype": "text/x-python",
   "name": "python",
   "nbconvert_exporter": "python",
   "pygments_lexer": "ipython3",
   "version": "3.9.5"
  }
 },
 "nbformat": 4,
 "nbformat_minor": 5
}
