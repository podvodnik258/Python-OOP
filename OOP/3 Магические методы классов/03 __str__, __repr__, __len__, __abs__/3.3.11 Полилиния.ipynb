{
 "cells": [
  {
   "cell_type": "code",
   "execution_count": 1,
   "id": "e6abc3c7-1ffa-4155-b1e5-aa07d45d6485",
   "metadata": {},
   "outputs": [],
   "source": [
    "class PolyLine:\n",
    "    def __init__(self, *args):\n",
    "        self.coords = list(args)\n",
    "    \n",
    "    def add_coord(self, x, y):\n",
    "        self.coords.append((x, y))\n",
    "        \n",
    "    def remove_coord(self, indx):\n",
    "        del self.coords[indx]\n",
    "        \n",
    "    def get_coords(self):\n",
    "        return self.coords"
   ]
  },
  {
   "cell_type": "code",
   "execution_count": 2,
   "id": "b9d5e55d-e8e8-4605-ac10-2c39101e2004",
   "metadata": {},
   "outputs": [],
   "source": [
    "poly = PolyLine((1, 2), (3, 5), (0, 10), (-1, 8))"
   ]
  },
  {
   "cell_type": "code",
   "execution_count": 4,
   "id": "501b56a3-88ff-49cf-9980-448dfe2dfaaf",
   "metadata": {},
   "outputs": [
    {
     "data": {
      "text/plain": [
       "[(1, 2), (3, 5), (0, 10), (-1, 8)]"
      ]
     },
     "execution_count": 4,
     "metadata": {},
     "output_type": "execute_result"
    }
   ],
   "source": [
    "poly.get_coords()"
   ]
  },
  {
   "cell_type": "code",
   "execution_count": null,
   "id": "e5c43ce7-75d8-4b1a-8c55-16de5f3b9684",
   "metadata": {},
   "outputs": [],
   "source": []
  }
 ],
 "metadata": {
  "kernelspec": {
   "display_name": "Python 3 (ipykernel)",
   "language": "python",
   "name": "python3"
  },
  "language_info": {
   "codemirror_mode": {
    "name": "ipython",
    "version": 3
   },
   "file_extension": ".py",
   "mimetype": "text/x-python",
   "name": "python",
   "nbconvert_exporter": "python",
   "pygments_lexer": "ipython3",
   "version": "3.9.5"
  }
 },
 "nbformat": 4,
 "nbformat_minor": 5
}
