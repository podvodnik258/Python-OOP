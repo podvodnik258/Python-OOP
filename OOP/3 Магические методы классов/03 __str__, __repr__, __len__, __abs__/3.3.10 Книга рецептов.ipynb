{
 "cells": [
  {
   "cell_type": "code",
   "execution_count": 1,
   "id": "6b289ffa-77e0-4d3e-80f9-23eb5685a397",
   "metadata": {},
   "outputs": [],
   "source": [
    "class Recipe:\n",
    "    def __init__(self, *args):\n",
    "        self.ingredients = []\n",
    "        if args:\n",
    "            for i in args:\n",
    "                self.add_ingredient(i)\n",
    "    \n",
    "    def add_ingredient(self, ing):\n",
    "        if isinstance(ing, Ingredient):\n",
    "            self.ingredients.append(ing)\n",
    "        \n",
    "    def remove_ingredient(self, ing):\n",
    "        self.ingredients.remove(ing)\n",
    "        \n",
    "    def get_ingredients(self):\n",
    "        return tuple(self.ingredients)\n",
    "    \n",
    "    def __len__(self):\n",
    "        return len(self.ingredients)\n",
    "    \n",
    "class Ingredient:\n",
    "    def __init__(self, *args):\n",
    "        self.name, self.volume, self.measure = args\n",
    "        \n",
    "    @classmethod\n",
    "    def chek_value(cls, key, value):\n",
    "        return any((key in ('name', 'measure') \n",
    "                       and type(value) is str, \n",
    "                   key == 'volume' \n",
    "                       and type(value) is int)\n",
    "                  )\n",
    "            \n",
    "    def __setattr__(self, key, value):\n",
    "        if self.chek_value(key, value):\n",
    "            return super().__setattr__(key, value)\n",
    "        \n",
    "    def __str__(self):\n",
    "        return f'{self.name}: {self.volume}, {self.measure}'"
   ]
  },
  {
   "cell_type": "code",
   "execution_count": 2,
   "id": "978cd2b8-6ec8-48fb-966d-86c95537f24d",
   "metadata": {},
   "outputs": [],
   "source": [
    "recipe = Recipe()\n",
    "recipe.add_ingredient(Ingredient(\"Соль\", 1, \"столовая ложка\"))\n",
    "recipe.add_ingredient(Ingredient(\"Мука\", 1, \"кг\"))\n",
    "recipe.add_ingredient(Ingredient(\"Мясо баранины\", 10, \"кг\"))\n",
    "ings = recipe.get_ingredients()\n",
    "n = len(recipe) # n = 3"
   ]
  },
  {
   "cell_type": "code",
   "execution_count": 3,
   "id": "0a0d9a81-231e-4741-ab3b-17b0b8dd4347",
   "metadata": {},
   "outputs": [
    {
     "data": {
      "text/plain": [
       "3"
      ]
     },
     "execution_count": 3,
     "metadata": {},
     "output_type": "execute_result"
    }
   ],
   "source": [
    "n"
   ]
  },
  {
   "cell_type": "code",
   "execution_count": null,
   "id": "8c4da5a7-ca53-447a-bd09-1ae9434f9cef",
   "metadata": {},
   "outputs": [],
   "source": []
  }
 ],
 "metadata": {
  "kernelspec": {
   "display_name": "Python 3 (ipykernel)",
   "language": "python",
   "name": "python3"
  },
  "language_info": {
   "codemirror_mode": {
    "name": "ipython",
    "version": 3
   },
   "file_extension": ".py",
   "mimetype": "text/x-python",
   "name": "python",
   "nbconvert_exporter": "python",
   "pygments_lexer": "ipython3",
   "version": "3.9.5"
  }
 },
 "nbformat": 4,
 "nbformat_minor": 5
}
