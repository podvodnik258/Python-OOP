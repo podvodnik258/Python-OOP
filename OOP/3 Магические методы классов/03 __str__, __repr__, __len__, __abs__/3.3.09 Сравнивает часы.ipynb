{
 "cells": [
  {
   "cell_type": "code",
   "execution_count": 1,
   "id": "b654c1c8-7709-4b39-a131-ad914124a8cd",
   "metadata": {},
   "outputs": [],
   "source": [
    "class DeltaClock:\n",
    "    def __init__(self, clock1, clock2):\n",
    "        self.clock1 = clock1\n",
    "        self.clock2 = clock2\n",
    "    \n",
    "    def __len__(self):\n",
    "        dif = self.clock1.get_time() - self.clock2.get_time()\n",
    "        if dif < 0:\n",
    "            dif = 0\n",
    "        return dif\n",
    "        \n",
    "    def __str__(self):\n",
    "        dif = self.__len__()    \n",
    "        return f'{dif//3600:02}: {dif%3600//60:02}: {dif%3600%60:02}'\n",
    "    \n",
    "class Clock:\n",
    "    def __init__(self, *args):\n",
    "        self.hours, self.minutes, self.seconds = args\n",
    "    \n",
    "    def get_time(self):\n",
    "        return self.hours * 3600 + self.minutes * 60 + self.seconds"
   ]
  },
  {
   "cell_type": "code",
   "execution_count": 2,
   "id": "52a62ba9-d440-4c04-8b5a-8b4fbacbef17",
   "metadata": {},
   "outputs": [
    {
     "name": "stdout",
     "output_type": "stream",
     "text": [
      "01: 30: 00\n"
     ]
    }
   ],
   "source": [
    "dt = DeltaClock(Clock(2, 45, 0), Clock(1, 15, 0))\n",
    "print(dt) # 01: 30: 00\n",
    "len_dt = len(dt) # 5400"
   ]
  },
  {
   "cell_type": "code",
   "execution_count": null,
   "id": "84d46c2e-4db7-41e3-a64b-da3ae8981353",
   "metadata": {},
   "outputs": [],
   "source": []
  }
 ],
 "metadata": {
  "kernelspec": {
   "display_name": "Python 3 (ipykernel)",
   "language": "python",
   "name": "python3"
  },
  "language_info": {
   "codemirror_mode": {
    "name": "ipython",
    "version": 3
   },
   "file_extension": ".py",
   "mimetype": "text/x-python",
   "name": "python",
   "nbconvert_exporter": "python",
   "pygments_lexer": "ipython3",
   "version": "3.9.5"
  }
 },
 "nbformat": 4,
 "nbformat_minor": 5
}
