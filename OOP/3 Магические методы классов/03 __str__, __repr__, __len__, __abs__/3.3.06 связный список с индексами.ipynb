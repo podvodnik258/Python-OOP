{
 "cells": [
  {
   "cell_type": "code",
   "execution_count": 161,
   "id": "b5701bfa-7d24-40ec-b936-32fd09ba898d",
   "metadata": {},
   "outputs": [],
   "source": [
    "class LinkedList:\n",
    "    \n",
    "    def __init__(self):\n",
    "        self.head = None\n",
    "        self.tail = None\n",
    "        \n",
    "    def add_obj(self, obj):\n",
    "        if self.head is None:\n",
    "            self.head = obj\n",
    "        if self.tail:\n",
    "            obj.prev = self.tail\n",
    "            self.tail.next = obj\n",
    "        self.tail = obj\n",
    "        \n",
    "    def get_by_indx(self, indx):\n",
    "        last = self.head\n",
    "        curr_indx = 0\n",
    "        while last:\n",
    "            if curr_indx == indx:\n",
    "                return last\n",
    "            curr_indx += 1\n",
    "            last = last.next\n",
    "        raise IndexError('индекс списка вне диапазона')\n",
    "    \n",
    "    \n",
    "    def remove_obj(self, indx):\n",
    "        obj = self.get_by_indx(indx)\n",
    "        if obj:                    # Удаление с середины\n",
    "            if obj.prev: obj.prev.next = obj.next \n",
    "            if obj.next: obj.next.prev = obj.prev\n",
    "        if obj is self.tail:       # Удаление последнего\n",
    "            self.tail = obj.prev if obj else None\n",
    "        if obj is self.head:       # Удаление первого\n",
    "            self.head = obj.next if obj else None    \n",
    "        \n",
    "    def __len__(self):\n",
    "        res = 0\n",
    "        while True:\n",
    "            try:\n",
    "                self.get_by_indx(res)\n",
    "                res += 1\n",
    "            except:\n",
    "                break\n",
    "        return res\n",
    "            \n",
    "            \n",
    "    def __call__(self, indx):\n",
    "        return self.get_by_indx(indx).data\n",
    "        \n",
    "        \n",
    "class ObjList:\n",
    "    def __init__(self, data):\n",
    "        self.data = data\n",
    "        self.__next = self.__prev = None\n",
    "        \n",
    "    @property\n",
    "    def data(self):\n",
    "        return self.__data\n",
    "    \n",
    "    @data.setter\n",
    "    def data(self, string):\n",
    "        self.__data = string\n",
    "        \n",
    "    @property\n",
    "    def next(self):\n",
    "        return self.__next\n",
    "    \n",
    "    @next.setter\n",
    "    def next(self, obj):\n",
    "        self.__next = obj\n",
    "        \n",
    "    @property\n",
    "    def prev(self):\n",
    "        return self.__prev\n",
    "    \n",
    "    @prev.setter\n",
    "    def prev(self, obj):\n",
    "        self.__prev = obj"
   ]
  },
  {
   "cell_type": "code",
   "execution_count": 174,
   "id": "61a7b9c7-a40a-4e5e-afa5-9fd98fef0a35",
   "metadata": {},
   "outputs": [],
   "source": [
    "linked_lst = LinkedList()\n",
    "linked_lst.add_obj(ObjList(\"Sergey\"))\n",
    "linked_lst.add_obj(ObjList(\"Balakirev\"))\n",
    "linked_lst.add_obj(ObjList(\"Python\"))\n",
    "linked_lst.remove_obj(2)\n",
    "linked_lst.add_obj(ObjList(\"Python ООП\"))\n",
    "n = len(linked_lst)  # n = 3\n",
    "s = linked_lst(1) # s = Balakirev\n",
    "# linked_lst.get_by_indx(2).data"
   ]
  },
  {
   "cell_type": "code",
   "execution_count": 181,
   "id": "9a31e896-7cad-496a-bcaa-51c11c37d488",
   "metadata": {},
   "outputs": [],
   "source": [
    "linked_lst.add_obj(ObjList(\"Sergey\"))\n",
    "linked_lst.add_obj(ObjList(\"Balakirev\"))\n",
    "linked_lst.add_obj(ObjList(\"Python\"))"
   ]
  },
  {
   "cell_type": "code",
   "execution_count": 176,
   "id": "8bf9c254-c0f9-48f0-9b5d-f093474048ed",
   "metadata": {},
   "outputs": [],
   "source": [
    "linked_lst.remove_obj(0)"
   ]
  },
  {
   "cell_type": "code",
   "execution_count": 184,
   "id": "54ae9906-0f63-4395-a096-c213ff47b966",
   "metadata": {},
   "outputs": [
    {
     "name": "stdout",
     "output_type": "stream",
     "text": [
      "Balakirev\n",
      "Python ООП\n",
      "Sergey\n",
      "Balakirev\n",
      "Python\n"
     ]
    }
   ],
   "source": [
    "for i in range(5):\n",
    "    print(linked_lst.get_by_indx(i).data)\n",
    "\n"
   ]
  },
  {
   "cell_type": "code",
   "execution_count": null,
   "id": "64b7bdd2-b9d0-4030-bca0-8435a99ca263",
   "metadata": {},
   "outputs": [],
   "source": []
  }
 ],
 "metadata": {
  "kernelspec": {
   "display_name": "Python 3 (ipykernel)",
   "language": "python",
   "name": "python3"
  },
  "language_info": {
   "codemirror_mode": {
    "name": "ipython",
    "version": 3
   },
   "file_extension": ".py",
   "mimetype": "text/x-python",
   "name": "python",
   "nbconvert_exporter": "python",
   "pygments_lexer": "ipython3",
   "version": "3.9.5"
  }
 },
 "nbformat": 4,
 "nbformat_minor": 5
}
