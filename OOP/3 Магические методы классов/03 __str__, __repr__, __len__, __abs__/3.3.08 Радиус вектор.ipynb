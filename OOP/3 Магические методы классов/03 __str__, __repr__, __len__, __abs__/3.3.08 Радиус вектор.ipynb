{
 "cells": [
  {
   "cell_type": "code",
   "execution_count": 8,
   "id": "5a3930ac-b9f1-445f-ad8d-058cae72bb23",
   "metadata": {},
   "outputs": [],
   "source": [
    "class RadiusVector:\n",
    "    def __init__(self, *args):\n",
    "        if len(args) == 1 and type(*args) is int and args[0] > 0:\n",
    "            args = (0 for _ in range(*args))\n",
    "        self.coords = args\n",
    "    \n",
    "    @classmethod\n",
    "    def chek_vector(cls, vector):\n",
    "        if not all(map(lambda x: type(x) in (int, float), vector)):\n",
    "            raise ValueError(\"Неверный тип данных.\")\n",
    "            \n",
    "    def __setter__(self, key, vector):\n",
    "        self.chek_vector(vector)\n",
    "        if key in self.__dict__:\n",
    "            vector = vector[:len(self.coords)] + self.coords[len(vector):]\n",
    "        return super().__setter__(key, vector)\n",
    "    \n",
    "    @property\n",
    "    def coords(self):\n",
    "        return self.__coords\n",
    "    \n",
    "    @coords.setter\n",
    "    def coords(self, vector):\n",
    "        self.__coords = vector\n",
    "            \n",
    "    def set_coords(self, *args):    \n",
    "        self.coords = args\n",
    "        \n",
    "    def get_coords(self, *args):    \n",
    "        return self.coords\n",
    "        \n",
    "    def __len__(self):\n",
    "        return len(self.coords)\n",
    "        \n",
    "    def __abs__(self):\n",
    "        return sum(map(lambda x: x**2, self.coords))**0.5\n",
    "        "
   ]
  },
  {
   "cell_type": "code",
   "execution_count": 9,
   "id": "b726572b-909a-47bb-85c2-1ac06efa08c3",
   "metadata": {},
   "outputs": [],
   "source": [
    "vector3D = RadiusVector(3)\n",
    "vector3D.set_coords(3, -5.6, 8)\n",
    "a, b, c = vector3D.get_coords()\n",
    "vector3D.set_coords(3, -5.6, 8, 10, 11) # ошибки быть не должно, последние две координаты игнорируются\n",
    "vector3D.set_coords(1, 2) # ошибки быть не должно, меняются только первые две координаты\n",
    "res_len = len(vector3D) # res_len = 3\n",
    "res_abs = abs(vector3D)"
   ]
  },
  {
   "cell_type": "code",
   "execution_count": 12,
   "id": "8e0ef486-fbbd-4c90-9c4e-824857dba6e2",
   "metadata": {},
   "outputs": [
    {
     "ename": "AttributeError",
     "evalue": "'float' object has no attribute 'coords'",
     "output_type": "error",
     "traceback": [
      "\u001b[1;31m---------------------------------------------------------------------------\u001b[0m",
      "\u001b[1;31mAttributeError\u001b[0m                            Traceback (most recent call last)",
      "\u001b[1;32mC:\\Users\\73B5~1\\AppData\\Local\\Temp/ipykernel_10540/1884994641.py\u001b[0m in \u001b[0;36m<module>\u001b[1;34m\u001b[0m\n\u001b[1;32m----> 1\u001b[1;33m \u001b[0mres_abs\u001b[0m\u001b[1;33m.\u001b[0m\u001b[0mcoords\u001b[0m\u001b[1;33m\u001b[0m\u001b[1;33m\u001b[0m\u001b[0m\n\u001b[0m",
      "\u001b[1;31mAttributeError\u001b[0m: 'float' object has no attribute 'coords'"
     ]
    }
   ],
   "source": [
    "res_abs.coords"
   ]
  },
  {
   "cell_type": "code",
   "execution_count": 4,
   "id": "91bb6185-9bdb-42b2-baae-c6921a2a1bd4",
   "metadata": {},
   "outputs": [],
   "source": [
    "class RadiusVector:\n",
    "    def __init__(self, *args):\n",
    "        if len(args) == 1 and isinstance(args[0], int) and args[0] > 1:\n",
    "            self.vector = tuple([0] * args[0])\n",
    "        elif all(isinstance(i, (int, float)) for i in args):\n",
    "            self.vector = args\n",
    "        else:\n",
    "            self.vector = tuple()\n",
    "\n",
    "    def set_coords(self, *args):\n",
    "        args = args[:len(self.vector)]\n",
    "        self.vector = args + self.vector[len(args):]\n",
    "\n",
    "    def get_coords(self):\n",
    "        return tuple(self.vector)\n",
    "\n",
    "    def __len__(self):\n",
    "        return len(self.vector)\n",
    "\n",
    "    def __abs__(self):\n",
    "        return (sum(i * i for i in self.vector)) ** 0.5"
   ]
  },
  {
   "cell_type": "code",
   "execution_count": null,
   "id": "671215e4-64b9-4888-ae47-d34ffd902c92",
   "metadata": {},
   "outputs": [],
   "source": []
  }
 ],
 "metadata": {
  "kernelspec": {
   "display_name": "Python 3 (ipykernel)",
   "language": "python",
   "name": "python3"
  },
  "language_info": {
   "codemirror_mode": {
    "name": "ipython",
    "version": 3
   },
   "file_extension": ".py",
   "mimetype": "text/x-python",
   "name": "python",
   "nbconvert_exporter": "python",
   "pygments_lexer": "ipython3",
   "version": "3.9.5"
  }
 },
 "nbformat": 4,
 "nbformat_minor": 5
}
