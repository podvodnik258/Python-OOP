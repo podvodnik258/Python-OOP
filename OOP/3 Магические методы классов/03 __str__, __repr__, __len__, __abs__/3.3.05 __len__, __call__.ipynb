{
 "cells": [
  {
   "cell_type": "code",
   "execution_count": 5,
   "id": "d09457de-bdfc-488a-9bf8-a60da660ddf7",
   "metadata": {},
   "outputs": [],
   "source": [
    "class WordString:\n",
    "    def __init__(self, string=''):\n",
    "        self.string = string\n",
    "        \n",
    "    @property    \n",
    "    def string(self):\n",
    "        return self.__string\n",
    "    \n",
    "    @string.setter   \n",
    "    def string(self, string):\n",
    "        self.__string = string\n",
    "        \n",
    "    def __len__(self):\n",
    "        return len(self.string.split())\n",
    "    \n",
    "    def __call__(self, indx):\n",
    "        return self.string.split()[indx]"
   ]
  },
  {
   "cell_type": "code",
   "execution_count": 8,
   "id": "20ca0b42-283f-41f9-a53e-931b2e00fed9",
   "metadata": {},
   "outputs": [
    {
     "name": "stdout",
     "output_type": "stream",
     "text": [
      "Курс по Python ООП\n",
      "Число слов: 4; первое слово: Курс\n"
     ]
    }
   ],
   "source": [
    "words = WordString()\n",
    "words.string = \"Курс по Python ООП\"\n",
    "n = len(words)\n",
    "first = \"\" if n == 0 else words(0)\n",
    "print(words.string)\n",
    "print(f\"Число слов: {n}; первое слово: {first}\")"
   ]
  }
 ],
 "metadata": {
  "kernelspec": {
   "display_name": "Python 3 (ipykernel)",
   "language": "python",
   "name": "python3"
  },
  "language_info": {
   "codemirror_mode": {
    "name": "ipython",
    "version": 3
   },
   "file_extension": ".py",
   "mimetype": "text/x-python",
   "name": "python",
   "nbconvert_exporter": "python",
   "pygments_lexer": "ipython3",
   "version": "3.9.5"
  }
 },
 "nbformat": 4,
 "nbformat_minor": 5
}
