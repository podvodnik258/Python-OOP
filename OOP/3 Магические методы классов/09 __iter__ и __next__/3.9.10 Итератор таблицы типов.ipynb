{
 "cells": [
  {
   "cell_type": "code",
   "execution_count": 18,
   "id": "66977f0e-23bf-4137-a263-478d252a75b0",
   "metadata": {},
   "outputs": [],
   "source": [
    "class Cell:\n",
    "    def __init__(self, data=0):\n",
    "        self.data = data\n",
    "        self.type_data = type(data)\n",
    "        \n",
    "    @property\n",
    "    def data(self):\n",
    "        return self.__data\n",
    "    \n",
    "    @data.setter\n",
    "    def data(self, data):\n",
    "        self.__data = data\n",
    "        \n",
    "\n",
    "class TableValues :\n",
    "    def __init__(self, rows, cols, type_data=int):\n",
    "        self.rows = rows\n",
    "        self.cols = cols\n",
    "        self.type_data = type_data\n",
    "        self.cells = tuple(tuple(Cell() for _ in range(cols)) for _ in range(rows))\n",
    "    \n",
    "    def verify(self, indx):\n",
    "        r, c = indx\n",
    "        if not (0 <= r < self.rows) or not (0 <= c < self.cols):\n",
    "            raise IndexError('неверный индекс')\n",
    "            \n",
    "    def __getitem__(self, indx):\n",
    "        self.verify(indx)\n",
    "        r, c = indx\n",
    "        return self.cells[r][c].data\n",
    "    \n",
    "    def __setitem__(self, indx, data):\n",
    "        self.verify(indx)\n",
    "        if not type(data) == self.type_data:\n",
    "            raise TypeError('неверный тип присваиваемых данных')\n",
    "        r, c = indx\n",
    "        self.cells[r][c].data = data \n",
    "        \n",
    "    def __iter__(self):\n",
    "        for row in self.cells:\n",
    "            yield (x.data for x in row)\n",
    "        "
   ]
  },
  {
   "cell_type": "code",
   "execution_count": 19,
   "id": "241ff8cb-497c-4939-9b07-2b132b012bd0",
   "metadata": {},
   "outputs": [],
   "source": [
    "tb = TableValues(3, 2)\n",
    "n = m = 0\n",
    "for row in tb:\n",
    "    n += 1\n",
    "    for value in row:\n",
    "        m += 1\n",
    "        assert type(value) == int and value == 0"
   ]
  },
  {
   "cell_type": "code",
   "execution_count": null,
   "id": "7c185450-94f3-4146-b43d-d199bd270587",
   "metadata": {},
   "outputs": [],
   "source": []
  }
 ],
 "metadata": {
  "kernelspec": {
   "display_name": "Python 3 (ipykernel)",
   "language": "python",
   "name": "python3"
  },
  "language_info": {
   "codemirror_mode": {
    "name": "ipython",
    "version": 3
   },
   "file_extension": ".py",
   "mimetype": "text/x-python",
   "name": "python",
   "nbconvert_exporter": "python",
   "pygments_lexer": "ipython3",
   "version": "3.9.5"
  }
 },
 "nbformat": 4,
 "nbformat_minor": 5
}
