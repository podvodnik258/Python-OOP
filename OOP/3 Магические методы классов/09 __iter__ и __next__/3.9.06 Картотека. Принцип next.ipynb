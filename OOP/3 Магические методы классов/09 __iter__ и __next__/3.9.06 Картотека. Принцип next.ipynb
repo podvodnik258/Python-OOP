{
 "cells": [
  {
   "cell_type": "code",
   "execution_count": 1,
   "id": "66bbad15-f15a-443c-bf49-ed3c711e6bb7",
   "metadata": {},
   "outputs": [],
   "source": [
    "class Person:\n",
    "    def __init__(self, fio, job, old, salary, year_job):\n",
    "        self.fio = fio\n",
    "        self.job = job\n",
    "        self.old = old\n",
    "        self.salary = salary\n",
    "        self.year_job = year_job\n",
    "        self.order = {0:self.fio, 1:self.job, 2:self.old, 3:self.salary, 4:self.year_job}\n",
    "        \n",
    "    def chek_index(self, indx):\n",
    "        if not 0 <= indx < len(self.order):\n",
    "            raise IndexError('неверный индекс')\n",
    "    \n",
    "    def __getitem__(self, indx):\n",
    "        self.chek_index(indx)\n",
    "        return self.order[indx]\n",
    "\n",
    "    def __setitem__(self, indx, value):\n",
    "        self.chek_index(indx)\n",
    "        self.order[indx] = value\n",
    "        \n",
    "    def __next__(self):\n",
    "        if self.iindx + 1 < len(self.order):\n",
    "            self.iindx += 1\n",
    "            return self.order[self.iindx]\n",
    "        else:\n",
    "            raise StopIteration\n",
    "        \n",
    "    def __iter__(self):\n",
    "        self.iindx = -1 \n",
    "        return self"
   ]
  },
  {
   "cell_type": "code",
   "execution_count": 3,
   "id": "a17596f5-26d6-4b97-8091-7b3642025357",
   "metadata": {},
   "outputs": [
    {
     "name": "stdout",
     "output_type": "stream",
     "text": [
      "Гейтс Б.\n",
      "Балакирев С.М.\n",
      "Балакирев С.М.\n",
      "бизнесмен\n",
      "61\n",
      "1000000\n",
      "46\n",
      "Балакирев С.М.\n",
      "бизнесмен\n",
      "61\n",
      "1000000\n",
      "46\n"
     ]
    }
   ],
   "source": [
    "pers = Person('Гейтс Б.', 'бизнесмен', 61, 1000000, 46)\n",
    "print(pers[0])\n",
    "pers[0] = 'Балакирев С.М.'\n",
    "print(pers[0])\n",
    "iter(pers)\n",
    "print(next(pers))\n",
    "print(next(pers))\n",
    "print(next(pers))\n",
    "print(next(pers))\n",
    "print(next(pers))\n",
    "for v in pers:\n",
    "    print(v)"
   ]
  },
  {
   "cell_type": "code",
   "execution_count": null,
   "id": "afae31c3-7374-44b3-9821-88e5b04b307b",
   "metadata": {},
   "outputs": [],
   "source": [
    "pers.__dict__"
   ]
  },
  {
   "cell_type": "code",
   "execution_count": null,
   "id": "fd23cde7-7b10-40fa-a209-0d963eee58ca",
   "metadata": {},
   "outputs": [],
   "source": []
  }
 ],
 "metadata": {
  "kernelspec": {
   "display_name": "Python 3 (ipykernel)",
   "language": "python",
   "name": "python3"
  },
  "language_info": {
   "codemirror_mode": {
    "name": "ipython",
    "version": 3
   },
   "file_extension": ".py",
   "mimetype": "text/x-python",
   "name": "python",
   "nbconvert_exporter": "python",
   "pygments_lexer": "ipython3",
   "version": "3.9.5"
  }
 },
 "nbformat": 4,
 "nbformat_minor": 5
}
