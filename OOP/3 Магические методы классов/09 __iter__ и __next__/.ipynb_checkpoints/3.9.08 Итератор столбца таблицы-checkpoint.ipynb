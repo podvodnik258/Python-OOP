{
 "cells": [
  {
   "cell_type": "code",
   "execution_count": null,
   "id": "cc627c97-e1fc-47e0-b2dc-37c5727553c6",
   "metadata": {},
   "outputs": [],
   "source": [
    "class IterColumn:\n",
    "    def __init__(self, lst, column):\n",
    "        self._lst = lst\n",
    "        self._column = column\n",
    "        \n",
    "    def __iter__(self):\n",
    "        for row in self._lst:\n",
    "            yield row[self._column]"
   ]
  },
  {
   "cell_type": "code",
   "execution_count": null,
   "id": "f4419a01-50c8-4bd3-a132-32d2e222203c",
   "metadata": {},
   "outputs": [],
   "source": [
    "class IterColumn:\n",
    "    def __init__(self, lst, column):\n",
    "        self.lst = lst\n",
    "        self.column = column\n",
    "\n",
    "    def __iter__(self):\n",
    "        self.value = [ x[self.column] for x in self.lst]\n",
    "        return iter(self.value)"
   ]
  },
  {
   "cell_type": "code",
   "execution_count": 21,
   "id": "947c96dc-b5af-46dc-a0f9-3faf521223a9",
   "metadata": {},
   "outputs": [],
   "source": [
    "class IterColumn:\n",
    "    def __init__(self, lst, column):\n",
    "        self.lst1 = [[lst[i][column]] for i in range(len(lst))]\n",
    "        self.lst = [x for i in self.lst1 for x in i]\n",
    "        \n",
    "        \n",
    "    def __iter__(self):\n",
    "        self.indx = -1\n",
    "        return self\n",
    "    \n",
    "    def __next__(self):        \n",
    "        if self.indx >= len(self.lst)-1:\n",
    "            raise StopIteration\n",
    "        self.indx += 1\n",
    "        return self.lst[self.indx]"
   ]
  },
  {
   "cell_type": "code",
   "execution_count": 22,
   "id": "bbd9890e-9681-4b12-aa37-9a2b8de60254",
   "metadata": {},
   "outputs": [
    {
     "name": "stdout",
     "output_type": "stream",
     "text": [
      "x01\n",
      "x11\n",
      "x21\n",
      "x31\n"
     ]
    }
   ],
   "source": [
    "lst = [['x00', 'x01', 'x02'],\n",
    "       ['x10', 'x11', 'x12'],\n",
    "       ['x20', 'x21', 'x22'],\n",
    "       ['x30', 'x31', 'x32']]\n",
    "\n",
    "it = IterColumn(lst, 1)\n",
    "for x in it:  # последовательный перебор всех элементов столбца списка: x12, x22, ..., xM2\n",
    "    print(x)\n",
    "\n",
    "it_iter = iter(it)\n",
    "x = next(it_iter)"
   ]
  },
  {
   "cell_type": "code",
   "execution_count": 23,
   "id": "88da4dd9-94e6-4768-af45-42d189a501d1",
   "metadata": {},
   "outputs": [
    {
     "data": {
      "text/plain": [
       "{'lst1': [['x01'], ['x11'], ['x21'], ['x31']],\n",
       " 'lst': ['x01', 'x11', 'x21', 'x31'],\n",
       " 'indx': 0}"
      ]
     },
     "execution_count": 23,
     "metadata": {},
     "output_type": "execute_result"
    }
   ],
   "source": [
    "it.__dict__"
   ]
  },
  {
   "cell_type": "code",
   "execution_count": 12,
   "id": "d537afef-5991-4880-95c9-6f0d42d25f92",
   "metadata": {},
   "outputs": [
    {
     "data": {
      "text/plain": [
       "'x01'"
      ]
     },
     "execution_count": 12,
     "metadata": {},
     "output_type": "execute_result"
    }
   ],
   "source": [
    "x"
   ]
  },
  {
   "cell_type": "code",
   "execution_count": null,
   "id": "9de9ad44-76e3-4710-8bf1-ac9cf932db15",
   "metadata": {},
   "outputs": [],
   "source": []
  }
 ],
 "metadata": {
  "kernelspec": {
   "display_name": "Python 3 (ipykernel)",
   "language": "python",
   "name": "python3"
  },
  "language_info": {
   "codemirror_mode": {
    "name": "ipython",
    "version": 3
   },
   "file_extension": ".py",
   "mimetype": "text/x-python",
   "name": "python",
   "nbconvert_exporter": "python",
   "pygments_lexer": "ipython3",
   "version": "3.9.5"
  }
 },
 "nbformat": 4,
 "nbformat_minor": 5
}
