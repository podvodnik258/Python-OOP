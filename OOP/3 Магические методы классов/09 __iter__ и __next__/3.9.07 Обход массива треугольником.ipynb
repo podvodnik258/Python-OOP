{
 "cells": [
  {
   "cell_type": "code",
   "execution_count": 7,
   "id": "3ebbfb46-126a-4f80-a6f8-855945bad834",
   "metadata": {},
   "outputs": [],
   "source": [
    "class TriangleListIterator:\n",
    "    def __init__(self, lst):\n",
    "        self._lst = lst\n",
    "\n",
    "    def __iter__(self):\n",
    "        for i in range(len(self._lst)):\n",
    "            for j in range(i+1):\n",
    "                yield (self._lst[i][j])"
   ]
  },
  {
   "cell_type": "code",
   "execution_count": 8,
   "id": "67b1b203-81e1-4186-a707-331213d9b08c",
   "metadata": {},
   "outputs": [
    {
     "name": "stdout",
     "output_type": "stream",
     "text": [
      "x00\n",
      "x10\n",
      "x11\n",
      "x20\n",
      "x21\n",
      "x22\n",
      "x30\n",
      "x31\n",
      "x32\n",
      "x33\n"
     ]
    }
   ],
   "source": [
    "lst = [['x00', 'x01', 'x02'],\n",
    "       ['x10', 'x11'],\n",
    "       ['x20', 'x21', 'x22', 'x23', 'x24'],\n",
    "       ['x30', 'x31', 'x32', 'x33']]\n",
    "\n",
    "it = TriangleListIterator(lst)\n",
    "\n",
    "for x in it:  # последовательный перебор всех элементов списка: x00, x10, x11, x20, ...\n",
    "    print(x)\n",
    "\n",
    "it_iter = iter(it)\n",
    "x = next(it_iter)"
   ]
  },
  {
   "cell_type": "code",
   "execution_count": null,
   "id": "de7cbd2b-07f0-472b-8ee6-414a8fc0a52f",
   "metadata": {},
   "outputs": [],
   "source": []
  }
 ],
 "metadata": {
  "kernelspec": {
   "display_name": "Python 3 (ipykernel)",
   "language": "python",
   "name": "python3"
  },
  "language_info": {
   "codemirror_mode": {
    "name": "ipython",
    "version": 3
   },
   "file_extension": ".py",
   "mimetype": "text/x-python",
   "name": "python",
   "nbconvert_exporter": "python",
   "pygments_lexer": "ipython3",
   "version": "3.9.5"
  }
 },
 "nbformat": 4,
 "nbformat_minor": 5
}
