{
 "cells": [
  {
   "cell_type": "code",
   "execution_count": null,
   "id": "efd2e451-070e-49f9-9af0-cd1c0a6f1af6",
   "metadata": {},
   "outputs": [],
   "source": []
  },
  {
   "cell_type": "code",
   "execution_count": 51,
   "id": "078f736c-19b2-4680-991a-f8ed8f0c0777",
   "metadata": {},
   "outputs": [],
   "source": [
    "class Matrix:\n",
    "    def __init__(self, *args):\n",
    "        if len(args) == 1:\n",
    "            if not self.check_m(*args):\n",
    "                raise TypeError('список должен быть прямоугольным, состоящим из чисел')\n",
    "            self.matrix = args[0]\n",
    "            return\n",
    "        rows, cols, fill_value = args\n",
    "        self.rows = rows\n",
    "        self.cols = cols\n",
    "        self.fill_value = fill_value\n",
    "        if not all((type(rows) == int,\n",
    "                    type(cols) == int,\n",
    "                    type(cols) in (float,int))):\n",
    "            raise TypeError('аргументы rows, cols - целые числа; fill_value - произвольное число')\n",
    "        self.matrix = list(list(fill_value for _ in range(cols)) for _ in range(rows))\n",
    "    \n",
    "    def check_m(self, args):    \n",
    "        res = []\n",
    "        for row in args:\n",
    "            res.append(len(row) == len(args[0]))\n",
    "            for x in row:\n",
    "                res.append(type(x) in (float,int))\n",
    "        return all(res)\n",
    "    \n",
    "    def check_len(self, other):\n",
    "        if not (len(self.matrix) == len(other.matrix)) or not (len(self.matrix[0]) == len(other.matrix[0])):\n",
    "            raise ValueError('операции возможны только с матрицами равных размеров')\n",
    "            \n",
    "    def __getitem__(self, key):\n",
    "        r, c = key\n",
    "        return self.matrix[r][c]\n",
    "    \n",
    "    def __setitem__(self, key, value):\n",
    "        r, c = key\n",
    "        if not 0 <= r < len(self.matrix) or not 0 <= c < len(self.matrix[0]):\n",
    "            raise IndexError('недопустимые значения индексов')\n",
    "        if not type(value) in (float,int):\n",
    "            raise TypeError('значения матрицы должны быть числами')\n",
    "        self.matrix[r][c] = value\n",
    "    \n",
    "    def __add__(self, other):\n",
    "        if isinstance(other, Matrix):\n",
    "            self.check_len(other)\n",
    "            return Matrix(list(list(map(sum, zip(*i))) for i in zip(self.matrix, other.matrix)))\n",
    "        else:\n",
    "            return Matrix(list(list(map(lambda x: x + other, row)) for row in self.matrix))\n",
    "        \n",
    "    def __sub__(self, other):\n",
    "        if isinstance(other, Matrix):\n",
    "            self.check_len(other)\n",
    "            other = Matrix(list(list(x * -1 for x in row) for row in other.matrix))\n",
    "            return self + other\n",
    "        else:\n",
    "            return Matrix(list(list(map(lambda x: x - other, row)) for row in self.matrix))"
   ]
  },
  {
   "cell_type": "code",
   "execution_count": 52,
   "id": "66276b43-6998-41fe-8ec4-1636b5178c27",
   "metadata": {},
   "outputs": [
    {
     "data": {
      "text/plain": [
       "[[4, 4], [4, 4]]"
      ]
     },
     "execution_count": 52,
     "metadata": {},
     "output_type": "execute_result"
    }
   ],
   "source": [
    "m1 = Matrix(2, 2, 2)\n",
    "m2 = Matrix([[2, 2], [2, 2]])\n",
    "res = m2[0, 0] # возвращается первый элемент матрицы\n",
    "#m1[0, 0] = 333 # элементу матрицы с индексами (indx1, indx2) присваивается новое значение\n",
    "m1 + m2\n",
    "#m2 + 2\n",
    "#m1 - m2\n",
    "#m1 - 2"
   ]
  },
  {
   "cell_type": "code",
   "execution_count": 50,
   "id": "587ce017-40ab-42d3-b572-6b3c2a206b45",
   "metadata": {},
   "outputs": [],
   "source": [
    "lst2D = [[1, 2, 3], [4, 5, 6]]\n",
    "mt = Matrix(lst2D)"
   ]
  },
  {
   "cell_type": "code",
   "execution_count": 33,
   "id": "12ead583-7f9e-4077-bc82-376aca6a8070",
   "metadata": {},
   "outputs": [
    {
     "data": {
      "text/plain": [
       "[[2, 4, 6], [8, 10, 12]]"
      ]
     },
     "execution_count": 33,
     "metadata": {},
     "output_type": "execute_result"
    }
   ],
   "source": [
    "mt + mt"
   ]
  },
  {
   "cell_type": "code",
   "execution_count": null,
   "id": "aa1d3a0a-5434-4aac-99a5-f1c262e4f2f8",
   "metadata": {},
   "outputs": [],
   "source": []
  }
 ],
 "metadata": {
  "kernelspec": {
   "display_name": "Python 3 (ipykernel)",
   "language": "python",
   "name": "python3"
  },
  "language_info": {
   "codemirror_mode": {
    "name": "ipython",
    "version": 3
   },
   "file_extension": ".py",
   "mimetype": "text/x-python",
   "name": "python",
   "nbconvert_exporter": "python",
   "pygments_lexer": "ipython3",
   "version": "3.9.5"
  }
 },
 "nbformat": 4,
 "nbformat_minor": 5
}
