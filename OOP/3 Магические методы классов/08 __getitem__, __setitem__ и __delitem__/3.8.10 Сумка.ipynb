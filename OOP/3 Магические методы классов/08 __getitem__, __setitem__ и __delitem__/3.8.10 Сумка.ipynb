{
 "cells": [
  {
   "cell_type": "code",
   "execution_count": 68,
   "id": "a29908b8-5667-4ea4-907a-2f3194c08765",
   "metadata": {},
   "outputs": [],
   "source": [
    "class Bag:\n",
    "    def __init__(self, max_weight):\n",
    "        self.max_weight = max_weight\n",
    "        self.things = []\n",
    "    \n",
    "    @property\n",
    "    def weight(self):\n",
    "        return sum(thing.weight for thing in self.things)\n",
    "    \n",
    "    def add_thing(self, thing):\n",
    "        self.chek_volume(thing)\n",
    "        self.things.append(thing)\n",
    "\n",
    "    def check_index(self, indx):\n",
    "        if not(all((isinstance(indx, int), \n",
    "                   0 <= indx < len(self.things) )) ):\n",
    "            raise IndexError('неверный индекс')\n",
    "    \n",
    "    def chek_volume(self, new_t, old_t=None):\n",
    "        w = new_t.weight + self.weight if old_t is None else new_t.weight + self.weight - old_t.weight\n",
    "        if w > self.max_weight:\n",
    "            raise ValueError('превышен суммарный вес предметов')\n",
    "            \n",
    "    def __getitem__(self, indx):\n",
    "        self.check_index(indx)\n",
    "        return self.things[indx]\n",
    "    \n",
    "    def __setitem__(self, indx, thing):\n",
    "        self.chek_volume(thing, self.things[indx])\n",
    "        self.check_index(indx)\n",
    "        self.things[indx] = thing\n",
    "        \n",
    "    def __delitem__(self, indx):\n",
    "        del self.things[indx]\n",
    "        \n",
    "class Thing:\n",
    "    def __init__(self, name, weight):\n",
    "        self.name = name\n",
    "        self.weight = weight\n",
    "     "
   ]
  },
  {
   "cell_type": "code",
   "execution_count": 69,
   "id": "9ecfd45a-3f11-4063-9ebd-bf8a602c5e3d",
   "metadata": {},
   "outputs": [
    {
     "name": "stdout",
     "output_type": "stream",
     "text": [
      "рубашка\n",
      "платок\n",
      "книга\n"
     ]
    }
   ],
   "source": [
    "bag = Bag(1000)\n",
    "bag.add_thing(Thing('книга', 100))\n",
    "bag.add_thing(Thing('носки', 200))\n",
    "bag.add_thing(Thing('рубашка', 500))\n",
    "#bag.add_thing(Thing('ножницы', 300)) # генерируется исключение ValueError\n",
    "print(bag[2].name) # рубашка\n",
    "bag[1] = Thing('платок', 100)\n",
    "print(bag[1].name) # платок\n",
    "#del bag[0]\n",
    "print(bag[0].name) # платок\n",
    "#t = bag[4] # генерируется исключение IndexError\n",
    "bag[1] = Thing('кнопка', 200)\n",
    "bag.add_thing(Thing('ножницы', 200))"
   ]
  },
  {
   "cell_type": "code",
   "execution_count": 70,
   "id": "6f9ff5de-250e-42bf-8a24-8b1fe2abd6b6",
   "metadata": {},
   "outputs": [
    {
     "name": "stdout",
     "output_type": "stream",
     "text": [
      "[<__main__.Thing object at 0x0000022E36022DF0>, <__main__.Thing object at 0x0000022E360E7FD0>, <__main__.Thing object at 0x0000022E360E7790>, <__main__.Thing object at 0x0000022E35FFEFA0>]\n",
      "1000\n"
     ]
    }
   ],
   "source": [
    "print(bag.things)\n",
    "print(bag.weight)"
   ]
  },
  {
   "cell_type": "code",
   "execution_count": 71,
   "id": "2c906cf8-69f4-48b3-ae93-1c829fda47c8",
   "metadata": {},
   "outputs": [
    {
     "name": "stdout",
     "output_type": "stream",
     "text": [
      "книга 100\n",
      "кнопка 200\n",
      "рубашка 500\n",
      "ножницы 200\n"
     ]
    }
   ],
   "source": [
    "\n",
    "print(bag[0].name, bag[0].weight)\n",
    "print(bag[1].name, bag[1].weight)\n",
    "print(bag[2].name, bag[2].weight)\n",
    "print(bag[3].name, bag[3].weight)"
   ]
  },
  {
   "cell_type": "code",
   "execution_count": null,
   "id": "5e21acbc-6260-4da9-8440-4de804cfef51",
   "metadata": {},
   "outputs": [],
   "source": []
  }
 ],
 "metadata": {
  "kernelspec": {
   "display_name": "Python 3 (ipykernel)",
   "language": "python",
   "name": "python3"
  },
  "language_info": {
   "codemirror_mode": {
    "name": "ipython",
    "version": 3
   },
   "file_extension": ".py",
   "mimetype": "text/x-python",
   "name": "python",
   "nbconvert_exporter": "python",
   "pygments_lexer": "ipython3",
   "version": "3.9.5"
  }
 },
 "nbformat": 4,
 "nbformat_minor": 5
}
