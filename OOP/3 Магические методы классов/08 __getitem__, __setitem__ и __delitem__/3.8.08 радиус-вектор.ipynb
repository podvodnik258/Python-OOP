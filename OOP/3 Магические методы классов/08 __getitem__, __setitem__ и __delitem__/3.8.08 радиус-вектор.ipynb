{
 "cells": [
  {
   "cell_type": "code",
   "execution_count": 33,
   "id": "a07f96cc-5bee-46ec-929f-be7f7686585f",
   "metadata": {},
   "outputs": [],
   "source": [
    "class RadiusVector:\n",
    "    def __init__(self, *args):\n",
    "        self.coords = list(args)\n",
    "        \n",
    "    def __getitem__(self, key):\n",
    "        if isinstance(key, int):\n",
    "            return self.coords[key]\n",
    "        return tuple(self.coords[key])\n",
    "        \n",
    "    def __setitem__(self, key, value):\n",
    "        self.coords[key] = value"
   ]
  },
  {
   "cell_type": "code",
   "execution_count": 34,
   "id": "6559d074-8a90-4468-9c93-a5d321d6e48d",
   "metadata": {},
   "outputs": [
    {
     "name": "stdout",
     "output_type": "stream",
     "text": [
      "1\n",
      "3\n",
      "(2, 3, 4)\n"
     ]
    }
   ],
   "source": [
    "v = RadiusVector(1, 1, 1, 1)\n",
    "print(v[1]) # 1\n",
    "v[:] = 1, 2, 3, 4\n",
    "print(v[2]) # 3\n",
    "print(v[1:]) # (2, 3, 4)\n",
    "v[0] = 10.5"
   ]
  },
  {
   "cell_type": "code",
   "execution_count": 30,
   "id": "b9b65a65-6e5f-44ea-a4c4-ce0a2a51b281",
   "metadata": {},
   "outputs": [],
   "source": [
    "v = RadiusVector(1, 1, 1, 1)"
   ]
  },
  {
   "cell_type": "code",
   "execution_count": 35,
   "id": "7c762703-3529-40cc-9465-3e3453808f80",
   "metadata": {},
   "outputs": [
    {
     "data": {
      "text/plain": [
       "(10.5, 2, 3, 4)"
      ]
     },
     "execution_count": 35,
     "metadata": {},
     "output_type": "execute_result"
    }
   ],
   "source": [
    "v[:]"
   ]
  },
  {
   "cell_type": "code",
   "execution_count": 32,
   "id": "b43c3f28-3c2f-48f0-8271-c18bd7cb5538",
   "metadata": {},
   "outputs": [
    {
     "data": {
      "text/plain": [
       "1"
      ]
     },
     "execution_count": 32,
     "metadata": {},
     "output_type": "execute_result"
    }
   ],
   "source": [
    "v[1]"
   ]
  },
  {
   "cell_type": "code",
   "execution_count": null,
   "id": "f991472f-6e18-4047-baea-1a40edefba93",
   "metadata": {},
   "outputs": [],
   "source": []
  }
 ],
 "metadata": {
  "kernelspec": {
   "display_name": "Python 3 (ipykernel)",
   "language": "python",
   "name": "python3"
  },
  "language_info": {
   "codemirror_mode": {
    "name": "ipython",
    "version": 3
   },
   "file_extension": ".py",
   "mimetype": "text/x-python",
   "name": "python",
   "nbconvert_exporter": "python",
   "pygments_lexer": "ipython3",
   "version": "3.9.5"
  }
 },
 "nbformat": 4,
 "nbformat_minor": 5
}
