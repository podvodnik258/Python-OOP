{
 "cells": [
  {
   "cell_type": "code",
   "execution_count": null,
   "id": "12d1bd42-e53a-4ad2-a19b-72fbd382ba60",
   "metadata": {},
   "outputs": [],
   "source": [
    "class Array:\n",
    "    def __init__(self, max_length, cell):\n",
    "        self.array = [cell(0) for _ in range(max_length)]\n",
    "    \n",
    "    def __verify(self, indx):\n",
    "        if not isinstance(indx, int) or not 0 <= indx < len(self.array):\n",
    "            raise IndexError('неверный индекс для доступа к элементам массива')\n",
    "        \n",
    "    def __getitem__(self, indx):\n",
    "        self.__verify(indx)\n",
    "        return self.array[indx].value\n",
    "    \n",
    "    def __setitem__(self, indx, value):\n",
    "        self.__verify(indx)\n",
    "        self.array[indx].value = value\n",
    "    \n",
    "    def __str__(self):\n",
    "        return ' '.join(str(self[i]) for i in range(len(self.array)))\n",
    "    \n",
    "    \n",
    "class Integer:\n",
    "    def __init__(self, start_value):\n",
    "        self.value = start_value\n",
    "        \n",
    "    @property\n",
    "    def value(self):\n",
    "        return self.__value\n",
    "    \n",
    "    @value.setter\n",
    "    def value(self, value):\n",
    "        if not isinstance(value, int):\n",
    "            raise ValueError('должно быть целое число')\n",
    "        self.__value = value\n",
    "        \n",
    "class Float:\n",
    "    def __init__(self, start_value):\n",
    "        self.value = float(start_value)\n",
    "        \n",
    "    @property\n",
    "    def value(self):\n",
    "        return self.__value\n",
    "    \n",
    "    @value.setter\n",
    "    def value(self, value):\n",
    "        if not isinstance(value, float):\n",
    "            raise ValueError('должно быть вещественное число')\n",
    "        self.__value = value\n",
    "        \n"
   ]
  },
  {
   "cell_type": "code",
   "execution_count": 1,
   "id": "f13341cf-89e6-4ade-ac95-f241db4020ac",
   "metadata": {},
   "outputs": [],
   "source": [
    "class Array:\n",
    "    def __init__(self, max_length, cell):\n",
    "        self.array = [cell(0) for _ in range(max_length)]\n",
    "    \n",
    "    def __verify(self, indx):\n",
    "        if not isinstance(indx, int) or not 0 <= indx < len(self.array):\n",
    "            raise IndexError('неверный индекс для доступа к элементам массива')\n",
    "        \n",
    "    def __getitem__(self, indx):\n",
    "        self.__verify(indx)\n",
    "        return self.array[indx].value\n",
    "    \n",
    "    def __setitem__(self, indx, value):\n",
    "        self.__verify(indx)\n",
    "        self.array[indx].value = value\n",
    "    \n",
    "    def __str__(self):\n",
    "        return ' '.join(str(self[i]) for i in range(len(self.array)))\n",
    "    \n",
    "    \n",
    "class Num:\n",
    "    NUM_TYPE = None\n",
    "    INIT_VALUE = None\n",
    "    NUM_TYPE_STR = {int: 'целое', float: \"вещественное\"}\n",
    "\n",
    "    def __init__(self, start_value):\n",
    "        self.__except_message = f'должно быть {self.NUM_TYPE_STR.get(self.NUM_TYPE)} число'\n",
    "        self.value = start_value\n",
    "\n",
    "    def __repr__(self):\n",
    "        return str(self.value)\n",
    "\n",
    "    @property\n",
    "    def value(self):\n",
    "        return self.__value\n",
    "\n",
    "    @value.setter\n",
    "    def value(self, value):\n",
    "        if type(value) != self.NUM_TYPE:\n",
    "            raise ValueError(self.__except_message)\n",
    "        self.__value = value\n",
    "\n",
    "class Integer(Num):\n",
    "    NUM_TYPE = int\n",
    "    INIT_VALUE = 0\n",
    "\n",
    "class Float(Num):\n",
    "    NUM_TYPE = float\n",
    "    INIT_VALUE = 0.0"
   ]
  },
  {
   "cell_type": "code",
   "execution_count": 2,
   "id": "148c0f67-9d3e-4c6d-8d23-dc0fca82455d",
   "metadata": {},
   "outputs": [
    {
     "name": "stdout",
     "output_type": "stream",
     "text": [
      "0\n",
      "0 0\n",
      "1 2\n"
     ]
    }
   ],
   "source": [
    "ar_int = Array(2, cell=Integer)\n",
    "print(ar_int[0])\n",
    "print(ar_int) # должны отображаться все значения массива в одну строчку через пробел\n",
    "ar_int[0] = 1\n",
    "ar_int[1] = 2\n",
    "#ar_int[1] = 10.5 # должно генерироваться исключение ValueError\n",
    "#ar_int[10] = 1 # должно генерироваться исключение IndexError\n",
    "print(str(ar_int))\n",
    "assert str(ar_int) == \"1 2\", \"метод __str__ для объекта класса Array вернул неверное значение\""
   ]
  },
  {
   "cell_type": "code",
   "execution_count": null,
   "id": "61613c80-37e6-4717-8fc6-e0fdb35e0a7d",
   "metadata": {},
   "outputs": [],
   "source": []
  },
  {
   "cell_type": "code",
   "execution_count": null,
   "id": "38012486-d035-4a0c-8b11-149f75f3b31e",
   "metadata": {},
   "outputs": [],
   "source": [
    "ar_int = Array(10, cell=Integer)\n",
    "print(ar_int)\n",
    "ar_int.array[1].value = 1\n",
    "print(ar_int)"
   ]
  },
  {
   "cell_type": "code",
   "execution_count": null,
   "id": "fd4abac0-42ba-4809-845c-285d6ae2150b",
   "metadata": {},
   "outputs": [],
   "source": [
    "ar_int[0]"
   ]
  },
  {
   "cell_type": "code",
   "execution_count": null,
   "id": "9ccbab9b-adda-403a-adb4-48d088b7bad2",
   "metadata": {},
   "outputs": [],
   "source": []
  }
 ],
 "metadata": {
  "kernelspec": {
   "display_name": "Python 3 (ipykernel)",
   "language": "python",
   "name": "python3"
  },
  "language_info": {
   "codemirror_mode": {
    "name": "ipython",
    "version": 3
   },
   "file_extension": ".py",
   "mimetype": "text/x-python",
   "name": "python",
   "nbconvert_exporter": "python",
   "pygments_lexer": "ipython3",
   "version": "3.9.5"
  }
 },
 "nbformat": 4,
 "nbformat_minor": 5
}
