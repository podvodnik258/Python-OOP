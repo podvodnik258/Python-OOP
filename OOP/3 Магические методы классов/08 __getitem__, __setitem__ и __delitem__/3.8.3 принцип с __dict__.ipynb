{
 "cells": [
  {
   "cell_type": "code",
   "execution_count": 128,
   "id": "fb3e7fd3-0311-46df-b259-b234375f7167",
   "metadata": {},
   "outputs": [],
   "source": [
    "class Record:\n",
    "    def __init__(self, **kwargs):\n",
    "        self.__dict__.update(kwargs)\n",
    "        self.__keys = list(kwargs.keys())\n",
    "\n",
    "    def __getitem__(self, index):\n",
    "        if isinstance(index, int) and 0 <= index < len(self.__keys):\n",
    "            return self.__dict__[self.__keys[index]]\n",
    "        raise IndexError('неверный индекс поля')\n",
    "\n",
    "    def __setitem__(self, index, value):\n",
    "        if not (isinstance(index, int) and 0 <= index < len(self.__keys)):\n",
    "            raise IndexError('неверный индекс поля')\n",
    "        self.__dict__[self.__keys[index]] = value"
   ]
  },
  {
   "cell_type": "code",
   "execution_count": 132,
   "id": "65b711bd-df0d-4280-981d-fb9c24daebac",
   "metadata": {},
   "outputs": [],
   "source": [
    "class Record:\n",
    "    def __init__(self, **kwargs):\n",
    "        self.__dict__.update(kwargs)\n",
    "\n",
    "    def __getitem__(self, item):\n",
    "        if not isinstance(item, int) or item >= len(self.__dict__):\n",
    "            raise IndexError('неверный индекс поля')\n",
    "        return self.__dict__[list(self.__dict__)[item]]\n",
    "\n",
    "    def __setitem__(self, key, value):\n",
    "        if not isinstance(key, int) or key >= len(self.__dict__):\n",
    "            raise IndexError('неверный индекс поля')\n",
    "        self.__dict__[list(self.__dict__)[key]]=value"
   ]
  },
  {
   "cell_type": "code",
   "execution_count": 133,
   "id": "90f001a5-691d-455b-9b00-bcb5841ab752",
   "metadata": {},
   "outputs": [
    {
     "name": "stdout",
     "output_type": "stream",
     "text": [
      "{'pk': 1, 'title': 'Python ООП', 'author': 'Балакирев'}\n",
      "\n"
     ]
    }
   ],
   "source": [
    "r = Record(pk=1, title='Python ООП', author='Балакирев')\n",
    "print(r.__dict__)\n",
    "print()"
   ]
  },
  {
   "cell_type": "code",
   "execution_count": 135,
   "id": "1fd613fe-3586-4ab1-9376-e888e22c8923",
   "metadata": {},
   "outputs": [
    {
     "name": "stdout",
     "output_type": "stream",
     "text": [
      "Python ООП\n"
     ]
    },
    {
     "data": {
      "text/plain": [
       "'Балакирев'"
      ]
     },
     "execution_count": 135,
     "metadata": {},
     "output_type": "execute_result"
    }
   ],
   "source": [
    "#r[0] = 2\n",
    "#[1] = 'Супер курс по ООП'\n",
    "#r[2] = 'Балакирев С.М.'\n",
    "print(r[1]) # Супер курс по ООП\n",
    "r[2]"
   ]
  },
  {
   "cell_type": "code",
   "execution_count": null,
   "id": "062cb9a0-ba01-4eb1-8db6-a1e0bf1206f1",
   "metadata": {},
   "outputs": [],
   "source": []
  },
  {
   "cell_type": "code",
   "execution_count": null,
   "id": "af9c7810-38c2-4c75-8c21-831723130dea",
   "metadata": {},
   "outputs": [],
   "source": []
  }
 ],
 "metadata": {
  "kernelspec": {
   "display_name": "Python 3 (ipykernel)",
   "language": "python",
   "name": "python3"
  },
  "language_info": {
   "codemirror_mode": {
    "name": "ipython",
    "version": 3
   },
   "file_extension": ".py",
   "mimetype": "text/x-python",
   "name": "python",
   "nbconvert_exporter": "python",
   "pygments_lexer": "ipython3",
   "version": "3.9.5"
  }
 },
 "nbformat": 4,
 "nbformat_minor": 5
}
