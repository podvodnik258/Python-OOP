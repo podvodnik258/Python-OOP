{
 "cells": [
  {
   "cell_type": "code",
   "execution_count": 23,
   "id": "47827048-2aed-4b54-9f9e-44f87644963f",
   "metadata": {},
   "outputs": [],
   "source": [
    "class StackObj:\n",
    "    def __init__(self, data):\n",
    "        self.data = data\n",
    "        self.next = None\n",
    "\n",
    "    @property\n",
    "    def next(self):\n",
    "        return self.__next\n",
    "\n",
    "    @next.setter\n",
    "    def next(self, value):\n",
    "        if type(value) is StackObj or value is None:\n",
    "            self.__next = value\n",
    "    \n",
    "    @property\n",
    "    def data(self):\n",
    "        return self.__data\n",
    "    \n",
    "    @data.setter\n",
    "    def data(self, data):\n",
    "        self.__data = data\n",
    "\n",
    "class Stack:\n",
    "    def __init__(self):\n",
    "        self.top = None\n",
    "\n",
    "    def __add__(self, other):\n",
    "        self.push(other)\n",
    "        return self\n",
    "\n",
    "    def __mul__(self, other):\n",
    "        if type(other) is list and other:\n",
    "            for data in other:\n",
    "                self.push(StackObj(data))\n",
    "        return self\n",
    "\n",
    "    def push(self, obj):\n",
    "        if type(obj) is StackObj:\n",
    "            if self.top:\n",
    "                self.get_last().next = obj\n",
    "            else:\n",
    "                self.top = obj\n",
    "\n",
    "    def pop(self):\n",
    "        if self.top and self.top.next:\n",
    "            cur_obj = self.top\n",
    "            while cur_obj.next.next:\n",
    "                cur_obj = cur_obj.next\n",
    "            res = cur_obj.next\n",
    "            cur_obj.next = None\n",
    "        else:\n",
    "            self.top = None\n",
    "        return res    \n",
    "            \n",
    "\n",
    "    def get_last(self):\n",
    "        cur_node = self.top\n",
    "        while cur_node.next:\n",
    "            cur_node = cur_node.next\n",
    "        return cur_node\n",
    "    \n",
    "    def __verify(self, indx):\n",
    "        if not isinstance(indx, int) or not 0 <= indx < len(self):\n",
    "            raise IndexError('неверный индекс для доступа к элементам массива')\n",
    "            \n",
    "    def __setitem__(self, indx, obj):\n",
    "        self.__verify(indx)\n",
    "        obj.next = self[indx].next\n",
    "        if indx > 0:\n",
    "            self[indx - 1].next = obj\n",
    "    \n",
    "    def __getitem__(self, indx):\n",
    "        self.__verify(indx)\n",
    "        cur_node = self.top\n",
    "        k = 0\n",
    "        while cur_node.next:\n",
    "            if indx == k:\n",
    "                break\n",
    "            k += 1\n",
    "            cur_node = cur_node.next\n",
    "        return cur_node\n",
    "\n",
    "    def __len__(self):\n",
    "        cur_node = self.top\n",
    "        k = 1\n",
    "        while cur_node.next:\n",
    "            cur_node = cur_node.next\n",
    "            k += 1\n",
    "        return k \n",
    "\n",
    "st = Stack()\n",
    "st.push(StackObj(\"obj1\"))\n",
    "st.push(StackObj(\"obj2\"))\n",
    "st.push(StackObj(\"obj3\"))    \n"
   ]
  },
  {
   "cell_type": "code",
   "execution_count": 24,
   "id": "b62b5858-f838-4432-ba97-442668731769",
   "metadata": {},
   "outputs": [
    {
     "data": {
      "text/plain": [
       "{'_StackObj__data': 'new obj2',\n",
       " '_StackObj__next': <__main__.StackObj at 0x272961324f0>}"
      ]
     },
     "execution_count": 24,
     "metadata": {},
     "output_type": "execute_result"
    }
   ],
   "source": [
    "st[1] = StackObj(\"new obj2\")\n",
    "st[1].__dict__"
   ]
  },
  {
   "cell_type": "code",
   "execution_count": 25,
   "id": "c567d73a-69a7-4812-8b06-f3d0d5abc8fc",
   "metadata": {},
   "outputs": [
    {
     "name": "stdout",
     "output_type": "stream",
     "text": [
      "obj3\n",
      "new obj2\n"
     ]
    }
   ],
   "source": [
    "st = Stack()\n",
    "st.push(StackObj(\"obj1\"))\n",
    "st.push(StackObj(\"obj2\"))\n",
    "st.push(StackObj(\"obj3\"))\n",
    "st[1] = StackObj(\"new obj2\")\n",
    "print(st[2].data) # obj3\n",
    "print(st[1].data) # new obj2\n",
    "#res = st[3] # исключение IndexError"
   ]
  },
  {
   "cell_type": "code",
   "execution_count": 27,
   "id": "12772860-9d31-46c9-96b4-0eb605a038a1",
   "metadata": {},
   "outputs": [
    {
     "data": {
      "text/plain": [
       "<__main__.StackObj at 0x27297124c40>"
      ]
     },
     "execution_count": 27,
     "metadata": {},
     "output_type": "execute_result"
    }
   ],
   "source": [
    "st.pop()"
   ]
  },
  {
   "cell_type": "code",
   "execution_count": 31,
   "id": "33137f09-941e-4233-bd8e-c59c26d01ef5",
   "metadata": {},
   "outputs": [
    {
     "ename": "IndexError",
     "evalue": "неверный индекс для доступа к элементам массива",
     "output_type": "error",
     "traceback": [
      "\u001b[1;31m---------------------------------------------------------------------------\u001b[0m",
      "\u001b[1;31mIndexError\u001b[0m                                Traceback (most recent call last)",
      "\u001b[1;32mC:\\Users\\73B5~1\\AppData\\Local\\Temp/ipykernel_2544/2659288269.py\u001b[0m in \u001b[0;36m<module>\u001b[1;34m\u001b[0m\n\u001b[1;32m----> 1\u001b[1;33m \u001b[0mst\u001b[0m\u001b[1;33m[\u001b[0m\u001b[1;36m2\u001b[0m\u001b[1;33m]\u001b[0m\u001b[1;33m.\u001b[0m\u001b[0m__dict__\u001b[0m\u001b[1;33m\u001b[0m\u001b[1;33m\u001b[0m\u001b[0m\n\u001b[0m",
      "\u001b[1;32mC:\\Users\\73B5~1\\AppData\\Local\\Temp/ipykernel_2544/1731905224.py\u001b[0m in \u001b[0;36m__getitem__\u001b[1;34m(self, indx)\u001b[0m\n\u001b[0;32m     71\u001b[0m \u001b[1;33m\u001b[0m\u001b[0m\n\u001b[0;32m     72\u001b[0m     \u001b[1;32mdef\u001b[0m \u001b[0m__getitem__\u001b[0m\u001b[1;33m(\u001b[0m\u001b[0mself\u001b[0m\u001b[1;33m,\u001b[0m \u001b[0mindx\u001b[0m\u001b[1;33m)\u001b[0m\u001b[1;33m:\u001b[0m\u001b[1;33m\u001b[0m\u001b[1;33m\u001b[0m\u001b[0m\n\u001b[1;32m---> 73\u001b[1;33m         \u001b[0mself\u001b[0m\u001b[1;33m.\u001b[0m\u001b[0m__verify\u001b[0m\u001b[1;33m(\u001b[0m\u001b[0mindx\u001b[0m\u001b[1;33m)\u001b[0m\u001b[1;33m\u001b[0m\u001b[1;33m\u001b[0m\u001b[0m\n\u001b[0m\u001b[0;32m     74\u001b[0m         \u001b[0mcur_node\u001b[0m \u001b[1;33m=\u001b[0m \u001b[0mself\u001b[0m\u001b[1;33m.\u001b[0m\u001b[0mtop\u001b[0m\u001b[1;33m\u001b[0m\u001b[1;33m\u001b[0m\u001b[0m\n\u001b[0;32m     75\u001b[0m         \u001b[0mk\u001b[0m \u001b[1;33m=\u001b[0m \u001b[1;36m0\u001b[0m\u001b[1;33m\u001b[0m\u001b[1;33m\u001b[0m\u001b[0m\n",
      "\u001b[1;32mC:\\Users\\73B5~1\\AppData\\Local\\Temp/ipykernel_2544/1731905224.py\u001b[0m in \u001b[0;36m__verify\u001b[1;34m(self, indx)\u001b[0m\n\u001b[0;32m     62\u001b[0m     \u001b[1;32mdef\u001b[0m \u001b[0m__verify\u001b[0m\u001b[1;33m(\u001b[0m\u001b[0mself\u001b[0m\u001b[1;33m,\u001b[0m \u001b[0mindx\u001b[0m\u001b[1;33m)\u001b[0m\u001b[1;33m:\u001b[0m\u001b[1;33m\u001b[0m\u001b[1;33m\u001b[0m\u001b[0m\n\u001b[0;32m     63\u001b[0m         \u001b[1;32mif\u001b[0m \u001b[1;32mnot\u001b[0m \u001b[0misinstance\u001b[0m\u001b[1;33m(\u001b[0m\u001b[0mindx\u001b[0m\u001b[1;33m,\u001b[0m \u001b[0mint\u001b[0m\u001b[1;33m)\u001b[0m \u001b[1;32mor\u001b[0m \u001b[1;32mnot\u001b[0m \u001b[1;36m0\u001b[0m \u001b[1;33m<=\u001b[0m \u001b[0mindx\u001b[0m \u001b[1;33m<\u001b[0m \u001b[0mlen\u001b[0m\u001b[1;33m(\u001b[0m\u001b[0mself\u001b[0m\u001b[1;33m)\u001b[0m\u001b[1;33m:\u001b[0m\u001b[1;33m\u001b[0m\u001b[1;33m\u001b[0m\u001b[0m\n\u001b[1;32m---> 64\u001b[1;33m             \u001b[1;32mraise\u001b[0m \u001b[0mIndexError\u001b[0m\u001b[1;33m(\u001b[0m\u001b[1;34m'неверный индекс для доступа к элементам массива'\u001b[0m\u001b[1;33m)\u001b[0m\u001b[1;33m\u001b[0m\u001b[1;33m\u001b[0m\u001b[0m\n\u001b[0m\u001b[0;32m     65\u001b[0m \u001b[1;33m\u001b[0m\u001b[0m\n\u001b[0;32m     66\u001b[0m     \u001b[1;32mdef\u001b[0m \u001b[0m__setitem__\u001b[0m\u001b[1;33m(\u001b[0m\u001b[0mself\u001b[0m\u001b[1;33m,\u001b[0m \u001b[0mindx\u001b[0m\u001b[1;33m,\u001b[0m \u001b[0mobj\u001b[0m\u001b[1;33m)\u001b[0m\u001b[1;33m:\u001b[0m\u001b[1;33m\u001b[0m\u001b[1;33m\u001b[0m\u001b[0m\n",
      "\u001b[1;31mIndexError\u001b[0m: неверный индекс для доступа к элементам массива"
     ]
    }
   ],
   "source": [
    "st[2].__dict__"
   ]
  },
  {
   "cell_type": "code",
   "execution_count": null,
   "id": "c57d78ae-6f6c-4a15-9bea-a3cae3cf98a7",
   "metadata": {},
   "outputs": [],
   "source": []
  },
  {
   "cell_type": "code",
   "execution_count": null,
   "id": "f7ac45e1-bcaf-449f-a259-f0a1cafa048c",
   "metadata": {},
   "outputs": [],
   "source": []
  }
 ],
 "metadata": {
  "kernelspec": {
   "display_name": "Python 3 (ipykernel)",
   "language": "python",
   "name": "python3"
  },
  "language_info": {
   "codemirror_mode": {
    "name": "ipython",
    "version": 3
   },
   "file_extension": ".py",
   "mimetype": "text/x-python",
   "name": "python",
   "nbconvert_exporter": "python",
   "pygments_lexer": "ipython3",
   "version": "3.9.5"
  }
 },
 "nbformat": 4,
 "nbformat_minor": 5
}
