{
 "cells": [
  {
   "cell_type": "code",
   "execution_count": 1,
   "id": "4e357abd-2cf2-448b-97a4-bde7772768d3",
   "metadata": {},
   "outputs": [],
   "source": [
    "class Cell:\n",
    "    def __init__(self):\n",
    "        self.is_free = True\n",
    "        self.value = 0\n",
    "        \n",
    "    def __bool__(self):\n",
    "        return self.is_free\n",
    "\n",
    "class TicTacToe:\n",
    "    def __init__(self):\n",
    "        self.pole = tuple(tuple(Cell() for _ in '123')for _ in '123')\n",
    "        \n",
    "    def clear(self):\n",
    "        self.pole = tuple(tuple(Cell() for _ in '123')for _ in '123')\n",
    "    \n",
    "    def __getitem__(self, indx):\n",
    "        try:\n",
    "            r, c = indx\n",
    "            if isinstance(c, slice):\n",
    "                return tuple(obj.value for obj in self.pole[r][c])\n",
    "            if isinstance(r, slice):\n",
    "                return tuple(obj.value for obj in tuple(zip(*self.pole))[r][c])\n",
    "            return self.pole[r][c].value\n",
    "        except:\n",
    "            raise IndexError('неверный индекс клетки')\n",
    "            \n",
    "            \n",
    "    def __setitem__(self, indx, value):\n",
    "        try:\n",
    "            r, c = indx\n",
    "            if self.pole[r][c]:\n",
    "                self.pole[r][c].value = value\n",
    "            else:\n",
    "                raise ValueError('клетка уже занята')\n",
    "        except:\n",
    "            raise IndexError('неверный индекс клетки')"
   ]
  },
  {
   "cell_type": "code",
   "execution_count": 2,
   "id": "a7af64a0-1363-43f6-bdf5-8e29675cc96c",
   "metadata": {},
   "outputs": [
    {
     "name": "stdout",
     "output_type": "stream",
     "text": [
      "(1, 4, 7)\n",
      "(2, 5, 8)\n",
      "(3, 6, 9)\n",
      "5\n"
     ]
    }
   ],
   "source": [
    "game = TicTacToe()\n",
    "game.clear()\n",
    "game[0, 0] = 1\n",
    "game[1, 0] = 2\n",
    "game[2, 0] = 3\n",
    "game[0, 1] = 4\n",
    "game[1, 1] = 5\n",
    "game[2, 1] = 6\n",
    "game[0, 2] = 7\n",
    "game[1, 2] = 8\n",
    "game[2, 2] = 9\n",
    "# формируется поле:\n",
    "# 1 0 0\n",
    "# 2 0 0\n",
    "# 0 0 0\n",
    "#game[3, 2] = 2 # генерируется исключение IndexError\n",
    "#if game[0, 0] == 0:\n",
    "#    game[0, 0] = 2\n",
    "#assert game[0, :] == (1, 0, 0) and game[1, :] == (2, 0, 0) and game[:, 0] == (1, 2, 3), \"некорректно отработали срезы после вызова метода clear() и присваивания новых значений\"\n",
    "print(game[0, :])  # 1, 0, 0\n",
    "print(game[1, :])  # 1, 2, 0\n",
    "print(game[2, :])\n",
    "print(game[1, 1])"
   ]
  },
  {
   "cell_type": "code",
   "execution_count": 3,
   "id": "6c24e8a4-3548-4c36-bd71-5757e259542b",
   "metadata": {},
   "outputs": [
    {
     "name": "stdout",
     "output_type": "stream",
     "text": [
      "(2, 5, 8)\n",
      "(4, 5, 6)\n"
     ]
    }
   ],
   "source": [
    "print(game[1, :])\n",
    "print(game[:, 1])"
   ]
  },
  {
   "cell_type": "code",
   "execution_count": 4,
   "id": "fd295e6e-09d3-41c6-9709-d906a8fbaf7d",
   "metadata": {},
   "outputs": [
    {
     "data": {
      "text/plain": [
       "(4, 5, 6)"
      ]
     },
     "execution_count": 4,
     "metadata": {},
     "output_type": "execute_result"
    }
   ],
   "source": [
    "\n",
    "tuple(obj.value for obj in tuple(zip(*game.pole))[:][1])"
   ]
  },
  {
   "cell_type": "code",
   "execution_count": 113,
   "id": "9cb20de4-a51c-49e8-882b-73e07ec8c067",
   "metadata": {},
   "outputs": [],
   "source": [
    "pole = tuple(tuple(Cell() for _ in '123')for _ in '123')"
   ]
  },
  {
   "cell_type": "code",
   "execution_count": 86,
   "id": "0a135622-44d0-44a0-93df-bc9e3c33914d",
   "metadata": {},
   "outputs": [
    {
     "ename": "SyntaxError",
     "evalue": "invalid syntax (Temp/ipykernel_11956/4024564452.py, line 1)",
     "output_type": "error",
     "traceback": [
      "\u001b[1;36m  File \u001b[1;32m\"C:\\Users\\73B5~1\\AppData\\Local\\Temp/ipykernel_11956/4024564452.py\"\u001b[1;36m, line \u001b[1;32m1\u001b[0m\n\u001b[1;33m    indx = [1, :]\u001b[0m\n\u001b[1;37m               ^\u001b[0m\n\u001b[1;31mSyntaxError\u001b[0m\u001b[1;31m:\u001b[0m invalid syntax\n"
     ]
    }
   ],
   "source": [
    "indx = [1, :]\n",
    "a, b = indx\n",
    "pole[a][b]"
   ]
  },
  {
   "cell_type": "code",
   "execution_count": 127,
   "id": "3ad6d352-02c1-4922-9a36-1e52e0020118",
   "metadata": {},
   "outputs": [
    {
     "data": {
      "text/plain": [
       "[(<__main__.Cell at 0x211fb3c3b50>,\n",
       "  <__main__.Cell at 0x211fb4ad220>,\n",
       "  <__main__.Cell at 0x211fb4ad0d0>),\n",
       " (<__main__.Cell at 0x211fb4ad520>,\n",
       "  <__main__.Cell at 0x211fb4ad460>,\n",
       "  <__main__.Cell at 0x211fb4adf40>),\n",
       " (<__main__.Cell at 0x211fb4adee0>,\n",
       "  <__main__.Cell at 0x211fb4ad5e0>,\n",
       "  <__main__.Cell at 0x211fb4e57f0>)]"
      ]
     },
     "execution_count": 127,
     "metadata": {},
     "output_type": "execute_result"
    }
   ],
   "source": [
    "list(zip(*game.pole))"
   ]
  },
  {
   "cell_type": "code",
   "execution_count": 75,
   "id": "35864600-c8e2-4a0e-9fd0-7d54d066bd62",
   "metadata": {},
   "outputs": [
    {
     "name": "stdout",
     "output_type": "stream",
     "text": [
      "1 2 3\n"
     ]
    }
   ],
   "source": [
    "print(*a)"
   ]
  },
  {
   "cell_type": "code",
   "execution_count": null,
   "id": "afaebf4f-3f58-4cc5-9197-65c713410d40",
   "metadata": {},
   "outputs": [],
   "source": []
  }
 ],
 "metadata": {
  "kernelspec": {
   "display_name": "Python 3 (ipykernel)",
   "language": "python",
   "name": "python3"
  },
  "language_info": {
   "codemirror_mode": {
    "name": "ipython",
    "version": 3
   },
   "file_extension": ".py",
   "mimetype": "text/x-python",
   "name": "python",
   "nbconvert_exporter": "python",
   "pygments_lexer": "ipython3",
   "version": "3.9.5"
  }
 },
 "nbformat": 4,
 "nbformat_minor": 5
}
