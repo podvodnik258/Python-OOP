{
 "cells": [
  {
   "cell_type": "code",
   "execution_count": 22,
   "id": "c16a3184-31b4-49ef-a0a0-45a894cf0b32",
   "metadata": {},
   "outputs": [],
   "source": [
    "class Cell:\n",
    "    def __init__(self, value):\n",
    "        self.value = value\n",
    "        \n",
    "        \n",
    "class SparseTable:\n",
    "    def __init__(self):\n",
    "        self.rows = self.cols = 0\n",
    "        self.table = {}\n",
    "        \n",
    "    def update_index(self):\n",
    "        self.rows = max(i[0] for i in self.table.keys()) + 1\n",
    "        self.cols = max(i[1] for i in self.table.keys()) + 1\n",
    "        \n",
    "    def add_data(self, row, col, obj):\n",
    "        self.table[(row, col)] = obj\n",
    "        self.update_index()\n",
    "    \n",
    "    def remove_data(self, row, col):\n",
    "        try:\n",
    "            del self.table[(row, col)]\n",
    "            self.update_index()\n",
    "        except:\n",
    "            raise IndexError('ячейка с указанными индексами не существует')\n",
    "            \n",
    "    def __getitem__(self, key):\n",
    "        try:\n",
    "            return self.table[(key[0], key[1])].value\n",
    "        except:\n",
    "            raise ValueError('данные по указанным индексам отсутствуют')\n",
    "            \n",
    "    def __setitem__(self, key, value):\n",
    "        item = (key[0],key[1])\n",
    "        if item not in self.table:\n",
    "            self.table[(key[0],key[1])] = Cell(value)\n",
    "            self.update_index()\n",
    "        else:\n",
    "            self.table[(key[0],key[1])] = Cell(value)"
   ]
  },
  {
   "cell_type": "code",
   "execution_count": 24,
   "id": "6f097af1-9535-44e1-8ef8-a4fd23e019e1",
   "metadata": {},
   "outputs": [
    {
     "name": "stdout",
     "output_type": "stream",
     "text": [
      "cell_00\n",
      "10 8\n"
     ]
    },
    {
     "ename": "IndexError",
     "evalue": "ячейка с указанными индексами не существует",
     "output_type": "error",
     "traceback": [
      "\u001b[1;31m---------------------------------------------------------------------------\u001b[0m",
      "\u001b[1;31mKeyError\u001b[0m                                  Traceback (most recent call last)",
      "\u001b[1;32mC:\\Users\\73B5~1\\AppData\\Local\\Temp/ipykernel_4728/2521970846.py\u001b[0m in \u001b[0;36mremove_data\u001b[1;34m(self, row, col)\u001b[0m\n\u001b[0;32m     20\u001b[0m         \u001b[1;32mtry\u001b[0m\u001b[1;33m:\u001b[0m\u001b[1;33m\u001b[0m\u001b[1;33m\u001b[0m\u001b[0m\n\u001b[1;32m---> 21\u001b[1;33m             \u001b[1;32mdel\u001b[0m \u001b[0mself\u001b[0m\u001b[1;33m.\u001b[0m\u001b[0mtable\u001b[0m\u001b[1;33m[\u001b[0m\u001b[1;33m(\u001b[0m\u001b[0mrow\u001b[0m\u001b[1;33m,\u001b[0m \u001b[0mcol\u001b[0m\u001b[1;33m)\u001b[0m\u001b[1;33m]\u001b[0m\u001b[1;33m\u001b[0m\u001b[1;33m\u001b[0m\u001b[0m\n\u001b[0m\u001b[0;32m     22\u001b[0m             \u001b[0mself\u001b[0m\u001b[1;33m.\u001b[0m\u001b[0mupdate_index\u001b[0m\u001b[1;33m(\u001b[0m\u001b[1;33m)\u001b[0m\u001b[1;33m\u001b[0m\u001b[1;33m\u001b[0m\u001b[0m\n",
      "\u001b[1;31mKeyError\u001b[0m: (12, 3)",
      "\nDuring handling of the above exception, another exception occurred:\n",
      "\u001b[1;31mIndexError\u001b[0m                                Traceback (most recent call last)",
      "\u001b[1;32mC:\\Users\\73B5~1\\AppData\\Local\\Temp/ipykernel_4728/3911252487.py\u001b[0m in \u001b[0;36m<module>\u001b[1;34m\u001b[0m\n\u001b[0;32m      8\u001b[0m \u001b[0mprint\u001b[0m\u001b[1;33m(\u001b[0m\u001b[0mst\u001b[0m\u001b[1;33m.\u001b[0m\u001b[0mrows\u001b[0m\u001b[1;33m,\u001b[0m \u001b[0mst\u001b[0m\u001b[1;33m.\u001b[0m\u001b[0mcols\u001b[0m\u001b[1;33m)\u001b[0m \u001b[1;31m# 12, 8 - общее число строк и столбцов в таблице\u001b[0m\u001b[1;33m\u001b[0m\u001b[1;33m\u001b[0m\u001b[0m\n\u001b[0;32m      9\u001b[0m \u001b[1;31m#val = st[2, 5] # ValueError\u001b[0m\u001b[1;33m\u001b[0m\u001b[1;33m\u001b[0m\u001b[1;33m\u001b[0m\u001b[0m\n\u001b[1;32m---> 10\u001b[1;33m \u001b[0mst\u001b[0m\u001b[1;33m.\u001b[0m\u001b[0mremove_data\u001b[0m\u001b[1;33m(\u001b[0m\u001b[1;36m12\u001b[0m\u001b[1;33m,\u001b[0m \u001b[1;36m3\u001b[0m\u001b[1;33m)\u001b[0m \u001b[1;31m# IndexError\u001b[0m\u001b[1;33m\u001b[0m\u001b[1;33m\u001b[0m\u001b[0m\n\u001b[0m",
      "\u001b[1;32mC:\\Users\\73B5~1\\AppData\\Local\\Temp/ipykernel_4728/2521970846.py\u001b[0m in \u001b[0;36mremove_data\u001b[1;34m(self, row, col)\u001b[0m\n\u001b[0;32m     22\u001b[0m             \u001b[0mself\u001b[0m\u001b[1;33m.\u001b[0m\u001b[0mupdate_index\u001b[0m\u001b[1;33m(\u001b[0m\u001b[1;33m)\u001b[0m\u001b[1;33m\u001b[0m\u001b[1;33m\u001b[0m\u001b[0m\n\u001b[0;32m     23\u001b[0m         \u001b[1;32mexcept\u001b[0m\u001b[1;33m:\u001b[0m\u001b[1;33m\u001b[0m\u001b[1;33m\u001b[0m\u001b[0m\n\u001b[1;32m---> 24\u001b[1;33m             \u001b[1;32mraise\u001b[0m \u001b[0mIndexError\u001b[0m\u001b[1;33m(\u001b[0m\u001b[1;34m'ячейка с указанными индексами не существует'\u001b[0m\u001b[1;33m)\u001b[0m\u001b[1;33m\u001b[0m\u001b[1;33m\u001b[0m\u001b[0m\n\u001b[0m\u001b[0;32m     25\u001b[0m \u001b[1;33m\u001b[0m\u001b[0m\n\u001b[0;32m     26\u001b[0m     \u001b[1;32mdef\u001b[0m \u001b[0m__getitem__\u001b[0m\u001b[1;33m(\u001b[0m\u001b[0mself\u001b[0m\u001b[1;33m,\u001b[0m \u001b[0mkey\u001b[0m\u001b[1;33m)\u001b[0m\u001b[1;33m:\u001b[0m\u001b[1;33m\u001b[0m\u001b[1;33m\u001b[0m\u001b[0m\n",
      "\u001b[1;31mIndexError\u001b[0m: ячейка с указанными индексами не существует"
     ]
    }
   ],
   "source": [
    "st = SparseTable()\n",
    "st.add_data(2, 5, Cell(\"cell_25\"))\n",
    "st.add_data(0, 0, Cell(\"cell_00\"))\n",
    "st[2, 5] = 25 # изменение значения существующей ячейки\n",
    "st[11, 7] = 'cell_117' # создание новой ячейки\n",
    "print(st[0, 0]) # cell_00\n",
    "st.remove_data(2, 5)\n",
    "print(st.rows, st.cols) # 12, 8 - общее число строк и столбцов в таблице\n",
    "#val = st[2, 5] # ValueError\n",
    "#st.remove_data(12, 3) # IndexError"
   ]
  },
  {
   "cell_type": "code",
   "execution_count": 3,
   "id": "c08f1873-13bb-4577-94b7-1c5d5a00f993",
   "metadata": {},
   "outputs": [],
   "source": [
    "a = {(1,2):'a', (5,4):'b', (2,7):'c', (9,0):'d'}"
   ]
  },
  {
   "cell_type": "code",
   "execution_count": 11,
   "id": "75792ae8-f379-487b-a5a4-bbd7c70e00bf",
   "metadata": {},
   "outputs": [
    {
     "data": {
      "text/plain": [
       "9"
      ]
     },
     "execution_count": 11,
     "metadata": {},
     "output_type": "execute_result"
    }
   ],
   "source": [
    "max(i[0] for i in a.keys())"
   ]
  },
  {
   "cell_type": "code",
   "execution_count": null,
   "id": "2cad600d-a114-4190-9024-17d4a50f5289",
   "metadata": {},
   "outputs": [],
   "source": []
  }
 ],
 "metadata": {
  "kernelspec": {
   "display_name": "Python 3 (ipykernel)",
   "language": "python",
   "name": "python3"
  },
  "language_info": {
   "codemirror_mode": {
    "name": "ipython",
    "version": 3
   },
   "file_extension": ".py",
   "mimetype": "text/x-python",
   "name": "python",
   "nbconvert_exporter": "python",
   "pygments_lexer": "ipython3",
   "version": "3.9.5"
  }
 },
 "nbformat": 4,
 "nbformat_minor": 5
}
