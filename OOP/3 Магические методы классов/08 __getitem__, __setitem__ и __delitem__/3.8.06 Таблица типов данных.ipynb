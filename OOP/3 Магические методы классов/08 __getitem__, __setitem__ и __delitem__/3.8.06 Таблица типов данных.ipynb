{
 "cells": [
  {
   "cell_type": "code",
   "execution_count": 13,
   "id": "eb9c3770-ddc1-49c8-90c8-6e0eff7dc4d4",
   "metadata": {},
   "outputs": [],
   "source": [
    "class IntegerValue :\n",
    "    \n",
    "    @classmethod\n",
    "    def verify_int(cls, value):\n",
    "        if type(value) != int:\n",
    "            raise ValueError('возможны только целочисленные значения')\n",
    "        \n",
    "    def __set_name__(self, owner, name):\n",
    "        self.name = \"__\" + name\n",
    "\n",
    "    def __get__(self, instance, owner):\n",
    "        return getattr(instance, self.name)\n",
    "        \n",
    "    def __set__(self, instance, value):\n",
    "        self.verify_int(value)\n",
    "        setattr(instance, self.name, value)\n",
    "\n",
    "class CellInteger:\n",
    "    value = IntegerValue()\n",
    "    \n",
    "    def __init__(self, start_value):\n",
    "        self.value = start_value\n",
    "\n",
    "class TableValues :\n",
    "    def __init__(self, rows, cols, cell=CellInteger):\n",
    "        if not cell:\n",
    "            raise ValueError('параметр cell не указан')\n",
    "        self.cells = [[CellInteger(0) for _ in range(cols)] for _ in range(rows)]\n",
    "    \n",
    "    def __verify(self, indx):\n",
    "        if not isinstance(indx, int) or not 0 <= indx < len(self.array):\n",
    "            raise IndexError('неверный индекс для доступа к элементам массива')\n",
    "            \n",
    "    def __getitem__(self, indx):\n",
    "        return self.cells[indx[0]][indx[1]].value\n",
    "    \n",
    "    def __setitem__(self, indx, value):\n",
    "        (self.__verify(indx) for _ in '12') \n",
    "        self.cells[indx[0]][indx[1]].value = value\n",
    "    \n",
    "\n",
    "   "
   ]
  },
  {
   "cell_type": "code",
   "execution_count": 15,
   "id": "4646d862-efdd-479e-88c8-40f5de8bbdb9",
   "metadata": {},
   "outputs": [
    {
     "name": "stdout",
     "output_type": "stream",
     "text": [
      "0\n",
      "10\n"
     ]
    }
   ],
   "source": [
    "table = TableValues(2, 3, cell=CellInteger)\n",
    "print(table[0, 1])\n",
    "table[1, 1] = 10\n",
    "print(table[1, 1])\n",
    "\n",
    "for row in table.cells:\n",
    "    for x in row:\n",
    "        print(x.value, end=' ')\n",
    "    print()"
   ]
  },
  {
   "cell_type": "code",
   "execution_count": 16,
   "id": "74999719-86b3-4225-be0d-195c976c89d9",
   "metadata": {},
   "outputs": [
    {
     "name": "stdout",
     "output_type": "stream",
     "text": [
      "0 0 0 \n",
      "0 10 0 \n"
     ]
    }
   ],
   "source": []
  },
  {
   "cell_type": "code",
   "execution_count": null,
   "id": "ce6de839-360f-49b4-9703-d7bc94398cb6",
   "metadata": {},
   "outputs": [],
   "source": [
    "class ValueDescriptor:\n",
    "    TYPE = None\n",
    "    TYPE_STR = {int: \"целочисленные\", str: \"строковые\"}\n",
    "\n",
    "    def __set_name__(self, owner, name):\n",
    "        self.name = f'__{name}'\n",
    "        self.__except_message = f'возможны только {self.TYPE_STR.get(self.TYPE, None)} значения'\n",
    "\n",
    "    def __get__(self, instance, owner):\n",
    "        return getattr(instance, self.name)\n",
    "\n",
    "    def __set__(self, instance, value):\n",
    "        if type(value) != self.TYPE:\n",
    "            raise ValueError(self.__except_message)\n",
    "        setattr(instance, self.name, value)\n",
    "\n",
    "class IntegerValue(ValueDescriptor):\n",
    "    TYPE = int\n",
    "\n",
    "class StringValue(ValueDescriptor):\n",
    "    TYPE = str\n",
    "\n",
    "class Cell:\n",
    "    def __init__(self, value):\n",
    "        self.value = value\n",
    "\n",
    "    def __repr__(self):\n",
    "        return str(self.value)\n",
    "\n",
    "class CellInteger(Cell):\n",
    "    INIT_VALUE = 0\n",
    "    value = IntegerValue()\n",
    "\n",
    "class CellString(Cell):\n",
    "    INIT_VALUE = ''\n",
    "    value = StringValue()\n",
    "\n",
    "class TableValues:\n",
    "    def __init__(self, rows, cols, cell=None):\n",
    "        if not issubclass(cell, Cell):\n",
    "            raise ValueError('параметр cell не указан')\n",
    "        self.cells = [[cell(cell.INIT_VALUE) for _ in range(cols)] for _ in range(rows)]\n",
    "\n",
    "    def __getitem__(self, item):\n",
    "        r, c = item\n",
    "        return self.cells[r][c].value\n",
    "\n",
    "    def __setitem__(self, key, value):\n",
    "        r, c = key\n",
    "        self.cells[r][c].value = value"
   ]
  }
 ],
 "metadata": {
  "kernelspec": {
   "display_name": "Python 3 (ipykernel)",
   "language": "python",
   "name": "python3"
  },
  "language_info": {
   "codemirror_mode": {
    "name": "ipython",
    "version": 3
   },
   "file_extension": ".py",
   "mimetype": "text/x-python",
   "name": "python",
   "nbconvert_exporter": "python",
   "pygments_lexer": "ipython3",
   "version": "3.9.5"
  }
 },
 "nbformat": 4,
 "nbformat_minor": 5
}
